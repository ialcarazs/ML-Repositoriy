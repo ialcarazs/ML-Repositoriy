{
 "cells": [
  {
   "attachments": {},
   "cell_type": "markdown",
   "id": "d31dea65",
   "metadata": {},
   "source": [
    "# PLANTILLA TRANSFORMACIÓN DE DATOS"
   ]
  },
  {
   "attachments": {},
   "cell_type": "markdown",
   "id": "swiss-fault",
   "metadata": {},
   "source": [
    "## IMPORTAR PAQUETES"
   ]
  },
  {
   "cell_type": "code",
   "execution_count": 15,
   "id": "adjacent-toddler",
   "metadata": {},
   "outputs": [],
   "source": [
    "import os\n",
    "import json\n",
    "\n",
    "import numpy as np\n",
    "import pandas as pd\n",
    "import matplotlib.pyplot as plt\n",
    "%matplotlib inline\n",
    "from sklearn.preprocessing import OneHotEncoder\n",
    "from sklearn.preprocessing import OrdinalEncoder\n",
    "from sklearn.preprocessing import LabelEncoder\n",
    "from category_encoders import TargetEncoder\n",
    "from sklearn.preprocessing import KBinsDiscretizer\n",
    "from sklearn.preprocessing import Binarizer\n",
    "from sklearn.preprocessing import PowerTransformer\n",
    "from sklearn.preprocessing import QuantileTransformer\n",
    "from sklearn.feature_extraction.text import CountVectorizer\n",
    "from sklearn.feature_extraction.text import TfidfVectorizer\n",
    "from sklearn.preprocessing import MinMaxScaler\n",
    "from sklearn.preprocessing import StandardScaler\n",
    "from sklearn.preprocessing import RobustScaler\n",
    "from sklearn.preprocessing import MaxAbsScaler\n",
    "from imblearn.under_sampling import RandomUnderSampler\n",
    "from imblearn.over_sampling import RandomOverSampler\n",
    "\n",
    "#Automcompletar rápido\n",
    "%config IPCompleter.greedy=True"
   ]
  },
  {
   "attachments": {},
   "cell_type": "markdown",
   "id": "graduate-compensation",
   "metadata": {},
   "source": [
    "## IMPORTAR LOS DATOS"
   ]
  },
  {
   "attachments": {},
   "cell_type": "markdown",
   "id": "03878255",
   "metadata": {},
   "source": [
    "Cargamos JSON.DATA"
   ]
  },
  {
   "cell_type": "code",
   "execution_count": 16,
   "id": "afc1abb2",
   "metadata": {},
   "outputs": [],
   "source": [
    "# Obtener la ruta del directorio raíz\n",
    "directorio_raiz = os.getcwd()\n",
    "\n",
    "# Nombre del archivo JSON\n",
    "nombre_archivo = \"data.json\"\n",
    "\n",
    "# Ruta completa del archivo JSON\n",
    "ruta_archivo = os.path.join(directorio_raiz, nombre_archivo)\n",
    "\n",
    "# Abrir el archivo en modo lectura\n",
    "with open(ruta_archivo, \"r\") as archivo:\n",
    "    # Cargar el contenido del archivo JSON\n",
    "    data = json.load(archivo)"
   ]
  },
  {
   "attachments": {},
   "cell_type": "markdown",
   "id": "c3363765",
   "metadata": {},
   "source": [
    "1.- Nombrar los ficheros de datos.\n",
    "\n",
    "- data['nombre_cat'] = 'cat_resultado_eda.pickle'\n",
    "- data['nombre_num'] = 'num_resultado_eda.pickle'"
   ]
  },
  {
   "attachments": {},
   "cell_type": "markdown",
   "id": "b9825018",
   "metadata": {},
   "source": [
    "2.- Cargar los datos."
   ]
  },
  {
   "cell_type": "code",
   "execution_count": 17,
   "id": "cab6ebcd",
   "metadata": {},
   "outputs": [],
   "source": [
    "cat = pd.read_pickle(data['ruta_proyecto'] + '/02_Datos/03_Trabajo/' + data['nombre_cat']).reset_index(drop = True)\n",
    "num = pd.read_pickle(data['ruta_proyecto'] + '/02_Datos/03_Trabajo/' + data['nombre_num']).reset_index(drop = True)"
   ]
  },
  {
   "attachments": {},
   "cell_type": "markdown",
   "id": "a1350902",
   "metadata": {},
   "source": [
    "3.- Separar la target."
   ]
  },
  {
   "cell_type": "code",
   "execution_count": 18,
   "id": "095b0ef2",
   "metadata": {},
   "outputs": [],
   "source": [
    "target = num[['age']].copy().reset_index(drop=True)"
   ]
  },
  {
   "attachments": {},
   "cell_type": "markdown",
   "id": "3831e611",
   "metadata": {},
   "source": [
    "4.- Creamos un excel con las variables cat y num"
   ]
  },
  {
   "cell_type": "code",
   "execution_count": 19,
   "id": "b618d12f",
   "metadata": {},
   "outputs": [
    {
     "name": "stdout",
     "output_type": "stream",
     "text": [
      "['sex']\n",
      "['length', 'diameter', 'height', 'whole_weight', 'shucked_weight', 'viscera_weight', 'shell_weight', 'rings', 'age']\n"
     ]
    }
   ],
   "source": [
    "nom_cat = cat.columns.to_list()\n",
    "nom_num = num.columns.to_list()\n",
    "\n",
    "print(nom_cat)\n",
    "print(nom_num)"
   ]
  },
  {
   "cell_type": "code",
   "execution_count": 20,
   "id": "602cb601",
   "metadata": {},
   "outputs": [],
   "source": [
    "variables = nom_cat + nom_num\n",
    "tipo = []\n",
    "for nom in variables:\n",
    "    if nom in nom_cat:\n",
    "        tipo.append('cat')\n",
    "    else:\n",
    "        tipo.append('num')\n",
    "\n",
    "excel = pd.DataFrame({'variable': variables,'tipo': tipo})\n",
    "\n",
    "excel.to_csv(data['ruta_proyecto'] + '/02_Datos/03_Trabajo/' + 'variables.csv')\n"
   ]
  },
  {
   "attachments": {},
   "cell_type": "markdown",
   "id": "9790d322",
   "metadata": {},
   "source": [
    "## TRANSFORMACIÓN DE CATEGÓRICAS"
   ]
  },
  {
   "attachments": {},
   "cell_type": "markdown",
   "id": "f1fa5201",
   "metadata": {},
   "source": [
    "### One Hot Encoding"
   ]
  },
  {
   "attachments": {},
   "cell_type": "markdown",
   "id": "da9b786a",
   "metadata": {},
   "source": [
    "#### Variables a aplicar OHE"
   ]
  },
  {
   "cell_type": "code",
   "execution_count": 21,
   "id": "6e36cf47",
   "metadata": {},
   "outputs": [],
   "source": [
    "var_ohe = ['sex']"
   ]
  },
  {
   "attachments": {},
   "cell_type": "markdown",
   "id": "db8d4634",
   "metadata": {},
   "source": [
    "#### Instanciar"
   ]
  },
  {
   "cell_type": "code",
   "execution_count": 22,
   "id": "e75c2ee4",
   "metadata": {},
   "outputs": [],
   "source": [
    "ohe = OneHotEncoder(sparse_output= False, handle_unknown='ignore')"
   ]
  },
  {
   "attachments": {},
   "cell_type": "markdown",
   "id": "26c9f58f",
   "metadata": {},
   "source": [
    "#### Entrenar y aplicar"
   ]
  },
  {
   "cell_type": "code",
   "execution_count": 23,
   "id": "4162d5a7",
   "metadata": {},
   "outputs": [],
   "source": [
    "cat_ohe = ohe.fit_transform(cat[var_ohe])"
   ]
  },
  {
   "attachments": {},
   "cell_type": "markdown",
   "id": "c9131f15",
   "metadata": {},
   "source": [
    "#### Guardar como dataframe"
   ]
  },
  {
   "cell_type": "code",
   "execution_count": 24,
   "id": "783255d7",
   "metadata": {},
   "outputs": [],
   "source": [
    "cat_ohe = pd.DataFrame(cat_ohe, columns = ohe.get_feature_names_out())"
   ]
  },
  {
   "attachments": {},
   "cell_type": "markdown",
   "id": "118dac36",
   "metadata": {},
   "source": [
    "## UNIFICAR DATASETS REESCALADOS"
   ]
  },
  {
   "attachments": {},
   "cell_type": "markdown",
   "id": "4412d913",
   "metadata": {},
   "source": [
    "### Unir todos los dataframes en el tablón analítico"
   ]
  },
  {
   "cell_type": "code",
   "execution_count": 25,
   "id": "bbacffcc",
   "metadata": {},
   "outputs": [],
   "source": [
    "df_tablon = pd.concat([num,cat_ohe], axis=1)\n",
    "\n"
   ]
  },
  {
   "cell_type": "code",
   "execution_count": 26,
   "id": "e5bc9ba0",
   "metadata": {},
   "outputs": [
    {
     "name": "stdout",
     "output_type": "stream",
     "text": [
      "<class 'pandas.core.frame.DataFrame'>\n",
      "RangeIndex: 2903 entries, 0 to 2902\n",
      "Data columns (total 12 columns):\n",
      " #   Column          Non-Null Count  Dtype  \n",
      "---  ------          --------------  -----  \n",
      " 0   length          2903 non-null   float64\n",
      " 1   diameter        2903 non-null   float64\n",
      " 2   height          2903 non-null   float64\n",
      " 3   whole_weight    2903 non-null   float64\n",
      " 4   shucked_weight  2903 non-null   float64\n",
      " 5   viscera_weight  2903 non-null   float64\n",
      " 6   shell_weight    2903 non-null   float64\n",
      " 7   rings           2903 non-null   int64  \n",
      " 8   age             2903 non-null   float64\n",
      " 9   sex_F           2903 non-null   float64\n",
      " 10  sex_I           2903 non-null   float64\n",
      " 11  sex_M           2903 non-null   float64\n",
      "dtypes: float64(11), int64(1)\n",
      "memory usage: 272.3 KB\n"
     ]
    }
   ],
   "source": [
    "df_tablon.info()"
   ]
  },
  {
   "attachments": {},
   "cell_type": "markdown",
   "id": "9f098f8a",
   "metadata": {},
   "source": [
    "## GUARDAR DATASET TRAS TRANSFORMACIÓN DE DATOS"
   ]
  },
  {
   "attachments": {},
   "cell_type": "markdown",
   "id": "7656ba95",
   "metadata": {},
   "source": [
    "En formato pickle para no perder las modificaciones de metadatos."
   ]
  },
  {
   "cell_type": "code",
   "execution_count": 27,
   "id": "782bf43c",
   "metadata": {},
   "outputs": [],
   "source": [
    "#Definir los nombres del archivo\n",
    "ruta_df_tablon = data['ruta_proyecto'] + '/02_Datos/03_Trabajo/' + 'df_tablon.pickle'"
   ]
  },
  {
   "cell_type": "code",
   "execution_count": 28,
   "id": "44c7dd60",
   "metadata": {},
   "outputs": [],
   "source": [
    "#Guardar los archivos\n",
    "df_tablon.to_pickle(ruta_df_tablon)"
   ]
  }
 ],
 "metadata": {
  "kernelspec": {
   "display_name": "Python 3 (ipykernel)",
   "language": "python",
   "name": "python3"
  },
  "language_info": {
   "codemirror_mode": {
    "name": "ipython",
    "version": 3
   },
   "file_extension": ".py",
   "mimetype": "text/x-python",
   "name": "python",
   "nbconvert_exporter": "python",
   "pygments_lexer": "ipython3",
   "version": "3.11.3"
  },
  "toc": {
   "base_numbering": 1,
   "nav_menu": {},
   "number_sections": true,
   "sideBar": true,
   "skip_h1_title": false,
   "title_cell": "Table of Contents",
   "title_sidebar": "Contents",
   "toc_cell": false,
   "toc_position": {
    "height": "calc(100% - 180px)",
    "left": "10px",
    "top": "150px",
    "width": "346.95px"
   },
   "toc_section_display": true,
   "toc_window_display": true
  },
  "varInspector": {
   "cols": {
    "lenName": 16,
    "lenType": 16,
    "lenVar": 40
   },
   "kernels_config": {
    "python": {
     "delete_cmd_postfix": "",
     "delete_cmd_prefix": "del ",
     "library": "var_list.py",
     "varRefreshCmd": "print(var_dic_list())"
    },
    "r": {
     "delete_cmd_postfix": ") ",
     "delete_cmd_prefix": "rm(",
     "library": "var_list.r",
     "varRefreshCmd": "cat(var_dic_list()) "
    }
   },
   "position": {
    "height": "546.85px",
    "left": "890.75px",
    "right": "20px",
    "top": "117px",
    "width": "350px"
   },
   "types_to_exclude": [
    "module",
    "function",
    "builtin_function_or_method",
    "instance",
    "_Feature"
   ],
   "window_display": false
  }
 },
 "nbformat": 4,
 "nbformat_minor": 5
}
