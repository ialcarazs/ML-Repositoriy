{
 "cells": [
  {
   "attachments": {},
   "cell_type": "markdown",
   "id": "d31dea65",
   "metadata": {},
   "source": [
    "# PLANTILLA PRESELECCIÓN DE VARIABLES"
   ]
  },
  {
   "attachments": {},
   "cell_type": "markdown",
   "id": "swiss-fault",
   "metadata": {},
   "source": [
    "## IMPORTAR PAQUETES"
   ]
  },
  {
   "cell_type": "code",
   "execution_count": 35,
   "id": "adjacent-toddler",
   "metadata": {},
   "outputs": [],
   "source": [
    "import os\n",
    "import json\n",
    "\n",
    "import numpy as np\n",
    "import pandas as pd\n",
    "import matplotlib.pyplot as plt\n",
    "%matplotlib inline\n",
    "\n",
    "from sklearn.feature_selection import mutual_info_classif\n",
    "from sklearn.feature_selection import mutual_info_regression\n",
    "from sklearn.feature_selection import RFE\n",
    "from xgboost import XGBClassifier\n",
    "from xgboost import XGBRegressor\n",
    "from sklearn.inspection import permutation_importance\n",
    "\n",
    "\n",
    "#Automcompletar rápido\n",
    "%config IPCompleter.greedy=True"
   ]
  },
  {
   "attachments": {},
   "cell_type": "markdown",
   "id": "graduate-compensation",
   "metadata": {},
   "source": [
    "## IMPORTAR LOS DATOS"
   ]
  },
  {
   "attachments": {},
   "cell_type": "markdown",
   "id": "a6128484",
   "metadata": {},
   "source": [
    "Cargamos JSON.DATA"
   ]
  },
  {
   "cell_type": "code",
   "execution_count": 36,
   "id": "8b8d5e78",
   "metadata": {},
   "outputs": [],
   "source": [
    "# Obtener la ruta del directorio raíz\n",
    "directorio_raiz = os.getcwd()\n",
    "\n",
    "# Nombre del archivo JSON\n",
    "nombre_archivo = \"data.json\"\n",
    "\n",
    "# Ruta completa del archivo JSON\n",
    "ruta_archivo = os.path.join(directorio_raiz, nombre_archivo)\n",
    "\n",
    "# Abrir el archivo en modo lectura\n",
    "with open(ruta_archivo, \"r\") as archivo:\n",
    "    # Cargar el contenido del archivo JSON\n",
    "    data = json.load(archivo)"
   ]
  },
  {
   "attachments": {},
   "cell_type": "markdown",
   "id": "c3363765",
   "metadata": {},
   "source": [
    "Nombres de los ficheros de datos.\n",
    "\n",
    "- nombre_df = 'df_tablon.pickle'"
   ]
  },
  {
   "attachments": {},
   "cell_type": "markdown",
   "id": "b9825018",
   "metadata": {},
   "source": [
    "Cargar los datos."
   ]
  },
  {
   "cell_type": "code",
   "execution_count": 37,
   "id": "cab6ebcd",
   "metadata": {},
   "outputs": [],
   "source": [
    "df = pd.read_pickle(data['ruta_proyecto'] + '/02_Datos/03_Trabajo/' + 'df_tablon.pickle')"
   ]
  },
  {
   "attachments": {},
   "cell_type": "markdown",
   "id": "9790d322",
   "metadata": {},
   "source": [
    "## MÉTODOS SUPERVISADOS"
   ]
  },
  {
   "attachments": {},
   "cell_type": "markdown",
   "id": "f1fa5201",
   "metadata": {},
   "source": [
    "### Preparar x e y"
   ]
  },
  {
   "cell_type": "code",
   "execution_count": 38,
   "id": "71f5e056",
   "metadata": {},
   "outputs": [],
   "source": [
    "x = df.drop(columns = ['age','rings']).copy()\n",
    "y =  df['age'].copy()\n",
    "\n",
    "#Quitamos la variables rings"
   ]
  },
  {
   "attachments": {},
   "cell_type": "markdown",
   "id": "80356ca1",
   "metadata": {},
   "source": [
    "### Mutual Information"
   ]
  },
  {
   "attachments": {},
   "cell_type": "markdown",
   "id": "b54a5fcd",
   "metadata": {},
   "source": [
    "#### Crear una función para mostrar el resultado"
   ]
  },
  {
   "cell_type": "code",
   "execution_count": 39,
   "id": "02607b69",
   "metadata": {},
   "outputs": [],
   "source": [
    "def ranking_mi(mutual_selector, modo = 'tabla'):\n",
    "    #Maqueta el ranking\n",
    "    ranking_mi = pd.DataFrame(mutual_selector, index = x.columns).reset_index()\n",
    "    ranking_mi.columns = ['variable','importancia_mi']\n",
    "    ranking_mi = ranking_mi.sort_values(by = 'importancia_mi', ascending = False)\n",
    "    ranking_mi['ranking_mi'] = np.arange(0,ranking_mi.shape[0])\n",
    "    #Muestra la salida\n",
    "    if modo == 'tabla':\n",
    "        return(ranking_mi)\n",
    "    else:\n",
    "        g = ranking_mi.importancia_mi.sort_values().plot.barh(figsize = (12,5))\n",
    "        g.set_yticklabels(ranking_mi.sort_values(by = 'importancia_mi').variable)\n",
    "        return(g)"
   ]
  },
  {
   "attachments": {},
   "cell_type": "markdown",
   "id": "3de36320",
   "metadata": {},
   "source": [
    "#### Calcular y revisar"
   ]
  },
  {
   "cell_type": "code",
   "execution_count": 40,
   "id": "9bd19c38",
   "metadata": {},
   "outputs": [
    {
     "name": "stdout",
     "output_type": "stream",
     "text": [
      "---- Ranking Variables ----\n",
      "\n",
      "         variable  importancia_mi  ranking_mi\n",
      "6    shell_weight        0.437444           0\n",
      "1        diameter        0.412837           1\n",
      "3    whole_weight        0.406760           2\n",
      "2          height        0.389648           3\n",
      "0          length        0.382805           4\n",
      "5  viscera_weight        0.382313           5\n",
      "4  shucked_weight        0.350579           6\n",
      "8           sex_I        0.166240           7\n",
      "7           sex_F        0.050382           8\n",
      "9           sex_M        0.038576           9\n",
      "\n",
      "Gráfico Variables\n",
      "\n"
     ]
    },
    {
     "data": {
      "image/png": "[encoded data removed]",
      "text/plain": [
       "<Figure size 1200x500 with 1 Axes>"
      ]
     },
     "metadata": {},
     "output_type": "display_data"
    }
   ],
   "source": [
    "mutual_selector = mutual_info_regression(x,y)\n",
    "\n",
    "rank_mi = ranking_mi(mutual_selector, modo = 'grafico')\n",
    "tabla_mi = ranking_mi(mutual_selector, modo = 'tabla')\n",
    "\n",
    "print('---- Ranking Variables ----\\n')\n",
    "print(tabla_mi)\n",
    "print('\\nGráfico Variables\\n')"
   ]
  },
  {
   "attachments": {},
   "cell_type": "markdown",
   "id": "ce5df9e6",
   "metadata": {},
   "source": [
    "#### Seleccionar las variables que pasan"
   ]
  },
  {
   "attachments": {},
   "cell_type": "markdown",
   "id": "4b0676e3",
   "metadata": {},
   "source": [
    "##### Definir la posición de la última variable que va a entrar"
   ]
  },
  {
   "cell_type": "code",
   "execution_count": 41,
   "id": "811cb8b4",
   "metadata": {},
   "outputs": [],
   "source": [
    "posicion_variable_limite = 10"
   ]
  },
  {
   "attachments": {},
   "cell_type": "markdown",
   "id": "8d1250a9",
   "metadata": {},
   "source": [
    "##### Extraer los nombres de las que entran"
   ]
  },
  {
   "cell_type": "code",
   "execution_count": 42,
   "id": "40183952",
   "metadata": {},
   "outputs": [],
   "source": [
    "entran_mi = ranking_mi(mutual_selector).iloc[0:posicion_variable_limite].variable"
   ]
  },
  {
   "attachments": {},
   "cell_type": "markdown",
   "id": "96d5e3c2",
   "metadata": {},
   "source": [
    "##### Crear el dataframe con la selección"
   ]
  },
  {
   "cell_type": "code",
   "execution_count": 43,
   "id": "8bae3be8",
   "metadata": {},
   "outputs": [],
   "source": [
    "x_mi = x[entran_mi].copy()"
   ]
  },
  {
   "attachments": {},
   "cell_type": "markdown",
   "id": "81764cb5",
   "metadata": {},
   "source": [
    "### Recursive Feature Elimination"
   ]
  },
  {
   "attachments": {},
   "cell_type": "markdown",
   "id": "d14432f9",
   "metadata": {},
   "source": [
    "#### Instanciar"
   ]
  },
  {
   "cell_type": "code",
   "execution_count": 44,
   "id": "3df12ccf",
   "metadata": {},
   "outputs": [],
   "source": [
    "rfe = RFE(estimator = XGBRegressor(use_label_encoder=False, n_jobs = -1, eval_metric='mape'))"
   ]
  },
  {
   "attachments": {},
   "cell_type": "markdown",
   "id": "0d2b1306",
   "metadata": {},
   "source": [
    "#### Entrenar"
   ]
  },
  {
   "cell_type": "code",
   "execution_count": 45,
   "id": "c85b9d2f",
   "metadata": {},
   "outputs": [
    {
     "data": {
      "text/html": [
       "<style>#sk-container-id-2 {color: black;background-color: white;}#sk-container-id-2 pre{padding: 0;}#sk-container-id-2 div.sk-toggleable {background-color: white;}#sk-container-id-2 label.sk-toggleable__label {cursor: pointer;display: block;width: 100%;margin-bottom: 0;padding: 0.3em;box-sizing: border-box;text-align: center;}#sk-container-id-2 label.sk-toggleable__label-arrow:before {content: \"▸\";float: left;margin-right: 0.25em;color: #696969;}#sk-container-id-2 label.sk-toggleable__label-arrow:hover:before {color: black;}#sk-container-id-2 div.sk-estimator:hover label.sk-toggleable__label-arrow:before {color: black;}#sk-container-id-2 div.sk-toggleable__content {max-height: 0;max-width: 0;overflow: hidden;text-align: left;background-color: #f0f8ff;}#sk-container-id-2 div.sk-toggleable__content pre {margin: 0.2em;color: black;border-radius: 0.25em;background-color: #f0f8ff;}#sk-container-id-2 input.sk-toggleable__control:checked~div.sk-toggleable__content {max-height: 200px;max-width: 100%;overflow: auto;}#sk-container-id-2 input.sk-toggleable__control:checked~label.sk-toggleable__label-arrow:before {content: \"▾\";}#sk-container-id-2 div.sk-estimator input.sk-toggleable__control:checked~label.sk-toggleable__label {background-color: #d4ebff;}#sk-container-id-2 div.sk-label input.sk-toggleable__control:checked~label.sk-toggleable__label {background-color: #d4ebff;}#sk-container-id-2 input.sk-hidden--visually {border: 0;clip: rect(1px 1px 1px 1px);clip: rect(1px, 1px, 1px, 1px);height: 1px;margin: -1px;overflow: hidden;padding: 0;position: absolute;width: 1px;}#sk-container-id-2 div.sk-estimator {font-family: monospace;background-color: #f0f8ff;border: 1px dotted black;border-radius: 0.25em;box-sizing: border-box;margin-bottom: 0.5em;}#sk-container-id-2 div.sk-estimator:hover {background-color: #d4ebff;}#sk-container-id-2 div.sk-parallel-item::after {content: \"\";width: 100%;border-bottom: 1px solid gray;flex-grow: 1;}#sk-container-id-2 div.sk-label:hover label.sk-toggleable__label {background-color: #d4ebff;}#sk-container-id-2 div.sk-serial::before {content: \"\";position: absolute;border-left: 1px solid gray;box-sizing: border-box;top: 0;bottom: 0;left: 50%;z-index: 0;}#sk-container-id-2 div.sk-serial {display: flex;flex-direction: column;align-items: center;background-color: white;padding-right: 0.2em;padding-left: 0.2em;position: relative;}#sk-container-id-2 div.sk-item {position: relative;z-index: 1;}#sk-container-id-2 div.sk-parallel {display: flex;align-items: stretch;justify-content: center;background-color: white;position: relative;}#sk-container-id-2 div.sk-item::before, #sk-container-id-2 div.sk-parallel-item::before {content: \"\";position: absolute;border-left: 1px solid gray;box-sizing: border-box;top: 0;bottom: 0;left: 50%;z-index: -1;}#sk-container-id-2 div.sk-parallel-item {display: flex;flex-direction: column;z-index: 1;position: relative;background-color: white;}#sk-container-id-2 div.sk-parallel-item:first-child::after {align-self: flex-end;width: 50%;}#sk-container-id-2 div.sk-parallel-item:last-child::after {align-self: flex-start;width: 50%;}#sk-container-id-2 div.sk-parallel-item:only-child::after {width: 0;}#sk-container-id-2 div.sk-dashed-wrapped {border: 1px dashed gray;margin: 0 0.4em 0.5em 0.4em;box-sizing: border-box;padding-bottom: 0.4em;background-color: white;}#sk-container-id-2 div.sk-label label {font-family: monospace;font-weight: bold;display: inline-block;line-height: 1.2em;}#sk-container-id-2 div.sk-label-container {text-align: center;}#sk-container-id-2 div.sk-container {/* jupyter's `normalize.less` sets `[hidden] { display: none; }` but bootstrap.min.css set `[hidden] { display: none !important; }` so we also need the `!important` here to be able to override the default hidden behavior on the sphinx rendered scikit-learn.org. See: https://github.com/scikit-learn/scikit-learn/issues/21755 */display: inline-block !important;position: relative;}#sk-container-id-2 div.sk-text-repr-fallback {display: none;}</style><div id=\"sk-container-id-2\" class=\"sk-top-container\"><div class=\"sk-text-repr-fallback\"><pre>RFE(estimator=XGBRegressor(base_score=None, booster=None, callbacks=None,\n",
       "                           colsample_bylevel=None, colsample_bynode=None,\n",
       "                           colsample_bytree=None, early_stopping_rounds=None,\n",
       "                           enable_categorical=False, eval_metric=&#x27;mape&#x27;,\n",
       "                           feature_types=None, gamma=None, gpu_id=None,\n",
       "                           grow_policy=None, importance_type=None,\n",
       "                           interaction_constraints=None, learning_rate=None,\n",
       "                           max_bin=None, max_cat_threshold=None,\n",
       "                           max_cat_to_onehot=None, max_delta_step=None,\n",
       "                           max_depth=None, max_leaves=None,\n",
       "                           min_child_weight=None, missing=nan,\n",
       "                           monotone_constraints=None, n_estimators=100,\n",
       "                           n_jobs=-1, num_parallel_tree=None, predictor=None,\n",
       "                           random_state=None, ...))</pre><b>In a Jupyter environment, please rerun this cell to show the HTML representation or trust the notebook. <br />On GitHub, the HTML representation is unable to render, please try loading this page with nbviewer.org.</b></div><div class=\"sk-container\" hidden><div class=\"sk-item sk-dashed-wrapped\"><div class=\"sk-label-container\"><div class=\"sk-label sk-toggleable\"><input class=\"sk-toggleable__control sk-hidden--visually\" id=\"sk-estimator-id-4\" type=\"checkbox\" ><label for=\"sk-estimator-id-4\" class=\"sk-toggleable__label sk-toggleable__label-arrow\">RFE</label><div class=\"sk-toggleable__content\"><pre>RFE(estimator=XGBRegressor(base_score=None, booster=None, callbacks=None,\n",
       "                           colsample_bylevel=None, colsample_bynode=None,\n",
       "                           colsample_bytree=None, early_stopping_rounds=None,\n",
       "                           enable_categorical=False, eval_metric=&#x27;mape&#x27;,\n",
       "                           feature_types=None, gamma=None, gpu_id=None,\n",
       "                           grow_policy=None, importance_type=None,\n",
       "                           interaction_constraints=None, learning_rate=None,\n",
       "                           max_bin=None, max_cat_threshold=None,\n",
       "                           max_cat_to_onehot=None, max_delta_step=None,\n",
       "                           max_depth=None, max_leaves=None,\n",
       "                           min_child_weight=None, missing=nan,\n",
       "                           monotone_constraints=None, n_estimators=100,\n",
       "                           n_jobs=-1, num_parallel_tree=None, predictor=None,\n",
       "                           random_state=None, ...))</pre></div></div></div><div class=\"sk-parallel\"><div class=\"sk-parallel-item\"><div class=\"sk-item\"><div class=\"sk-label-container\"><div class=\"sk-label sk-toggleable\"><input class=\"sk-toggleable__control sk-hidden--visually\" id=\"sk-estimator-id-5\" type=\"checkbox\" ><label for=\"sk-estimator-id-5\" class=\"sk-toggleable__label sk-toggleable__label-arrow\">estimator: XGBRegressor</label><div class=\"sk-toggleable__content\"><pre>XGBRegressor(base_score=None, booster=None, callbacks=None,\n",
       "             colsample_bylevel=None, colsample_bynode=None,\n",
       "             colsample_bytree=None, early_stopping_rounds=None,\n",
       "             enable_categorical=False, eval_metric=&#x27;mape&#x27;, feature_types=None,\n",
       "             gamma=None, gpu_id=None, grow_policy=None, importance_type=None,\n",
       "             interaction_constraints=None, learning_rate=None, max_bin=None,\n",
       "             max_cat_threshold=None, max_cat_to_onehot=None,\n",
       "             max_delta_step=None, max_depth=None, max_leaves=None,\n",
       "             min_child_weight=None, missing=nan, monotone_constraints=None,\n",
       "             n_estimators=100, n_jobs=-1, num_parallel_tree=None,\n",
       "             predictor=None, random_state=None, ...)</pre></div></div></div><div class=\"sk-serial\"><div class=\"sk-item\"><div class=\"sk-estimator sk-toggleable\"><input class=\"sk-toggleable__control sk-hidden--visually\" id=\"sk-estimator-id-6\" type=\"checkbox\" ><label for=\"sk-estimator-id-6\" class=\"sk-toggleable__label sk-toggleable__label-arrow\">XGBRegressor</label><div class=\"sk-toggleable__content\"><pre>XGBRegressor(base_score=None, booster=None, callbacks=None,\n",
       "             colsample_bylevel=None, colsample_bynode=None,\n",
       "             colsample_bytree=None, early_stopping_rounds=None,\n",
       "             enable_categorical=False, eval_metric=&#x27;mape&#x27;, feature_types=None,\n",
       "             gamma=None, gpu_id=None, grow_policy=None, importance_type=None,\n",
       "             interaction_constraints=None, learning_rate=None, max_bin=None,\n",
       "             max_cat_threshold=None, max_cat_to_onehot=None,\n",
       "             max_delta_step=None, max_depth=None, max_leaves=None,\n",
       "             min_child_weight=None, missing=nan, monotone_constraints=None,\n",
       "             n_estimators=100, n_jobs=-1, num_parallel_tree=None,\n",
       "             predictor=None, random_state=None, ...)</pre></div></div></div></div></div></div></div></div></div></div>"
      ],
      "text/plain": [
       "RFE(estimator=XGBRegressor(base_score=None, booster=None, callbacks=None,\n",
       "                           colsample_bylevel=None, colsample_bynode=None,\n",
       "                           colsample_bytree=None, early_stopping_rounds=None,\n",
       "                           enable_categorical=False, eval_metric='mape',\n",
       "                           feature_types=None, gamma=None, gpu_id=None,\n",
       "                           grow_policy=None, importance_type=None,\n",
       "                           interaction_constraints=None, learning_rate=None,\n",
       "                           max_bin=None, max_cat_threshold=None,\n",
       "                           max_cat_to_onehot=None, max_delta_step=None,\n",
       "                           max_depth=None, max_leaves=None,\n",
       "                           min_child_weight=None, missing=nan,\n",
       "                           monotone_constraints=None, n_estimators=100,\n",
       "                           n_jobs=-1, num_parallel_tree=None, predictor=None,\n",
       "                           random_state=None, ...))"
      ]
     },
     "execution_count": 45,
     "metadata": {},
     "output_type": "execute_result"
    }
   ],
   "source": [
    "rfe.fit(x,y)"
   ]
  },
  {
   "attachments": {},
   "cell_type": "markdown",
   "id": "966ffea8",
   "metadata": {},
   "source": [
    "##### Extraer los nombres de las que entran"
   ]
  },
  {
   "cell_type": "code",
   "execution_count": 46,
   "id": "cb91f9ee",
   "metadata": {},
   "outputs": [],
   "source": [
    "entran_rfe = x.columns[rfe.support_]"
   ]
  },
  {
   "cell_type": "code",
   "execution_count": 47,
   "id": "42495a2f",
   "metadata": {},
   "outputs": [
    {
     "name": "stdout",
     "output_type": "stream",
     "text": [
      "Index(['shucked_weight', 'shell_weight', 'sex_F', 'sex_I', 'sex_M'], dtype='object')\n",
      "Nº de variables 5\n"
     ]
    }
   ],
   "source": [
    "print(entran_rfe)\n",
    "print('Nº de variables', len(entran_rfe))"
   ]
  },
  {
   "attachments": {},
   "cell_type": "markdown",
   "id": "29e5e5bb",
   "metadata": {},
   "source": [
    "#### Crear el dataframe con la selección"
   ]
  },
  {
   "cell_type": "code",
   "execution_count": 48,
   "id": "947dc528",
   "metadata": {},
   "outputs": [
    {
     "data": {
      "text/html": [
       "<div>\n",
       "<style scoped>\n",
       "    .dataframe tbody tr th:only-of-type {\n",
       "        vertical-align: middle;\n",
       "    }\n",
       "\n",
       "    .dataframe tbody tr th {\n",
       "        vertical-align: top;\n",
       "    }\n",
       "\n",
       "    .dataframe thead th {\n",
       "        text-align: right;\n",
       "    }\n",
       "</style>\n",
       "<table border=\"1\" class=\"dataframe\">\n",
       "  <thead>\n",
       "    <tr style=\"text-align: right;\">\n",
       "      <th></th>\n",
       "      <th>shucked_weight</th>\n",
       "      <th>shell_weight</th>\n",
       "      <th>sex_F</th>\n",
       "      <th>sex_I</th>\n",
       "      <th>sex_M</th>\n",
       "    </tr>\n",
       "  </thead>\n",
       "  <tbody>\n",
       "    <tr>\n",
       "      <th>0</th>\n",
       "      <td>0.2245</td>\n",
       "      <td>0.1500</td>\n",
       "      <td>0.0</td>\n",
       "      <td>0.0</td>\n",
       "      <td>1.0</td>\n",
       "    </tr>\n",
       "    <tr>\n",
       "      <th>1</th>\n",
       "      <td>0.2565</td>\n",
       "      <td>0.2100</td>\n",
       "      <td>1.0</td>\n",
       "      <td>0.0</td>\n",
       "      <td>0.0</td>\n",
       "    </tr>\n",
       "    <tr>\n",
       "      <th>2</th>\n",
       "      <td>0.0895</td>\n",
       "      <td>0.0550</td>\n",
       "      <td>0.0</td>\n",
       "      <td>1.0</td>\n",
       "      <td>0.0</td>\n",
       "    </tr>\n",
       "    <tr>\n",
       "      <th>3</th>\n",
       "      <td>0.1410</td>\n",
       "      <td>0.1200</td>\n",
       "      <td>0.0</td>\n",
       "      <td>1.0</td>\n",
       "      <td>0.0</td>\n",
       "    </tr>\n",
       "    <tr>\n",
       "      <th>4</th>\n",
       "      <td>0.2370</td>\n",
       "      <td>0.3300</td>\n",
       "      <td>1.0</td>\n",
       "      <td>0.0</td>\n",
       "      <td>0.0</td>\n",
       "    </tr>\n",
       "    <tr>\n",
       "      <th>...</th>\n",
       "      <td>...</td>\n",
       "      <td>...</td>\n",
       "      <td>...</td>\n",
       "      <td>...</td>\n",
       "      <td>...</td>\n",
       "    </tr>\n",
       "    <tr>\n",
       "      <th>2898</th>\n",
       "      <td>0.4000</td>\n",
       "      <td>0.2290</td>\n",
       "      <td>0.0</td>\n",
       "      <td>0.0</td>\n",
       "      <td>1.0</td>\n",
       "    </tr>\n",
       "    <tr>\n",
       "      <th>2899</th>\n",
       "      <td>0.4390</td>\n",
       "      <td>0.2605</td>\n",
       "      <td>0.0</td>\n",
       "      <td>0.0</td>\n",
       "      <td>1.0</td>\n",
       "    </tr>\n",
       "    <tr>\n",
       "      <th>2900</th>\n",
       "      <td>0.5255</td>\n",
       "      <td>0.3080</td>\n",
       "      <td>0.0</td>\n",
       "      <td>0.0</td>\n",
       "      <td>1.0</td>\n",
       "    </tr>\n",
       "    <tr>\n",
       "      <th>2901</th>\n",
       "      <td>0.5310</td>\n",
       "      <td>0.2960</td>\n",
       "      <td>1.0</td>\n",
       "      <td>0.0</td>\n",
       "      <td>0.0</td>\n",
       "    </tr>\n",
       "    <tr>\n",
       "      <th>2902</th>\n",
       "      <td>0.9455</td>\n",
       "      <td>0.4950</td>\n",
       "      <td>0.0</td>\n",
       "      <td>0.0</td>\n",
       "      <td>1.0</td>\n",
       "    </tr>\n",
       "  </tbody>\n",
       "</table>\n",
       "<p>2903 rows × 5 columns</p>\n",
       "</div>"
      ],
      "text/plain": [
       "      shucked_weight  shell_weight  sex_F  sex_I  sex_M\n",
       "0             0.2245        0.1500    0.0    0.0    1.0\n",
       "1             0.2565        0.2100    1.0    0.0    0.0\n",
       "2             0.0895        0.0550    0.0    1.0    0.0\n",
       "3             0.1410        0.1200    0.0    1.0    0.0\n",
       "4             0.2370        0.3300    1.0    0.0    0.0\n",
       "...              ...           ...    ...    ...    ...\n",
       "2898          0.4000        0.2290    0.0    0.0    1.0\n",
       "2899          0.4390        0.2605    0.0    0.0    1.0\n",
       "2900          0.5255        0.3080    0.0    0.0    1.0\n",
       "2901          0.5310        0.2960    1.0    0.0    0.0\n",
       "2902          0.9455        0.4950    0.0    0.0    1.0\n",
       "\n",
       "[2903 rows x 5 columns]"
      ]
     },
     "execution_count": 48,
     "metadata": {},
     "output_type": "execute_result"
    }
   ],
   "source": [
    "x_rfe = x[entran_rfe].copy()\n",
    "x_rfe"
   ]
  },
  {
   "attachments": {},
   "cell_type": "markdown",
   "id": "3ebdee99",
   "metadata": {},
   "source": [
    "### Permutation Importance"
   ]
  },
  {
   "attachments": {},
   "cell_type": "markdown",
   "id": "ce1f6aea",
   "metadata": {},
   "source": [
    "#### Crear una función para mostrar el resultado"
   ]
  },
  {
   "cell_type": "code",
   "execution_count": 49,
   "id": "0b598224",
   "metadata": {},
   "outputs": [],
   "source": [
    "def ranking_per(predictoras,permutacion):\n",
    "    ranking_per = pd.DataFrame({'variable': predictoras.columns, 'importancia_per': permutacion.importances_mean}).sort_values(by = 'importancia_per', ascending = False)\n",
    "    ranking_per['ranking_per'] = np.arange(0,ranking_per.shape[0])\n",
    "    return(ranking_per)"
   ]
  },
  {
   "attachments": {},
   "cell_type": "markdown",
   "id": "18b55e50",
   "metadata": {},
   "source": [
    "#### Instanciar y entrenar"
   ]
  },
  {
   "cell_type": "code",
   "execution_count": 50,
   "id": "f72dac04",
   "metadata": {},
   "outputs": [],
   "source": [
    "import warnings\n",
    "warnings.filterwarnings(action=\"ignore\", message=r'.*Use subset.*of np.ndarray is not recommended')\n",
    "\n",
    "xgb = XGBRegressor(use_label_encoder=False, n_jobs = -1, eval_metric='mae' )\n",
    "\n",
    "xgb.fit(x,y)\n",
    "\n",
    "permutacion = permutation_importance(xgb, \n",
    "                                     x, y, \n",
    "                                     scoring='neg_mean_absolute_percentage_error',\n",
    "                                     n_repeats=5, n_jobs = -1)"
   ]
  },
  {
   "attachments": {},
   "cell_type": "markdown",
   "id": "b26d81b6",
   "metadata": {},
   "source": [
    "#### Revisar la salida"
   ]
  },
  {
   "cell_type": "code",
   "execution_count": 51,
   "id": "e9cbce90",
   "metadata": {},
   "outputs": [
    {
     "data": {
      "image/png": "[encoded data removed]",
      "text/plain": [
       "<Figure size 1200x500 with 1 Axes>"
      ]
     },
     "metadata": {},
     "output_type": "display_data"
    }
   ],
   "source": [
    "rank_per = ranking_per(x,permutacion)\n",
    "\n",
    "rank_per.set_index('variable').importancia_per.sort_values().plot.barh(figsize = (12,5));"
   ]
  },
  {
   "attachments": {},
   "cell_type": "markdown",
   "id": "a7c756cc",
   "metadata": {},
   "source": [
    "#### Seleccionar las variables que pasan"
   ]
  },
  {
   "attachments": {},
   "cell_type": "markdown",
   "id": "0e6a96f2",
   "metadata": {},
   "source": [
    "##### Definir la posición de la última variable que va a entrar"
   ]
  },
  {
   "cell_type": "code",
   "execution_count": 52,
   "id": "5b034a55",
   "metadata": {},
   "outputs": [],
   "source": [
    "posicion_variable_limite = 6"
   ]
  },
  {
   "attachments": {},
   "cell_type": "markdown",
   "id": "7ae0d63a",
   "metadata": {},
   "source": [
    "##### Extraer los nombres de las que entran"
   ]
  },
  {
   "cell_type": "code",
   "execution_count": 53,
   "id": "b1b860a1",
   "metadata": {},
   "outputs": [],
   "source": [
    "entran_per = rank_per.iloc[0:posicion_variable_limite].variable"
   ]
  },
  {
   "attachments": {},
   "cell_type": "markdown",
   "id": "b522076c",
   "metadata": {},
   "source": [
    "##### Crear el dataframe con la selección"
   ]
  },
  {
   "cell_type": "code",
   "execution_count": 54,
   "id": "ae2a4404",
   "metadata": {},
   "outputs": [],
   "source": [
    "x_per = x[entran_per].copy()"
   ]
  },
  {
   "attachments": {},
   "cell_type": "markdown",
   "id": "b332a368",
   "metadata": {},
   "source": [
    "## SELECCIONAR EL MÉTODO FINAL"
   ]
  },
  {
   "attachments": {},
   "cell_type": "markdown",
   "id": "7656ba95",
   "metadata": {},
   "source": [
    "Descomentar el método de preselección elegido y dejar comentados el resto."
   ]
  },
  {
   "cell_type": "code",
   "execution_count": 55,
   "id": "0748834c",
   "metadata": {},
   "outputs": [],
   "source": [
    "x_preseleccionado = x_mi\n",
    "# x_preseleccionado = x_rfe\n",
    "# x_preseleccionado = x_per"
   ]
  },
  {
   "attachments": {},
   "cell_type": "markdown",
   "id": "92af185c",
   "metadata": {},
   "source": [
    "## MÉTODOS NO SUPERVISADOS"
   ]
  },
  {
   "attachments": {},
   "cell_type": "markdown",
   "id": "6e77e844",
   "metadata": {},
   "source": [
    "### Correlación"
   ]
  },
  {
   "attachments": {},
   "cell_type": "markdown",
   "id": "46ac6887",
   "metadata": {},
   "source": [
    "#### Crear una función para mostrar el resultado"
   ]
  },
  {
   "cell_type": "code",
   "execution_count": 56,
   "id": "3cb15788",
   "metadata": {},
   "outputs": [],
   "source": [
    "def correlaciones_fuertes(df, lim_inf = 0.3, lim_sup = 1,drop_dupli=True):\n",
    "    #Calcula la matriz de correlación\n",
    "    c = df.corr().abs()\n",
    "    #Lo pasa todo a filas\n",
    "    c= c.unstack()\n",
    "    #Pasa el índice a columnas y le pone nombres\n",
    "    c = pd.DataFrame(c).reset_index()\n",
    "    c.columns = ['var1','var2','corr']\n",
    "    #A dataframe, filtra limites y ordena en descendiente\n",
    "    c = c.loc[(c['corr'] > lim_inf) &  (c['corr'] < lim_sup),:].sort_values(by = 'corr', ascending=False)\n",
    "    #Desduplica las correlaciones (o no si drop_dupli es False)\n",
    "    c = c if drop_dupli == False else c.drop_duplicates(subset = ['corr'])\n",
    "    #Devuelve la salida\n",
    "    return(c)"
   ]
  },
  {
   "attachments": {},
   "cell_type": "markdown",
   "id": "ef6ea5c2",
   "metadata": {},
   "source": [
    "#### Calcular y revisar"
   ]
  },
  {
   "attachments": {},
   "cell_type": "markdown",
   "id": "b920d9fd",
   "metadata": {},
   "source": [
    "##### Calcular"
   ]
  },
  {
   "cell_type": "code",
   "execution_count": 57,
   "id": "db40d5b6",
   "metadata": {},
   "outputs": [],
   "source": [
    "cor_finales = correlaciones_fuertes(x_preseleccionado)"
   ]
  },
  {
   "attachments": {},
   "cell_type": "markdown",
   "id": "410d3feb",
   "metadata": {},
   "source": [
    "##### Revisar agregado"
   ]
  },
  {
   "cell_type": "code",
   "execution_count": 58,
   "id": "fcccf840",
   "metadata": {},
   "outputs": [
    {
     "data": {
      "text/plain": [
       "shell_weight      5\n",
       "viscera_weight    5\n",
       "height            5\n",
       "length            4\n",
       "sex_I             4\n",
       "sex_F             4\n",
       "shucked_weight    3\n",
       "whole_weight      3\n",
       "diameter          2\n",
       "Name: var1, dtype: int64"
      ]
     },
     "execution_count": 58,
     "metadata": {},
     "output_type": "execute_result"
    }
   ],
   "source": [
    "cor_finales.var1.value_counts()"
   ]
  },
  {
   "cell_type": "code",
   "execution_count": 59,
   "id": "ee0938db",
   "metadata": {},
   "outputs": [
    {
     "data": {
      "text/plain": [
       "['shell_weight',\n",
       " 'diameter',\n",
       " 'whole_weight',\n",
       " 'height',\n",
       " 'length',\n",
       " 'viscera_weight',\n",
       " 'shucked_weight',\n",
       " 'sex_I',\n",
       " 'sex_F',\n",
       " 'sex_M']"
      ]
     },
     "execution_count": 59,
     "metadata": {},
     "output_type": "execute_result"
    }
   ],
   "source": [
    "x_preseleccionado.columns.to_list()"
   ]
  },
  {
   "attachments": {},
   "cell_type": "markdown",
   "id": "8be44ccb",
   "metadata": {},
   "source": [
    "Según la correlación de las variables eliminaremos las siguientes:\n",
    "\n",
    "['diameter',\n",
    " 'whole_weight',\n",
    " 'viscera_weight',\n",
    " 'shucked_weight',\n",
    " 'sex_F',\n",
    " 'sex_M']"
   ]
  },
  {
   "attachments": {},
   "cell_type": "markdown",
   "id": "530c854c",
   "metadata": {},
   "source": [
    "##### Revisar detalle"
   ]
  },
  {
   "cell_type": "code",
   "execution_count": 60,
   "id": "63df0174",
   "metadata": {},
   "outputs": [
    {
     "data": {
      "text/html": [
       "<div>\n",
       "<style scoped>\n",
       "    .dataframe tbody tr th:only-of-type {\n",
       "        vertical-align: middle;\n",
       "    }\n",
       "\n",
       "    .dataframe tbody tr th {\n",
       "        vertical-align: top;\n",
       "    }\n",
       "\n",
       "    .dataframe thead th {\n",
       "        text-align: right;\n",
       "    }\n",
       "</style>\n",
       "<table border=\"1\" class=\"dataframe\">\n",
       "  <thead>\n",
       "    <tr style=\"text-align: right;\">\n",
       "      <th></th>\n",
       "      <th>var1</th>\n",
       "      <th>var2</th>\n",
       "      <th>corr</th>\n",
       "    </tr>\n",
       "  </thead>\n",
       "  <tbody>\n",
       "    <tr>\n",
       "      <th>41</th>\n",
       "      <td>length</td>\n",
       "      <td>diameter</td>\n",
       "      <td>0.986637</td>\n",
       "    </tr>\n",
       "    <tr>\n",
       "      <th>62</th>\n",
       "      <td>shucked_weight</td>\n",
       "      <td>whole_weight</td>\n",
       "      <td>0.971049</td>\n",
       "    </tr>\n",
       "    <tr>\n",
       "      <th>25</th>\n",
       "      <td>whole_weight</td>\n",
       "      <td>viscera_weight</td>\n",
       "      <td>0.968079</td>\n",
       "    </tr>\n",
       "    <tr>\n",
       "      <th>2</th>\n",
       "      <td>shell_weight</td>\n",
       "      <td>whole_weight</td>\n",
       "      <td>0.958758</td>\n",
       "    </tr>\n",
       "    <tr>\n",
       "      <th>56</th>\n",
       "      <td>viscera_weight</td>\n",
       "      <td>shucked_weight</td>\n",
       "      <td>0.934160</td>\n",
       "    </tr>\n",
       "    <tr>\n",
       "      <th>42</th>\n",
       "      <td>length</td>\n",
       "      <td>whole_weight</td>\n",
       "      <td>0.925689</td>\n",
       "    </tr>\n",
       "    <tr>\n",
       "      <th>21</th>\n",
       "      <td>whole_weight</td>\n",
       "      <td>diameter</td>\n",
       "      <td>0.925172</td>\n",
       "    </tr>\n",
       "    <tr>\n",
       "      <th>5</th>\n",
       "      <td>shell_weight</td>\n",
       "      <td>viscera_weight</td>\n",
       "      <td>0.916260</td>\n",
       "    </tr>\n",
       "    <tr>\n",
       "      <th>10</th>\n",
       "      <td>diameter</td>\n",
       "      <td>shell_weight</td>\n",
       "      <td>0.912441</td>\n",
       "    </tr>\n",
       "    <tr>\n",
       "      <th>13</th>\n",
       "      <td>diameter</td>\n",
       "      <td>height</td>\n",
       "      <td>0.909942</td>\n",
       "    </tr>\n",
       "    <tr>\n",
       "      <th>4</th>\n",
       "      <td>shell_weight</td>\n",
       "      <td>length</td>\n",
       "      <td>0.905422</td>\n",
       "    </tr>\n",
       "    <tr>\n",
       "      <th>43</th>\n",
       "      <td>length</td>\n",
       "      <td>height</td>\n",
       "      <td>0.904396</td>\n",
       "    </tr>\n",
       "    <tr>\n",
       "      <th>54</th>\n",
       "      <td>viscera_weight</td>\n",
       "      <td>length</td>\n",
       "      <td>0.904344</td>\n",
       "    </tr>\n",
       "    <tr>\n",
       "      <th>51</th>\n",
       "      <td>viscera_weight</td>\n",
       "      <td>diameter</td>\n",
       "      <td>0.900974</td>\n",
       "    </tr>\n",
       "    <tr>\n",
       "      <th>64</th>\n",
       "      <td>shucked_weight</td>\n",
       "      <td>length</td>\n",
       "      <td>0.898582</td>\n",
       "    </tr>\n",
       "    <tr>\n",
       "      <th>30</th>\n",
       "      <td>height</td>\n",
       "      <td>shell_weight</td>\n",
       "      <td>0.894547</td>\n",
       "    </tr>\n",
       "    <tr>\n",
       "      <th>61</th>\n",
       "      <td>shucked_weight</td>\n",
       "      <td>diameter</td>\n",
       "      <td>0.893413</td>\n",
       "    </tr>\n",
       "    <tr>\n",
       "      <th>6</th>\n",
       "      <td>shell_weight</td>\n",
       "      <td>shucked_weight</td>\n",
       "      <td>0.892315</td>\n",
       "    </tr>\n",
       "    <tr>\n",
       "      <th>32</th>\n",
       "      <td>height</td>\n",
       "      <td>whole_weight</td>\n",
       "      <td>0.890527</td>\n",
       "    </tr>\n",
       "    <tr>\n",
       "      <th>35</th>\n",
       "      <td>height</td>\n",
       "      <td>viscera_weight</td>\n",
       "      <td>0.872893</td>\n",
       "    </tr>\n",
       "    <tr>\n",
       "      <th>36</th>\n",
       "      <td>height</td>\n",
       "      <td>shucked_weight</td>\n",
       "      <td>0.842725</td>\n",
       "    </tr>\n",
       "    <tr>\n",
       "      <th>71</th>\n",
       "      <td>sex_I</td>\n",
       "      <td>diameter</td>\n",
       "      <td>0.564878</td>\n",
       "    </tr>\n",
       "    <tr>\n",
       "      <th>57</th>\n",
       "      <td>viscera_weight</td>\n",
       "      <td>sex_I</td>\n",
       "      <td>0.562251</td>\n",
       "    </tr>\n",
       "    <tr>\n",
       "      <th>27</th>\n",
       "      <td>whole_weight</td>\n",
       "      <td>sex_I</td>\n",
       "      <td>0.559741</td>\n",
       "    </tr>\n",
       "    <tr>\n",
       "      <th>37</th>\n",
       "      <td>height</td>\n",
       "      <td>sex_I</td>\n",
       "      <td>0.559534</td>\n",
       "    </tr>\n",
       "    <tr>\n",
       "      <th>7</th>\n",
       "      <td>shell_weight</td>\n",
       "      <td>sex_I</td>\n",
       "      <td>0.552610</td>\n",
       "    </tr>\n",
       "    <tr>\n",
       "      <th>47</th>\n",
       "      <td>length</td>\n",
       "      <td>sex_I</td>\n",
       "      <td>0.552501</td>\n",
       "    </tr>\n",
       "    <tr>\n",
       "      <th>79</th>\n",
       "      <td>sex_I</td>\n",
       "      <td>sex_M</td>\n",
       "      <td>0.532247</td>\n",
       "    </tr>\n",
       "    <tr>\n",
       "      <th>76</th>\n",
       "      <td>sex_I</td>\n",
       "      <td>shucked_weight</td>\n",
       "      <td>0.524709</td>\n",
       "    </tr>\n",
       "    <tr>\n",
       "      <th>89</th>\n",
       "      <td>sex_F</td>\n",
       "      <td>sex_M</td>\n",
       "      <td>0.502228</td>\n",
       "    </tr>\n",
       "    <tr>\n",
       "      <th>78</th>\n",
       "      <td>sex_I</td>\n",
       "      <td>sex_F</td>\n",
       "      <td>0.464766</td>\n",
       "    </tr>\n",
       "    <tr>\n",
       "      <th>81</th>\n",
       "      <td>sex_F</td>\n",
       "      <td>diameter</td>\n",
       "      <td>0.316874</td>\n",
       "    </tr>\n",
       "    <tr>\n",
       "      <th>58</th>\n",
       "      <td>viscera_weight</td>\n",
       "      <td>sex_F</td>\n",
       "      <td>0.316081</td>\n",
       "    </tr>\n",
       "    <tr>\n",
       "      <th>83</th>\n",
       "      <td>sex_F</td>\n",
       "      <td>height</td>\n",
       "      <td>0.310493</td>\n",
       "    </tr>\n",
       "    <tr>\n",
       "      <th>84</th>\n",
       "      <td>sex_F</td>\n",
       "      <td>length</td>\n",
       "      <td>0.307181</td>\n",
       "    </tr>\n",
       "  </tbody>\n",
       "</table>\n",
       "</div>"
      ],
      "text/plain": [
       "              var1            var2      corr\n",
       "41          length        diameter  0.986637\n",
       "62  shucked_weight    whole_weight  0.971049\n",
       "25    whole_weight  viscera_weight  0.968079\n",
       "2     shell_weight    whole_weight  0.958758\n",
       "56  viscera_weight  shucked_weight  0.934160\n",
       "42          length    whole_weight  0.925689\n",
       "21    whole_weight        diameter  0.925172\n",
       "5     shell_weight  viscera_weight  0.916260\n",
       "10        diameter    shell_weight  0.912441\n",
       "13        diameter          height  0.909942\n",
       "4     shell_weight          length  0.905422\n",
       "43          length          height  0.904396\n",
       "54  viscera_weight          length  0.904344\n",
       "51  viscera_weight        diameter  0.900974\n",
       "64  shucked_weight          length  0.898582\n",
       "30          height    shell_weight  0.894547\n",
       "61  shucked_weight        diameter  0.893413\n",
       "6     shell_weight  shucked_weight  0.892315\n",
       "32          height    whole_weight  0.890527\n",
       "35          height  viscera_weight  0.872893\n",
       "36          height  shucked_weight  0.842725\n",
       "71           sex_I        diameter  0.564878\n",
       "57  viscera_weight           sex_I  0.562251\n",
       "27    whole_weight           sex_I  0.559741\n",
       "37          height           sex_I  0.559534\n",
       "7     shell_weight           sex_I  0.552610\n",
       "47          length           sex_I  0.552501\n",
       "79           sex_I           sex_M  0.532247\n",
       "76           sex_I  shucked_weight  0.524709\n",
       "89           sex_F           sex_M  0.502228\n",
       "78           sex_I           sex_F  0.464766\n",
       "81           sex_F        diameter  0.316874\n",
       "58  viscera_weight           sex_F  0.316081\n",
       "83           sex_F          height  0.310493\n",
       "84           sex_F          length  0.307181"
      ]
     },
     "execution_count": 60,
     "metadata": {},
     "output_type": "execute_result"
    }
   ],
   "source": [
    "cor_finales.head(50)"
   ]
  },
  {
   "attachments": {},
   "cell_type": "markdown",
   "id": "f1cc3339",
   "metadata": {},
   "source": [
    "#### Filtrar variables"
   ]
  },
  {
   "attachments": {},
   "cell_type": "markdown",
   "id": "a574d30d",
   "metadata": {},
   "source": [
    "Meter en una lista las que queramos descartar por alta correlacion y eliminarlas."
   ]
  },
  {
   "cell_type": "code",
   "execution_count": 62,
   "id": "fb7093cd",
   "metadata": {},
   "outputs": [],
   "source": [
    "a_eliminar_corr = ['diameter',\n",
    "                    'whole_weight',\n",
    "                    'viscera_weight',\n",
    "                    'shucked_weight',\n",
    "                    'sex_F',\n",
    "                    'sex_M']"
   ]
  },
  {
   "cell_type": "code",
   "execution_count": 63,
   "id": "03feaa3b",
   "metadata": {},
   "outputs": [],
   "source": [
    "x_preseleccionado.drop(columns = a_eliminar_corr, inplace = True)"
   ]
  },
  {
   "cell_type": "code",
   "execution_count": 64,
   "id": "abfe1892",
   "metadata": {},
   "outputs": [
    {
     "data": {
      "text/plain": [
       "['shell_weight', 'height', 'length', 'sex_I']"
      ]
     },
     "execution_count": 64,
     "metadata": {},
     "output_type": "execute_result"
    }
   ],
   "source": [
    "x_preseleccionado.columns.to_list()"
   ]
  },
  {
   "attachments": {},
   "cell_type": "markdown",
   "id": "87434e0c",
   "metadata": {},
   "source": [
    "## GUARDAR DATASETS TRAS PRESELECCION DE VARIABLES"
   ]
  },
  {
   "cell_type": "code",
   "execution_count": 65,
   "id": "782bf43c",
   "metadata": {},
   "outputs": [],
   "source": [
    "#Definir los nombres de los archivos\n",
    "nombre_x_preseleccionado = data['ruta_proyecto'] + '/02_Datos/03_Trabajo/' + 'x_preseleccionado.pickle'\n",
    "nombre_y_preseleccionado =  data['ruta_proyecto'] + '/02_Datos/03_Trabajo/' + 'y_preseleccionado.pickle'"
   ]
  },
  {
   "cell_type": "code",
   "execution_count": 66,
   "id": "44c7dd60",
   "metadata": {},
   "outputs": [],
   "source": [
    "#Guardar los archivos\n",
    "x_preseleccionado.to_pickle(nombre_x_preseleccionado)\n",
    "\n",
    "y_preseleccionado = y.copy()\n",
    "y_preseleccionado.to_pickle(nombre_y_preseleccionado)"
   ]
  },
  {
   "cell_type": "code",
   "execution_count": 67,
   "id": "acd053bb",
   "metadata": {},
   "outputs": [],
   "source": [
    "#Guardar los nombres de las variables finales\n",
    "nombre_variables_finales = data['ruta_proyecto'] + '/05_Resultados/' + 'variables_finales.pickle'\n",
    "\n",
    "x_preseleccionado.iloc[0].to_pickle(nombre_variables_finales)"
   ]
  }
 ],
 "metadata": {
  "kernelspec": {
   "display_name": "Python 3 (ipykernel)",
   "language": "python",
   "name": "python3"
  },
  "language_info": {
   "codemirror_mode": {
    "name": "ipython",
    "version": 3
   },
   "file_extension": ".py",
   "mimetype": "text/x-python",
   "name": "python",
   "nbconvert_exporter": "python",
   "pygments_lexer": "ipython3",
   "version": "3.11.3"
  },
  "toc": {
   "base_numbering": 1,
   "nav_menu": {},
   "number_sections": true,
   "sideBar": true,
   "skip_h1_title": false,
   "title_cell": "Table of Contents",
   "title_sidebar": "Contents",
   "toc_cell": false,
   "toc_position": {
    "height": "calc(100% - 180px)",
    "left": "10px",
    "top": "150px",
    "width": "313.55px"
   },
   "toc_section_display": true,
   "toc_window_display": true
  },
  "varInspector": {
   "cols": {
    "lenName": 16,
    "lenType": 16,
    "lenVar": 40
   },
   "kernels_config": {
    "python": {
     "delete_cmd_postfix": "",
     "delete_cmd_prefix": "del ",
     "library": "var_list.py",
     "varRefreshCmd": "print(var_dic_list())"
    },
    "r": {
     "delete_cmd_postfix": ") ",
     "delete_cmd_prefix": "rm(",
     "library": "var_list.r",
     "varRefreshCmd": "cat(var_dic_list()) "
    }
   },
   "position": {
    "height": "546.85px",
    "left": "1531.75px",
    "right": "20px",
    "top": "115px",
    "width": "350px"
   },
   "types_to_exclude": [
    "module",
    "function",
    "builtin_function_or_method",
    "instance",
    "_Feature"
   ],
   "window_display": false
  }
 },
 "nbformat": 4,
 "nbformat_minor": 5
}
