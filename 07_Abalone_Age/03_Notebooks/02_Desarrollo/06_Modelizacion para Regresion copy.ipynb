{
 "cells": [
  {
   "attachments": {},
   "cell_type": "markdown",
   "id": "d31dea65",
   "metadata": {},
   "source": [
    "# EJECUCIÓN PARA REGRESIÓN"
   ]
  },
  {
   "attachments": {},
   "cell_type": "markdown",
   "id": "swiss-fault",
   "metadata": {},
   "source": [
    "## IMPORTAR PAQUETES"
   ]
  },
  {
   "cell_type": "code",
   "execution_count": 1,
   "id": "adjacent-toddler",
   "metadata": {},
   "outputs": [],
   "source": [
    "import os\n",
    "import json\n",
    "\n",
    "import numpy as np\n",
    "import pandas as pd\n",
    "import matplotlib.pyplot as plt\n",
    "%matplotlib inline\n",
    "\n",
    "#Calidad de Datos\n",
    "from janitor import clean_names\n",
    "\n",
    "#Transformación de Variables\n",
    "from sklearn.preprocessing import OneHotEncoder\n",
    "\n",
    "\n",
    "\n",
    "from sklearn.model_selection import train_test_split\n",
    "\n",
    "from sklearn.linear_model import LinearRegression\n",
    "from xgboost import XGBRegressor\n",
    "from sklearn.pipeline import Pipeline\n",
    "\n",
    "from sklearn.model_selection import GridSearchCV\n",
    "from sklearn.model_selection import RandomizedSearchCV\n",
    "\n",
    "from sklearn.metrics import mean_absolute_percentage_error\n",
    "\n",
    "\n",
    "#Autocompletar rápido\n",
    "%config IPCompleter.greedy=True\n",
    "\n",
    "#Desactivar la notación científica\n",
    "pd.options.display.float_format = '{:.2f}'.format\n",
    "\n",
    "#Desactivar los warnings\n",
    "import warnings\n",
    "warnings.filterwarnings(\"ignore\")"
   ]
  },
  {
   "attachments": {},
   "cell_type": "markdown",
   "id": "graduate-compensation",
   "metadata": {},
   "source": [
    "## IMPORTAR LOS DATOS"
   ]
  },
  {
   "attachments": {},
   "cell_type": "markdown",
   "id": "bcb8b40a",
   "metadata": {},
   "source": [
    "Cargamos JSON.DATA"
   ]
  },
  {
   "cell_type": "code",
   "execution_count": 2,
   "id": "cc4a4a18",
   "metadata": {},
   "outputs": [],
   "source": [
    "# Obtener la ruta del directorio raíz\n",
    "directorio_raiz = os.getcwd()\n",
    "\n",
    "# Nombre del archivo JSON\n",
    "nombre_archivo = \"data.json\"\n",
    "\n",
    "# Ruta completa del archivo JSON\n",
    "ruta_archivo = os.path.join(directorio_raiz, nombre_archivo)\n",
    "\n",
    "# Abrir el archivo en modo lectura\n",
    "with open(ruta_archivo, \"r\") as archivo:\n",
    "    # Cargar el contenido del archivo JSON\n",
    "    data = json.load(archivo)"
   ]
  },
  {
   "attachments": {},
   "cell_type": "markdown",
   "id": "3a5b94ef",
   "metadata": {},
   "source": [
    "Sustituir la ruta del proyecto."
   ]
  },
  {
   "cell_type": "code",
   "execution_count": 3,
   "id": "f9d2de58",
   "metadata": {},
   "outputs": [],
   "source": [
    "ruta_proyecto = data['ruta_proyecto']"
   ]
  },
  {
   "attachments": {},
   "cell_type": "markdown",
   "id": "c3363765",
   "metadata": {},
   "source": [
    "Nombres de los ficheros de datos."
   ]
  },
  {
   "cell_type": "code",
   "execution_count": 4,
   "id": "a9e2e04a",
   "metadata": {},
   "outputs": [],
   "source": [
    "nombre_x = 'x_preseleccionado.pickle'\n",
    "nombre_y = 'y_preseleccionado.pickle'"
   ]
  },
  {
   "attachments": {},
   "cell_type": "markdown",
   "id": "b9825018",
   "metadata": {},
   "source": [
    "Cargar los datos."
   ]
  },
  {
   "cell_type": "code",
   "execution_count": 5,
   "id": "cab6ebcd",
   "metadata": {},
   "outputs": [],
   "source": [
    "x = pd.read_pickle(ruta_proyecto + '/02_Datos/03_Trabajo/' + nombre_x)\n",
    "y = pd.read_pickle(ruta_proyecto + '/02_Datos/03_Trabajo/' + nombre_y)"
   ]
  },
  {
   "attachments": {},
   "cell_type": "markdown",
   "id": "9790d322",
   "metadata": {},
   "source": [
    "## MODELIZAR"
   ]
  },
  {
   "attachments": {},
   "cell_type": "markdown",
   "id": "930f685f",
   "metadata": {},
   "source": [
    "### Reservar el dataset de validacion"
   ]
  },
  {
   "cell_type": "code",
   "execution_count": 6,
   "id": "84b6fd41",
   "metadata": {},
   "outputs": [],
   "source": [
    "train_x,val_x,train_y,val_y = train_test_split(x,y,test_size=0.3)"
   ]
  },
  {
   "attachments": {},
   "cell_type": "markdown",
   "id": "53bd4ad6",
   "metadata": {},
   "source": [
    "### Crear el pipe y el diccionario de algorimos, parámetros y valores a testar"
   ]
  },
  {
   "attachments": {},
   "cell_type": "markdown",
   "id": "19b25807",
   "metadata": {},
   "source": [
    "Modificar para dejar solo los algoritmos que se quieran testar.\n",
    "\n",
    "Modificar los parámetros."
   ]
  },
  {
   "cell_type": "code",
   "execution_count": 7,
   "id": "995b39fb",
   "metadata": {},
   "outputs": [],
   "source": [
    "pipe = Pipeline([('algoritmo',XGBRegressor())])\n",
    "\n",
    "grid = [{'algoritmo': [LinearRegression()],\n",
    "         'algoritmo__n_jobs': [-1]},\n",
    "            \n",
    "        {'algoritmo': [XGBRegressor()],\n",
    "         'algoritmo__n_jobs': [-1],\n",
    "         'algoritmo__learning_rate': [0.01,0.025,0.05,0.1],\n",
    "         'algoritmo__max_depth': [5,10,20],\n",
    "         'algoritmo__reg_alpha': [0,0.1,0.5,1],\n",
    "         'algoritmo__reg_lambda': [0.01,0.1,1],\n",
    "         'algoritmo__n_estimators': [100,500,1000]},\n",
    "       ]"
   ]
  },
  {
   "attachments": {},
   "cell_type": "markdown",
   "id": "1f836ca9",
   "metadata": {},
   "source": [
    "### Optimizar los hiper parámetros"
   ]
  },
  {
   "attachments": {},
   "cell_type": "markdown",
   "id": "32983bac",
   "metadata": {},
   "source": [
    "Elegir si se quiere usar grid search o random search.\n",
    "\n",
    "Comentar la opción que no se vaya a usar."
   ]
  },
  {
   "attachments": {},
   "cell_type": "markdown",
   "id": "3d73daa9",
   "metadata": {},
   "source": [
    "####  Con grid search"
   ]
  },
  {
   "cell_type": "code",
   "execution_count": 8,
   "id": "4be08386",
   "metadata": {},
   "outputs": [
    {
     "data": {
      "text/plain": [
       "\"grid_search = GridSearchCV(estimator= pipe, \\n                            param_grid = grid, \\n                           cv = 3, \\n                           scoring = 'neg_mean_absolute_percentage_error',\\n                            verbose = 0,\\n                            n_jobs = -1)\\n\\nmodelo = grid_search.fit(train_x,train_y)\\n\\npd.DataFrame(grid_search.cv_results_).sort_values(by = 'rank_test_score')\""
      ]
     },
     "execution_count": 8,
     "metadata": {},
     "output_type": "execute_result"
    }
   ],
   "source": [
    "'''grid_search = GridSearchCV(estimator= pipe, \n",
    "                            param_grid = grid, \n",
    "                           cv = 3, \n",
    "                           scoring = 'neg_mean_absolute_percentage_error',\n",
    "                            verbose = 0,\n",
    "                            n_jobs = -1)\n",
    "\n",
    "modelo = grid_search.fit(train_x,train_y)\n",
    "\n",
    "pd.DataFrame(grid_search.cv_results_).sort_values(by = 'rank_test_score')'''"
   ]
  },
  {
   "attachments": {},
   "cell_type": "markdown",
   "id": "25d8aecf",
   "metadata": {},
   "source": [
    "####  Con random search"
   ]
  },
  {
   "cell_type": "code",
   "execution_count": 9,
   "id": "dcef4ab4",
   "metadata": {},
   "outputs": [
    {
     "data": {
      "text/html": [
       "<div>\n",
       "<style scoped>\n",
       "    .dataframe tbody tr th:only-of-type {\n",
       "        vertical-align: middle;\n",
       "    }\n",
       "\n",
       "    .dataframe tbody tr th {\n",
       "        vertical-align: top;\n",
       "    }\n",
       "\n",
       "    .dataframe thead th {\n",
       "        text-align: right;\n",
       "    }\n",
       "</style>\n",
       "<table border=\"1\" class=\"dataframe\">\n",
       "  <thead>\n",
       "    <tr style=\"text-align: right;\">\n",
       "      <th></th>\n",
       "      <th>mean_fit_time</th>\n",
       "      <th>std_fit_time</th>\n",
       "      <th>mean_score_time</th>\n",
       "      <th>std_score_time</th>\n",
       "      <th>param_algoritmo__reg_lambda</th>\n",
       "      <th>param_algoritmo__reg_alpha</th>\n",
       "      <th>param_algoritmo__n_jobs</th>\n",
       "      <th>param_algoritmo__n_estimators</th>\n",
       "      <th>param_algoritmo__max_depth</th>\n",
       "      <th>param_algoritmo__learning_rate</th>\n",
       "      <th>param_algoritmo</th>\n",
       "      <th>params</th>\n",
       "      <th>split0_test_score</th>\n",
       "      <th>split1_test_score</th>\n",
       "      <th>split2_test_score</th>\n",
       "      <th>mean_test_score</th>\n",
       "      <th>std_test_score</th>\n",
       "      <th>rank_test_score</th>\n",
       "    </tr>\n",
       "  </thead>\n",
       "  <tbody>\n",
       "    <tr>\n",
       "      <th>6</th>\n",
       "      <td>0.19</td>\n",
       "      <td>0.01</td>\n",
       "      <td>0.01</td>\n",
       "      <td>0.00</td>\n",
       "      <td>1</td>\n",
       "      <td>0.50</td>\n",
       "      <td>-1</td>\n",
       "      <td>100</td>\n",
       "      <td>5</td>\n",
       "      <td>0.05</td>\n",
       "      <td>XGBRegressor(base_score=None, booster=None, ca...</td>\n",
       "      <td>{'algoritmo__reg_lambda': 1, 'algoritmo__reg_a...</td>\n",
       "      <td>-0.14</td>\n",
       "      <td>-0.14</td>\n",
       "      <td>-0.14</td>\n",
       "      <td>-0.14</td>\n",
       "      <td>0.00</td>\n",
       "      <td>1</td>\n",
       "    </tr>\n",
       "    <tr>\n",
       "      <th>18</th>\n",
       "      <td>0.33</td>\n",
       "      <td>0.01</td>\n",
       "      <td>0.01</td>\n",
       "      <td>0.00</td>\n",
       "      <td>1</td>\n",
       "      <td>1</td>\n",
       "      <td>-1</td>\n",
       "      <td>100</td>\n",
       "      <td>10</td>\n",
       "      <td>0.05</td>\n",
       "      <td>XGBRegressor(base_score=None, booster=None, ca...</td>\n",
       "      <td>{'algoritmo__reg_lambda': 1, 'algoritmo__reg_a...</td>\n",
       "      <td>-0.15</td>\n",
       "      <td>-0.14</td>\n",
       "      <td>-0.14</td>\n",
       "      <td>-0.14</td>\n",
       "      <td>0.00</td>\n",
       "      <td>2</td>\n",
       "    </tr>\n",
       "    <tr>\n",
       "      <th>21</th>\n",
       "      <td>1.84</td>\n",
       "      <td>0.08</td>\n",
       "      <td>0.03</td>\n",
       "      <td>0.00</td>\n",
       "      <td>1</td>\n",
       "      <td>1</td>\n",
       "      <td>-1</td>\n",
       "      <td>1000</td>\n",
       "      <td>5</td>\n",
       "      <td>0.03</td>\n",
       "      <td>XGBRegressor(base_score=None, booster=None, ca...</td>\n",
       "      <td>{'algoritmo__reg_lambda': 1, 'algoritmo__reg_a...</td>\n",
       "      <td>-0.15</td>\n",
       "      <td>-0.14</td>\n",
       "      <td>-0.15</td>\n",
       "      <td>-0.15</td>\n",
       "      <td>0.00</td>\n",
       "      <td>3</td>\n",
       "    </tr>\n",
       "    <tr>\n",
       "      <th>2</th>\n",
       "      <td>0.23</td>\n",
       "      <td>0.00</td>\n",
       "      <td>0.01</td>\n",
       "      <td>0.00</td>\n",
       "      <td>0.10</td>\n",
       "      <td>0.50</td>\n",
       "      <td>-1</td>\n",
       "      <td>100</td>\n",
       "      <td>10</td>\n",
       "      <td>0.05</td>\n",
       "      <td>XGBRegressor(base_score=None, booster=None, ca...</td>\n",
       "      <td>{'algoritmo__reg_lambda': 0.1, 'algoritmo__reg...</td>\n",
       "      <td>-0.15</td>\n",
       "      <td>-0.15</td>\n",
       "      <td>-0.15</td>\n",
       "      <td>-0.15</td>\n",
       "      <td>0.00</td>\n",
       "      <td>4</td>\n",
       "    </tr>\n",
       "    <tr>\n",
       "      <th>9</th>\n",
       "      <td>1.93</td>\n",
       "      <td>0.02</td>\n",
       "      <td>0.04</td>\n",
       "      <td>0.00</td>\n",
       "      <td>0.01</td>\n",
       "      <td>0.50</td>\n",
       "      <td>-1</td>\n",
       "      <td>500</td>\n",
       "      <td>10</td>\n",
       "      <td>0.01</td>\n",
       "      <td>XGBRegressor(base_score=None, booster=None, ca...</td>\n",
       "      <td>{'algoritmo__reg_lambda': 0.01, 'algoritmo__re...</td>\n",
       "      <td>-0.15</td>\n",
       "      <td>-0.15</td>\n",
       "      <td>-0.15</td>\n",
       "      <td>-0.15</td>\n",
       "      <td>0.00</td>\n",
       "      <td>5</td>\n",
       "    </tr>\n",
       "  </tbody>\n",
       "</table>\n",
       "</div>"
      ],
      "text/plain": [
       "    mean_fit_time  std_fit_time  mean_score_time  std_score_time  \\\n",
       "6            0.19          0.01             0.01            0.00   \n",
       "18           0.33          0.01             0.01            0.00   \n",
       "21           1.84          0.08             0.03            0.00   \n",
       "2            0.23          0.00             0.01            0.00   \n",
       "9            1.93          0.02             0.04            0.00   \n",
       "\n",
       "   param_algoritmo__reg_lambda param_algoritmo__reg_alpha  \\\n",
       "6                            1                       0.50   \n",
       "18                           1                          1   \n",
       "21                           1                          1   \n",
       "2                         0.10                       0.50   \n",
       "9                         0.01                       0.50   \n",
       "\n",
       "   param_algoritmo__n_jobs param_algoritmo__n_estimators  \\\n",
       "6                       -1                           100   \n",
       "18                      -1                           100   \n",
       "21                      -1                          1000   \n",
       "2                       -1                           100   \n",
       "9                       -1                           500   \n",
       "\n",
       "   param_algoritmo__max_depth param_algoritmo__learning_rate  \\\n",
       "6                           5                           0.05   \n",
       "18                         10                           0.05   \n",
       "21                          5                           0.03   \n",
       "2                          10                           0.05   \n",
       "9                          10                           0.01   \n",
       "\n",
       "                                      param_algoritmo  \\\n",
       "6   XGBRegressor(base_score=None, booster=None, ca...   \n",
       "18  XGBRegressor(base_score=None, booster=None, ca...   \n",
       "21  XGBRegressor(base_score=None, booster=None, ca...   \n",
       "2   XGBRegressor(base_score=None, booster=None, ca...   \n",
       "9   XGBRegressor(base_score=None, booster=None, ca...   \n",
       "\n",
       "                                               params  split0_test_score  \\\n",
       "6   {'algoritmo__reg_lambda': 1, 'algoritmo__reg_a...              -0.14   \n",
       "18  {'algoritmo__reg_lambda': 1, 'algoritmo__reg_a...              -0.15   \n",
       "21  {'algoritmo__reg_lambda': 1, 'algoritmo__reg_a...              -0.15   \n",
       "2   {'algoritmo__reg_lambda': 0.1, 'algoritmo__reg...              -0.15   \n",
       "9   {'algoritmo__reg_lambda': 0.01, 'algoritmo__re...              -0.15   \n",
       "\n",
       "    split1_test_score  split2_test_score  mean_test_score  std_test_score  \\\n",
       "6               -0.14              -0.14            -0.14            0.00   \n",
       "18              -0.14              -0.14            -0.14            0.00   \n",
       "21              -0.14              -0.15            -0.15            0.00   \n",
       "2               -0.15              -0.15            -0.15            0.00   \n",
       "9               -0.15              -0.15            -0.15            0.00   \n",
       "\n",
       "    rank_test_score  \n",
       "6                 1  \n",
       "18                2  \n",
       "21                3  \n",
       "2                 4  \n",
       "9                 5  "
      ]
     },
     "execution_count": 9,
     "metadata": {},
     "output_type": "execute_result"
    }
   ],
   "source": [
    "random_search = RandomizedSearchCV(estimator = pipe,\n",
    "                                   param_distributions = grid, \n",
    "                                   n_iter = 25, \n",
    "                                   cv = 3, \n",
    "                                   scoring = 'neg_mean_absolute_percentage_error', \n",
    "                                   verbose = 0,\n",
    "                                   n_jobs = -1)\n",
    "\n",
    "modelo = random_search.fit(train_x,train_y)\n",
    "\n",
    "pd.DataFrame(random_search.cv_results_).sort_values(by = 'rank_test_score').head()"
   ]
  },
  {
   "attachments": {},
   "cell_type": "markdown",
   "id": "fd6f59ab",
   "metadata": {},
   "source": [
    "## EVALUAR"
   ]
  },
  {
   "attachments": {},
   "cell_type": "markdown",
   "id": "90ac986a",
   "metadata": {},
   "source": [
    "### Predecir sobre validación del Dataset de Trabajo"
   ]
  },
  {
   "cell_type": "code",
   "execution_count": 10,
   "id": "ca079478",
   "metadata": {},
   "outputs": [],
   "source": [
    "pred = modelo.best_estimator_.predict(val_x)"
   ]
  },
  {
   "attachments": {},
   "cell_type": "markdown",
   "id": "fe9fb9a1",
   "metadata": {},
   "source": [
    "### Evaluar sobre validación"
   ]
  },
  {
   "cell_type": "code",
   "execution_count": 11,
   "id": "f249d6b8",
   "metadata": {},
   "outputs": [
    {
     "data": {
      "text/plain": [
       "0.1351234995233938"
      ]
     },
     "execution_count": 11,
     "metadata": {},
     "output_type": "execute_result"
    }
   ],
   "source": [
    "mean_absolute_percentage_error(val_y, pred)\n"
   ]
  },
  {
   "attachments": {},
   "cell_type": "markdown",
   "id": "87d46a1d",
   "metadata": {},
   "source": [
    "### Examinar el mejor modelo"
   ]
  },
  {
   "cell_type": "code",
   "execution_count": 12,
   "id": "f32990c1",
   "metadata": {},
   "outputs": [
    {
     "data": {
      "text/html": [
       "<style>#sk-container-id-1 {color: black;background-color: white;}#sk-container-id-1 pre{padding: 0;}#sk-container-id-1 div.sk-toggleable {background-color: white;}#sk-container-id-1 label.sk-toggleable__label {cursor: pointer;display: block;width: 100%;margin-bottom: 0;padding: 0.3em;box-sizing: border-box;text-align: center;}#sk-container-id-1 label.sk-toggleable__label-arrow:before {content: \"▸\";float: left;margin-right: 0.25em;color: #696969;}#sk-container-id-1 label.sk-toggleable__label-arrow:hover:before {color: black;}#sk-container-id-1 div.sk-estimator:hover label.sk-toggleable__label-arrow:before {color: black;}#sk-container-id-1 div.sk-toggleable__content {max-height: 0;max-width: 0;overflow: hidden;text-align: left;background-color: #f0f8ff;}#sk-container-id-1 div.sk-toggleable__content pre {margin: 0.2em;color: black;border-radius: 0.25em;background-color: #f0f8ff;}#sk-container-id-1 input.sk-toggleable__control:checked~div.sk-toggleable__content {max-height: 200px;max-width: 100%;overflow: auto;}#sk-container-id-1 input.sk-toggleable__control:checked~label.sk-toggleable__label-arrow:before {content: \"▾\";}#sk-container-id-1 div.sk-estimator input.sk-toggleable__control:checked~label.sk-toggleable__label {background-color: #d4ebff;}#sk-container-id-1 div.sk-label input.sk-toggleable__control:checked~label.sk-toggleable__label {background-color: #d4ebff;}#sk-container-id-1 input.sk-hidden--visually {border: 0;clip: rect(1px 1px 1px 1px);clip: rect(1px, 1px, 1px, 1px);height: 1px;margin: -1px;overflow: hidden;padding: 0;position: absolute;width: 1px;}#sk-container-id-1 div.sk-estimator {font-family: monospace;background-color: #f0f8ff;border: 1px dotted black;border-radius: 0.25em;box-sizing: border-box;margin-bottom: 0.5em;}#sk-container-id-1 div.sk-estimator:hover {background-color: #d4ebff;}#sk-container-id-1 div.sk-parallel-item::after {content: \"\";width: 100%;border-bottom: 1px solid gray;flex-grow: 1;}#sk-container-id-1 div.sk-label:hover label.sk-toggleable__label {background-color: #d4ebff;}#sk-container-id-1 div.sk-serial::before {content: \"\";position: absolute;border-left: 1px solid gray;box-sizing: border-box;top: 0;bottom: 0;left: 50%;z-index: 0;}#sk-container-id-1 div.sk-serial {display: flex;flex-direction: column;align-items: center;background-color: white;padding-right: 0.2em;padding-left: 0.2em;position: relative;}#sk-container-id-1 div.sk-item {position: relative;z-index: 1;}#sk-container-id-1 div.sk-parallel {display: flex;align-items: stretch;justify-content: center;background-color: white;position: relative;}#sk-container-id-1 div.sk-item::before, #sk-container-id-1 div.sk-parallel-item::before {content: \"\";position: absolute;border-left: 1px solid gray;box-sizing: border-box;top: 0;bottom: 0;left: 50%;z-index: -1;}#sk-container-id-1 div.sk-parallel-item {display: flex;flex-direction: column;z-index: 1;position: relative;background-color: white;}#sk-container-id-1 div.sk-parallel-item:first-child::after {align-self: flex-end;width: 50%;}#sk-container-id-1 div.sk-parallel-item:last-child::after {align-self: flex-start;width: 50%;}#sk-container-id-1 div.sk-parallel-item:only-child::after {width: 0;}#sk-container-id-1 div.sk-dashed-wrapped {border: 1px dashed gray;margin: 0 0.4em 0.5em 0.4em;box-sizing: border-box;padding-bottom: 0.4em;background-color: white;}#sk-container-id-1 div.sk-label label {font-family: monospace;font-weight: bold;display: inline-block;line-height: 1.2em;}#sk-container-id-1 div.sk-label-container {text-align: center;}#sk-container-id-1 div.sk-container {/* jupyter's `normalize.less` sets `[hidden] { display: none; }` but bootstrap.min.css set `[hidden] { display: none !important; }` so we also need the `!important` here to be able to override the default hidden behavior on the sphinx rendered scikit-learn.org. See: https://github.com/scikit-learn/scikit-learn/issues/21755 */display: inline-block !important;position: relative;}#sk-container-id-1 div.sk-text-repr-fallback {display: none;}</style><div id=\"sk-container-id-1\" class=\"sk-top-container\"><div class=\"sk-text-repr-fallback\"><pre>Pipeline(steps=[(&#x27;algoritmo&#x27;,\n",
       "                 XGBRegressor(base_score=None, booster=None, callbacks=None,\n",
       "                              colsample_bylevel=None, colsample_bynode=None,\n",
       "                              colsample_bytree=None, early_stopping_rounds=None,\n",
       "                              enable_categorical=False, eval_metric=None,\n",
       "                              feature_types=None, gamma=None, gpu_id=None,\n",
       "                              grow_policy=None, importance_type=None,\n",
       "                              interaction_constraints=None, learning_rate=0.05,\n",
       "                              max_bin=None, max_cat_threshold=None,\n",
       "                              max_cat_to_onehot=None, max_delta_step=None,\n",
       "                              max_depth=5, max_leaves=None,\n",
       "                              min_child_weight=None, missing=nan,\n",
       "                              monotone_constraints=None, n_estimators=100,\n",
       "                              n_jobs=-1, num_parallel_tree=None, predictor=None,\n",
       "                              random_state=None, ...))])</pre><b>In a Jupyter environment, please rerun this cell to show the HTML representation or trust the notebook. <br />On GitHub, the HTML representation is unable to render, please try loading this page with nbviewer.org.</b></div><div class=\"sk-container\" hidden><div class=\"sk-item sk-dashed-wrapped\"><div class=\"sk-label-container\"><div class=\"sk-label sk-toggleable\"><input class=\"sk-toggleable__control sk-hidden--visually\" id=\"sk-estimator-id-1\" type=\"checkbox\" ><label for=\"sk-estimator-id-1\" class=\"sk-toggleable__label sk-toggleable__label-arrow\">Pipeline</label><div class=\"sk-toggleable__content\"><pre>Pipeline(steps=[(&#x27;algoritmo&#x27;,\n",
       "                 XGBRegressor(base_score=None, booster=None, callbacks=None,\n",
       "                              colsample_bylevel=None, colsample_bynode=None,\n",
       "                              colsample_bytree=None, early_stopping_rounds=None,\n",
       "                              enable_categorical=False, eval_metric=None,\n",
       "                              feature_types=None, gamma=None, gpu_id=None,\n",
       "                              grow_policy=None, importance_type=None,\n",
       "                              interaction_constraints=None, learning_rate=0.05,\n",
       "                              max_bin=None, max_cat_threshold=None,\n",
       "                              max_cat_to_onehot=None, max_delta_step=None,\n",
       "                              max_depth=5, max_leaves=None,\n",
       "                              min_child_weight=None, missing=nan,\n",
       "                              monotone_constraints=None, n_estimators=100,\n",
       "                              n_jobs=-1, num_parallel_tree=None, predictor=None,\n",
       "                              random_state=None, ...))])</pre></div></div></div><div class=\"sk-serial\"><div class=\"sk-item\"><div class=\"sk-estimator sk-toggleable\"><input class=\"sk-toggleable__control sk-hidden--visually\" id=\"sk-estimator-id-2\" type=\"checkbox\" ><label for=\"sk-estimator-id-2\" class=\"sk-toggleable__label sk-toggleable__label-arrow\">XGBRegressor</label><div class=\"sk-toggleable__content\"><pre>XGBRegressor(base_score=None, booster=None, callbacks=None,\n",
       "             colsample_bylevel=None, colsample_bynode=None,\n",
       "             colsample_bytree=None, early_stopping_rounds=None,\n",
       "             enable_categorical=False, eval_metric=None, feature_types=None,\n",
       "             gamma=None, gpu_id=None, grow_policy=None, importance_type=None,\n",
       "             interaction_constraints=None, learning_rate=0.05, max_bin=None,\n",
       "             max_cat_threshold=None, max_cat_to_onehot=None,\n",
       "             max_delta_step=None, max_depth=5, max_leaves=None,\n",
       "             min_child_weight=None, missing=nan, monotone_constraints=None,\n",
       "             n_estimators=100, n_jobs=-1, num_parallel_tree=None,\n",
       "             predictor=None, random_state=None, ...)</pre></div></div></div></div></div></div></div>"
      ],
      "text/plain": [
       "Pipeline(steps=[('algoritmo',\n",
       "                 XGBRegressor(base_score=None, booster=None, callbacks=None,\n",
       "                              colsample_bylevel=None, colsample_bynode=None,\n",
       "                              colsample_bytree=None, early_stopping_rounds=None,\n",
       "                              enable_categorical=False, eval_metric=None,\n",
       "                              feature_types=None, gamma=None, gpu_id=None,\n",
       "                              grow_policy=None, importance_type=None,\n",
       "                              interaction_constraints=None, learning_rate=0.05,\n",
       "                              max_bin=None, max_cat_threshold=None,\n",
       "                              max_cat_to_onehot=None, max_delta_step=None,\n",
       "                              max_depth=5, max_leaves=None,\n",
       "                              min_child_weight=None, missing=nan,\n",
       "                              monotone_constraints=None, n_estimators=100,\n",
       "                              n_jobs=-1, num_parallel_tree=None, predictor=None,\n",
       "                              random_state=None, ...))])"
      ]
     },
     "execution_count": 12,
     "metadata": {},
     "output_type": "execute_result"
    }
   ],
   "source": [
    "modelo.best_estimator_"
   ]
  },
  {
   "attachments": {},
   "cell_type": "markdown",
   "id": "325897c3",
   "metadata": {},
   "source": [
    "## EJECUCIÓN DEL MODELO DE PRODUCCIÓN CON EL DATASET DE VALIDACIÓN"
   ]
  },
  {
   "attachments": {},
   "cell_type": "markdown",
   "id": "005059ef",
   "metadata": {},
   "source": [
    "Cargamos JSON.DATA"
   ]
  },
  {
   "cell_type": "code",
   "execution_count": 13,
   "id": "d9113454",
   "metadata": {},
   "outputs": [],
   "source": [
    "# Obtener la ruta del directorio raíz\n",
    "directorio_raiz = os.getcwd()\n",
    "\n",
    "# Nombre del archivo JSON\n",
    "nombre_archivo = \"data.json\"\n",
    "\n",
    "# Ruta completa del archivo JSON\n",
    "ruta_archivo = os.path.join(directorio_raiz, nombre_archivo)\n",
    "\n",
    "# Abrir el archivo en modo lectura\n",
    "with open(ruta_archivo, \"r\") as archivo:\n",
    "    # Cargar el contenido del archivo JSON\n",
    "    data = json.load(archivo)"
   ]
  },
  {
   "attachments": {},
   "cell_type": "markdown",
   "id": "2cfc0ab9",
   "metadata": {},
   "source": [
    "Sustituir la ruta del proyecto."
   ]
  },
  {
   "cell_type": "code",
   "execution_count": 14,
   "id": "8922891b",
   "metadata": {},
   "outputs": [],
   "source": [
    "ruta_proyecto = data['ruta_proyecto']"
   ]
  },
  {
   "attachments": {},
   "cell_type": "markdown",
   "id": "ea7fe85b",
   "metadata": {},
   "source": [
    "Cargar el dataset de validación"
   ]
  },
  {
   "cell_type": "code",
   "execution_count": 15,
   "id": "2abaac0e",
   "metadata": {},
   "outputs": [
    {
     "data": {
      "text/html": [
       "<div>\n",
       "<style scoped>\n",
       "    .dataframe tbody tr th:only-of-type {\n",
       "        vertical-align: middle;\n",
       "    }\n",
       "\n",
       "    .dataframe tbody tr th {\n",
       "        vertical-align: top;\n",
       "    }\n",
       "\n",
       "    .dataframe thead th {\n",
       "        text-align: right;\n",
       "    }\n",
       "</style>\n",
       "<table border=\"1\" class=\"dataframe\">\n",
       "  <thead>\n",
       "    <tr style=\"text-align: right;\">\n",
       "      <th></th>\n",
       "      <th>Unnamed: 0</th>\n",
       "      <th>Sex</th>\n",
       "      <th>Length</th>\n",
       "      <th>Diameter</th>\n",
       "      <th>Height</th>\n",
       "      <th>Whole weight</th>\n",
       "      <th>Shucked weight</th>\n",
       "      <th>Viscera weight</th>\n",
       "      <th>Shell weight</th>\n",
       "      <th>Rings</th>\n",
       "    </tr>\n",
       "  </thead>\n",
       "  <tbody>\n",
       "    <tr>\n",
       "      <th>0</th>\n",
       "      <td>2146</td>\n",
       "      <td>M</td>\n",
       "      <td>0.47</td>\n",
       "      <td>0.35</td>\n",
       "      <td>0.12</td>\n",
       "      <td>0.52</td>\n",
       "      <td>0.20</td>\n",
       "      <td>0.16</td>\n",
       "      <td>0.18</td>\n",
       "      <td>11</td>\n",
       "    </tr>\n",
       "    <tr>\n",
       "      <th>1</th>\n",
       "      <td>1569</td>\n",
       "      <td>I</td>\n",
       "      <td>0.47</td>\n",
       "      <td>0.36</td>\n",
       "      <td>0.14</td>\n",
       "      <td>0.63</td>\n",
       "      <td>0.28</td>\n",
       "      <td>0.14</td>\n",
       "      <td>0.19</td>\n",
       "      <td>8</td>\n",
       "    </tr>\n",
       "    <tr>\n",
       "      <th>2</th>\n",
       "      <td>3280</td>\n",
       "      <td>M</td>\n",
       "      <td>0.69</td>\n",
       "      <td>0.54</td>\n",
       "      <td>0.18</td>\n",
       "      <td>1.62</td>\n",
       "      <td>0.53</td>\n",
       "      <td>0.35</td>\n",
       "      <td>0.56</td>\n",
       "      <td>24</td>\n",
       "    </tr>\n",
       "    <tr>\n",
       "      <th>3</th>\n",
       "      <td>3680</td>\n",
       "      <td>F</td>\n",
       "      <td>0.61</td>\n",
       "      <td>0.49</td>\n",
       "      <td>0.17</td>\n",
       "      <td>1.08</td>\n",
       "      <td>0.45</td>\n",
       "      <td>0.27</td>\n",
       "      <td>0.32</td>\n",
       "      <td>9</td>\n",
       "    </tr>\n",
       "    <tr>\n",
       "      <th>4</th>\n",
       "      <td>515</td>\n",
       "      <td>M</td>\n",
       "      <td>0.27</td>\n",
       "      <td>0.20</td>\n",
       "      <td>0.08</td>\n",
       "      <td>0.10</td>\n",
       "      <td>0.04</td>\n",
       "      <td>0.02</td>\n",
       "      <td>0.03</td>\n",
       "      <td>6</td>\n",
       "    </tr>\n",
       "  </tbody>\n",
       "</table>\n",
       "</div>"
      ],
      "text/plain": [
       "   Unnamed: 0 Sex  Length  Diameter  Height  Whole weight  Shucked weight  \\\n",
       "0        2146   M    0.47      0.35    0.12          0.52            0.20   \n",
       "1        1569   I    0.47      0.36    0.14          0.63            0.28   \n",
       "2        3280   M    0.69      0.54    0.18          1.62            0.53   \n",
       "3        3680   F    0.61      0.49    0.17          1.08            0.45   \n",
       "4         515   M    0.27      0.20    0.08          0.10            0.04   \n",
       "\n",
       "   Viscera weight  Shell weight  Rings  \n",
       "0            0.16          0.18     11  \n",
       "1            0.14          0.19      8  \n",
       "2            0.35          0.56     24  \n",
       "3            0.27          0.32      9  \n",
       "4            0.02          0.03      6  "
      ]
     },
     "execution_count": 15,
     "metadata": {},
     "output_type": "execute_result"
    }
   ],
   "source": [
    "df = pd.read_csv(ruta_proyecto + '/02_Datos/02_Validacion/' + data['nombre_fichero_validacion'])\n",
    "df.head()"
   ]
  },
  {
   "attachments": {},
   "cell_type": "markdown",
   "id": "61b83dae",
   "metadata": {},
   "source": [
    "## Calidad de Datos"
   ]
  },
  {
   "cell_type": "code",
   "execution_count": 16,
   "id": "925ee5aa",
   "metadata": {},
   "outputs": [],
   "source": [
    "#Eliminamos Unnamed:0 (index)\n",
    "df.drop(columns= 'Unnamed: 0',inplace= True)\n",
    "\n",
    "#Renombramos las columnas\n",
    "df = clean_names(df)\n",
    "\n",
    "#Creamos la target\n",
    "df['age'] = df.rings + 1.5\n",
    "\n",
    "#Gestionamos atípicos\n",
    "\n",
    "num_desv_tip = 4\n",
    "\n",
    "def atipicos_desv_tip(variable, num_desv_tip = 4):\n",
    "    #sacamos los nulos por ahora\n",
    "    variable = variable.dropna()\n",
    "    #calculamos los límites\n",
    "    media = np.mean(variable)\n",
    "    sd = np.std(variable)\n",
    "    umbral = sd * num_desv_tip\n",
    "    lim_inf = media - umbral\n",
    "    lim_sup = media + umbral\n",
    "    #encontramos los índices de los que están fuera de los límites\n",
    "    indices = [indice for indice,valor in variable.items() if valor < lim_inf or valor > lim_sup]\n",
    "    return(indices)\n",
    "\n",
    "var_atipicos_dt = [ 'height',\n",
    "                    'whole_weight',\n",
    "                    'shucked_weight',\n",
    "                    'viscera_weight',\n",
    "                    'shell_weight',\n",
    "                    'rings']\n",
    "\n",
    "for variable in var_atipicos_dt:\n",
    "    df.drop(atipicos_desv_tip(df[variable], num_desv_tip),axis = 0, inplace = True)\n"
   ]
  },
  {
   "attachments": {},
   "cell_type": "markdown",
   "id": "1d475fd8",
   "metadata": {},
   "source": [
    "## Transformación de Datos"
   ]
  },
  {
   "cell_type": "code",
   "execution_count": 17,
   "id": "b47e3bc2",
   "metadata": {},
   "outputs": [],
   "source": [
    "var_ohe = ['sex']\n",
    "ohe = OneHotEncoder(sparse_output= False, handle_unknown='ignore')\n",
    "cat_ohe = ohe.fit_transform(df[var_ohe])\n",
    "cat_ohe = ohe.fit_transform(df[var_ohe])\n",
    "cat_ohe = pd.DataFrame(cat_ohe, columns = ohe.get_feature_names_out())\n",
    "df = pd.concat([df,cat_ohe], axis=1)"
   ]
  },
  {
   "cell_type": "code",
   "execution_count": 18,
   "id": "699e3948",
   "metadata": {},
   "outputs": [],
   "source": [
    "#Eliminamos nulos\n",
    "df.dropna(inplace=True)"
   ]
  },
  {
   "attachments": {},
   "cell_type": "markdown",
   "id": "4b061163",
   "metadata": {},
   "source": [
    "### Preselección de variables"
   ]
  },
  {
   "cell_type": "code",
   "execution_count": 19,
   "id": "e50f3662",
   "metadata": {},
   "outputs": [],
   "source": [
    "# Preparamos X y Y\n",
    "x = df.drop(columns = ['age','rings']).copy()\n",
    "y =  df['age'].copy()"
   ]
  },
  {
   "attachments": {},
   "cell_type": "markdown",
   "id": "4a6e728a",
   "metadata": {},
   "source": [
    "Variables predictivas = ['shell_weight', 'height', 'length', 'sex_I']"
   ]
  },
  {
   "cell_type": "code",
   "execution_count": 20,
   "id": "22222a5e",
   "metadata": {},
   "outputs": [
    {
     "name": "stdout",
     "output_type": "stream",
     "text": [
      "['sex', 'length', 'diameter', 'height', 'whole_weight', 'shucked_weight', 'viscera_weight', 'shell_weight', 'sex_F', 'sex_I', 'sex_M']\n"
     ]
    }
   ],
   "source": [
    "print(x.columns.to_list())"
   ]
  },
  {
   "cell_type": "code",
   "execution_count": 21,
   "id": "36a2db67",
   "metadata": {},
   "outputs": [
    {
     "data": {
      "text/plain": [
       "['length', 'height', 'shell_weight', 'sex_I']"
      ]
     },
     "execution_count": 21,
     "metadata": {},
     "output_type": "execute_result"
    }
   ],
   "source": [
    "# Dejamos solo las variables predictivas\n",
    "a_eliminar_corr = [ 'sex',\n",
    "                    'diameter',\n",
    "                    'whole_weight',\n",
    "                    'viscera_weight',\n",
    "                    'shucked_weight',\n",
    "                    'sex_F',\n",
    "                    'sex_M']\n",
    "\n",
    "x.drop(columns = a_eliminar_corr, inplace = True)\n",
    "x.columns.to_list()"
   ]
  },
  {
   "cell_type": "code",
   "execution_count": 22,
   "id": "18c54a15",
   "metadata": {},
   "outputs": [],
   "source": [
    "# Ordenar las columnas en el orden deseado\n",
    "column_order = ['shell_weight', 'height', 'length', 'sex_I']\n",
    "x = x.reindex(columns=column_order)"
   ]
  },
  {
   "attachments": {},
   "cell_type": "markdown",
   "id": "05d3447e",
   "metadata": {},
   "source": [
    "## EVALUAR"
   ]
  },
  {
   "attachments": {},
   "cell_type": "markdown",
   "id": "0206bec3",
   "metadata": {},
   "source": [
    "### Predecir sobre validación del Dataset de Trabajo"
   ]
  },
  {
   "cell_type": "code",
   "execution_count": 23,
   "id": "bdff7acf",
   "metadata": {},
   "outputs": [],
   "source": [
    "pred = modelo.best_estimator_.predict(x)"
   ]
  },
  {
   "attachments": {},
   "cell_type": "markdown",
   "id": "89ff1b3a",
   "metadata": {},
   "source": [
    "### Evaluar sobre validación"
   ]
  },
  {
   "cell_type": "code",
   "execution_count": 24,
   "id": "d3c86157",
   "metadata": {},
   "outputs": [
    {
     "data": {
      "text/plain": [
       "0.1477574556224185"
      ]
     },
     "execution_count": 24,
     "metadata": {},
     "output_type": "execute_result"
    }
   ],
   "source": [
    "mean_absolute_percentage_error(y, pred)\n"
   ]
  },
  {
   "attachments": {},
   "cell_type": "markdown",
   "id": "5e278c73",
   "metadata": {},
   "source": [
    "## Gráficios de validación modelos de regresión"
   ]
  },
  {
   "attachments": {},
   "cell_type": "markdown",
   "id": "6dbe7823",
   "metadata": {},
   "source": [
    "1. Gráfico de dispersión de valores reales vs. valores predichos: "
   ]
  },
  {
   "attachments": {},
   "cell_type": "markdown",
   "id": "ad2490b0",
   "metadata": {},
   "source": [
    "Este gráfico muestra los puntos de datos observados en un diagrama de dispersión, y superpone la línea de regresión que representa la relación lineal ajustada por el modelo. Puedes utilizar este gráfico para evaluar visualmente cómo se ajusta la línea de regresión a los datos observados."
   ]
  },
  {
   "cell_type": "code",
   "execution_count": 26,
   "id": "049f623e",
   "metadata": {},
   "outputs": [
    {
     "data": {
      "image/png": "[encoded data removed]",
      "text/plain": [
       "<Figure size 640x480 with 1 Axes>"
      ]
     },
     "metadata": {},
     "output_type": "display_data"
    }
   ],
   "source": [
    "import matplotlib.pyplot as plt\n",
    "\n",
    "import matplotlib.pyplot as plt\n",
    "\n",
    "# y = target: Valores reales\n",
    "# pred - predicción: Valores predichos por el modelo\n",
    "\n",
    "plt.scatter(y, pred)\n",
    "plt.plot([min(y), max(y)], [min(y), max(y)], color='red')  # Línea diagonal\n",
    "plt.xlabel('Valores Reales')\n",
    "plt.ylabel('Valores Predichos')\n",
    "plt.title('Gráfico de dispersión de valores reales vs. valores predichos')\n",
    "plt.show()\n"
   ]
  },
  {
   "attachments": {},
   "cell_type": "markdown",
   "id": "dd52195c",
   "metadata": {},
   "source": [
    "2. Gráfico de residuos vs. valores predichos: \n"
   ]
  },
  {
   "attachments": {},
   "cell_type": "markdown",
   "id": "614756e3",
   "metadata": {},
   "source": [
    "Un gráfico de residuos muestra los residuos (diferencias entre los valores observados y los valores predichos por el modelo) en función de los valores ajustados o las variables independientes. Este gráfico puede ayudarte a verificar si los residuos tienen algún patrón sistemático, como una relación no lineal o una heterocedasticidad."
   ]
  },
  {
   "cell_type": "code",
   "execution_count": 28,
   "id": "c702d9ae",
   "metadata": {},
   "outputs": [
    {
     "data": {
      "image/png": "[encoded data removed]",
      "text/plain": [
       "<Figure size 640x480 with 1 Axes>"
      ]
     },
     "metadata": {},
     "output_type": "display_data"
    }
   ],
   "source": [
    "residuos = y - pred\n",
    "\n",
    "plt.scatter(pred, residuos)\n",
    "plt.axhline(y=0, color='red')  # Línea horizontal en cero\n",
    "plt.xlabel('Valores Predichos')\n",
    "plt.ylabel('Residuos')\n",
    "plt.title('Gráfico de residuos vs. valores predichos')\n",
    "plt.show()\n"
   ]
  },
  {
   "attachments": {},
   "cell_type": "markdown",
   "id": "4243909a",
   "metadata": {},
   "source": [
    "3. Histograma de residuos:"
   ]
  },
  {
   "attachments": {},
   "cell_type": "markdown",
   "id": "bff8e1c5",
   "metadata": {},
   "source": [
    " Este gráfico muestra la distribución de los residuos del modelo. Puedes utilizar un histograma o un gráfico de densidad para visualizar cómo se distribuyen los residuos y verificar si siguen una distribución aproximadamente normal."
   ]
  },
  {
   "cell_type": "code",
   "execution_count": 29,
   "id": "a35926e5",
   "metadata": {},
   "outputs": [
    {
     "data": {
      "image/png": "[encoded data removed]",
      "text/plain": [
       "<Figure size 640x480 with 1 Axes>"
      ]
     },
     "metadata": {},
     "output_type": "display_data"
    }
   ],
   "source": [
    "plt.hist(residuos, bins=30)\n",
    "plt.xlabel('Residuos')\n",
    "plt.ylabel('Frecuencia')\n",
    "plt.title('Histograma de residuos')\n",
    "plt.show()"
   ]
  },
  {
   "attachments": {},
   "cell_type": "markdown",
   "id": "8ac7071c",
   "metadata": {},
   "source": [
    "4. Gráfico de Q-Q (cuantil-cuantil):"
   ]
  },
  {
   "attachments": {},
   "cell_type": "markdown",
   "id": "b8f02b8b",
   "metadata": {},
   "source": [
    "Este gráfico compara los cuantiles de los residuos con los cuantiles esperados de una distribución normal. Puede ayudarte a evaluar si los residuos siguen una distribución normal."
   ]
  },
  {
   "cell_type": "code",
   "execution_count": 36,
   "id": "f892d00e",
   "metadata": {},
   "outputs": [
    {
     "data": {
      "image/png": "[encoded data removed]",
      "text/plain": [
       "<Figure size 640x480 with 1 Axes>"
      ]
     },
     "metadata": {},
     "output_type": "display_data"
    }
   ],
   "source": [
    "import scipy.stats as stats\n",
    "\n",
    "stats.probplot(residuos, dist=\"norm\", plot=plt)\n",
    "plt.xlabel('Cuantiles Teóricos')\n",
    "plt.ylabel('Cuantiles de los Residuos')\n",
    "plt.show()\n"
   ]
  },
  {
   "attachments": {},
   "cell_type": "markdown",
   "id": "9b4c709a",
   "metadata": {},
   "source": [
    "5. Gráfico de influencia:"
   ]
  },
  {
   "attachments": {},
   "cell_type": "markdown",
   "id": "d3870bce",
   "metadata": {},
   "source": [
    "Un gráfico de influencia muestra la influencia de cada observación en el ajuste del modelo. Puede ayudarte a identificar puntos atípicos o valores influyentes que pueden tener un impacto significativo en los resultados de la regresión."
   ]
  },
  {
   "cell_type": "code",
   "execution_count": 39,
   "id": "74bbf677",
   "metadata": {},
   "outputs": [
    {
     "data": {
      "image/png": "[encoded data removed]",
      "text/plain": [
       "<Figure size 640x480 with 1 Axes>"
      ]
     },
     "metadata": {},
     "output_type": "display_data"
    }
   ],
   "source": [
    "import statsmodels.api as sm\n",
    "\n",
    "infl = sm.OLS(y, sm.add_constant(pred)).fit().get_influence()\n",
    "residuos_estudentizados = infl.resid_studentized_external\n",
    "\n",
    "plt.scatter(pred, residuos_estudentizados)\n",
    "plt.axhline(y=0, color='r', linestyle='-', label='Residuos Estudentizados = 0')\n",
    "plt.xlabel('Valores Ajustados')\n",
    "plt.ylabel('Residuos Estudentizados')\n",
    "plt.legend()\n",
    "plt.show()"
   ]
  }
 ],
 "metadata": {
  "kernelspec": {
   "display_name": "Python 3 (ipykernel)",
   "language": "python",
   "name": "python3"
  },
  "language_info": {
   "codemirror_mode": {
    "name": "ipython",
    "version": 3
   },
   "file_extension": ".py",
   "mimetype": "text/x-python",
   "name": "python",
   "nbconvert_exporter": "python",
   "pygments_lexer": "ipython3",
   "version": "3.11.3"
  },
  "toc": {
   "base_numbering": 1,
   "nav_menu": {},
   "number_sections": true,
   "sideBar": true,
   "skip_h1_title": false,
   "title_cell": "Table of Contents",
   "title_sidebar": "Contents",
   "toc_cell": false,
   "toc_position": {
    "height": "calc(100% - 180px)",
    "left": "10px",
    "top": "150px",
    "width": "253.95px"
   },
   "toc_section_display": true,
   "toc_window_display": true
  },
  "varInspector": {
   "cols": {
    "lenName": 16,
    "lenType": 16,
    "lenVar": 40
   },
   "kernels_config": {
    "python": {
     "delete_cmd_postfix": "",
     "delete_cmd_prefix": "del ",
     "library": "var_list.py",
     "varRefreshCmd": "print(var_dic_list())"
    },
    "r": {
     "delete_cmd_postfix": ") ",
     "delete_cmd_prefix": "rm(",
     "library": "var_list.r",
     "varRefreshCmd": "cat(var_dic_list()) "
    }
   },
   "position": {
    "height": "546.85px",
    "left": "1531.75px",
    "right": "20px",
    "top": "115px",
    "width": "350px"
   },
   "types_to_exclude": [
    "module",
    "function",
    "builtin_function_or_method",
    "instance",
    "_Feature"
   ],
   "window_display": false
  }
 },
 "nbformat": 4,
 "nbformat_minor": 5
}
