{
 "cells": [
  {
   "attachments": {},
   "cell_type": "markdown",
   "metadata": {},
   "source": [
    "# PRESELECCIÓN DE VARIABLES"
   ]
  },
  {
   "attachments": {},
   "cell_type": "markdown",
   "metadata": {},
   "source": [
    "## IMPORTACIÓN DE PAQUETES"
   ]
  },
  {
   "cell_type": "code",
   "execution_count": 1,
   "metadata": {},
   "outputs": [],
   "source": [
    "import numpy as np \n",
    "import pandas as pd\n",
    "import matplotlib.pyplot as plt\n",
    "%matplotlib inline\n",
    "from sklearn.feature_selection import mutual_info_regression\n",
    "from sklearn.feature_selection import RFECV\n",
    "from xgboost import XGBRegressor\n",
    "from sklearn.inspection import permutation_importance"
   ]
  },
  {
   "attachments": {},
   "cell_type": "markdown",
   "metadata": {},
   "source": [
    "## IMPORTAR LOS DATOS"
   ]
  },
  {
   "attachments": {},
   "cell_type": "markdown",
   "metadata": {},
   "source": [
    "### Cargar los datos"
   ]
  },
  {
   "cell_type": "code",
   "execution_count": 2,
   "metadata": {},
   "outputs": [
    {
     "data": {
      "text/html": [
       "<div>\n",
       "<style scoped>\n",
       "    .dataframe tbody tr th:only-of-type {\n",
       "        vertical-align: middle;\n",
       "    }\n",
       "\n",
       "    .dataframe tbody tr th {\n",
       "        vertical-align: top;\n",
       "    }\n",
       "\n",
       "    .dataframe thead th {\n",
       "        text-align: right;\n",
       "    }\n",
       "</style>\n",
       "<table border=\"1\" class=\"dataframe\">\n",
       "  <thead>\n",
       "    <tr style=\"text-align: right;\">\n",
       "      <th></th>\n",
       "      <th>year_2012</th>\n",
       "      <th>year_2013</th>\n",
       "      <th>mes_1</th>\n",
       "      <th>mes_2</th>\n",
       "      <th>mes_3</th>\n",
       "      <th>mes_4</th>\n",
       "      <th>mes_5</th>\n",
       "      <th>mes_6</th>\n",
       "      <th>mes_7</th>\n",
       "      <th>mes_8</th>\n",
       "      <th>...</th>\n",
       "      <th>mes_11</th>\n",
       "      <th>mes_12</th>\n",
       "      <th>year_te_mms</th>\n",
       "      <th>mes_te_mms</th>\n",
       "      <th>age_mms</th>\n",
       "      <th>distance_station_mms</th>\n",
       "      <th>stores_mms</th>\n",
       "      <th>latitude_mms</th>\n",
       "      <th>longitude_mms</th>\n",
       "      <th>price</th>\n",
       "    </tr>\n",
       "  </thead>\n",
       "  <tbody>\n",
       "    <tr>\n",
       "      <th>0</th>\n",
       "      <td>1.0</td>\n",
       "      <td>0.0</td>\n",
       "      <td>0.0</td>\n",
       "      <td>0.0</td>\n",
       "      <td>0.0</td>\n",
       "      <td>0.0</td>\n",
       "      <td>0.0</td>\n",
       "      <td>0.0</td>\n",
       "      <td>0.0</td>\n",
       "      <td>0.0</td>\n",
       "      <td>...</td>\n",
       "      <td>0.0</td>\n",
       "      <td>1.0</td>\n",
       "      <td>0.0</td>\n",
       "      <td>0.078202</td>\n",
       "      <td>0.749415</td>\n",
       "      <td>0.005549</td>\n",
       "      <td>1.0</td>\n",
       "      <td>0.616941</td>\n",
       "      <td>0.714301</td>\n",
       "      <td>37.9</td>\n",
       "    </tr>\n",
       "    <tr>\n",
       "      <th>1</th>\n",
       "      <td>1.0</td>\n",
       "      <td>0.0</td>\n",
       "      <td>0.0</td>\n",
       "      <td>0.0</td>\n",
       "      <td>0.0</td>\n",
       "      <td>0.0</td>\n",
       "      <td>0.0</td>\n",
       "      <td>0.0</td>\n",
       "      <td>0.0</td>\n",
       "      <td>0.0</td>\n",
       "      <td>...</td>\n",
       "      <td>0.0</td>\n",
       "      <td>1.0</td>\n",
       "      <td>0.0</td>\n",
       "      <td>0.078202</td>\n",
       "      <td>0.456674</td>\n",
       "      <td>0.040484</td>\n",
       "      <td>0.9</td>\n",
       "      <td>0.584949</td>\n",
       "      <td>0.706289</td>\n",
       "      <td>42.2</td>\n",
       "    </tr>\n",
       "    <tr>\n",
       "      <th>2</th>\n",
       "      <td>0.0</td>\n",
       "      <td>1.0</td>\n",
       "      <td>0.0</td>\n",
       "      <td>0.0</td>\n",
       "      <td>0.0</td>\n",
       "      <td>0.0</td>\n",
       "      <td>0.0</td>\n",
       "      <td>0.0</td>\n",
       "      <td>0.0</td>\n",
       "      <td>1.0</td>\n",
       "      <td>...</td>\n",
       "      <td>0.0</td>\n",
       "      <td>0.0</td>\n",
       "      <td>1.0</td>\n",
       "      <td>0.319701</td>\n",
       "      <td>0.311475</td>\n",
       "      <td>0.080724</td>\n",
       "      <td>0.5</td>\n",
       "      <td>0.671231</td>\n",
       "      <td>0.754582</td>\n",
       "      <td>47.3</td>\n",
       "    </tr>\n",
       "    <tr>\n",
       "      <th>3</th>\n",
       "      <td>0.0</td>\n",
       "      <td>1.0</td>\n",
       "      <td>0.0</td>\n",
       "      <td>0.0</td>\n",
       "      <td>0.0</td>\n",
       "      <td>0.0</td>\n",
       "      <td>0.0</td>\n",
       "      <td>0.0</td>\n",
       "      <td>1.0</td>\n",
       "      <td>0.0</td>\n",
       "      <td>...</td>\n",
       "      <td>0.0</td>\n",
       "      <td>0.0</td>\n",
       "      <td>1.0</td>\n",
       "      <td>0.140970</td>\n",
       "      <td>0.311475</td>\n",
       "      <td>0.080724</td>\n",
       "      <td>0.5</td>\n",
       "      <td>0.671231</td>\n",
       "      <td>0.754582</td>\n",
       "      <td>54.8</td>\n",
       "    </tr>\n",
       "    <tr>\n",
       "      <th>4</th>\n",
       "      <td>0.0</td>\n",
       "      <td>1.0</td>\n",
       "      <td>0.0</td>\n",
       "      <td>0.0</td>\n",
       "      <td>0.0</td>\n",
       "      <td>0.0</td>\n",
       "      <td>0.0</td>\n",
       "      <td>1.0</td>\n",
       "      <td>0.0</td>\n",
       "      <td>0.0</td>\n",
       "      <td>...</td>\n",
       "      <td>0.0</td>\n",
       "      <td>0.0</td>\n",
       "      <td>1.0</td>\n",
       "      <td>0.513659</td>\n",
       "      <td>0.475410</td>\n",
       "      <td>0.037491</td>\n",
       "      <td>0.6</td>\n",
       "      <td>0.585919</td>\n",
       "      <td>0.736692</td>\n",
       "      <td>46.7</td>\n",
       "    </tr>\n",
       "  </tbody>\n",
       "</table>\n",
       "<p>5 rows × 22 columns</p>\n",
       "</div>"
      ],
      "text/plain": [
       "   year_2012  year_2013  mes_1  mes_2  mes_3  mes_4  mes_5  mes_6  mes_7  \\\n",
       "0        1.0        0.0    0.0    0.0    0.0    0.0    0.0    0.0    0.0   \n",
       "1        1.0        0.0    0.0    0.0    0.0    0.0    0.0    0.0    0.0   \n",
       "2        0.0        1.0    0.0    0.0    0.0    0.0    0.0    0.0    0.0   \n",
       "3        0.0        1.0    0.0    0.0    0.0    0.0    0.0    0.0    1.0   \n",
       "4        0.0        1.0    0.0    0.0    0.0    0.0    0.0    1.0    0.0   \n",
       "\n",
       "   mes_8  ...  mes_11  mes_12  year_te_mms  mes_te_mms   age_mms  \\\n",
       "0    0.0  ...     0.0     1.0          0.0    0.078202  0.749415   \n",
       "1    0.0  ...     0.0     1.0          0.0    0.078202  0.456674   \n",
       "2    1.0  ...     0.0     0.0          1.0    0.319701  0.311475   \n",
       "3    0.0  ...     0.0     0.0          1.0    0.140970  0.311475   \n",
       "4    0.0  ...     0.0     0.0          1.0    0.513659  0.475410   \n",
       "\n",
       "   distance_station_mms  stores_mms  latitude_mms  longitude_mms  price  \n",
       "0              0.005549         1.0      0.616941       0.714301   37.9  \n",
       "1              0.040484         0.9      0.584949       0.706289   42.2  \n",
       "2              0.080724         0.5      0.671231       0.754582   47.3  \n",
       "3              0.080724         0.5      0.671231       0.754582   54.8  \n",
       "4              0.037491         0.6      0.585919       0.736692   46.7  \n",
       "\n",
       "[5 rows x 22 columns]"
      ]
     },
     "execution_count": 2,
     "metadata": {},
     "output_type": "execute_result"
    }
   ],
   "source": [
    "df = pd.read_pickle('../../02_Datos/03_Trabajo/df_tablon.pickle')\n",
    "df.head()"
   ]
  },
  {
   "attachments": {},
   "cell_type": "markdown",
   "metadata": {},
   "source": [
    "### Separar predictoras y target"
   ]
  },
  {
   "cell_type": "code",
   "execution_count": 3,
   "metadata": {},
   "outputs": [],
   "source": [
    "x = df.drop(columns= 'price').copy()\n",
    "y = df.price.copy()"
   ]
  },
  {
   "attachments": {},
   "cell_type": "markdown",
   "metadata": {},
   "source": [
    "## MÉTODOS SUPERVISADOS"
   ]
  },
  {
   "attachments": {},
   "cell_type": "markdown",
   "metadata": {},
   "source": [
    "### MUTUAL INFORMATION"
   ]
  },
  {
   "attachments": {},
   "cell_type": "markdown",
   "metadata": {},
   "source": [
    "#### Crear función para mostrar resultado"
   ]
  },
  {
   "cell_type": "code",
   "execution_count": 4,
   "metadata": {},
   "outputs": [],
   "source": [
    "def ranking_mi(mutual_selector, modo = 'tabla'):\n",
    "    #Maqueta el ranking\n",
    "    ranking_mi = pd.DataFrame(mutual_selector, index= x.columns).reset_index()\n",
    "    ranking_mi.columns = ['variable','importancia_mi']\n",
    "    ranking_mi = ranking_mi.sort_values(by = 'importancia_mi', ascending= False)\n",
    "    ranking_mi['ranking_mi'] = np.arange(0,ranking_mi.shape[0])\n",
    "    #Muestra la salida\n",
    "    if modo == 'tabla':\n",
    "        return (ranking_mi)\n",
    "    else:\n",
    "        g = ranking_mi.importancia_mi.sort_values().plot.barh(figsize = (12,10))\n",
    "        g.set_yticklabels(ranking_mi.sort_values(by = 'importancia_mi').variable, fontsize= 8)\n",
    "        return(g)"
   ]
  },
  {
   "attachments": {},
   "cell_type": "markdown",
   "metadata": {},
   "source": [
    "#### Calcular y revisar"
   ]
  },
  {
   "cell_type": "code",
   "execution_count": 5,
   "metadata": {},
   "outputs": [
    {
     "data": {
      "image/png": "[encoded data removed]",
      "text/plain": [
       "<Figure size 1200x1000 with 1 Axes>"
      ]
     },
     "metadata": {},
     "output_type": "display_data"
    }
   ],
   "source": [
    "mutual_selector = mutual_info_regression(x,y)\n",
    "rank_mi = ranking_mi(mutual_selector, modo = 'grafico')"
   ]
  },
  {
   "attachments": {},
   "cell_type": "markdown",
   "metadata": {},
   "source": [
    "#### Seleccionar las variables que pasan"
   ]
  },
  {
   "attachments": {},
   "cell_type": "markdown",
   "metadata": {},
   "source": [
    "##### Definir la posición de la última variable que va a entrar"
   ]
  },
  {
   "cell_type": "code",
   "execution_count": 6,
   "metadata": {},
   "outputs": [],
   "source": [
    "posicion_variable_limite = 6"
   ]
  },
  {
   "attachments": {},
   "cell_type": "markdown",
   "metadata": {},
   "source": [
    "##### Extrar los nombres de las que entran"
   ]
  },
  {
   "cell_type": "code",
   "execution_count": 7,
   "metadata": {},
   "outputs": [
    {
     "data": {
      "text/html": [
       "<div>\n",
       "<style scoped>\n",
       "    .dataframe tbody tr th:only-of-type {\n",
       "        vertical-align: middle;\n",
       "    }\n",
       "\n",
       "    .dataframe tbody tr th {\n",
       "        vertical-align: top;\n",
       "    }\n",
       "\n",
       "    .dataframe thead th {\n",
       "        text-align: right;\n",
       "    }\n",
       "</style>\n",
       "<table border=\"1\" class=\"dataframe\">\n",
       "  <thead>\n",
       "    <tr style=\"text-align: right;\">\n",
       "      <th></th>\n",
       "      <th>variable</th>\n",
       "      <th>importancia_mi</th>\n",
       "      <th>ranking_mi</th>\n",
       "    </tr>\n",
       "  </thead>\n",
       "  <tbody>\n",
       "    <tr>\n",
       "      <th>17</th>\n",
       "      <td>distance_station_mms</td>\n",
       "      <td>0.726457</td>\n",
       "      <td>0</td>\n",
       "    </tr>\n",
       "    <tr>\n",
       "      <th>20</th>\n",
       "      <td>longitude_mms</td>\n",
       "      <td>0.722227</td>\n",
       "      <td>1</td>\n",
       "    </tr>\n",
       "    <tr>\n",
       "      <th>19</th>\n",
       "      <td>latitude_mms</td>\n",
       "      <td>0.526240</td>\n",
       "      <td>2</td>\n",
       "    </tr>\n",
       "    <tr>\n",
       "      <th>18</th>\n",
       "      <td>stores_mms</td>\n",
       "      <td>0.467398</td>\n",
       "      <td>3</td>\n",
       "    </tr>\n",
       "    <tr>\n",
       "      <th>16</th>\n",
       "      <td>age_mms</td>\n",
       "      <td>0.243811</td>\n",
       "      <td>4</td>\n",
       "    </tr>\n",
       "    <tr>\n",
       "      <th>14</th>\n",
       "      <td>year_te_mms</td>\n",
       "      <td>0.015122</td>\n",
       "      <td>5</td>\n",
       "    </tr>\n",
       "  </tbody>\n",
       "</table>\n",
       "</div>"
      ],
      "text/plain": [
       "                variable  importancia_mi  ranking_mi\n",
       "17  distance_station_mms        0.726457           0\n",
       "20         longitude_mms        0.722227           1\n",
       "19          latitude_mms        0.526240           2\n",
       "18            stores_mms        0.467398           3\n",
       "16               age_mms        0.243811           4\n",
       "14           year_te_mms        0.015122           5"
      ]
     },
     "execution_count": 7,
     "metadata": {},
     "output_type": "execute_result"
    }
   ],
   "source": [
    "entrar_mi = ranking_mi(mutual_selector).iloc[0:posicion_variable_limite]\n",
    "entrar_mi"
   ]
  },
  {
   "cell_type": "code",
   "execution_count": 8,
   "metadata": {},
   "outputs": [
    {
     "data": {
      "text/plain": [
       "17    distance_station_mms\n",
       "20           longitude_mms\n",
       "19            latitude_mms\n",
       "18              stores_mms\n",
       "16                 age_mms\n",
       "14             year_te_mms\n",
       "Name: variable, dtype: object"
      ]
     },
     "execution_count": 8,
     "metadata": {},
     "output_type": "execute_result"
    }
   ],
   "source": [
    "entrar_mi = ranking_mi(mutual_selector).iloc[0:posicion_variable_limite].variable\n",
    "entrar_mi"
   ]
  },
  {
   "attachments": {},
   "cell_type": "markdown",
   "metadata": {},
   "source": [
    "##### Crear el dataframe con la selección"
   ]
  },
  {
   "cell_type": "code",
   "execution_count": 9,
   "metadata": {},
   "outputs": [
    {
     "data": {
      "text/html": [
       "<div>\n",
       "<style scoped>\n",
       "    .dataframe tbody tr th:only-of-type {\n",
       "        vertical-align: middle;\n",
       "    }\n",
       "\n",
       "    .dataframe tbody tr th {\n",
       "        vertical-align: top;\n",
       "    }\n",
       "\n",
       "    .dataframe thead th {\n",
       "        text-align: right;\n",
       "    }\n",
       "</style>\n",
       "<table border=\"1\" class=\"dataframe\">\n",
       "  <thead>\n",
       "    <tr style=\"text-align: right;\">\n",
       "      <th></th>\n",
       "      <th>distance_station_mms</th>\n",
       "      <th>longitude_mms</th>\n",
       "      <th>latitude_mms</th>\n",
       "      <th>stores_mms</th>\n",
       "      <th>age_mms</th>\n",
       "      <th>year_te_mms</th>\n",
       "    </tr>\n",
       "  </thead>\n",
       "  <tbody>\n",
       "    <tr>\n",
       "      <th>0</th>\n",
       "      <td>0.005549</td>\n",
       "      <td>0.714301</td>\n",
       "      <td>0.616941</td>\n",
       "      <td>1.0</td>\n",
       "      <td>0.749415</td>\n",
       "      <td>0.0</td>\n",
       "    </tr>\n",
       "    <tr>\n",
       "      <th>1</th>\n",
       "      <td>0.040484</td>\n",
       "      <td>0.706289</td>\n",
       "      <td>0.584949</td>\n",
       "      <td>0.9</td>\n",
       "      <td>0.456674</td>\n",
       "      <td>0.0</td>\n",
       "    </tr>\n",
       "    <tr>\n",
       "      <th>2</th>\n",
       "      <td>0.080724</td>\n",
       "      <td>0.754582</td>\n",
       "      <td>0.671231</td>\n",
       "      <td>0.5</td>\n",
       "      <td>0.311475</td>\n",
       "      <td>1.0</td>\n",
       "    </tr>\n",
       "    <tr>\n",
       "      <th>3</th>\n",
       "      <td>0.080724</td>\n",
       "      <td>0.754582</td>\n",
       "      <td>0.671231</td>\n",
       "      <td>0.5</td>\n",
       "      <td>0.311475</td>\n",
       "      <td>1.0</td>\n",
       "    </tr>\n",
       "    <tr>\n",
       "      <th>4</th>\n",
       "      <td>0.037491</td>\n",
       "      <td>0.736692</td>\n",
       "      <td>0.585919</td>\n",
       "      <td>0.6</td>\n",
       "      <td>0.475410</td>\n",
       "      <td>1.0</td>\n",
       "    </tr>\n",
       "    <tr>\n",
       "      <th>...</th>\n",
       "      <td>...</td>\n",
       "      <td>...</td>\n",
       "      <td>...</td>\n",
       "      <td>...</td>\n",
       "      <td>...</td>\n",
       "      <td>...</td>\n",
       "    </tr>\n",
       "    <tr>\n",
       "      <th>284</th>\n",
       "      <td>0.334994</td>\n",
       "      <td>0.409066</td>\n",
       "      <td>0.378454</td>\n",
       "      <td>0.3</td>\n",
       "      <td>0.433255</td>\n",
       "      <td>1.0</td>\n",
       "    </tr>\n",
       "    <tr>\n",
       "      <th>285</th>\n",
       "      <td>0.635354</td>\n",
       "      <td>0.314455</td>\n",
       "      <td>0.114881</td>\n",
       "      <td>0.0</td>\n",
       "      <td>0.320843</td>\n",
       "      <td>1.0</td>\n",
       "    </tr>\n",
       "    <tr>\n",
       "      <th>286</th>\n",
       "      <td>0.053778</td>\n",
       "      <td>0.710131</td>\n",
       "      <td>0.571498</td>\n",
       "      <td>0.7</td>\n",
       "      <td>0.440281</td>\n",
       "      <td>1.0</td>\n",
       "    </tr>\n",
       "    <tr>\n",
       "      <th>287</th>\n",
       "      <td>0.008690</td>\n",
       "      <td>0.719021</td>\n",
       "      <td>0.420141</td>\n",
       "      <td>0.5</td>\n",
       "      <td>0.189696</td>\n",
       "      <td>1.0</td>\n",
       "    </tr>\n",
       "    <tr>\n",
       "      <th>288</th>\n",
       "      <td>0.006428</td>\n",
       "      <td>0.745692</td>\n",
       "      <td>0.512118</td>\n",
       "      <td>0.9</td>\n",
       "      <td>0.152225</td>\n",
       "      <td>1.0</td>\n",
       "    </tr>\n",
       "  </tbody>\n",
       "</table>\n",
       "<p>289 rows × 6 columns</p>\n",
       "</div>"
      ],
      "text/plain": [
       "     distance_station_mms  longitude_mms  latitude_mms  stores_mms   age_mms  \\\n",
       "0                0.005549       0.714301      0.616941         1.0  0.749415   \n",
       "1                0.040484       0.706289      0.584949         0.9  0.456674   \n",
       "2                0.080724       0.754582      0.671231         0.5  0.311475   \n",
       "3                0.080724       0.754582      0.671231         0.5  0.311475   \n",
       "4                0.037491       0.736692      0.585919         0.6  0.475410   \n",
       "..                    ...            ...           ...         ...       ...   \n",
       "284              0.334994       0.409066      0.378454         0.3  0.433255   \n",
       "285              0.635354       0.314455      0.114881         0.0  0.320843   \n",
       "286              0.053778       0.710131      0.571498         0.7  0.440281   \n",
       "287              0.008690       0.719021      0.420141         0.5  0.189696   \n",
       "288              0.006428       0.745692      0.512118         0.9  0.152225   \n",
       "\n",
       "     year_te_mms  \n",
       "0            0.0  \n",
       "1            0.0  \n",
       "2            1.0  \n",
       "3            1.0  \n",
       "4            1.0  \n",
       "..           ...  \n",
       "284          1.0  \n",
       "285          1.0  \n",
       "286          1.0  \n",
       "287          1.0  \n",
       "288          1.0  \n",
       "\n",
       "[289 rows x 6 columns]"
      ]
     },
     "execution_count": 9,
     "metadata": {},
     "output_type": "execute_result"
    }
   ],
   "source": [
    "x_mi = x[entrar_mi].copy()\n",
    "x_mi"
   ]
  },
  {
   "attachments": {},
   "cell_type": "markdown",
   "metadata": {},
   "source": [
    "### RECURSIVE FEATURE ELIMINATION"
   ]
  },
  {
   "attachments": {},
   "cell_type": "markdown",
   "metadata": {},
   "source": [
    "#### Instanciar"
   ]
  },
  {
   "cell_type": "code",
   "execution_count": 10,
   "metadata": {},
   "outputs": [],
   "source": [
    "rfe = RFECV(estimator= XGBRegressor(n_jobs = -1, eval_metric = 'merror'), step= 3, cv=3, min_features_to_select= 3)"
   ]
  },
  {
   "attachments": {},
   "cell_type": "markdown",
   "metadata": {},
   "source": [
    "#### Entrenar"
   ]
  },
  {
   "cell_type": "code",
   "execution_count": 11,
   "metadata": {},
   "outputs": [
    {
     "data": {
      "text/html": [
       "<style>#sk-container-id-1 {color: black;background-color: white;}#sk-container-id-1 pre{padding: 0;}#sk-container-id-1 div.sk-toggleable {background-color: white;}#sk-container-id-1 label.sk-toggleable__label {cursor: pointer;display: block;width: 100%;margin-bottom: 0;padding: 0.3em;box-sizing: border-box;text-align: center;}#sk-container-id-1 label.sk-toggleable__label-arrow:before {content: \"▸\";float: left;margin-right: 0.25em;color: #696969;}#sk-container-id-1 label.sk-toggleable__label-arrow:hover:before {color: black;}#sk-container-id-1 div.sk-estimator:hover label.sk-toggleable__label-arrow:before {color: black;}#sk-container-id-1 div.sk-toggleable__content {max-height: 0;max-width: 0;overflow: hidden;text-align: left;background-color: #f0f8ff;}#sk-container-id-1 div.sk-toggleable__content pre {margin: 0.2em;color: black;border-radius: 0.25em;background-color: #f0f8ff;}#sk-container-id-1 input.sk-toggleable__control:checked~div.sk-toggleable__content {max-height: 200px;max-width: 100%;overflow: auto;}#sk-container-id-1 input.sk-toggleable__control:checked~label.sk-toggleable__label-arrow:before {content: \"▾\";}#sk-container-id-1 div.sk-estimator input.sk-toggleable__control:checked~label.sk-toggleable__label {background-color: #d4ebff;}#sk-container-id-1 div.sk-label input.sk-toggleable__control:checked~label.sk-toggleable__label {background-color: #d4ebff;}#sk-container-id-1 input.sk-hidden--visually {border: 0;clip: rect(1px 1px 1px 1px);clip: rect(1px, 1px, 1px, 1px);height: 1px;margin: -1px;overflow: hidden;padding: 0;position: absolute;width: 1px;}#sk-container-id-1 div.sk-estimator {font-family: monospace;background-color: #f0f8ff;border: 1px dotted black;border-radius: 0.25em;box-sizing: border-box;margin-bottom: 0.5em;}#sk-container-id-1 div.sk-estimator:hover {background-color: #d4ebff;}#sk-container-id-1 div.sk-parallel-item::after {content: \"\";width: 100%;border-bottom: 1px solid gray;flex-grow: 1;}#sk-container-id-1 div.sk-label:hover label.sk-toggleable__label {background-color: #d4ebff;}#sk-container-id-1 div.sk-serial::before {content: \"\";position: absolute;border-left: 1px solid gray;box-sizing: border-box;top: 0;bottom: 0;left: 50%;z-index: 0;}#sk-container-id-1 div.sk-serial {display: flex;flex-direction: column;align-items: center;background-color: white;padding-right: 0.2em;padding-left: 0.2em;position: relative;}#sk-container-id-1 div.sk-item {position: relative;z-index: 1;}#sk-container-id-1 div.sk-parallel {display: flex;align-items: stretch;justify-content: center;background-color: white;position: relative;}#sk-container-id-1 div.sk-item::before, #sk-container-id-1 div.sk-parallel-item::before {content: \"\";position: absolute;border-left: 1px solid gray;box-sizing: border-box;top: 0;bottom: 0;left: 50%;z-index: -1;}#sk-container-id-1 div.sk-parallel-item {display: flex;flex-direction: column;z-index: 1;position: relative;background-color: white;}#sk-container-id-1 div.sk-parallel-item:first-child::after {align-self: flex-end;width: 50%;}#sk-container-id-1 div.sk-parallel-item:last-child::after {align-self: flex-start;width: 50%;}#sk-container-id-1 div.sk-parallel-item:only-child::after {width: 0;}#sk-container-id-1 div.sk-dashed-wrapped {border: 1px dashed gray;margin: 0 0.4em 0.5em 0.4em;box-sizing: border-box;padding-bottom: 0.4em;background-color: white;}#sk-container-id-1 div.sk-label label {font-family: monospace;font-weight: bold;display: inline-block;line-height: 1.2em;}#sk-container-id-1 div.sk-label-container {text-align: center;}#sk-container-id-1 div.sk-container {/* jupyter's `normalize.less` sets `[hidden] { display: none; }` but bootstrap.min.css set `[hidden] { display: none !important; }` so we also need the `!important` here to be able to override the default hidden behavior on the sphinx rendered scikit-learn.org. See: https://github.com/scikit-learn/scikit-learn/issues/21755 */display: inline-block !important;position: relative;}#sk-container-id-1 div.sk-text-repr-fallback {display: none;}</style><div id=\"sk-container-id-1\" class=\"sk-top-container\"><div class=\"sk-text-repr-fallback\"><pre>RFECV(cv=3,\n",
       "      estimator=XGBRegressor(base_score=None, booster=None, callbacks=None,\n",
       "                             colsample_bylevel=None, colsample_bynode=None,\n",
       "                             colsample_bytree=None, early_stopping_rounds=None,\n",
       "                             enable_categorical=False, eval_metric=&#x27;merror&#x27;,\n",
       "                             feature_types=None, gamma=None, gpu_id=None,\n",
       "                             grow_policy=None, importance_type=None,\n",
       "                             interaction_constraints=None, learning_rate=None,\n",
       "                             max_bin=None, max_cat_threshold=None,\n",
       "                             max_cat_to_onehot=None, max_delta_step=None,\n",
       "                             max_depth=None, max_leaves=None,\n",
       "                             min_child_weight=None, missing=nan,\n",
       "                             monotone_constraints=None, n_estimators=100,\n",
       "                             n_jobs=-1, num_parallel_tree=None, predictor=None,\n",
       "                             random_state=None, ...),\n",
       "      min_features_to_select=3, step=3)</pre><b>In a Jupyter environment, please rerun this cell to show the HTML representation or trust the notebook. <br />On GitHub, the HTML representation is unable to render, please try loading this page with nbviewer.org.</b></div><div class=\"sk-container\" hidden><div class=\"sk-item sk-dashed-wrapped\"><div class=\"sk-label-container\"><div class=\"sk-label sk-toggleable\"><input class=\"sk-toggleable__control sk-hidden--visually\" id=\"sk-estimator-id-1\" type=\"checkbox\" ><label for=\"sk-estimator-id-1\" class=\"sk-toggleable__label sk-toggleable__label-arrow\">RFECV</label><div class=\"sk-toggleable__content\"><pre>RFECV(cv=3,\n",
       "      estimator=XGBRegressor(base_score=None, booster=None, callbacks=None,\n",
       "                             colsample_bylevel=None, colsample_bynode=None,\n",
       "                             colsample_bytree=None, early_stopping_rounds=None,\n",
       "                             enable_categorical=False, eval_metric=&#x27;merror&#x27;,\n",
       "                             feature_types=None, gamma=None, gpu_id=None,\n",
       "                             grow_policy=None, importance_type=None,\n",
       "                             interaction_constraints=None, learning_rate=None,\n",
       "                             max_bin=None, max_cat_threshold=None,\n",
       "                             max_cat_to_onehot=None, max_delta_step=None,\n",
       "                             max_depth=None, max_leaves=None,\n",
       "                             min_child_weight=None, missing=nan,\n",
       "                             monotone_constraints=None, n_estimators=100,\n",
       "                             n_jobs=-1, num_parallel_tree=None, predictor=None,\n",
       "                             random_state=None, ...),\n",
       "      min_features_to_select=3, step=3)</pre></div></div></div><div class=\"sk-parallel\"><div class=\"sk-parallel-item\"><div class=\"sk-item\"><div class=\"sk-label-container\"><div class=\"sk-label sk-toggleable\"><input class=\"sk-toggleable__control sk-hidden--visually\" id=\"sk-estimator-id-2\" type=\"checkbox\" ><label for=\"sk-estimator-id-2\" class=\"sk-toggleable__label sk-toggleable__label-arrow\">estimator: XGBRegressor</label><div class=\"sk-toggleable__content\"><pre>XGBRegressor(base_score=None, booster=None, callbacks=None,\n",
       "             colsample_bylevel=None, colsample_bynode=None,\n",
       "             colsample_bytree=None, early_stopping_rounds=None,\n",
       "             enable_categorical=False, eval_metric=&#x27;merror&#x27;, feature_types=None,\n",
       "             gamma=None, gpu_id=None, grow_policy=None, importance_type=None,\n",
       "             interaction_constraints=None, learning_rate=None, max_bin=None,\n",
       "             max_cat_threshold=None, max_cat_to_onehot=None,\n",
       "             max_delta_step=None, max_depth=None, max_leaves=None,\n",
       "             min_child_weight=None, missing=nan, monotone_constraints=None,\n",
       "             n_estimators=100, n_jobs=-1, num_parallel_tree=None,\n",
       "             predictor=None, random_state=None, ...)</pre></div></div></div><div class=\"sk-serial\"><div class=\"sk-item\"><div class=\"sk-estimator sk-toggleable\"><input class=\"sk-toggleable__control sk-hidden--visually\" id=\"sk-estimator-id-3\" type=\"checkbox\" ><label for=\"sk-estimator-id-3\" class=\"sk-toggleable__label sk-toggleable__label-arrow\">XGBRegressor</label><div class=\"sk-toggleable__content\"><pre>XGBRegressor(base_score=None, booster=None, callbacks=None,\n",
       "             colsample_bylevel=None, colsample_bynode=None,\n",
       "             colsample_bytree=None, early_stopping_rounds=None,\n",
       "             enable_categorical=False, eval_metric=&#x27;merror&#x27;, feature_types=None,\n",
       "             gamma=None, gpu_id=None, grow_policy=None, importance_type=None,\n",
       "             interaction_constraints=None, learning_rate=None, max_bin=None,\n",
       "             max_cat_threshold=None, max_cat_to_onehot=None,\n",
       "             max_delta_step=None, max_depth=None, max_leaves=None,\n",
       "             min_child_weight=None, missing=nan, monotone_constraints=None,\n",
       "             n_estimators=100, n_jobs=-1, num_parallel_tree=None,\n",
       "             predictor=None, random_state=None, ...)</pre></div></div></div></div></div></div></div></div></div></div>"
      ],
      "text/plain": [
       "RFECV(cv=3,\n",
       "      estimator=XGBRegressor(base_score=None, booster=None, callbacks=None,\n",
       "                             colsample_bylevel=None, colsample_bynode=None,\n",
       "                             colsample_bytree=None, early_stopping_rounds=None,\n",
       "                             enable_categorical=False, eval_metric='merror',\n",
       "                             feature_types=None, gamma=None, gpu_id=None,\n",
       "                             grow_policy=None, importance_type=None,\n",
       "                             interaction_constraints=None, learning_rate=None,\n",
       "                             max_bin=None, max_cat_threshold=None,\n",
       "                             max_cat_to_onehot=None, max_delta_step=None,\n",
       "                             max_depth=None, max_leaves=None,\n",
       "                             min_child_weight=None, missing=nan,\n",
       "                             monotone_constraints=None, n_estimators=100,\n",
       "                             n_jobs=-1, num_parallel_tree=None, predictor=None,\n",
       "                             random_state=None, ...),\n",
       "      min_features_to_select=3, step=3)"
      ]
     },
     "execution_count": 11,
     "metadata": {},
     "output_type": "execute_result"
    }
   ],
   "source": [
    "rfe.fit(x,y)"
   ]
  },
  {
   "cell_type": "code",
   "execution_count": 12,
   "metadata": {},
   "outputs": [
    {
     "data": {
      "text/html": [
       "<div>\n",
       "<style scoped>\n",
       "    .dataframe tbody tr th:only-of-type {\n",
       "        vertical-align: middle;\n",
       "    }\n",
       "\n",
       "    .dataframe tbody tr th {\n",
       "        vertical-align: top;\n",
       "    }\n",
       "\n",
       "    .dataframe thead th {\n",
       "        text-align: right;\n",
       "    }\n",
       "</style>\n",
       "<table border=\"1\" class=\"dataframe\">\n",
       "  <thead>\n",
       "    <tr style=\"text-align: right;\">\n",
       "      <th></th>\n",
       "      <th>mean_test_score</th>\n",
       "      <th>std_test_score</th>\n",
       "      <th>split0_test_score</th>\n",
       "      <th>split1_test_score</th>\n",
       "      <th>split2_test_score</th>\n",
       "    </tr>\n",
       "  </thead>\n",
       "  <tbody>\n",
       "    <tr>\n",
       "      <th>1</th>\n",
       "      <td>0.716472</td>\n",
       "      <td>0.030790</td>\n",
       "      <td>0.759637</td>\n",
       "      <td>0.689931</td>\n",
       "      <td>0.699847</td>\n",
       "    </tr>\n",
       "    <tr>\n",
       "      <th>6</th>\n",
       "      <td>0.721802</td>\n",
       "      <td>0.048085</td>\n",
       "      <td>0.746250</td>\n",
       "      <td>0.764533</td>\n",
       "      <td>0.654624</td>\n",
       "    </tr>\n",
       "    <tr>\n",
       "      <th>5</th>\n",
       "      <td>0.722099</td>\n",
       "      <td>0.054728</td>\n",
       "      <td>0.750675</td>\n",
       "      <td>0.770104</td>\n",
       "      <td>0.645519</td>\n",
       "    </tr>\n",
       "    <tr>\n",
       "      <th>0</th>\n",
       "      <td>0.724446</td>\n",
       "      <td>0.013368</td>\n",
       "      <td>0.743009</td>\n",
       "      <td>0.712061</td>\n",
       "      <td>0.718267</td>\n",
       "    </tr>\n",
       "    <tr>\n",
       "      <th>3</th>\n",
       "      <td>0.733073</td>\n",
       "      <td>0.069268</td>\n",
       "      <td>0.763850</td>\n",
       "      <td>0.798225</td>\n",
       "      <td>0.637145</td>\n",
       "    </tr>\n",
       "    <tr>\n",
       "      <th>2</th>\n",
       "      <td>0.735933</td>\n",
       "      <td>0.028706</td>\n",
       "      <td>0.746720</td>\n",
       "      <td>0.764434</td>\n",
       "      <td>0.696646</td>\n",
       "    </tr>\n",
       "    <tr>\n",
       "      <th>4</th>\n",
       "      <td>0.736095</td>\n",
       "      <td>0.069829</td>\n",
       "      <td>0.767922</td>\n",
       "      <td>0.801141</td>\n",
       "      <td>0.639222</td>\n",
       "    </tr>\n",
       "  </tbody>\n",
       "</table>\n",
       "</div>"
      ],
      "text/plain": [
       "   mean_test_score  std_test_score  split0_test_score  split1_test_score  \\\n",
       "1         0.716472        0.030790           0.759637           0.689931   \n",
       "6         0.721802        0.048085           0.746250           0.764533   \n",
       "5         0.722099        0.054728           0.750675           0.770104   \n",
       "0         0.724446        0.013368           0.743009           0.712061   \n",
       "3         0.733073        0.069268           0.763850           0.798225   \n",
       "2         0.735933        0.028706           0.746720           0.764434   \n",
       "4         0.736095        0.069829           0.767922           0.801141   \n",
       "\n",
       "   split2_test_score  \n",
       "1           0.699847  \n",
       "6           0.654624  \n",
       "5           0.645519  \n",
       "0           0.718267  \n",
       "3           0.637145  \n",
       "2           0.696646  \n",
       "4           0.639222  "
      ]
     },
     "execution_count": 12,
     "metadata": {},
     "output_type": "execute_result"
    }
   ],
   "source": [
    "pd.DataFrame(rfe.cv_results_).sort_values(by= 'mean_test_score')\n"
   ]
  },
  {
   "attachments": {},
   "cell_type": "markdown",
   "metadata": {},
   "source": [
    "### Extraer loo nombres de las que entran"
   ]
  },
  {
   "cell_type": "code",
   "execution_count": 13,
   "metadata": {},
   "outputs": [
    {
     "data": {
      "text/plain": [
       "Index(['year_2012', 'mes_1', 'mes_5', 'mes_6', 'mes_7', 'mes_8', 'mes_9',\n",
       "       'mes_10', 'mes_12', 'mes_te_mms', 'age_mms', 'distance_station_mms',\n",
       "       'stores_mms', 'latitude_mms', 'longitude_mms'],\n",
       "      dtype='object')"
      ]
     },
     "execution_count": 13,
     "metadata": {},
     "output_type": "execute_result"
    }
   ],
   "source": [
    "entran_rfe = x.columns[rfe.support_]\n",
    "entran_rfe"
   ]
  },
  {
   "cell_type": "code",
   "execution_count": 14,
   "metadata": {},
   "outputs": [
    {
     "data": {
      "text/html": [
       "<div>\n",
       "<style scoped>\n",
       "    .dataframe tbody tr th:only-of-type {\n",
       "        vertical-align: middle;\n",
       "    }\n",
       "\n",
       "    .dataframe tbody tr th {\n",
       "        vertical-align: top;\n",
       "    }\n",
       "\n",
       "    .dataframe thead th {\n",
       "        text-align: right;\n",
       "    }\n",
       "</style>\n",
       "<table border=\"1\" class=\"dataframe\">\n",
       "  <thead>\n",
       "    <tr style=\"text-align: right;\">\n",
       "      <th></th>\n",
       "      <th>year_2012</th>\n",
       "      <th>mes_1</th>\n",
       "      <th>mes_5</th>\n",
       "      <th>mes_6</th>\n",
       "      <th>mes_7</th>\n",
       "      <th>mes_8</th>\n",
       "      <th>mes_9</th>\n",
       "      <th>mes_10</th>\n",
       "      <th>mes_12</th>\n",
       "      <th>mes_te_mms</th>\n",
       "      <th>age_mms</th>\n",
       "      <th>distance_station_mms</th>\n",
       "      <th>stores_mms</th>\n",
       "      <th>latitude_mms</th>\n",
       "      <th>longitude_mms</th>\n",
       "    </tr>\n",
       "  </thead>\n",
       "  <tbody>\n",
       "    <tr>\n",
       "      <th>0</th>\n",
       "      <td>1.0</td>\n",
       "      <td>0.0</td>\n",
       "      <td>0.0</td>\n",
       "      <td>0.0</td>\n",
       "      <td>0.0</td>\n",
       "      <td>0.0</td>\n",
       "      <td>0.0</td>\n",
       "      <td>0.0</td>\n",
       "      <td>1.0</td>\n",
       "      <td>0.078202</td>\n",
       "      <td>0.749415</td>\n",
       "      <td>0.005549</td>\n",
       "      <td>1.0</td>\n",
       "      <td>0.616941</td>\n",
       "      <td>0.714301</td>\n",
       "    </tr>\n",
       "    <tr>\n",
       "      <th>1</th>\n",
       "      <td>1.0</td>\n",
       "      <td>0.0</td>\n",
       "      <td>0.0</td>\n",
       "      <td>0.0</td>\n",
       "      <td>0.0</td>\n",
       "      <td>0.0</td>\n",
       "      <td>0.0</td>\n",
       "      <td>0.0</td>\n",
       "      <td>1.0</td>\n",
       "      <td>0.078202</td>\n",
       "      <td>0.456674</td>\n",
       "      <td>0.040484</td>\n",
       "      <td>0.9</td>\n",
       "      <td>0.584949</td>\n",
       "      <td>0.706289</td>\n",
       "    </tr>\n",
       "    <tr>\n",
       "      <th>2</th>\n",
       "      <td>0.0</td>\n",
       "      <td>0.0</td>\n",
       "      <td>0.0</td>\n",
       "      <td>0.0</td>\n",
       "      <td>0.0</td>\n",
       "      <td>1.0</td>\n",
       "      <td>0.0</td>\n",
       "      <td>0.0</td>\n",
       "      <td>0.0</td>\n",
       "      <td>0.319701</td>\n",
       "      <td>0.311475</td>\n",
       "      <td>0.080724</td>\n",
       "      <td>0.5</td>\n",
       "      <td>0.671231</td>\n",
       "      <td>0.754582</td>\n",
       "    </tr>\n",
       "    <tr>\n",
       "      <th>3</th>\n",
       "      <td>0.0</td>\n",
       "      <td>0.0</td>\n",
       "      <td>0.0</td>\n",
       "      <td>0.0</td>\n",
       "      <td>1.0</td>\n",
       "      <td>0.0</td>\n",
       "      <td>0.0</td>\n",
       "      <td>0.0</td>\n",
       "      <td>0.0</td>\n",
       "      <td>0.140970</td>\n",
       "      <td>0.311475</td>\n",
       "      <td>0.080724</td>\n",
       "      <td>0.5</td>\n",
       "      <td>0.671231</td>\n",
       "      <td>0.754582</td>\n",
       "    </tr>\n",
       "    <tr>\n",
       "      <th>4</th>\n",
       "      <td>0.0</td>\n",
       "      <td>0.0</td>\n",
       "      <td>0.0</td>\n",
       "      <td>1.0</td>\n",
       "      <td>0.0</td>\n",
       "      <td>0.0</td>\n",
       "      <td>0.0</td>\n",
       "      <td>0.0</td>\n",
       "      <td>0.0</td>\n",
       "      <td>0.513659</td>\n",
       "      <td>0.475410</td>\n",
       "      <td>0.037491</td>\n",
       "      <td>0.6</td>\n",
       "      <td>0.585919</td>\n",
       "      <td>0.736692</td>\n",
       "    </tr>\n",
       "  </tbody>\n",
       "</table>\n",
       "</div>"
      ],
      "text/plain": [
       "   year_2012  mes_1  mes_5  mes_6  mes_7  mes_8  mes_9  mes_10  mes_12  \\\n",
       "0        1.0    0.0    0.0    0.0    0.0    0.0    0.0     0.0     1.0   \n",
       "1        1.0    0.0    0.0    0.0    0.0    0.0    0.0     0.0     1.0   \n",
       "2        0.0    0.0    0.0    0.0    0.0    1.0    0.0     0.0     0.0   \n",
       "3        0.0    0.0    0.0    0.0    1.0    0.0    0.0     0.0     0.0   \n",
       "4        0.0    0.0    0.0    1.0    0.0    0.0    0.0     0.0     0.0   \n",
       "\n",
       "   mes_te_mms   age_mms  distance_station_mms  stores_mms  latitude_mms  \\\n",
       "0    0.078202  0.749415              0.005549         1.0      0.616941   \n",
       "1    0.078202  0.456674              0.040484         0.9      0.584949   \n",
       "2    0.319701  0.311475              0.080724         0.5      0.671231   \n",
       "3    0.140970  0.311475              0.080724         0.5      0.671231   \n",
       "4    0.513659  0.475410              0.037491         0.6      0.585919   \n",
       "\n",
       "   longitude_mms  \n",
       "0       0.714301  \n",
       "1       0.706289  \n",
       "2       0.754582  \n",
       "3       0.754582  \n",
       "4       0.736692  "
      ]
     },
     "execution_count": 14,
     "metadata": {},
     "output_type": "execute_result"
    }
   ],
   "source": [
    "x_rfe = x[entran_rfe].copy()\n",
    "x_rfe.head()"
   ]
  },
  {
   "attachments": {},
   "cell_type": "markdown",
   "metadata": {},
   "source": [
    "### PERMUTATION IMPORTANCE"
   ]
  },
  {
   "attachments": {},
   "cell_type": "markdown",
   "metadata": {},
   "source": [
    "#### Crear una función para mostrar el resultado"
   ]
  },
  {
   "cell_type": "code",
   "execution_count": 15,
   "metadata": {},
   "outputs": [],
   "source": [
    "def ranking_per(predictoras, permutacion):\n",
    "    ranking_per = pd.DataFrame({'variable':predictoras.columns, 'importancia_per':permutacion.importances_mean}).sort_values(by='importancia_per', ascending= False)\n",
    "    ranking_per['ranking_per'] =  np.arange(0, ranking_per.shape[0])\n",
    "    return ranking_per"
   ]
  },
  {
   "attachments": {},
   "cell_type": "markdown",
   "metadata": {},
   "source": [
    "#### Instanciar y entrenar"
   ]
  },
  {
   "cell_type": "code",
   "execution_count": 16,
   "metadata": {},
   "outputs": [],
   "source": [
    "import warnings\n",
    "warnings.filterwarnings(action= 'ignore', message = r'.*Use subset.*of np.ndarray is not recommended')\n",
    "xgb = XGBRegressor(use_label_encoder = False, n_jobs= -1, eval_metric = 'auc')\n",
    "xgb.fit(x,y)\n",
    "permutacion = permutation_importance(xgb, \n",
    "                                     x, y,\n",
    "                                     scoring= 'neg_mean_absolute_error',\n",
    "                                     n_repeats= 5,\n",
    "                                     n_jobs= -1)"
   ]
  },
  {
   "attachments": {},
   "cell_type": "markdown",
   "metadata": {},
   "source": [
    "#### Revisarla salida"
   ]
  },
  {
   "cell_type": "code",
   "execution_count": 17,
   "metadata": {},
   "outputs": [
    {
     "data": {
      "image/png": "[encoded data removed]",
      "text/plain": [
       "<Figure size 1200x500 with 1 Axes>"
      ]
     },
     "metadata": {},
     "output_type": "display_data"
    }
   ],
   "source": [
    "rank_per = ranking_per(x, permutacion)\n",
    "rank_per.set_index('variable').importancia_per.sort_values().plot.barh(figsize = (12,5));"
   ]
  },
  {
   "cell_type": "code",
   "execution_count": 18,
   "metadata": {},
   "outputs": [
    {
     "data": {
      "text/html": [
       "<div>\n",
       "<style scoped>\n",
       "    .dataframe tbody tr th:only-of-type {\n",
       "        vertical-align: middle;\n",
       "    }\n",
       "\n",
       "    .dataframe tbody tr th {\n",
       "        vertical-align: top;\n",
       "    }\n",
       "\n",
       "    .dataframe thead th {\n",
       "        text-align: right;\n",
       "    }\n",
       "</style>\n",
       "<table border=\"1\" class=\"dataframe\">\n",
       "  <thead>\n",
       "    <tr style=\"text-align: right;\">\n",
       "      <th></th>\n",
       "      <th>variable</th>\n",
       "      <th>importancia_per</th>\n",
       "      <th>ranking_per</th>\n",
       "    </tr>\n",
       "  </thead>\n",
       "  <tbody>\n",
       "    <tr>\n",
       "      <th>17</th>\n",
       "      <td>distance_station_mms</td>\n",
       "      <td>8.292366</td>\n",
       "      <td>0</td>\n",
       "    </tr>\n",
       "    <tr>\n",
       "      <th>19</th>\n",
       "      <td>latitude_mms</td>\n",
       "      <td>4.817078</td>\n",
       "      <td>1</td>\n",
       "    </tr>\n",
       "    <tr>\n",
       "      <th>16</th>\n",
       "      <td>age_mms</td>\n",
       "      <td>4.094968</td>\n",
       "      <td>2</td>\n",
       "    </tr>\n",
       "    <tr>\n",
       "      <th>20</th>\n",
       "      <td>longitude_mms</td>\n",
       "      <td>1.858160</td>\n",
       "      <td>3</td>\n",
       "    </tr>\n",
       "    <tr>\n",
       "      <th>18</th>\n",
       "      <td>stores_mms</td>\n",
       "      <td>1.715343</td>\n",
       "      <td>4</td>\n",
       "    </tr>\n",
       "    <tr>\n",
       "      <th>0</th>\n",
       "      <td>year_2012</td>\n",
       "      <td>0.511280</td>\n",
       "      <td>5</td>\n",
       "    </tr>\n",
       "    <tr>\n",
       "      <th>8</th>\n",
       "      <td>mes_7</td>\n",
       "      <td>0.478764</td>\n",
       "      <td>6</td>\n",
       "    </tr>\n",
       "    <tr>\n",
       "      <th>15</th>\n",
       "      <td>mes_te_mms</td>\n",
       "      <td>0.429212</td>\n",
       "      <td>7</td>\n",
       "    </tr>\n",
       "    <tr>\n",
       "      <th>13</th>\n",
       "      <td>mes_12</td>\n",
       "      <td>0.245780</td>\n",
       "      <td>8</td>\n",
       "    </tr>\n",
       "    <tr>\n",
       "      <th>6</th>\n",
       "      <td>mes_5</td>\n",
       "      <td>0.218889</td>\n",
       "      <td>9</td>\n",
       "    </tr>\n",
       "    <tr>\n",
       "      <th>3</th>\n",
       "      <td>mes_2</td>\n",
       "      <td>0.162367</td>\n",
       "      <td>10</td>\n",
       "    </tr>\n",
       "    <tr>\n",
       "      <th>7</th>\n",
       "      <td>mes_6</td>\n",
       "      <td>0.155950</td>\n",
       "      <td>11</td>\n",
       "    </tr>\n",
       "    <tr>\n",
       "      <th>11</th>\n",
       "      <td>mes_10</td>\n",
       "      <td>0.138498</td>\n",
       "      <td>12</td>\n",
       "    </tr>\n",
       "    <tr>\n",
       "      <th>2</th>\n",
       "      <td>mes_1</td>\n",
       "      <td>0.134011</td>\n",
       "      <td>13</td>\n",
       "    </tr>\n",
       "    <tr>\n",
       "      <th>4</th>\n",
       "      <td>mes_3</td>\n",
       "      <td>0.113011</td>\n",
       "      <td>14</td>\n",
       "    </tr>\n",
       "    <tr>\n",
       "      <th>10</th>\n",
       "      <td>mes_9</td>\n",
       "      <td>0.071288</td>\n",
       "      <td>15</td>\n",
       "    </tr>\n",
       "    <tr>\n",
       "      <th>5</th>\n",
       "      <td>mes_4</td>\n",
       "      <td>0.041243</td>\n",
       "      <td>16</td>\n",
       "    </tr>\n",
       "    <tr>\n",
       "      <th>12</th>\n",
       "      <td>mes_11</td>\n",
       "      <td>0.032606</td>\n",
       "      <td>17</td>\n",
       "    </tr>\n",
       "    <tr>\n",
       "      <th>9</th>\n",
       "      <td>mes_8</td>\n",
       "      <td>0.032527</td>\n",
       "      <td>18</td>\n",
       "    </tr>\n",
       "    <tr>\n",
       "      <th>1</th>\n",
       "      <td>year_2013</td>\n",
       "      <td>0.000000</td>\n",
       "      <td>19</td>\n",
       "    </tr>\n",
       "    <tr>\n",
       "      <th>14</th>\n",
       "      <td>year_te_mms</td>\n",
       "      <td>0.000000</td>\n",
       "      <td>20</td>\n",
       "    </tr>\n",
       "  </tbody>\n",
       "</table>\n",
       "</div>"
      ],
      "text/plain": [
       "                variable  importancia_per  ranking_per\n",
       "17  distance_station_mms         8.292366            0\n",
       "19          latitude_mms         4.817078            1\n",
       "16               age_mms         4.094968            2\n",
       "20         longitude_mms         1.858160            3\n",
       "18            stores_mms         1.715343            4\n",
       "0              year_2012         0.511280            5\n",
       "8                  mes_7         0.478764            6\n",
       "15            mes_te_mms         0.429212            7\n",
       "13                mes_12         0.245780            8\n",
       "6                  mes_5         0.218889            9\n",
       "3                  mes_2         0.162367           10\n",
       "7                  mes_6         0.155950           11\n",
       "11                mes_10         0.138498           12\n",
       "2                  mes_1         0.134011           13\n",
       "4                  mes_3         0.113011           14\n",
       "10                 mes_9         0.071288           15\n",
       "5                  mes_4         0.041243           16\n",
       "12                mes_11         0.032606           17\n",
       "9                  mes_8         0.032527           18\n",
       "1              year_2013         0.000000           19\n",
       "14           year_te_mms         0.000000           20"
      ]
     },
     "execution_count": 18,
     "metadata": {},
     "output_type": "execute_result"
    }
   ],
   "source": [
    "rank_per"
   ]
  },
  {
   "attachments": {},
   "cell_type": "markdown",
   "metadata": {},
   "source": [
    "#### Revisar las variables que pasan"
   ]
  },
  {
   "attachments": {},
   "cell_type": "markdown",
   "metadata": {},
   "source": [
    "##### Definir la posición de la última variable que a a entrar"
   ]
  },
  {
   "cell_type": "code",
   "execution_count": 19,
   "metadata": {},
   "outputs": [],
   "source": [
    "posicion_variable_limite = 14"
   ]
  },
  {
   "attachments": {},
   "cell_type": "markdown",
   "metadata": {},
   "source": [
    "##### Extraer los nombres de las que entran"
   ]
  },
  {
   "cell_type": "code",
   "execution_count": 20,
   "metadata": {},
   "outputs": [
    {
     "data": {
      "text/plain": [
       "17    distance_station_mms\n",
       "19            latitude_mms\n",
       "16                 age_mms\n",
       "20           longitude_mms\n",
       "18              stores_mms\n",
       "0                year_2012\n",
       "8                    mes_7\n",
       "15              mes_te_mms\n",
       "13                  mes_12\n",
       "6                    mes_5\n",
       "3                    mes_2\n",
       "7                    mes_6\n",
       "11                  mes_10\n",
       "2                    mes_1\n",
       "Name: variable, dtype: object"
      ]
     },
     "execution_count": 20,
     "metadata": {},
     "output_type": "execute_result"
    }
   ],
   "source": [
    "entran_per = rank_per.iloc[0:posicion_variable_limite].variable\n",
    "entran_per"
   ]
  },
  {
   "attachments": {},
   "cell_type": "markdown",
   "metadata": {},
   "source": [
    "##### crear el dataframe con la selección"
   ]
  },
  {
   "cell_type": "code",
   "execution_count": 21,
   "metadata": {},
   "outputs": [
    {
     "data": {
      "text/html": [
       "<div>\n",
       "<style scoped>\n",
       "    .dataframe tbody tr th:only-of-type {\n",
       "        vertical-align: middle;\n",
       "    }\n",
       "\n",
       "    .dataframe tbody tr th {\n",
       "        vertical-align: top;\n",
       "    }\n",
       "\n",
       "    .dataframe thead th {\n",
       "        text-align: right;\n",
       "    }\n",
       "</style>\n",
       "<table border=\"1\" class=\"dataframe\">\n",
       "  <thead>\n",
       "    <tr style=\"text-align: right;\">\n",
       "      <th></th>\n",
       "      <th>distance_station_mms</th>\n",
       "      <th>latitude_mms</th>\n",
       "      <th>age_mms</th>\n",
       "      <th>longitude_mms</th>\n",
       "      <th>stores_mms</th>\n",
       "      <th>year_2012</th>\n",
       "      <th>mes_7</th>\n",
       "      <th>mes_te_mms</th>\n",
       "      <th>mes_12</th>\n",
       "      <th>mes_5</th>\n",
       "      <th>mes_2</th>\n",
       "      <th>mes_6</th>\n",
       "      <th>mes_10</th>\n",
       "      <th>mes_1</th>\n",
       "    </tr>\n",
       "  </thead>\n",
       "  <tbody>\n",
       "    <tr>\n",
       "      <th>0</th>\n",
       "      <td>0.005549</td>\n",
       "      <td>0.616941</td>\n",
       "      <td>0.749415</td>\n",
       "      <td>0.714301</td>\n",
       "      <td>1.0</td>\n",
       "      <td>1.0</td>\n",
       "      <td>0.0</td>\n",
       "      <td>0.078202</td>\n",
       "      <td>1.0</td>\n",
       "      <td>0.0</td>\n",
       "      <td>0.0</td>\n",
       "      <td>0.0</td>\n",
       "      <td>0.0</td>\n",
       "      <td>0.0</td>\n",
       "    </tr>\n",
       "    <tr>\n",
       "      <th>1</th>\n",
       "      <td>0.040484</td>\n",
       "      <td>0.584949</td>\n",
       "      <td>0.456674</td>\n",
       "      <td>0.706289</td>\n",
       "      <td>0.9</td>\n",
       "      <td>1.0</td>\n",
       "      <td>0.0</td>\n",
       "      <td>0.078202</td>\n",
       "      <td>1.0</td>\n",
       "      <td>0.0</td>\n",
       "      <td>0.0</td>\n",
       "      <td>0.0</td>\n",
       "      <td>0.0</td>\n",
       "      <td>0.0</td>\n",
       "    </tr>\n",
       "    <tr>\n",
       "      <th>2</th>\n",
       "      <td>0.080724</td>\n",
       "      <td>0.671231</td>\n",
       "      <td>0.311475</td>\n",
       "      <td>0.754582</td>\n",
       "      <td>0.5</td>\n",
       "      <td>0.0</td>\n",
       "      <td>0.0</td>\n",
       "      <td>0.319701</td>\n",
       "      <td>0.0</td>\n",
       "      <td>0.0</td>\n",
       "      <td>0.0</td>\n",
       "      <td>0.0</td>\n",
       "      <td>0.0</td>\n",
       "      <td>0.0</td>\n",
       "    </tr>\n",
       "    <tr>\n",
       "      <th>3</th>\n",
       "      <td>0.080724</td>\n",
       "      <td>0.671231</td>\n",
       "      <td>0.311475</td>\n",
       "      <td>0.754582</td>\n",
       "      <td>0.5</td>\n",
       "      <td>0.0</td>\n",
       "      <td>1.0</td>\n",
       "      <td>0.140970</td>\n",
       "      <td>0.0</td>\n",
       "      <td>0.0</td>\n",
       "      <td>0.0</td>\n",
       "      <td>0.0</td>\n",
       "      <td>0.0</td>\n",
       "      <td>0.0</td>\n",
       "    </tr>\n",
       "    <tr>\n",
       "      <th>4</th>\n",
       "      <td>0.037491</td>\n",
       "      <td>0.585919</td>\n",
       "      <td>0.475410</td>\n",
       "      <td>0.736692</td>\n",
       "      <td>0.6</td>\n",
       "      <td>0.0</td>\n",
       "      <td>0.0</td>\n",
       "      <td>0.513659</td>\n",
       "      <td>0.0</td>\n",
       "      <td>0.0</td>\n",
       "      <td>0.0</td>\n",
       "      <td>1.0</td>\n",
       "      <td>0.0</td>\n",
       "      <td>0.0</td>\n",
       "    </tr>\n",
       "  </tbody>\n",
       "</table>\n",
       "</div>"
      ],
      "text/plain": [
       "   distance_station_mms  latitude_mms   age_mms  longitude_mms  stores_mms  \\\n",
       "0              0.005549      0.616941  0.749415       0.714301         1.0   \n",
       "1              0.040484      0.584949  0.456674       0.706289         0.9   \n",
       "2              0.080724      0.671231  0.311475       0.754582         0.5   \n",
       "3              0.080724      0.671231  0.311475       0.754582         0.5   \n",
       "4              0.037491      0.585919  0.475410       0.736692         0.6   \n",
       "\n",
       "   year_2012  mes_7  mes_te_mms  mes_12  mes_5  mes_2  mes_6  mes_10  mes_1  \n",
       "0        1.0    0.0    0.078202     1.0    0.0    0.0    0.0     0.0    0.0  \n",
       "1        1.0    0.0    0.078202     1.0    0.0    0.0    0.0     0.0    0.0  \n",
       "2        0.0    0.0    0.319701     0.0    0.0    0.0    0.0     0.0    0.0  \n",
       "3        0.0    1.0    0.140970     0.0    0.0    0.0    0.0     0.0    0.0  \n",
       "4        0.0    0.0    0.513659     0.0    0.0    0.0    1.0     0.0    0.0  "
      ]
     },
     "execution_count": 21,
     "metadata": {},
     "output_type": "execute_result"
    }
   ],
   "source": [
    "x_per = x[entran_per].copy()\n",
    "x_per.head()"
   ]
  },
  {
   "attachments": {},
   "cell_type": "markdown",
   "metadata": {},
   "source": [
    "## SELECCIONAR EL MÉTODO FINAL (ANTERIORES)"
   ]
  },
  {
   "cell_type": "code",
   "execution_count": 22,
   "metadata": {},
   "outputs": [
    {
     "data": {
      "text/html": [
       "<div>\n",
       "<style scoped>\n",
       "    .dataframe tbody tr th:only-of-type {\n",
       "        vertical-align: middle;\n",
       "    }\n",
       "\n",
       "    .dataframe tbody tr th {\n",
       "        vertical-align: top;\n",
       "    }\n",
       "\n",
       "    .dataframe thead th {\n",
       "        text-align: right;\n",
       "    }\n",
       "</style>\n",
       "<table border=\"1\" class=\"dataframe\">\n",
       "  <thead>\n",
       "    <tr style=\"text-align: right;\">\n",
       "      <th></th>\n",
       "      <th>distance_station_mms</th>\n",
       "      <th>longitude_mms</th>\n",
       "      <th>latitude_mms</th>\n",
       "      <th>stores_mms</th>\n",
       "      <th>age_mms</th>\n",
       "      <th>year_te_mms</th>\n",
       "    </tr>\n",
       "  </thead>\n",
       "  <tbody>\n",
       "    <tr>\n",
       "      <th>0</th>\n",
       "      <td>0.005549</td>\n",
       "      <td>0.714301</td>\n",
       "      <td>0.616941</td>\n",
       "      <td>1.0</td>\n",
       "      <td>0.749415</td>\n",
       "      <td>0.0</td>\n",
       "    </tr>\n",
       "    <tr>\n",
       "      <th>1</th>\n",
       "      <td>0.040484</td>\n",
       "      <td>0.706289</td>\n",
       "      <td>0.584949</td>\n",
       "      <td>0.9</td>\n",
       "      <td>0.456674</td>\n",
       "      <td>0.0</td>\n",
       "    </tr>\n",
       "    <tr>\n",
       "      <th>2</th>\n",
       "      <td>0.080724</td>\n",
       "      <td>0.754582</td>\n",
       "      <td>0.671231</td>\n",
       "      <td>0.5</td>\n",
       "      <td>0.311475</td>\n",
       "      <td>1.0</td>\n",
       "    </tr>\n",
       "    <tr>\n",
       "      <th>3</th>\n",
       "      <td>0.080724</td>\n",
       "      <td>0.754582</td>\n",
       "      <td>0.671231</td>\n",
       "      <td>0.5</td>\n",
       "      <td>0.311475</td>\n",
       "      <td>1.0</td>\n",
       "    </tr>\n",
       "    <tr>\n",
       "      <th>4</th>\n",
       "      <td>0.037491</td>\n",
       "      <td>0.736692</td>\n",
       "      <td>0.585919</td>\n",
       "      <td>0.6</td>\n",
       "      <td>0.475410</td>\n",
       "      <td>1.0</td>\n",
       "    </tr>\n",
       "  </tbody>\n",
       "</table>\n",
       "</div>"
      ],
      "text/plain": [
       "   distance_station_mms  longitude_mms  latitude_mms  stores_mms   age_mms  \\\n",
       "0              0.005549       0.714301      0.616941         1.0  0.749415   \n",
       "1              0.040484       0.706289      0.584949         0.9  0.456674   \n",
       "2              0.080724       0.754582      0.671231         0.5  0.311475   \n",
       "3              0.080724       0.754582      0.671231         0.5  0.311475   \n",
       "4              0.037491       0.736692      0.585919         0.6  0.475410   \n",
       "\n",
       "   year_te_mms  \n",
       "0          0.0  \n",
       "1          0.0  \n",
       "2          1.0  \n",
       "3          1.0  \n",
       "4          1.0  "
      ]
     },
     "execution_count": 22,
     "metadata": {},
     "output_type": "execute_result"
    }
   ],
   "source": [
    "x_preselecionado = x_mi\n",
    "x_preselecionado.head()"
   ]
  },
  {
   "attachments": {},
   "cell_type": "markdown",
   "metadata": {},
   "source": [
    "## MÉTODOS NO SUPERVISADOS"
   ]
  },
  {
   "attachments": {},
   "cell_type": "markdown",
   "metadata": {},
   "source": [
    "### CORRELACIÓN"
   ]
  },
  {
   "attachments": {},
   "cell_type": "markdown",
   "metadata": {},
   "source": [
    "#### Crear una función para mostrar el resultado"
   ]
  },
  {
   "cell_type": "code",
   "execution_count": 23,
   "metadata": {},
   "outputs": [],
   "source": [
    "def correlaciones_fuertes(df, lim_inf = 0.3, lim_sup = 1, drop_dupli = True):\n",
    "    #Calcula la matriz de correlación\n",
    "    c= df.corr().abs()\n",
    "    c= c.unstack()\n",
    "    c= pd.DataFrame(c).reset_index()\n",
    "    c.columns = ['var1', 'var2', 'corr']\n",
    "    c = c.loc[(c['corr'] > lim_inf) & (c['corr'] < lim_sup), :].sort_values(by= 'corr', ascending= False)\n",
    "    c = c if drop_dupli == False else c.drop_duplicates(subset= ['corr'])\n",
    "    return c\n"
   ]
  },
  {
   "attachments": {},
   "cell_type": "markdown",
   "metadata": {},
   "source": [
    "#### Calcular"
   ]
  },
  {
   "cell_type": "code",
   "execution_count": 24,
   "metadata": {},
   "outputs": [],
   "source": [
    "cor_finales = correlaciones_fuertes(x_preselecionado)"
   ]
  },
  {
   "attachments": {},
   "cell_type": "markdown",
   "metadata": {},
   "source": [
    "#### Revisar Agregado"
   ]
  },
  {
   "cell_type": "code",
   "execution_count": 25,
   "metadata": {},
   "outputs": [
    {
     "data": {
      "text/plain": [
       "distance_station_mms    3\n",
       "longitude_mms           2\n",
       "latitude_mms            1\n",
       "Name: var1, dtype: int64"
      ]
     },
     "execution_count": 25,
     "metadata": {},
     "output_type": "execute_result"
    }
   ],
   "source": [
    "cor_finales.var1.value_counts()"
   ]
  },
  {
   "attachments": {},
   "cell_type": "markdown",
   "metadata": {},
   "source": [
    "#### Revisar detalle"
   ]
  },
  {
   "cell_type": "code",
   "execution_count": 26,
   "metadata": {},
   "outputs": [
    {
     "data": {
      "text/html": [
       "<div>\n",
       "<style scoped>\n",
       "    .dataframe tbody tr th:only-of-type {\n",
       "        vertical-align: middle;\n",
       "    }\n",
       "\n",
       "    .dataframe tbody tr th {\n",
       "        vertical-align: top;\n",
       "    }\n",
       "\n",
       "    .dataframe thead th {\n",
       "        text-align: right;\n",
       "    }\n",
       "</style>\n",
       "<table border=\"1\" class=\"dataframe\">\n",
       "  <thead>\n",
       "    <tr style=\"text-align: right;\">\n",
       "      <th></th>\n",
       "      <th>var1</th>\n",
       "      <th>var2</th>\n",
       "      <th>corr</th>\n",
       "    </tr>\n",
       "  </thead>\n",
       "  <tbody>\n",
       "    <tr>\n",
       "      <th>1</th>\n",
       "      <td>distance_station_mms</td>\n",
       "      <td>longitude_mms</td>\n",
       "      <td>0.777707</td>\n",
       "    </tr>\n",
       "    <tr>\n",
       "      <th>3</th>\n",
       "      <td>distance_station_mms</td>\n",
       "      <td>stores_mms</td>\n",
       "      <td>0.646154</td>\n",
       "    </tr>\n",
       "    <tr>\n",
       "      <th>2</th>\n",
       "      <td>distance_station_mms</td>\n",
       "      <td>latitude_mms</td>\n",
       "      <td>0.586001</td>\n",
       "    </tr>\n",
       "    <tr>\n",
       "      <th>15</th>\n",
       "      <td>latitude_mms</td>\n",
       "      <td>stores_mms</td>\n",
       "      <td>0.457066</td>\n",
       "    </tr>\n",
       "    <tr>\n",
       "      <th>9</th>\n",
       "      <td>longitude_mms</td>\n",
       "      <td>stores_mms</td>\n",
       "      <td>0.433646</td>\n",
       "    </tr>\n",
       "    <tr>\n",
       "      <th>8</th>\n",
       "      <td>longitude_mms</td>\n",
       "      <td>latitude_mms</td>\n",
       "      <td>0.387364</td>\n",
       "    </tr>\n",
       "  </tbody>\n",
       "</table>\n",
       "</div>"
      ],
      "text/plain": [
       "                    var1           var2      corr\n",
       "1   distance_station_mms  longitude_mms  0.777707\n",
       "3   distance_station_mms     stores_mms  0.646154\n",
       "2   distance_station_mms   latitude_mms  0.586001\n",
       "15          latitude_mms     stores_mms  0.457066\n",
       "9          longitude_mms     stores_mms  0.433646\n",
       "8          longitude_mms   latitude_mms  0.387364"
      ]
     },
     "execution_count": 26,
     "metadata": {},
     "output_type": "execute_result"
    }
   ],
   "source": [
    "cor_finales.head(50)"
   ]
  },
  {
   "attachments": {},
   "cell_type": "markdown",
   "metadata": {},
   "source": [
    "## SELECCIONAR VARIABLES A ELIMINAR"
   ]
  },
  {
   "cell_type": "code",
   "execution_count": 27,
   "metadata": {},
   "outputs": [
    {
     "data": {
      "text/plain": [
       "Index(['distance_station_mms', 'longitude_mms', 'latitude_mms', 'stores_mms',\n",
       "       'age_mms', 'year_te_mms'],\n",
       "      dtype='object')"
      ]
     },
     "execution_count": 27,
     "metadata": {},
     "output_type": "execute_result"
    }
   ],
   "source": [
    "x_preselecionado.columns"
   ]
  },
  {
   "attachments": {},
   "cell_type": "markdown",
   "metadata": {},
   "source": [
    "#### Filtrar variables"
   ]
  },
  {
   "cell_type": "code",
   "execution_count": 28,
   "metadata": {},
   "outputs": [
    {
     "data": {
      "text/plain": [
       "['distance_station_mms',\n",
       " 'latitude_mms',\n",
       " 'stores_mms',\n",
       " 'age_mms',\n",
       " 'year_te_mms']"
      ]
     },
     "execution_count": 28,
     "metadata": {},
     "output_type": "execute_result"
    }
   ],
   "source": [
    "a_eliminar = ['longitude_mms']\n",
    "x_preselecionado.drop(columns= a_eliminar, inplace= True)\n",
    "x_preselecionado.columns.to_list()"
   ]
  },
  {
   "attachments": {},
   "cell_type": "markdown",
   "metadata": {},
   "source": [
    "### GUARDAR DATASETS TRAS PRESELECCIÓN DE VARIABLES"
   ]
  },
  {
   "attachments": {},
   "cell_type": "markdown",
   "metadata": {},
   "source": [
    "#### Definir los nombres de los archivos"
   ]
  },
  {
   "cell_type": "code",
   "execution_count": 29,
   "metadata": {},
   "outputs": [],
   "source": [
    "nombre_x_preselecionado = '../../02_Datos/03_Trabajo/' + 'x_preselecionado.pickle'\n",
    "nombre_y_preselecionado = '../../02_Datos/03_Trabajo/' + 'y_preselecionado.pickle'"
   ]
  },
  {
   "attachments": {},
   "cell_type": "markdown",
   "metadata": {},
   "source": [
    "#### Guardar los Datasets"
   ]
  },
  {
   "cell_type": "code",
   "execution_count": 30,
   "metadata": {},
   "outputs": [],
   "source": [
    "#Predictoras\n",
    "x_preselecionado.to_pickle(nombre_x_preselecionado)\n",
    "\n",
    "#Target\n",
    "y_preselecionado = y.copy()\n",
    "y_preselecionado.to_pickle(nombre_y_preselecionado)"
   ]
  },
  {
   "attachments": {},
   "cell_type": "markdown",
   "metadata": {},
   "source": [
    "#### Guardar los nombres de las variables finales"
   ]
  },
  {
   "cell_type": "code",
   "execution_count": 31,
   "metadata": {},
   "outputs": [],
   "source": [
    "x_preselecionado.columns.to_list()\n",
    "\n",
    "nombre_variables_finales = '../../02_Datos/03_Trabajo/' + 'variables_finales.pickle'\n",
    "x_preselecionado.iloc[:0].to_pickle(nombre_variables_finales)"
   ]
  }
 ],
 "metadata": {
  "kernelspec": {
   "display_name": "proyecto1",
   "language": "python",
   "name": "python3"
  },
  "language_info": {
   "codemirror_mode": {
    "name": "ipython",
    "version": 3
   },
   "file_extension": ".py",
   "mimetype": "text/x-python",
   "name": "python",
   "nbconvert_exporter": "python",
   "pygments_lexer": "ipython3",
   "version": "3.11.3"
  },
  "orig_nbformat": 4
 },
 "nbformat": 4,
 "nbformat_minor": 2
}
