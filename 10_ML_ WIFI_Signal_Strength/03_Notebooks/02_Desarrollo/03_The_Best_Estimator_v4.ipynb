{
 "cells": [
  {
   "cell_type": "markdown",
   "metadata": {},
   "source": [
    "# ANÁLISES GRID DE BEST ESTIMATOR"
   ]
  },
  {
   "cell_type": "markdown",
   "metadata": {},
   "source": [
    "Mejores algoritmos propuestos por LazyPredict:"
   ]
  },
  {
   "attachments": {
    "image.png": {
     "image/png": "[encoded data removed]"
    }
   },
   "cell_type": "markdown",
   "metadata": {},
   "source": [
    "![image.png](attachment:image.png)"
   ]
  },
  {
   "cell_type": "markdown",
   "metadata": {},
   "source": [
    "## IMPORTACIÓN DE PAQUETES"
   ]
  },
  {
   "cell_type": "code",
   "execution_count": 1,
   "metadata": {},
   "outputs": [],
   "source": [
    "import numpy as np \n",
    "import pandas as pd\n",
    "import matplotlib.pyplot as plt\n",
    "%matplotlib inline\n",
    "import seaborn as sns\n",
    "\n",
    "from sklearn.model_selection import train_test_split\n",
    "\n",
    "#Modelos\n",
    "\n",
    "from sklearn.semi_supervised import LabelPropagation\n",
    "from sklearn.semi_supervised import LabelSpreading\n",
    "from lightgbm import LGBMClassifier\n",
    "from sklearn.ensemble import ExtraTreesClassifier\n",
    "from sklearn.ensemble import RandomForestClassifier\n",
    "from xgboost import XGBClassifier\n",
    "\n",
    "#Optimizar modelo\n",
    "from sklearn.model_selection import GridSearchCV\n",
    "\n",
    "#Métricas de evaluación\n",
    "from sklearn.metrics import roc_auc_score, roc_curve, auc\n",
    "from sklearn.metrics import accuracy_score\n",
    "from sklearn.metrics import confusion_matrix\n",
    "from sklearn.preprocessing import label_binarize\n",
    "from sklearn.metrics import classification_report\n",
    "from sklearn.metrics import precision_recall_curve\n",
    "\n",
    "import scikitplot as skplt\n",
    "from yellowbrick.classifier import discrimination_threshold\n",
    "\n",
    "#Crear Pipeline\n",
    "from sklearn.pipeline import Pipeline\n",
    "from sklearn.preprocessing import FunctionTransformer\n",
    "from sklearn.compose import make_column_transformer\n",
    "from sklearn.pipeline import make_pipeline\n",
    "\n",
    "import cloudpickle\n"
   ]
  },
  {
   "cell_type": "markdown",
   "metadata": {},
   "source": [
    "## IMPORTACIÓN DE DATOS"
   ]
  },
  {
   "cell_type": "markdown",
   "metadata": {},
   "source": [
    "### Cargar los datos"
   ]
  },
  {
   "cell_type": "code",
   "execution_count": 2,
   "metadata": {},
   "outputs": [
    {
     "data": {
      "text/html": [
       "<div>\n",
       "<style scoped>\n",
       "    .dataframe tbody tr th:only-of-type {\n",
       "        vertical-align: middle;\n",
       "    }\n",
       "\n",
       "    .dataframe tbody tr th {\n",
       "        vertical-align: top;\n",
       "    }\n",
       "\n",
       "    .dataframe thead th {\n",
       "        text-align: right;\n",
       "    }\n",
       "</style>\n",
       "<table border=\"1\" class=\"dataframe\">\n",
       "  <thead>\n",
       "    <tr style=\"text-align: right;\">\n",
       "      <th></th>\n",
       "      <th>wifi1</th>\n",
       "      <th>wifi2</th>\n",
       "      <th>wifi3</th>\n",
       "      <th>wifi4</th>\n",
       "      <th>wifi5</th>\n",
       "      <th>wifi6</th>\n",
       "      <th>wifi7</th>\n",
       "      <th>room</th>\n",
       "    </tr>\n",
       "  </thead>\n",
       "  <tbody>\n",
       "    <tr>\n",
       "      <th>0</th>\n",
       "      <td>-64</td>\n",
       "      <td>-56</td>\n",
       "      <td>-61</td>\n",
       "      <td>-66</td>\n",
       "      <td>-71</td>\n",
       "      <td>-82</td>\n",
       "      <td>-81</td>\n",
       "      <td>1</td>\n",
       "    </tr>\n",
       "    <tr>\n",
       "      <th>1</th>\n",
       "      <td>-63</td>\n",
       "      <td>-60</td>\n",
       "      <td>-60</td>\n",
       "      <td>-67</td>\n",
       "      <td>-76</td>\n",
       "      <td>-85</td>\n",
       "      <td>-84</td>\n",
       "      <td>1</td>\n",
       "    </tr>\n",
       "    <tr>\n",
       "      <th>2</th>\n",
       "      <td>-61</td>\n",
       "      <td>-60</td>\n",
       "      <td>-68</td>\n",
       "      <td>-62</td>\n",
       "      <td>-77</td>\n",
       "      <td>-90</td>\n",
       "      <td>-80</td>\n",
       "      <td>1</td>\n",
       "    </tr>\n",
       "    <tr>\n",
       "      <th>3</th>\n",
       "      <td>-63</td>\n",
       "      <td>-65</td>\n",
       "      <td>-60</td>\n",
       "      <td>-63</td>\n",
       "      <td>-77</td>\n",
       "      <td>-81</td>\n",
       "      <td>-87</td>\n",
       "      <td>1</td>\n",
       "    </tr>\n",
       "    <tr>\n",
       "      <th>4</th>\n",
       "      <td>-64</td>\n",
       "      <td>-55</td>\n",
       "      <td>-63</td>\n",
       "      <td>-66</td>\n",
       "      <td>-76</td>\n",
       "      <td>-88</td>\n",
       "      <td>-83</td>\n",
       "      <td>1</td>\n",
       "    </tr>\n",
       "  </tbody>\n",
       "</table>\n",
       "</div>"
      ],
      "text/plain": [
       "   wifi1  wifi2  wifi3  wifi4  wifi5  wifi6  wifi7  room\n",
       "0    -64    -56    -61    -66    -71    -82    -81     1\n",
       "1    -63    -60    -60    -67    -76    -85    -84     1\n",
       "2    -61    -60    -68    -62    -77    -90    -80     1\n",
       "3    -63    -65    -60    -63    -77    -81    -87     1\n",
       "4    -64    -55    -63    -66    -76    -88    -83     1"
      ]
     },
     "execution_count": 2,
     "metadata": {},
     "output_type": "execute_result"
    }
   ],
   "source": [
    "df_tablon = pd.read_pickle('../../02_Datos/03_Trabajo/tablon_analitico.pickle')\n",
    "df_tablon.head()"
   ]
  },
  {
   "cell_type": "markdown",
   "metadata": {},
   "source": [
    "### Separar predictoras y target"
   ]
  },
  {
   "cell_type": "code",
   "execution_count": 3,
   "metadata": {},
   "outputs": [],
   "source": [
    "x = df_tablon.drop(columns= 'room').copy()\n",
    "y = df_tablon.room.copy()"
   ]
  },
  {
   "cell_type": "code",
   "execution_count": 4,
   "metadata": {},
   "outputs": [],
   "source": [
    "from sklearn.preprocessing import LabelEncoder\n",
    "le = LabelEncoder()\n",
    "y = le.fit_transform(y)"
   ]
  },
  {
   "cell_type": "markdown",
   "metadata": {},
   "source": [
    "## MODELIZAR"
   ]
  },
  {
   "cell_type": "markdown",
   "metadata": {},
   "source": [
    "### RESERVAR EL DATASET DE VALIDACION"
   ]
  },
  {
   "cell_type": "code",
   "execution_count": 5,
   "metadata": {},
   "outputs": [],
   "source": [
    "train_x, val_x, train_y, val_y = train_test_split(x, y, test_size= 0.3, random_state=1)"
   ]
  },
  {
   "cell_type": "markdown",
   "metadata": {},
   "source": [
    "### CREAR PIPE Y EL DICCIONARIO CON LOS ALGORITMOS, PARÁMETROS Y VALORES"
   ]
  },
  {
   "cell_type": "code",
   "execution_count": 6,
   "metadata": {},
   "outputs": [],
   "source": [
    "pipe = Pipeline([('algoritmo',XGBClassifier())])\n",
    "\n",
    "grid = [\n",
    "\n",
    "        {'algoritmo': [XGBClassifier()],\n",
    "         'algoritmo__n_jobs': [-1],\n",
    "         'algoritmo__verbosity': [0],#para que no salgan warnings\n",
    "         'algoritmo__learning_rate': [0.01,0.025,0.05,0.1],\n",
    "         'algoritmo__max_depth': [5,10,20],\n",
    "         'algoritmo__reg_alpha': [0,0.1,0.5,1],\n",
    "         'algoritmo__reg_lambda': [0.01,0.1,1],\n",
    "         'algoritmo__n_estimators': [100, 200, 300]}\n",
    "]"
   ]
  },
  {
   "cell_type": "markdown",
   "metadata": {},
   "source": [
    "### OPTIMIZAR LOS HIPERPARÁMETROS"
   ]
  },
  {
   "cell_type": "code",
   "execution_count": 7,
   "metadata": {},
   "outputs": [
    {
     "data": {
      "text/html": [
       "<div>\n",
       "<style scoped>\n",
       "    .dataframe tbody tr th:only-of-type {\n",
       "        vertical-align: middle;\n",
       "    }\n",
       "\n",
       "    .dataframe tbody tr th {\n",
       "        vertical-align: top;\n",
       "    }\n",
       "\n",
       "    .dataframe thead th {\n",
       "        text-align: right;\n",
       "    }\n",
       "</style>\n",
       "<table border=\"1\" class=\"dataframe\">\n",
       "  <thead>\n",
       "    <tr style=\"text-align: right;\">\n",
       "      <th></th>\n",
       "      <th>mean_fit_time</th>\n",
       "      <th>std_fit_time</th>\n",
       "      <th>mean_score_time</th>\n",
       "      <th>std_score_time</th>\n",
       "      <th>param_algoritmo</th>\n",
       "      <th>param_algoritmo__learning_rate</th>\n",
       "      <th>param_algoritmo__max_depth</th>\n",
       "      <th>param_algoritmo__n_estimators</th>\n",
       "      <th>param_algoritmo__n_jobs</th>\n",
       "      <th>param_algoritmo__reg_alpha</th>\n",
       "      <th>param_algoritmo__reg_lambda</th>\n",
       "      <th>param_algoritmo__verbosity</th>\n",
       "      <th>params</th>\n",
       "      <th>split0_test_score</th>\n",
       "      <th>split1_test_score</th>\n",
       "      <th>split2_test_score</th>\n",
       "      <th>split3_test_score</th>\n",
       "      <th>mean_test_score</th>\n",
       "      <th>std_test_score</th>\n",
       "      <th>rank_test_score</th>\n",
       "    </tr>\n",
       "  </thead>\n",
       "  <tbody>\n",
       "    <tr>\n",
       "      <th>313</th>\n",
       "      <td>0.895499</td>\n",
       "      <td>0.038765</td>\n",
       "      <td>0.009994</td>\n",
       "      <td>0.003460</td>\n",
       "      <td>XGBClassifier(base_score=None, booster=None, c...</td>\n",
       "      <td>0.05</td>\n",
       "      <td>20</td>\n",
       "      <td>300</td>\n",
       "      <td>-1</td>\n",
       "      <td>0</td>\n",
       "      <td>0.1</td>\n",
       "      <td>0</td>\n",
       "      <td>{'algoritmo': XGBClassifier(base_score=None, b...</td>\n",
       "      <td>0.991837</td>\n",
       "      <td>0.975510</td>\n",
       "      <td>0.991837</td>\n",
       "      <td>0.971429</td>\n",
       "      <td>0.982653</td>\n",
       "      <td>0.009296</td>\n",
       "      <td>1</td>\n",
       "    </tr>\n",
       "    <tr>\n",
       "      <th>312</th>\n",
       "      <td>0.908815</td>\n",
       "      <td>0.034277</td>\n",
       "      <td>0.008999</td>\n",
       "      <td>0.001736</td>\n",
       "      <td>XGBClassifier(base_score=None, booster=None, c...</td>\n",
       "      <td>0.05</td>\n",
       "      <td>20</td>\n",
       "      <td>300</td>\n",
       "      <td>-1</td>\n",
       "      <td>0</td>\n",
       "      <td>0.01</td>\n",
       "      <td>0</td>\n",
       "      <td>{'algoritmo': XGBClassifier(base_score=None, b...</td>\n",
       "      <td>0.991837</td>\n",
       "      <td>0.975510</td>\n",
       "      <td>0.991837</td>\n",
       "      <td>0.971429</td>\n",
       "      <td>0.982653</td>\n",
       "      <td>0.009296</td>\n",
       "      <td>1</td>\n",
       "    </tr>\n",
       "    <tr>\n",
       "      <th>264</th>\n",
       "      <td>0.703715</td>\n",
       "      <td>0.016328</td>\n",
       "      <td>0.010068</td>\n",
       "      <td>0.003588</td>\n",
       "      <td>XGBClassifier(base_score=None, booster=None, c...</td>\n",
       "      <td>0.05</td>\n",
       "      <td>10</td>\n",
       "      <td>200</td>\n",
       "      <td>-1</td>\n",
       "      <td>0</td>\n",
       "      <td>0.01</td>\n",
       "      <td>0</td>\n",
       "      <td>{'algoritmo': XGBClassifier(base_score=None, b...</td>\n",
       "      <td>0.991837</td>\n",
       "      <td>0.975510</td>\n",
       "      <td>0.991837</td>\n",
       "      <td>0.971429</td>\n",
       "      <td>0.982653</td>\n",
       "      <td>0.009296</td>\n",
       "      <td>1</td>\n",
       "    </tr>\n",
       "    <tr>\n",
       "      <th>276</th>\n",
       "      <td>0.896375</td>\n",
       "      <td>0.005798</td>\n",
       "      <td>0.007756</td>\n",
       "      <td>0.000431</td>\n",
       "      <td>XGBClassifier(base_score=None, booster=None, c...</td>\n",
       "      <td>0.05</td>\n",
       "      <td>10</td>\n",
       "      <td>300</td>\n",
       "      <td>-1</td>\n",
       "      <td>0</td>\n",
       "      <td>0.01</td>\n",
       "      <td>0</td>\n",
       "      <td>{'algoritmo': XGBClassifier(base_score=None, b...</td>\n",
       "      <td>0.991837</td>\n",
       "      <td>0.975510</td>\n",
       "      <td>0.991837</td>\n",
       "      <td>0.971429</td>\n",
       "      <td>0.982653</td>\n",
       "      <td>0.009296</td>\n",
       "      <td>1</td>\n",
       "    </tr>\n",
       "    <tr>\n",
       "      <th>337</th>\n",
       "      <td>0.522213</td>\n",
       "      <td>0.014449</td>\n",
       "      <td>0.006997</td>\n",
       "      <td>0.001727</td>\n",
       "      <td>XGBClassifier(base_score=None, booster=None, c...</td>\n",
       "      <td>0.1</td>\n",
       "      <td>5</td>\n",
       "      <td>200</td>\n",
       "      <td>-1</td>\n",
       "      <td>0</td>\n",
       "      <td>0.1</td>\n",
       "      <td>0</td>\n",
       "      <td>{'algoritmo': XGBClassifier(base_score=None, b...</td>\n",
       "      <td>0.991837</td>\n",
       "      <td>0.975510</td>\n",
       "      <td>0.987755</td>\n",
       "      <td>0.975510</td>\n",
       "      <td>0.982653</td>\n",
       "      <td>0.007287</td>\n",
       "      <td>1</td>\n",
       "    </tr>\n",
       "    <tr>\n",
       "      <th>...</th>\n",
       "      <td>...</td>\n",
       "      <td>...</td>\n",
       "      <td>...</td>\n",
       "      <td>...</td>\n",
       "      <td>...</td>\n",
       "      <td>...</td>\n",
       "      <td>...</td>\n",
       "      <td>...</td>\n",
       "      <td>...</td>\n",
       "      <td>...</td>\n",
       "      <td>...</td>\n",
       "      <td>...</td>\n",
       "      <td>...</td>\n",
       "      <td>...</td>\n",
       "      <td>...</td>\n",
       "      <td>...</td>\n",
       "      <td>...</td>\n",
       "      <td>...</td>\n",
       "      <td>...</td>\n",
       "      <td>...</td>\n",
       "    </tr>\n",
       "    <tr>\n",
       "      <th>80</th>\n",
       "      <td>0.452754</td>\n",
       "      <td>0.014683</td>\n",
       "      <td>0.005999</td>\n",
       "      <td>0.003463</td>\n",
       "      <td>XGBClassifier(base_score=None, booster=None, c...</td>\n",
       "      <td>0.01</td>\n",
       "      <td>20</td>\n",
       "      <td>100</td>\n",
       "      <td>-1</td>\n",
       "      <td>0.5</td>\n",
       "      <td>1</td>\n",
       "      <td>0</td>\n",
       "      <td>{'algoritmo': XGBClassifier(base_score=None, b...</td>\n",
       "      <td>0.983673</td>\n",
       "      <td>0.967347</td>\n",
       "      <td>0.971429</td>\n",
       "      <td>0.963265</td>\n",
       "      <td>0.971429</td>\n",
       "      <td>0.007636</td>\n",
       "      <td>420</td>\n",
       "    </tr>\n",
       "    <tr>\n",
       "      <th>47</th>\n",
       "      <td>0.528786</td>\n",
       "      <td>0.018406</td>\n",
       "      <td>0.014388</td>\n",
       "      <td>0.011460</td>\n",
       "      <td>XGBClassifier(base_score=None, booster=None, c...</td>\n",
       "      <td>0.01</td>\n",
       "      <td>10</td>\n",
       "      <td>100</td>\n",
       "      <td>-1</td>\n",
       "      <td>1</td>\n",
       "      <td>1</td>\n",
       "      <td>0</td>\n",
       "      <td>{'algoritmo': XGBClassifier(base_score=None, b...</td>\n",
       "      <td>0.983673</td>\n",
       "      <td>0.967347</td>\n",
       "      <td>0.971429</td>\n",
       "      <td>0.963265</td>\n",
       "      <td>0.971429</td>\n",
       "      <td>0.007636</td>\n",
       "      <td>420</td>\n",
       "    </tr>\n",
       "    <tr>\n",
       "      <th>9</th>\n",
       "      <td>0.536634</td>\n",
       "      <td>0.121156</td>\n",
       "      <td>0.006368</td>\n",
       "      <td>0.003390</td>\n",
       "      <td>XGBClassifier(base_score=None, booster=None, c...</td>\n",
       "      <td>0.01</td>\n",
       "      <td>5</td>\n",
       "      <td>100</td>\n",
       "      <td>-1</td>\n",
       "      <td>1</td>\n",
       "      <td>0.01</td>\n",
       "      <td>0</td>\n",
       "      <td>{'algoritmo': XGBClassifier(base_score=None, b...</td>\n",
       "      <td>0.983673</td>\n",
       "      <td>0.963265</td>\n",
       "      <td>0.975510</td>\n",
       "      <td>0.963265</td>\n",
       "      <td>0.971429</td>\n",
       "      <td>0.008658</td>\n",
       "      <td>420</td>\n",
       "    </tr>\n",
       "    <tr>\n",
       "      <th>10</th>\n",
       "      <td>0.540361</td>\n",
       "      <td>0.134260</td>\n",
       "      <td>0.015658</td>\n",
       "      <td>0.013340</td>\n",
       "      <td>XGBClassifier(base_score=None, booster=None, c...</td>\n",
       "      <td>0.01</td>\n",
       "      <td>5</td>\n",
       "      <td>100</td>\n",
       "      <td>-1</td>\n",
       "      <td>1</td>\n",
       "      <td>0.1</td>\n",
       "      <td>0</td>\n",
       "      <td>{'algoritmo': XGBClassifier(base_score=None, b...</td>\n",
       "      <td>0.983673</td>\n",
       "      <td>0.959184</td>\n",
       "      <td>0.975510</td>\n",
       "      <td>0.963265</td>\n",
       "      <td>0.970408</td>\n",
       "      <td>0.009734</td>\n",
       "      <td>431</td>\n",
       "    </tr>\n",
       "    <tr>\n",
       "      <th>11</th>\n",
       "      <td>0.644905</td>\n",
       "      <td>0.016892</td>\n",
       "      <td>0.006685</td>\n",
       "      <td>0.004972</td>\n",
       "      <td>XGBClassifier(base_score=None, booster=None, c...</td>\n",
       "      <td>0.01</td>\n",
       "      <td>5</td>\n",
       "      <td>100</td>\n",
       "      <td>-1</td>\n",
       "      <td>1</td>\n",
       "      <td>1</td>\n",
       "      <td>0</td>\n",
       "      <td>{'algoritmo': XGBClassifier(base_score=None, b...</td>\n",
       "      <td>0.983673</td>\n",
       "      <td>0.959184</td>\n",
       "      <td>0.975510</td>\n",
       "      <td>0.963265</td>\n",
       "      <td>0.970408</td>\n",
       "      <td>0.009734</td>\n",
       "      <td>431</td>\n",
       "    </tr>\n",
       "  </tbody>\n",
       "</table>\n",
       "<p>432 rows × 20 columns</p>\n",
       "</div>"
      ],
      "text/plain": [
       "     mean_fit_time  std_fit_time  mean_score_time  std_score_time  \\\n",
       "313       0.895499      0.038765         0.009994        0.003460   \n",
       "312       0.908815      0.034277         0.008999        0.001736   \n",
       "264       0.703715      0.016328         0.010068        0.003588   \n",
       "276       0.896375      0.005798         0.007756        0.000431   \n",
       "337       0.522213      0.014449         0.006997        0.001727   \n",
       "..             ...           ...              ...             ...   \n",
       "80        0.452754      0.014683         0.005999        0.003463   \n",
       "47        0.528786      0.018406         0.014388        0.011460   \n",
       "9         0.536634      0.121156         0.006368        0.003390   \n",
       "10        0.540361      0.134260         0.015658        0.013340   \n",
       "11        0.644905      0.016892         0.006685        0.004972   \n",
       "\n",
       "                                       param_algoritmo  \\\n",
       "313  XGBClassifier(base_score=None, booster=None, c...   \n",
       "312  XGBClassifier(base_score=None, booster=None, c...   \n",
       "264  XGBClassifier(base_score=None, booster=None, c...   \n",
       "276  XGBClassifier(base_score=None, booster=None, c...   \n",
       "337  XGBClassifier(base_score=None, booster=None, c...   \n",
       "..                                                 ...   \n",
       "80   XGBClassifier(base_score=None, booster=None, c...   \n",
       "47   XGBClassifier(base_score=None, booster=None, c...   \n",
       "9    XGBClassifier(base_score=None, booster=None, c...   \n",
       "10   XGBClassifier(base_score=None, booster=None, c...   \n",
       "11   XGBClassifier(base_score=None, booster=None, c...   \n",
       "\n",
       "    param_algoritmo__learning_rate param_algoritmo__max_depth  \\\n",
       "313                           0.05                         20   \n",
       "312                           0.05                         20   \n",
       "264                           0.05                         10   \n",
       "276                           0.05                         10   \n",
       "337                            0.1                          5   \n",
       "..                             ...                        ...   \n",
       "80                            0.01                         20   \n",
       "47                            0.01                         10   \n",
       "9                             0.01                          5   \n",
       "10                            0.01                          5   \n",
       "11                            0.01                          5   \n",
       "\n",
       "    param_algoritmo__n_estimators param_algoritmo__n_jobs  \\\n",
       "313                           300                      -1   \n",
       "312                           300                      -1   \n",
       "264                           200                      -1   \n",
       "276                           300                      -1   \n",
       "337                           200                      -1   \n",
       "..                            ...                     ...   \n",
       "80                            100                      -1   \n",
       "47                            100                      -1   \n",
       "9                             100                      -1   \n",
       "10                            100                      -1   \n",
       "11                            100                      -1   \n",
       "\n",
       "    param_algoritmo__reg_alpha param_algoritmo__reg_lambda  \\\n",
       "313                          0                         0.1   \n",
       "312                          0                        0.01   \n",
       "264                          0                        0.01   \n",
       "276                          0                        0.01   \n",
       "337                          0                         0.1   \n",
       "..                         ...                         ...   \n",
       "80                         0.5                           1   \n",
       "47                           1                           1   \n",
       "9                            1                        0.01   \n",
       "10                           1                         0.1   \n",
       "11                           1                           1   \n",
       "\n",
       "    param_algoritmo__verbosity  \\\n",
       "313                          0   \n",
       "312                          0   \n",
       "264                          0   \n",
       "276                          0   \n",
       "337                          0   \n",
       "..                         ...   \n",
       "80                           0   \n",
       "47                           0   \n",
       "9                            0   \n",
       "10                           0   \n",
       "11                           0   \n",
       "\n",
       "                                                params  split0_test_score  \\\n",
       "313  {'algoritmo': XGBClassifier(base_score=None, b...           0.991837   \n",
       "312  {'algoritmo': XGBClassifier(base_score=None, b...           0.991837   \n",
       "264  {'algoritmo': XGBClassifier(base_score=None, b...           0.991837   \n",
       "276  {'algoritmo': XGBClassifier(base_score=None, b...           0.991837   \n",
       "337  {'algoritmo': XGBClassifier(base_score=None, b...           0.991837   \n",
       "..                                                 ...                ...   \n",
       "80   {'algoritmo': XGBClassifier(base_score=None, b...           0.983673   \n",
       "47   {'algoritmo': XGBClassifier(base_score=None, b...           0.983673   \n",
       "9    {'algoritmo': XGBClassifier(base_score=None, b...           0.983673   \n",
       "10   {'algoritmo': XGBClassifier(base_score=None, b...           0.983673   \n",
       "11   {'algoritmo': XGBClassifier(base_score=None, b...           0.983673   \n",
       "\n",
       "     split1_test_score  split2_test_score  split3_test_score  mean_test_score  \\\n",
       "313           0.975510           0.991837           0.971429         0.982653   \n",
       "312           0.975510           0.991837           0.971429         0.982653   \n",
       "264           0.975510           0.991837           0.971429         0.982653   \n",
       "276           0.975510           0.991837           0.971429         0.982653   \n",
       "337           0.975510           0.987755           0.975510         0.982653   \n",
       "..                 ...                ...                ...              ...   \n",
       "80            0.967347           0.971429           0.963265         0.971429   \n",
       "47            0.967347           0.971429           0.963265         0.971429   \n",
       "9             0.963265           0.975510           0.963265         0.971429   \n",
       "10            0.959184           0.975510           0.963265         0.970408   \n",
       "11            0.959184           0.975510           0.963265         0.970408   \n",
       "\n",
       "     std_test_score  rank_test_score  \n",
       "313        0.009296                1  \n",
       "312        0.009296                1  \n",
       "264        0.009296                1  \n",
       "276        0.009296                1  \n",
       "337        0.007287                1  \n",
       "..              ...              ...  \n",
       "80         0.007636              420  \n",
       "47         0.007636              420  \n",
       "9          0.008658              420  \n",
       "10         0.009734              431  \n",
       "11         0.009734              431  \n",
       "\n",
       "[432 rows x 20 columns]"
      ]
     },
     "execution_count": 7,
     "metadata": {},
     "output_type": "execute_result"
    }
   ],
   "source": [
    "grid_search = GridSearchCV(estimator= pipe,\n",
    "                           param_grid= grid,\n",
    "                           cv=4,\n",
    "                           scoring= 'accuracy',\n",
    "                           verbose=0,\n",
    "                           n_jobs= -1)\n",
    "\n",
    "modelo = grid_search.fit(train_x, train_y)\n",
    "pd.DataFrame(grid_search.cv_results_).sort_values(by = 'rank_test_score')"
   ]
  },
  {
   "cell_type": "code",
   "execution_count": 8,
   "metadata": {},
   "outputs": [
    {
     "data": {
      "text/html": [
       "<style>#sk-container-id-1 {color: black;background-color: white;}#sk-container-id-1 pre{padding: 0;}#sk-container-id-1 div.sk-toggleable {background-color: white;}#sk-container-id-1 label.sk-toggleable__label {cursor: pointer;display: block;width: 100%;margin-bottom: 0;padding: 0.3em;box-sizing: border-box;text-align: center;}#sk-container-id-1 label.sk-toggleable__label-arrow:before {content: \"▸\";float: left;margin-right: 0.25em;color: #696969;}#sk-container-id-1 label.sk-toggleable__label-arrow:hover:before {color: black;}#sk-container-id-1 div.sk-estimator:hover label.sk-toggleable__label-arrow:before {color: black;}#sk-container-id-1 div.sk-toggleable__content {max-height: 0;max-width: 0;overflow: hidden;text-align: left;background-color: #f0f8ff;}#sk-container-id-1 div.sk-toggleable__content pre {margin: 0.2em;color: black;border-radius: 0.25em;background-color: #f0f8ff;}#sk-container-id-1 input.sk-toggleable__control:checked~div.sk-toggleable__content {max-height: 200px;max-width: 100%;overflow: auto;}#sk-container-id-1 input.sk-toggleable__control:checked~label.sk-toggleable__label-arrow:before {content: \"▾\";}#sk-container-id-1 div.sk-estimator input.sk-toggleable__control:checked~label.sk-toggleable__label {background-color: #d4ebff;}#sk-container-id-1 div.sk-label input.sk-toggleable__control:checked~label.sk-toggleable__label {background-color: #d4ebff;}#sk-container-id-1 input.sk-hidden--visually {border: 0;clip: rect(1px 1px 1px 1px);clip: rect(1px, 1px, 1px, 1px);height: 1px;margin: -1px;overflow: hidden;padding: 0;position: absolute;width: 1px;}#sk-container-id-1 div.sk-estimator {font-family: monospace;background-color: #f0f8ff;border: 1px dotted black;border-radius: 0.25em;box-sizing: border-box;margin-bottom: 0.5em;}#sk-container-id-1 div.sk-estimator:hover {background-color: #d4ebff;}#sk-container-id-1 div.sk-parallel-item::after {content: \"\";width: 100%;border-bottom: 1px solid gray;flex-grow: 1;}#sk-container-id-1 div.sk-label:hover label.sk-toggleable__label {background-color: #d4ebff;}#sk-container-id-1 div.sk-serial::before {content: \"\";position: absolute;border-left: 1px solid gray;box-sizing: border-box;top: 0;bottom: 0;left: 50%;z-index: 0;}#sk-container-id-1 div.sk-serial {display: flex;flex-direction: column;align-items: center;background-color: white;padding-right: 0.2em;padding-left: 0.2em;position: relative;}#sk-container-id-1 div.sk-item {position: relative;z-index: 1;}#sk-container-id-1 div.sk-parallel {display: flex;align-items: stretch;justify-content: center;background-color: white;position: relative;}#sk-container-id-1 div.sk-item::before, #sk-container-id-1 div.sk-parallel-item::before {content: \"\";position: absolute;border-left: 1px solid gray;box-sizing: border-box;top: 0;bottom: 0;left: 50%;z-index: -1;}#sk-container-id-1 div.sk-parallel-item {display: flex;flex-direction: column;z-index: 1;position: relative;background-color: white;}#sk-container-id-1 div.sk-parallel-item:first-child::after {align-self: flex-end;width: 50%;}#sk-container-id-1 div.sk-parallel-item:last-child::after {align-self: flex-start;width: 50%;}#sk-container-id-1 div.sk-parallel-item:only-child::after {width: 0;}#sk-container-id-1 div.sk-dashed-wrapped {border: 1px dashed gray;margin: 0 0.4em 0.5em 0.4em;box-sizing: border-box;padding-bottom: 0.4em;background-color: white;}#sk-container-id-1 div.sk-label label {font-family: monospace;font-weight: bold;display: inline-block;line-height: 1.2em;}#sk-container-id-1 div.sk-label-container {text-align: center;}#sk-container-id-1 div.sk-container {/* jupyter's `normalize.less` sets `[hidden] { display: none; }` but bootstrap.min.css set `[hidden] { display: none !important; }` so we also need the `!important` here to be able to override the default hidden behavior on the sphinx rendered scikit-learn.org. See: https://github.com/scikit-learn/scikit-learn/issues/21755 */display: inline-block !important;position: relative;}#sk-container-id-1 div.sk-text-repr-fallback {display: none;}</style><div id=\"sk-container-id-1\" class=\"sk-top-container\"><div class=\"sk-text-repr-fallback\"><pre>Pipeline(steps=[(&#x27;algoritmo&#x27;,\n",
       "                 XGBClassifier(base_score=None, booster=None, callbacks=None,\n",
       "                               colsample_bylevel=None, colsample_bynode=None,\n",
       "                               colsample_bytree=None,\n",
       "                               early_stopping_rounds=None,\n",
       "                               enable_categorical=False, eval_metric=None,\n",
       "                               feature_types=None, gamma=None, gpu_id=None,\n",
       "                               grow_policy=None, importance_type=None,\n",
       "                               interaction_constraints=None, learning_rate=0.05,\n",
       "                               max_bin=None, max_cat_threshold=None,\n",
       "                               max_cat_to_onehot=None, max_delta_step=None,\n",
       "                               max_depth=10, max_leaves=None,\n",
       "                               min_child_weight=None, missing=nan,\n",
       "                               monotone_constraints=None, n_estimators=200,\n",
       "                               n_jobs=-1, num_parallel_tree=None,\n",
       "                               objective=&#x27;multi:softprob&#x27;, predictor=None, ...))])</pre><b>In a Jupyter environment, please rerun this cell to show the HTML representation or trust the notebook. <br />On GitHub, the HTML representation is unable to render, please try loading this page with nbviewer.org.</b></div><div class=\"sk-container\" hidden><div class=\"sk-item sk-dashed-wrapped\"><div class=\"sk-label-container\"><div class=\"sk-label sk-toggleable\"><input class=\"sk-toggleable__control sk-hidden--visually\" id=\"sk-estimator-id-1\" type=\"checkbox\" ><label for=\"sk-estimator-id-1\" class=\"sk-toggleable__label sk-toggleable__label-arrow\">Pipeline</label><div class=\"sk-toggleable__content\"><pre>Pipeline(steps=[(&#x27;algoritmo&#x27;,\n",
       "                 XGBClassifier(base_score=None, booster=None, callbacks=None,\n",
       "                               colsample_bylevel=None, colsample_bynode=None,\n",
       "                               colsample_bytree=None,\n",
       "                               early_stopping_rounds=None,\n",
       "                               enable_categorical=False, eval_metric=None,\n",
       "                               feature_types=None, gamma=None, gpu_id=None,\n",
       "                               grow_policy=None, importance_type=None,\n",
       "                               interaction_constraints=None, learning_rate=0.05,\n",
       "                               max_bin=None, max_cat_threshold=None,\n",
       "                               max_cat_to_onehot=None, max_delta_step=None,\n",
       "                               max_depth=10, max_leaves=None,\n",
       "                               min_child_weight=None, missing=nan,\n",
       "                               monotone_constraints=None, n_estimators=200,\n",
       "                               n_jobs=-1, num_parallel_tree=None,\n",
       "                               objective=&#x27;multi:softprob&#x27;, predictor=None, ...))])</pre></div></div></div><div class=\"sk-serial\"><div class=\"sk-item\"><div class=\"sk-estimator sk-toggleable\"><input class=\"sk-toggleable__control sk-hidden--visually\" id=\"sk-estimator-id-2\" type=\"checkbox\" ><label for=\"sk-estimator-id-2\" class=\"sk-toggleable__label sk-toggleable__label-arrow\">XGBClassifier</label><div class=\"sk-toggleable__content\"><pre>XGBClassifier(base_score=None, booster=None, callbacks=None,\n",
       "              colsample_bylevel=None, colsample_bynode=None,\n",
       "              colsample_bytree=None, early_stopping_rounds=None,\n",
       "              enable_categorical=False, eval_metric=None, feature_types=None,\n",
       "              gamma=None, gpu_id=None, grow_policy=None, importance_type=None,\n",
       "              interaction_constraints=None, learning_rate=0.05, max_bin=None,\n",
       "              max_cat_threshold=None, max_cat_to_onehot=None,\n",
       "              max_delta_step=None, max_depth=10, max_leaves=None,\n",
       "              min_child_weight=None, missing=nan, monotone_constraints=None,\n",
       "              n_estimators=200, n_jobs=-1, num_parallel_tree=None,\n",
       "              objective=&#x27;multi:softprob&#x27;, predictor=None, ...)</pre></div></div></div></div></div></div></div>"
      ],
      "text/plain": [
       "Pipeline(steps=[('algoritmo',\n",
       "                 XGBClassifier(base_score=None, booster=None, callbacks=None,\n",
       "                               colsample_bylevel=None, colsample_bynode=None,\n",
       "                               colsample_bytree=None,\n",
       "                               early_stopping_rounds=None,\n",
       "                               enable_categorical=False, eval_metric=None,\n",
       "                               feature_types=None, gamma=None, gpu_id=None,\n",
       "                               grow_policy=None, importance_type=None,\n",
       "                               interaction_constraints=None, learning_rate=0.05,\n",
       "                               max_bin=None, max_cat_threshold=None,\n",
       "                               max_cat_to_onehot=None, max_delta_step=None,\n",
       "                               max_depth=10, max_leaves=None,\n",
       "                               min_child_weight=None, missing=nan,\n",
       "                               monotone_constraints=None, n_estimators=200,\n",
       "                               n_jobs=-1, num_parallel_tree=None,\n",
       "                               objective='multi:softprob', predictor=None, ...))])"
      ]
     },
     "execution_count": 8,
     "metadata": {},
     "output_type": "execute_result"
    }
   ],
   "source": [
    "modelo.best_estimator_"
   ]
  },
  {
   "cell_type": "code",
   "execution_count": 9,
   "metadata": {},
   "outputs": [
    {
     "data": {
      "text/plain": [
       "{'algoritmo': XGBClassifier(base_score=None, booster=None, callbacks=None,\n",
       "               colsample_bylevel=None, colsample_bynode=None,\n",
       "               colsample_bytree=None, early_stopping_rounds=None,\n",
       "               enable_categorical=False, eval_metric=None, feature_types=None,\n",
       "               gamma=None, gpu_id=None, grow_policy=None, importance_type=None,\n",
       "               interaction_constraints=None, learning_rate=0.05, max_bin=None,\n",
       "               max_cat_threshold=None, max_cat_to_onehot=None,\n",
       "               max_delta_step=None, max_depth=10, max_leaves=None,\n",
       "               min_child_weight=None, missing=nan, monotone_constraints=None,\n",
       "               n_estimators=200, n_jobs=-1, num_parallel_tree=None,\n",
       "               predictor=None, random_state=None, ...),\n",
       " 'algoritmo__learning_rate': 0.05,\n",
       " 'algoritmo__max_depth': 10,\n",
       " 'algoritmo__n_estimators': 200,\n",
       " 'algoritmo__n_jobs': -1,\n",
       " 'algoritmo__reg_alpha': 0,\n",
       " 'algoritmo__reg_lambda': 0.01,\n",
       " 'algoritmo__verbosity': 0}"
      ]
     },
     "execution_count": 9,
     "metadata": {},
     "output_type": "execute_result"
    }
   ],
   "source": [
    "modelo.best_params_"
   ]
  },
  {
   "cell_type": "code",
   "execution_count": 10,
   "metadata": {},
   "outputs": [
    {
     "data": {
      "text/plain": [
       "0.9826530612244898"
      ]
     },
     "execution_count": 10,
     "metadata": {},
     "output_type": "execute_result"
    }
   ],
   "source": [
    "modelo.best_score_"
   ]
  },
  {
   "cell_type": "markdown",
   "metadata": {},
   "source": [
    "### GUARDAR MODELO.BEST_ESTIMATOR Y PARÁMETROS"
   ]
  },
  {
   "cell_type": "code",
   "execution_count": 11,
   "metadata": {},
   "outputs": [],
   "source": [
    "modelo_best_estimator = modelo"
   ]
  },
  {
   "cell_type": "markdown",
   "metadata": {},
   "source": [
    "#### Guardamos modelo, parámetros y score"
   ]
  },
  {
   "cell_type": "code",
   "execution_count": 12,
   "metadata": {},
   "outputs": [],
   "source": [
    "m_best_estimator = str(modelo.best_estimator_[0])\n",
    "m_best_estimator = m_best_estimator.split('(')[0]\n",
    "m_best_params = str(modelo.best_params_)\n",
    "m_best_score = str(modelo.best_score_)"
   ]
  },
  {
   "cell_type": "markdown",
   "metadata": {},
   "source": [
    "## EVALUAR"
   ]
  },
  {
   "cell_type": "markdown",
   "metadata": {},
   "source": [
    "### PREDECIR Y EVALUAR SOBRE EL TRAIN"
   ]
  },
  {
   "cell_type": "markdown",
   "metadata": {},
   "source": [
    "### Predecir sobre Train"
   ]
  },
  {
   "cell_type": "code",
   "execution_count": 13,
   "metadata": {},
   "outputs": [],
   "source": [
    "pred = modelo.best_estimator_.predict(train_x)"
   ]
  },
  {
   "cell_type": "markdown",
   "metadata": {},
   "source": [
    "### Evaluar sobre el Train"
   ]
  },
  {
   "cell_type": "code",
   "execution_count": 14,
   "metadata": {},
   "outputs": [
    {
     "name": "stdout",
     "output_type": "stream",
     "text": [
      "Accuracy: 1.0\n",
      "Classification Report:\n",
      "              precision    recall  f1-score   support\n",
      "\n",
      "           0       1.00      1.00      1.00       242\n",
      "           1       1.00      1.00      1.00       240\n",
      "           2       1.00      1.00      1.00       243\n",
      "           3       1.00      1.00      1.00       255\n",
      "\n",
      "    accuracy                           1.00       980\n",
      "   macro avg       1.00      1.00      1.00       980\n",
      "weighted avg       1.00      1.00      1.00       980\n",
      "\n"
     ]
    }
   ],
   "source": [
    "t_accuracy = accuracy_score(train_y, pred)\n",
    "t_report = classification_report(train_y, pred)\n",
    "\n",
    "print(f\"Accuracy: {t_accuracy}\")\n",
    "print(f\"Classification Report:\\n{t_report}\")"
   ]
  },
  {
   "cell_type": "markdown",
   "metadata": {},
   "source": [
    "### PREDECIR Y EVALUAR SOBRE LA VALIDACIÓN"
   ]
  },
  {
   "cell_type": "markdown",
   "metadata": {},
   "source": [
    "#### Predecir sobre la validación"
   ]
  },
  {
   "cell_type": "code",
   "execution_count": 15,
   "metadata": {},
   "outputs": [],
   "source": [
    "pred = modelo.best_estimator_.predict(val_x)"
   ]
  },
  {
   "cell_type": "markdown",
   "metadata": {},
   "source": [
    "Evaluar sobre la validación"
   ]
  },
  {
   "cell_type": "code",
   "execution_count": 16,
   "metadata": {},
   "outputs": [
    {
     "name": "stdout",
     "output_type": "stream",
     "text": [
      "Accuracy: 0.9809523809523809\n",
      "Classification Report:\n",
      "              precision    recall  f1-score   support\n",
      "\n",
      "           0       1.00      0.99      1.00       110\n",
      "           1       0.96      0.97      0.96        95\n",
      "           2       0.96      0.96      0.96       107\n",
      "           3       1.00      1.00      1.00       108\n",
      "\n",
      "    accuracy                           0.98       420\n",
      "   macro avg       0.98      0.98      0.98       420\n",
      "weighted avg       0.98      0.98      0.98       420\n",
      "\n"
     ]
    }
   ],
   "source": [
    "v_accuracy = accuracy_score(val_y, pred)\n",
    "v_report = classification_report(val_y, pred)\n",
    "\n",
    "print(f\"Accuracy: {v_accuracy}\")\n",
    "print(f\"Classification Report:\\n{v_report}\")"
   ]
  },
  {
   "cell_type": "markdown",
   "metadata": {},
   "source": [
    "#### Gráfico entre la diferencia entre la validación y el original"
   ]
  },
  {
   "cell_type": "code",
   "execution_count": 33,
   "metadata": {},
   "outputs": [
    {
     "data": {
      "image/png": "[encoded data removed]",
      "text/plain": [
       "<Figure size 1600x500 with 1 Axes>"
      ]
     },
     "metadata": {},
     "output_type": "display_data"
    }
   ],
   "source": [
    "test_y = pd.Series(val_y).to_frame()\n",
    "test_y.rename(columns= {0:'room'}, inplace= True)\n",
    "test_pred = pd.Series(pred).to_frame()\n",
    "df_pred = pd.concat([test_y,test_pred], axis= 1).sort_values(by='room').reset_index()\n",
    "df_pred.rename(columns = {0:'pred'}, inplace = True)\n",
    "df_pred[['room','pred']].plot(figsize=(16,5));"
   ]
  },
  {
   "cell_type": "markdown",
   "metadata": {},
   "source": [
    "## REPORTING DEL MODELO"
   ]
  },
  {
   "cell_type": "markdown",
   "metadata": {},
   "source": [
    "Matrix de Confusión MultiClass"
   ]
  },
  {
   "cell_type": "code",
   "execution_count": 35,
   "metadata": {},
   "outputs": [
    {
     "data": {
      "text/plain": [
       "Text(0.5, 1.0, 'Confusion Matrix')"
      ]
     },
     "execution_count": 35,
     "metadata": {},
     "output_type": "execute_result"
    },
    {
     "data": {
      "image/png": "[encoded data removed]",
      "text/plain": [
       "<Figure size 500x500 with 1 Axes>"
      ]
     },
     "metadata": {},
     "output_type": "display_data"
    }
   ],
   "source": [
    "# Calcular la matriz de confusión\n",
    "cm = confusion_matrix(val_y, pred)\n",
    "\n",
    "\n",
    "# Crear un mapa de calor de la matriz de confusión\n",
    "plt.figure(figsize=(5, 5))\n",
    "sns.heatmap(cm, annot=True, cmap=\"Blues\", fmt=\"d\", cbar=False)\n",
    "\n",
    "# Configurar etiquetas y título del gráfico\n",
    "plt.xlabel(\"Predicted Labels\")\n",
    "plt.ylabel(\"True Labels\")\n",
    "plt.title(\"Confusion Matrix\")\n"
   ]
  },
  {
   "cell_type": "markdown",
   "metadata": {},
   "source": [
    "ROC CHART MULTICLASS"
   ]
  },
  {
   "cell_type": "code",
   "execution_count": 36,
   "metadata": {},
   "outputs": [
    {
     "name": "stderr",
     "output_type": "stream",
     "text": [
      "c:\\Users\\ialca\\anaconda3\\envs\\proyecto1\\Lib\\site-packages\\sklearn\\metrics\\_ranking.py:1029: UndefinedMetricWarning: No positive samples in y_true, true positive value should be meaningless\n",
      "  warnings.warn(\n"
     ]
    },
    {
     "data": {
      "image/png": "[encoded data removed]",
      "text/plain": [
       "<Figure size 800x600 with 1 Axes>"
      ]
     },
     "metadata": {},
     "output_type": "display_data"
    }
   ],
   "source": [
    "# Binarizar las etiquetas verdaderas y las predicciones para cada clase\n",
    "n_classes = len(np.unique(val_y))+1\n",
    "binarized_val_y = label_binarize(val_y, classes=np.arange(n_classes))\n",
    "binarized_pred = label_binarize(pred, classes=np.arange(n_classes))\n",
    "\n",
    "# Calcular la curva ROC y el área bajo la curva (AUC) para cada clase\n",
    "fpr = dict()\n",
    "tpr = dict()\n",
    "roc_auc = dict()\n",
    "for i in range(n_classes):\n",
    "    fpr[i], tpr[i], _ = roc_curve(binarized_val_y[:, i], binarized_pred[:, i])\n",
    "    roc_auc[i] = auc(fpr[i], tpr[i])\n",
    "\n",
    "# Plotear el gráfico ROC para cada clase\n",
    "plt.figure(figsize=(8, 6))\n",
    "for i in range(n_classes):\n",
    "    plt.plot(fpr[i], tpr[i], label='Class {0} (AUC = {1:0.2f})'.format(i, roc_auc[i]))\n",
    "\n",
    "# Configurar etiquetas y título del gráfico\n",
    "plt.plot([0, 1], [0, 1], 'k--')\n",
    "plt.xlim([0.0, 1.0])\n",
    "plt.ylim([0.0, 1.05])\n",
    "plt.xlabel('False Positive Rate')\n",
    "plt.ylabel('True Positive Rate')\n",
    "plt.title('ROC Curve - Multiclass')\n",
    "plt.legend(loc=\"lower right\");"
   ]
  },
  {
   "cell_type": "markdown",
   "metadata": {},
   "source": [
    "## GUARDAR BEST_ESTIMATOR, PARÁMETROS Y RESULTADOS DEL TEST Y LA VALIDACIÓN"
   ]
  },
  {
   "cell_type": "markdown",
   "metadata": {},
   "source": [
    "#### Guardar el mejor estimador"
   ]
  },
  {
   "cell_type": "code",
   "execution_count": 37,
   "metadata": {},
   "outputs": [
    {
     "data": {
      "text/plain": [
       "'XGBClassifier_v04.pickle'"
      ]
     },
     "execution_count": 37,
     "metadata": {},
     "output_type": "execute_result"
    }
   ],
   "source": [
    "version_estimator = '_v04'\n",
    "nombre_best_estimator = m_best_estimator + version_estimator + '.pickle'\n",
    "nombre_best_estimator"
   ]
  },
  {
   "cell_type": "code",
   "execution_count": 38,
   "metadata": {},
   "outputs": [
    {
     "data": {
      "text/plain": [
       "'XGBClassifier'"
      ]
     },
     "execution_count": 38,
     "metadata": {},
     "output_type": "execute_result"
    }
   ],
   "source": [
    "m_best_estimator"
   ]
  },
  {
   "cell_type": "code",
   "execution_count": 39,
   "metadata": {},
   "outputs": [],
   "source": [
    "ruta_pipe_entrenamiento = '../../04_Modelos/Best_estimator/' + nombre_best_estimator\n",
    "\n",
    "with open (ruta_pipe_entrenamiento, mode= 'wb') as file:\n",
    "    cloudpickle.dump(modelo_best_estimator, file)\n"
   ]
  },
  {
   "cell_type": "code",
   "execution_count": 44,
   "metadata": {},
   "outputs": [],
   "source": [
    "# Añadir comentarios sobre el modelo y definimos predictoras y target\n",
    "\n",
    "comentarios = \"Cambiamos a XGBClassifier con parámetros y labelencoder en la target\"\n",
    "x_columns = list(x.columns)\n",
    "y_target = 'room'\n"
   ]
  },
  {
   "cell_type": "code",
   "execution_count": 45,
   "metadata": {},
   "outputs": [
    {
     "data": {
      "text/plain": [
       "m_Best_estimator                                        XGBClassifier\n",
       "m_Best_paramans     {'algoritmo': XGBClassifier(base_score=None, b...\n",
       "m_Best_Score                                       0.9826530612244898\n",
       "t_accuracy                                                        1.0\n",
       "t_report                          precision    recall  f1-score   ...\n",
       "v_accuracy                                                   0.980952\n",
       "v_report                          precision    recall  f1-score   ...\n",
       "comentarios         Cambiamos a XGBClassifier con parámetros y lab...\n",
       "predictoras_X       [wifi1, wifi2, wifi3, wifi4, wifi5, wifi6, wifi7]\n",
       "target_y                                                         room\n",
       "Name: XGBClassifier_v04.pickle, dtype: object"
      ]
     },
     "execution_count": 45,
     "metadata": {},
     "output_type": "execute_result"
    }
   ],
   "source": [
    "#Cargamos la lista con los resultados\n",
    "resultado  = {'m_Best_estimator': m_best_estimator,\n",
    "               'm_Best_paramans' : m_best_params,\n",
    "               'm_Best_Score': m_best_score, \n",
    "               't_accuracy': t_accuracy, \n",
    "               't_report': t_report, \n",
    "               'v_accuracy': v_accuracy, \n",
    "               'v_report': v_report, \n",
    "               'comentarios': comentarios,\n",
    "               'predictoras_X': x_columns,\n",
    "               'target_y': y_target\n",
    "            }\n",
    "resultado= pd.Series(resultado,name=nombre_best_estimator)\n",
    "resultado"
   ]
  },
  {
   "cell_type": "code",
   "execution_count": 46,
   "metadata": {},
   "outputs": [],
   "source": [
    "df_best = pd.read_excel('../../04_Modelos/Best_estimator/Best_estimator.xlsx',index_col=0)\n"
   ]
  },
  {
   "cell_type": "code",
   "execution_count": 47,
   "metadata": {},
   "outputs": [],
   "source": [
    "df_best = pd.concat([df_best, resultado], ignore_index= False,axis=1)\n",
    "df_best.to_excel('../../04_Modelos/Best_estimator/Best_estimator.xlsx')"
   ]
  }
 ],
 "metadata": {
  "kernelspec": {
   "display_name": "proyecto1",
   "language": "python",
   "name": "python3"
  },
  "language_info": {
   "codemirror_mode": {
    "name": "ipython",
    "version": 3
   },
   "file_extension": ".py",
   "mimetype": "text/x-python",
   "name": "python",
   "nbconvert_exporter": "python",
   "pygments_lexer": "ipython3",
   "version": "3.11.3"
  },
  "orig_nbformat": 4
 },
 "nbformat": 4,
 "nbformat_minor": 2
}
