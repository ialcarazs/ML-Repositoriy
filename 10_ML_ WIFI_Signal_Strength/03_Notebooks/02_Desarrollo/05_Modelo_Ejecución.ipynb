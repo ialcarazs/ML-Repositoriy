{
 "cells": [
  {
   "cell_type": "markdown",
   "metadata": {},
   "source": [
    "# MODELO DE EJECUCIÓN "
   ]
  },
  {
   "cell_type": "markdown",
   "metadata": {},
   "source": [
    "## IMPORTAR LAS LIBRERIAS"
   ]
  },
  {
   "cell_type": "code",
   "execution_count": 15,
   "metadata": {},
   "outputs": [],
   "source": [
    "import numpy as np\n",
    "import pandas as pd\n",
    "import matplotlib.pyplot as plt\n",
    "%matplotlib inline\n",
    "import seaborn as sns\n",
    "\n",
    "#Calidad de datos\n",
    "from janitor import clean_names\n",
    "from sklearn.preprocessing import LabelEncoder\n",
    "\n",
    "#Modelos\n",
    "from sklearn.ensemble import ExtraTreesClassifier\n",
    "from xgboost import XGBClassifier\n",
    "from lightgbm import LGBMClassifier\n",
    "\n",
    "#Métricas de evaluación\n",
    "from sklearn.metrics import roc_auc_score, roc_curve, auc\n",
    "from sklearn.metrics import accuracy_score\n",
    "from sklearn.metrics import confusion_matrix\n",
    "from sklearn.preprocessing import label_binarize\n",
    "from sklearn.metrics import classification_report\n",
    "from sklearn.metrics import precision_recall_curve\n",
    "\n",
    "#Crear Pipeline\n",
    "from sklearn.pipeline import make_pipeline\n",
    "\n",
    "import cloudpickle"
   ]
  },
  {
   "cell_type": "markdown",
   "metadata": {},
   "source": [
    "## CARGAR LOS DATOS"
   ]
  },
  {
   "cell_type": "code",
   "execution_count": 2,
   "metadata": {},
   "outputs": [
    {
     "data": {
      "text/html": [
       "<div>\n",
       "<style scoped>\n",
       "    .dataframe tbody tr th:only-of-type {\n",
       "        vertical-align: middle;\n",
       "    }\n",
       "\n",
       "    .dataframe tbody tr th {\n",
       "        vertical-align: top;\n",
       "    }\n",
       "\n",
       "    .dataframe thead th {\n",
       "        text-align: right;\n",
       "    }\n",
       "</style>\n",
       "<table border=\"1\" class=\"dataframe\">\n",
       "  <thead>\n",
       "    <tr style=\"text-align: right;\">\n",
       "      <th></th>\n",
       "      <th>Unnamed: 0</th>\n",
       "      <th>WIFI1</th>\n",
       "      <th>WIFI2</th>\n",
       "      <th>WIFI3</th>\n",
       "      <th>WIFI4</th>\n",
       "      <th>WIFI5</th>\n",
       "      <th>WIFI6</th>\n",
       "      <th>WIFI7</th>\n",
       "      <th>room</th>\n",
       "    </tr>\n",
       "  </thead>\n",
       "  <tbody>\n",
       "    <tr>\n",
       "      <th>0</th>\n",
       "      <td>1</td>\n",
       "      <td>-68</td>\n",
       "      <td>-57</td>\n",
       "      <td>-61</td>\n",
       "      <td>-65</td>\n",
       "      <td>-71</td>\n",
       "      <td>-85</td>\n",
       "      <td>-85</td>\n",
       "      <td>1</td>\n",
       "    </tr>\n",
       "    <tr>\n",
       "      <th>1</th>\n",
       "      <td>6</td>\n",
       "      <td>-65</td>\n",
       "      <td>-61</td>\n",
       "      <td>-65</td>\n",
       "      <td>-67</td>\n",
       "      <td>-69</td>\n",
       "      <td>-87</td>\n",
       "      <td>-84</td>\n",
       "      <td>1</td>\n",
       "    </tr>\n",
       "    <tr>\n",
       "      <th>2</th>\n",
       "      <td>7</td>\n",
       "      <td>-61</td>\n",
       "      <td>-63</td>\n",
       "      <td>-58</td>\n",
       "      <td>-66</td>\n",
       "      <td>-74</td>\n",
       "      <td>-87</td>\n",
       "      <td>-82</td>\n",
       "      <td>1</td>\n",
       "    </tr>\n",
       "    <tr>\n",
       "      <th>3</th>\n",
       "      <td>12</td>\n",
       "      <td>-63</td>\n",
       "      <td>-57</td>\n",
       "      <td>-61</td>\n",
       "      <td>-65</td>\n",
       "      <td>-73</td>\n",
       "      <td>-84</td>\n",
       "      <td>-84</td>\n",
       "      <td>1</td>\n",
       "    </tr>\n",
       "    <tr>\n",
       "      <th>4</th>\n",
       "      <td>14</td>\n",
       "      <td>-61</td>\n",
       "      <td>-59</td>\n",
       "      <td>-65</td>\n",
       "      <td>-63</td>\n",
       "      <td>-74</td>\n",
       "      <td>-89</td>\n",
       "      <td>-87</td>\n",
       "      <td>1</td>\n",
       "    </tr>\n",
       "  </tbody>\n",
       "</table>\n",
       "</div>"
      ],
      "text/plain": [
       "   Unnamed: 0  WIFI1  WIFI2  WIFI3  WIFI4  WIFI5  WIFI6  WIFI7  room\n",
       "0           1    -68    -57    -61    -65    -71    -85    -85     1\n",
       "1           6    -65    -61    -65    -67    -69    -87    -84     1\n",
       "2           7    -61    -63    -58    -66    -74    -87    -82     1\n",
       "3          12    -63    -57    -61    -65    -73    -84    -84     1\n",
       "4          14    -61    -59    -65    -63    -74    -89    -87     1"
      ]
     },
     "execution_count": 2,
     "metadata": {},
     "output_type": "execute_result"
    }
   ],
   "source": [
    "df = pd.read_csv('../../02_Datos/02_Validacion/validacion.csv')\n",
    "df.head()"
   ]
  },
  {
   "cell_type": "markdown",
   "metadata": {},
   "source": [
    "## ESTRUCTURA DEL DATASETS"
   ]
  },
  {
   "cell_type": "markdown",
   "metadata": {},
   "source": [
    "### CALIDAD DE DATOS"
   ]
  },
  {
   "cell_type": "code",
   "execution_count": 3,
   "metadata": {},
   "outputs": [
    {
     "data": {
      "text/html": [
       "<div>\n",
       "<style scoped>\n",
       "    .dataframe tbody tr th:only-of-type {\n",
       "        vertical-align: middle;\n",
       "    }\n",
       "\n",
       "    .dataframe tbody tr th {\n",
       "        vertical-align: top;\n",
       "    }\n",
       "\n",
       "    .dataframe thead th {\n",
       "        text-align: right;\n",
       "    }\n",
       "</style>\n",
       "<table border=\"1\" class=\"dataframe\">\n",
       "  <thead>\n",
       "    <tr style=\"text-align: right;\">\n",
       "      <th></th>\n",
       "      <th>wifi1</th>\n",
       "      <th>wifi2</th>\n",
       "      <th>wifi3</th>\n",
       "      <th>wifi4</th>\n",
       "      <th>wifi5</th>\n",
       "      <th>wifi6</th>\n",
       "      <th>wifi7</th>\n",
       "      <th>room</th>\n",
       "    </tr>\n",
       "  </thead>\n",
       "  <tbody>\n",
       "    <tr>\n",
       "      <th>0</th>\n",
       "      <td>-68</td>\n",
       "      <td>-57</td>\n",
       "      <td>-61</td>\n",
       "      <td>-65</td>\n",
       "      <td>-71</td>\n",
       "      <td>-85</td>\n",
       "      <td>-85</td>\n",
       "      <td>1</td>\n",
       "    </tr>\n",
       "    <tr>\n",
       "      <th>1</th>\n",
       "      <td>-65</td>\n",
       "      <td>-61</td>\n",
       "      <td>-65</td>\n",
       "      <td>-67</td>\n",
       "      <td>-69</td>\n",
       "      <td>-87</td>\n",
       "      <td>-84</td>\n",
       "      <td>1</td>\n",
       "    </tr>\n",
       "    <tr>\n",
       "      <th>2</th>\n",
       "      <td>-61</td>\n",
       "      <td>-63</td>\n",
       "      <td>-58</td>\n",
       "      <td>-66</td>\n",
       "      <td>-74</td>\n",
       "      <td>-87</td>\n",
       "      <td>-82</td>\n",
       "      <td>1</td>\n",
       "    </tr>\n",
       "    <tr>\n",
       "      <th>3</th>\n",
       "      <td>-63</td>\n",
       "      <td>-57</td>\n",
       "      <td>-61</td>\n",
       "      <td>-65</td>\n",
       "      <td>-73</td>\n",
       "      <td>-84</td>\n",
       "      <td>-84</td>\n",
       "      <td>1</td>\n",
       "    </tr>\n",
       "    <tr>\n",
       "      <th>4</th>\n",
       "      <td>-61</td>\n",
       "      <td>-59</td>\n",
       "      <td>-65</td>\n",
       "      <td>-63</td>\n",
       "      <td>-74</td>\n",
       "      <td>-89</td>\n",
       "      <td>-87</td>\n",
       "      <td>1</td>\n",
       "    </tr>\n",
       "  </tbody>\n",
       "</table>\n",
       "</div>"
      ],
      "text/plain": [
       "   wifi1  wifi2  wifi3  wifi4  wifi5  wifi6  wifi7  room\n",
       "0    -68    -57    -61    -65    -71    -85    -85     1\n",
       "1    -65    -61    -65    -67    -69    -87    -84     1\n",
       "2    -61    -63    -58    -66    -74    -87    -82     1\n",
       "3    -63    -57    -61    -65    -73    -84    -84     1\n",
       "4    -61    -59    -65    -63    -74    -89    -87     1"
      ]
     },
     "execution_count": 3,
     "metadata": {},
     "output_type": "execute_result"
    }
   ],
   "source": [
    "df = clean_names(df)\n",
    "df = df.drop(columns= 'unnamed_0', axis=1)\n",
    "df.head()"
   ]
  },
  {
   "cell_type": "code",
   "execution_count": 4,
   "metadata": {},
   "outputs": [
    {
     "data": {
      "text/plain": [
       "(600, 8)"
      ]
     },
     "execution_count": 4,
     "metadata": {},
     "output_type": "execute_result"
    }
   ],
   "source": [
    "df.shape"
   ]
  },
  {
   "cell_type": "markdown",
   "metadata": {},
   "source": [
    "### SEPARAR PREDICTORAS Y TARGET"
   ]
  },
  {
   "cell_type": "code",
   "execution_count": 5,
   "metadata": {},
   "outputs": [],
   "source": [
    "x = df.drop(columns = 'room').copy()\n",
    "y = df.room.copy()"
   ]
  },
  {
   "cell_type": "markdown",
   "metadata": {},
   "source": [
    "from sklearn.preprocessing import LabelEncoder\n",
    "le = LabelEncoder()\n",
    "y_xgm = le.fit_transform(y)"
   ]
  },
  {
   "cell_type": "markdown",
   "metadata": {},
   "source": [
    "## MODELIZAR CON LOS PIPES DE EJECUCIÓN"
   ]
  },
  {
   "cell_type": "markdown",
   "metadata": {},
   "source": [
    "### CARGAMOS PIPE DE EJECUCIÓN"
   ]
  },
  {
   "cell_type": "markdown",
   "metadata": {},
   "source": [
    "#### Modelo Clasificación\n",
    "\n",
    "- V1 --> ExtraTreesClassifier\n",
    "- V2 --> ExtraTreesClassifier parametrizado\n",
    "- V4 --> XGBClassifier parametrizado"
   ]
  },
  {
   "cell_type": "code",
   "execution_count": 6,
   "metadata": {},
   "outputs": [],
   "source": [
    "modelov1 = pd.read_pickle('../../04_Modelos/pipe_ejecucion_v1.pickle')\n",
    "modelov2 = pd.read_pickle('../../04_Modelos/pipe_ejecucion_v2.pickle')\n",
    "modelov4 = pd.read_pickle('../../04_Modelos/pipe_ejecucion_v4.pickle')"
   ]
  },
  {
   "cell_type": "markdown",
   "metadata": {},
   "source": [
    "## EVALUAR CON DATASET DE PRUEBA"
   ]
  },
  {
   "cell_type": "markdown",
   "metadata": {},
   "source": [
    "### PREDECIR SOBRE DATOS DE PRUEBA"
   ]
  },
  {
   "cell_type": "code",
   "execution_count": 7,
   "metadata": {},
   "outputs": [],
   "source": [
    "predv1 = modelov1.predict(x)\n",
    "predv2 = modelov2.predict(x)\n",
    "predv4 = modelov4.predict(x)"
   ]
  },
  {
   "cell_type": "markdown",
   "metadata": {},
   "source": [
    "### EVALUAR SOMBRE DATOS DE PRUEBA"
   ]
  },
  {
   "cell_type": "code",
   "execution_count": 8,
   "metadata": {},
   "outputs": [],
   "source": [
    "def evaluar_clasificacion(pred, y, modelo = 'otro'):\n",
    "\n",
    "    if modelo == 'otro':\n",
    "        v_accuracy = accuracy_score(y, pred)\n",
    "        v_report = classification_report(y, pred)\n",
    "\n",
    "        print(f\"Accuracy: {v_accuracy}\")\n",
    "        print(f\"Classification Report:\\n{v_report}\")\n",
    "    else:\n",
    "\n",
    "        le = LabelEncoder()\n",
    "        y = le.fit_transform(y)\n",
    "        v_accuracy = accuracy_score(y, pred)\n",
    "        v_report = classification_report(y, pred)\n",
    "\n",
    "        print(f\"Accuracy: {v_accuracy}\")\n",
    "        print(f\"Classification Report:\\n{v_report}\")"
   ]
  },
  {
   "cell_type": "code",
   "execution_count": 9,
   "metadata": {},
   "outputs": [
    {
     "name": "stdout",
     "output_type": "stream",
     "text": [
      "V1 --> ExtraTreesClassifier\n",
      "\n",
      "Accuracy: 0.985\n",
      "Classification Report:\n",
      "              precision    recall  f1-score   support\n",
      "\n",
      "           1       0.99      1.00      1.00       148\n",
      "           2       0.99      0.97      0.98       165\n",
      "           3       0.97      0.97      0.97       150\n",
      "           4       0.99      1.00      1.00       137\n",
      "\n",
      "    accuracy                           0.98       600\n",
      "   macro avg       0.99      0.99      0.99       600\n",
      "weighted avg       0.99      0.98      0.98       600\n",
      "\n",
      "V2 --> ExtraTreesClassifier parametrizado\n",
      "\n",
      "Accuracy: 0.9866666666666667\n",
      "Classification Report:\n",
      "              precision    recall  f1-score   support\n",
      "\n",
      "           1       1.00      1.00      1.00       148\n",
      "           2       0.99      0.97      0.98       165\n",
      "           3       0.97      0.98      0.97       150\n",
      "           4       0.99      1.00      0.99       137\n",
      "\n",
      "    accuracy                           0.99       600\n",
      "   macro avg       0.99      0.99      0.99       600\n",
      "weighted avg       0.99      0.99      0.99       600\n",
      "\n",
      "V4 --> XGBClassifier parametrizado\n",
      "\n",
      "Accuracy: 0.9816666666666667\n",
      "Classification Report:\n",
      "              precision    recall  f1-score   support\n",
      "\n",
      "           0       0.99      1.00      1.00       148\n",
      "           1       0.98      0.97      0.98       165\n",
      "           2       0.96      0.97      0.96       150\n",
      "           3       0.99      0.99      0.99       137\n",
      "\n",
      "    accuracy                           0.98       600\n",
      "   macro avg       0.98      0.98      0.98       600\n",
      "weighted avg       0.98      0.98      0.98       600\n",
      "\n"
     ]
    }
   ],
   "source": [
    "print('V1 --> ExtraTreesClassifier\\n')\n",
    "evaluar_clasificacion(predv1, y)\n",
    "print('V2 --> ExtraTreesClassifier parametrizado\\n')\n",
    "evaluar_clasificacion(predv2, y)\n",
    "print('V4 --> XGBClassifier parametrizado\\n')\n",
    "evaluar_clasificacion(predv4, y, modelo = 'xgb')"
   ]
  },
  {
   "cell_type": "markdown",
   "metadata": {},
   "source": [
    "## REPORTING DEL MODELO"
   ]
  },
  {
   "cell_type": "markdown",
   "metadata": {},
   "source": [
    "Matrix de Confusión MultiClass"
   ]
  },
  {
   "cell_type": "code",
   "execution_count": 47,
   "metadata": {},
   "outputs": [
    {
     "data": {
      "image/png": "[encoded data removed]",
      "text/plain": [
       "<Figure size 1600x500 with 3 Axes>"
      ]
     },
     "metadata": {},
     "output_type": "display_data"
    }
   ],
   "source": [
    "# Calcular la matriz de confusión\n",
    "\n",
    "title = ['V1 --> ExtraTreesClassifier\\n', 'V2 --> ExtraTreesClassifier parametrizado\\n', 'V4 --> XGBClassifier parametrizado\\n' ]\n",
    "\n",
    "cmv1 = confusion_matrix(y, predv1)\n",
    "cmv2 = confusion_matrix(y, predv2)\n",
    "\n",
    "le = LabelEncoder()\n",
    "yv4 = le.fit_transform(y)\n",
    "cmv4 = confusion_matrix(yv4, predv4)\n",
    "\n",
    "f, ax = plt.subplots(ncols= 3, nrows=1, figsize= (16,5))\n",
    "ax.flat\n",
    "\n",
    "sns.heatmap(cmv1, annot=True, cmap=\"Blues\", fmt=\"d\", cbar=False, ax= ax[0])\n",
    "sns.heatmap(cmv2, annot=True, cmap=\"Blues\", fmt=\"d\", cbar=False, ax= ax[1])\n",
    "sns.heatmap(cmv4, annot=True, cmap=\"Blues\", fmt=\"d\", cbar=False, ax= ax[2])\n",
    "\n",
    "for cada, nombre in enumerate(title):\n",
    "    ax[cada].set_title(nombre, fontsize = 10, fontweight = \"bold\")\n",
    "    ax[cada].tick_params(labelsize = 8);\n",
    "\n"
   ]
  },
  {
   "cell_type": "markdown",
   "metadata": {},
   "source": [
    "ROC CHART MULTICLASS"
   ]
  },
  {
   "cell_type": "code",
   "execution_count": 57,
   "metadata": {},
   "outputs": [
    {
     "name": "stderr",
     "output_type": "stream",
     "text": [
      "c:\\Users\\ialca\\anaconda3\\envs\\proyecto1\\Lib\\site-packages\\sklearn\\metrics\\_ranking.py:1029: UndefinedMetricWarning: No positive samples in y_true, true positive value should be meaningless\n",
      "  warnings.warn(\n"
     ]
    },
    {
     "data": {
      "image/png": "[encoded data removed]",
      "text/plain": [
       "<Figure size 800x600 with 1 Axes>"
      ]
     },
     "metadata": {},
     "output_type": "display_data"
    }
   ],
   "source": [
    "# Binarizar las etiquetas verdaderas y las predicciones para cada clase\n",
    "n_classes = len(np.unique(y))+1\n",
    "binarized_val_y = label_binarize(y, classes=np.arange(n_classes))\n",
    "binarized_pred = label_binarize(predv2, classes=np.arange(n_classes))\n",
    "\n",
    "# Calcular la curva ROC y el área bajo la curva (AUC) para cada clase\n",
    "fpr = dict()\n",
    "tpr = dict()\n",
    "roc_auc = dict()\n",
    "for i in range(n_classes):\n",
    "    fpr[i], tpr[i], _ = roc_curve(binarized_val_y[:, i], binarized_pred[:, i])\n",
    "    roc_auc[i] = auc(fpr[i], tpr[i])\n",
    "\n",
    "# Plotear el gráfico ROC para cada clase\n",
    "plt.figure(figsize=(8, 6))\n",
    "for i in range(1, n_classes):\n",
    "    plt.plot(fpr[i], tpr[i], label='Class {0} (AUC = {1:0.2f})'.format(i, roc_auc[i]))\n",
    "\n",
    "# Configurar etiquetas y título del gráfico\n",
    "plt.plot([0, 1], [0, 1], 'k--')\n",
    "plt.xlim([0.0, 1.0])\n",
    "plt.ylim([0.0, 1.05])\n",
    "plt.xlabel('False Positive Rate')\n",
    "plt.ylabel('True Positive Rate')\n",
    "plt.title('ROC Curve - Multiclass')\n",
    "plt.legend(loc=\"lower right\");"
   ]
  }
 ],
 "metadata": {
  "kernelspec": {
   "display_name": "proyecto1",
   "language": "python",
   "name": "python3"
  },
  "language_info": {
   "codemirror_mode": {
    "name": "ipython",
    "version": 3
   },
   "file_extension": ".py",
   "mimetype": "text/x-python",
   "name": "python",
   "nbconvert_exporter": "python",
   "pygments_lexer": "ipython3",
   "version": "3.11.3"
  },
  "orig_nbformat": 4
 },
 "nbformat": 4,
 "nbformat_minor": 2
}
