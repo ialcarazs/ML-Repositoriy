{
 "cells": [
  {
   "cell_type": "markdown",
   "metadata": {},
   "source": [
    "# 9 - MODELO DE EJECUCIÓN CON LOS DATOS DE PRUEBA"
   ]
  },
  {
   "cell_type": "markdown",
   "metadata": {},
   "source": [
    "En este modelo vamos a cargar el dataset de prueba y realizaremos calidad de datos, transformación de variables, separaremos predictoras y target, predeciremos sobre los datos de prueba y evaluaremos el modelo."
   ]
  },
  {
   "cell_type": "markdown",
   "metadata": {},
   "source": [
    "## IMPORTAR LOS PAQUETES"
   ]
  },
  {
   "cell_type": "code",
   "execution_count": 32,
   "metadata": {},
   "outputs": [],
   "source": [
    "import numpy as np\n",
    "import pandas as pd\n",
    "import matplotlib.pyplot as plt\n",
    "%matplotlib inline\n",
    "import seaborn as sns\n",
    "\n",
    "#Transformación de variables\n",
    "from sklearn.preprocessing import OrdinalEncoder\n",
    "\n",
    "#metricas de evaluación\n",
    "from sklearn.metrics import roc_curve, auc\n",
    "from sklearn.metrics import accuracy_score\n",
    "from sklearn.metrics import confusion_matrix\n",
    "from sklearn.preprocessing import label_binarize\n",
    "from sklearn.metrics import classification_report"
   ]
  },
  {
   "cell_type": "markdown",
   "metadata": {},
   "source": [
    "## CARGAR LOS DATOS"
   ]
  },
  {
   "cell_type": "code",
   "execution_count": 5,
   "metadata": {},
   "outputs": [
    {
     "data": {
      "text/html": [
       "<div>\n",
       "<style scoped>\n",
       "    .dataframe tbody tr th:only-of-type {\n",
       "        vertical-align: middle;\n",
       "    }\n",
       "\n",
       "    .dataframe tbody tr th {\n",
       "        vertical-align: top;\n",
       "    }\n",
       "\n",
       "    .dataframe thead th {\n",
       "        text-align: right;\n",
       "    }\n",
       "</style>\n",
       "<table border=\"1\" class=\"dataframe\">\n",
       "  <thead>\n",
       "    <tr style=\"text-align: right;\">\n",
       "      <th></th>\n",
       "      <th>precio_compra</th>\n",
       "      <th>precio_mto</th>\n",
       "      <th>n_puertas</th>\n",
       "      <th>n_personas</th>\n",
       "      <th>t_maletero</th>\n",
       "      <th>nivel_seguridad</th>\n",
       "      <th>aceptabilidad</th>\n",
       "    </tr>\n",
       "  </thead>\n",
       "  <tbody>\n",
       "    <tr>\n",
       "      <th>1134</th>\n",
       "      <td>med</td>\n",
       "      <td>med</td>\n",
       "      <td>4</td>\n",
       "      <td>2</td>\n",
       "      <td>small</td>\n",
       "      <td>low</td>\n",
       "      <td>unacc</td>\n",
       "    </tr>\n",
       "    <tr>\n",
       "      <th>880</th>\n",
       "      <td>med</td>\n",
       "      <td>vhigh</td>\n",
       "      <td>2</td>\n",
       "      <td>4</td>\n",
       "      <td>big</td>\n",
       "      <td>med</td>\n",
       "      <td>acc</td>\n",
       "    </tr>\n",
       "    <tr>\n",
       "      <th>1578</th>\n",
       "      <td>low</td>\n",
       "      <td>med</td>\n",
       "      <td>4</td>\n",
       "      <td>4</td>\n",
       "      <td>med</td>\n",
       "      <td>low</td>\n",
       "      <td>unacc</td>\n",
       "    </tr>\n",
       "    <tr>\n",
       "      <th>496</th>\n",
       "      <td>high</td>\n",
       "      <td>vhigh</td>\n",
       "      <td>4</td>\n",
       "      <td>4</td>\n",
       "      <td>small</td>\n",
       "      <td>med</td>\n",
       "      <td>unacc</td>\n",
       "    </tr>\n",
       "    <tr>\n",
       "      <th>153</th>\n",
       "      <td>vhigh</td>\n",
       "      <td>high</td>\n",
       "      <td>3</td>\n",
       "      <td>more</td>\n",
       "      <td>small</td>\n",
       "      <td>low</td>\n",
       "      <td>unacc</td>\n",
       "    </tr>\n",
       "  </tbody>\n",
       "</table>\n",
       "</div>"
      ],
      "text/plain": [
       "     precio_compra precio_mto n_puertas n_personas t_maletero nivel_seguridad  \\\n",
       "1134           med        med         4          2      small             low   \n",
       "880            med      vhigh         2          4        big             med   \n",
       "1578           low        med         4          4        med             low   \n",
       "496           high      vhigh         4          4      small             med   \n",
       "153          vhigh       high         3       more      small             low   \n",
       "\n",
       "     aceptabilidad  \n",
       "1134         unacc  \n",
       "880            acc  \n",
       "1578         unacc  \n",
       "496          unacc  \n",
       "153          unacc  "
      ]
     },
     "execution_count": 5,
     "metadata": {},
     "output_type": "execute_result"
    }
   ],
   "source": [
    "df = pd.read_csv('../../02_Datos/02_Validacion/prueba.csv', index_col= 0)\n",
    "df.head()"
   ]
  },
  {
   "cell_type": "markdown",
   "metadata": {},
   "source": [
    "## ESTRUCTURA DEL DATASET"
   ]
  },
  {
   "cell_type": "markdown",
   "metadata": {},
   "source": [
    "### TRANSFORMACIÓN DE VARIABLES"
   ]
  },
  {
   "cell_type": "code",
   "execution_count": 13,
   "metadata": {},
   "outputs": [
    {
     "data": {
      "text/html": [
       "<div>\n",
       "<style scoped>\n",
       "    .dataframe tbody tr th:only-of-type {\n",
       "        vertical-align: middle;\n",
       "    }\n",
       "\n",
       "    .dataframe tbody tr th {\n",
       "        vertical-align: top;\n",
       "    }\n",
       "\n",
       "    .dataframe thead th {\n",
       "        text-align: right;\n",
       "    }\n",
       "</style>\n",
       "<table border=\"1\" class=\"dataframe\">\n",
       "  <thead>\n",
       "    <tr style=\"text-align: right;\">\n",
       "      <th></th>\n",
       "      <th>precio_compra_oe</th>\n",
       "      <th>precio_mto_oe</th>\n",
       "      <th>n_puertas_oe</th>\n",
       "      <th>n_personas_oe</th>\n",
       "      <th>t_maletero_oe</th>\n",
       "      <th>nivel_seguridad_oe</th>\n",
       "      <th>aceptabilidad_oe</th>\n",
       "    </tr>\n",
       "  </thead>\n",
       "  <tbody>\n",
       "    <tr>\n",
       "      <th>0</th>\n",
       "      <td>1.0</td>\n",
       "      <td>1.0</td>\n",
       "      <td>2.0</td>\n",
       "      <td>0.0</td>\n",
       "      <td>0.0</td>\n",
       "      <td>0.0</td>\n",
       "      <td>0.0</td>\n",
       "    </tr>\n",
       "    <tr>\n",
       "      <th>1</th>\n",
       "      <td>1.0</td>\n",
       "      <td>3.0</td>\n",
       "      <td>0.0</td>\n",
       "      <td>1.0</td>\n",
       "      <td>2.0</td>\n",
       "      <td>1.0</td>\n",
       "      <td>1.0</td>\n",
       "    </tr>\n",
       "    <tr>\n",
       "      <th>2</th>\n",
       "      <td>0.0</td>\n",
       "      <td>1.0</td>\n",
       "      <td>2.0</td>\n",
       "      <td>1.0</td>\n",
       "      <td>1.0</td>\n",
       "      <td>0.0</td>\n",
       "      <td>0.0</td>\n",
       "    </tr>\n",
       "    <tr>\n",
       "      <th>3</th>\n",
       "      <td>2.0</td>\n",
       "      <td>3.0</td>\n",
       "      <td>2.0</td>\n",
       "      <td>1.0</td>\n",
       "      <td>0.0</td>\n",
       "      <td>1.0</td>\n",
       "      <td>0.0</td>\n",
       "    </tr>\n",
       "    <tr>\n",
       "      <th>4</th>\n",
       "      <td>3.0</td>\n",
       "      <td>2.0</td>\n",
       "      <td>1.0</td>\n",
       "      <td>2.0</td>\n",
       "      <td>0.0</td>\n",
       "      <td>0.0</td>\n",
       "      <td>0.0</td>\n",
       "    </tr>\n",
       "  </tbody>\n",
       "</table>\n",
       "</div>"
      ],
      "text/plain": [
       "   precio_compra_oe  precio_mto_oe  n_puertas_oe  n_personas_oe  \\\n",
       "0               1.0            1.0           2.0            0.0   \n",
       "1               1.0            3.0           0.0            1.0   \n",
       "2               0.0            1.0           2.0            1.0   \n",
       "3               2.0            3.0           2.0            1.0   \n",
       "4               3.0            2.0           1.0            2.0   \n",
       "\n",
       "   t_maletero_oe  nivel_seguridad_oe  aceptabilidad_oe  \n",
       "0            0.0                 0.0               0.0  \n",
       "1            2.0                 1.0               1.0  \n",
       "2            1.0                 0.0               0.0  \n",
       "3            0.0                 1.0               0.0  \n",
       "4            0.0                 0.0               0.0  "
      ]
     },
     "execution_count": 13,
     "metadata": {},
     "output_type": "execute_result"
    }
   ],
   "source": [
    "# Variables a aplicar Ordinal Encoder\n",
    "var_oe = ['precio_compra', 'precio_mto', 'n_puertas', 'n_personas',\n",
    "        't_maletero',  'nivel_seguridad', 'aceptabilidad']\n",
    "\n",
    "# Orden de los valores de las variables\n",
    "orden_precio_compra = ['low','med','high','vhigh']\n",
    "orden_precio_mto = ['low','med','high','vhigh']\n",
    "orden_n_puertas = ['2','3','4','5more']\n",
    "orden_n_personas = ['2','4','more']\n",
    "orden_t_maletero = ['small','med','big']\n",
    "orden_nivel_seguridad = ['low','med','high']\n",
    "orden_aceptabilidad = ['unacc','acc','good','vgood']\n",
    "\n",
    "categorias = [orden_precio_compra, \n",
    "              orden_precio_mto,\n",
    "              orden_n_puertas,\n",
    "              orden_n_personas,\n",
    "              orden_t_maletero,\n",
    "              orden_nivel_seguridad,\n",
    "              orden_aceptabilidad]\n",
    "\n",
    "# Instanciar\n",
    "oe = OrdinalEncoder(categories = categorias,\n",
    "                    handle_unknown = 'use_encoded_value',\n",
    "                    unknown_value = 10)\n",
    "# Entrenar y aplicar\n",
    "df_oe = oe.fit_transform(df[var_oe])\n",
    "\n",
    "# Guardar como dataframe\n",
    "nombres_oe = [variable + '_oe' for variable in var_oe]\n",
    "df_oe = pd.DataFrame(df_oe, columns = nombres_oe)\n",
    "df_oe.head()"
   ]
  },
  {
   "cell_type": "code",
   "execution_count": 17,
   "metadata": {},
   "outputs": [
    {
     "data": {
      "text/plain": [
       "(518, 7)"
      ]
     },
     "execution_count": 17,
     "metadata": {},
     "output_type": "execute_result"
    }
   ],
   "source": [
    "df_oe.shape"
   ]
  },
  {
   "cell_type": "markdown",
   "metadata": {},
   "source": [
    "### SEPARAR PREDICTORAS Y TARGET"
   ]
  },
  {
   "cell_type": "code",
   "execution_count": 23,
   "metadata": {},
   "outputs": [],
   "source": [
    "x = df_oe.drop(columns = 'aceptabilidad_oe').copy()\n",
    "y = df_oe.aceptabilidad_oe.copy()"
   ]
  },
  {
   "cell_type": "markdown",
   "metadata": {},
   "source": [
    "## MODELIZAR CON EL PIPE DE EJECUCCIÓN"
   ]
  },
  {
   "cell_type": "markdown",
   "metadata": {},
   "source": [
    "### CARGAMOS EL PIPE DE EJECUCIÓN"
   ]
  },
  {
   "cell_type": "code",
   "execution_count": 27,
   "metadata": {},
   "outputs": [],
   "source": [
    "modelo = pd.read_pickle('../../04_Modelos/pipe_ejecucion_v3.pickle')"
   ]
  },
  {
   "cell_type": "markdown",
   "metadata": {},
   "source": [
    "## PREDECIR Y EVALUAR CON DATASET DE PRUEBA"
   ]
  },
  {
   "cell_type": "markdown",
   "metadata": {},
   "source": [
    "### PREDECIR SOBRE LOS DATOS"
   ]
  },
  {
   "cell_type": "code",
   "execution_count": 30,
   "metadata": {},
   "outputs": [],
   "source": [
    "pred = modelo.predict(x)"
   ]
  },
  {
   "cell_type": "markdown",
   "metadata": {},
   "source": [
    "### EVALUAR SOBRE LOS DATOS"
   ]
  },
  {
   "cell_type": "code",
   "execution_count": 34,
   "metadata": {},
   "outputs": [
    {
     "name": "stdout",
     "output_type": "stream",
     "text": [
      "Accuracy: 0.9864864864864865\n",
      "Classification Report:\n",
      "              precision    recall  f1-score   support\n",
      "\n",
      "         0.0       0.99      1.00      1.00       352\n",
      "         1.0       0.98      0.97      0.97       125\n",
      "         2.0       0.90      0.90      0.90        21\n",
      "         3.0       1.00      1.00      1.00        20\n",
      "\n",
      "    accuracy                           0.99       518\n",
      "   macro avg       0.97      0.97      0.97       518\n",
      "weighted avg       0.99      0.99      0.99       518\n",
      "\n"
     ]
    }
   ],
   "source": [
    "v_accuracy = accuracy_score(y, pred)\n",
    "v_report = classification_report(y, pred)\n",
    "\n",
    "print(f\"Accuracy: {v_accuracy}\")\n",
    "print(f\"Classification Report:\\n{v_report}\")"
   ]
  },
  {
   "cell_type": "markdown",
   "metadata": {},
   "source": [
    "## REPORTING DEL MODELO"
   ]
  },
  {
   "cell_type": "markdown",
   "metadata": {},
   "source": [
    "Matrix de Confusión MultiClass y ROC CHART MULTICLASS"
   ]
  },
  {
   "cell_type": "code",
   "execution_count": 42,
   "metadata": {},
   "outputs": [
    {
     "data": {
      "image/png": "[encoded data removed]",
      "text/plain": [
       "<Figure size 1600x800 with 2 Axes>"
      ]
     },
     "metadata": {},
     "output_type": "display_data"
    }
   ],
   "source": [
    "# Crear subplots\n",
    "f, ax = plt.subplots(1, 2, figsize=(16,8))\n",
    "ax = ax.flat\n",
    "\n",
    "# Calcular la matriz de confusión\n",
    "cm = confusion_matrix(y, pred)\n",
    "\n",
    "# Crear un mapa de calor de la matriz de confusión\n",
    "sns.heatmap(cm, annot=True, cmap=\"Blues\", fmt=\"d\", cbar=False, ax=ax[0])\n",
    "ax[0].set_xlabel(\"Predicted Labels\")\n",
    "ax[0].set_ylabel(\"True Labels\")\n",
    "ax[0].set_title(\"Confusion Matrix\")\n",
    "\n",
    "# Binarizar las etiquetas verdaderas y las predicciones para cada clase\n",
    "n_classes = len(np.unique(y))\n",
    "binarized_val_y = label_binarize(y, classes=np.arange(n_classes))\n",
    "binarized_pred = label_binarize(pred, classes=np.arange(n_classes))\n",
    "\n",
    "# Calcular la curva ROC y el área bajo la curva (AUC) para cada clase\n",
    "fpr = dict()\n",
    "tpr = dict()\n",
    "roc_auc = dict()\n",
    "for i in range(n_classes):\n",
    "    fpr[i], tpr[i], _ = roc_curve(binarized_val_y[:, i], binarized_pred[:, i])\n",
    "    roc_auc[i] = auc(fpr[i], tpr[i])\n",
    "\n",
    "for i in range(n_classes):\n",
    "    ax[1].plot(fpr[i], tpr[i], label='Class {0} (AUC = {1:.2f})'.format(i, roc_auc[i]))\n",
    "\n",
    "ax[1].plot([0, 1], [0, 1], 'k--')\n",
    "ax[1].set_xlim([0.0, 1.0])\n",
    "ax[1].set_ylim([0.0, 1.05])\n",
    "ax[1].set_xlabel('False Positive Rate')\n",
    "ax[1].set_ylabel('True Positive Rate')\n",
    "ax[1].set_title('ROC Curve - Multiclass')\n",
    "ax[1].legend(loc=\"lower right\");\n"
   ]
  },
  {
   "cell_type": "markdown",
   "metadata": {},
   "source": [
    "**CONCLUSIÓN:** \n",
    "\n",
    "El modelo ha funcionado muy bien con los datos de prueba, no se aprecia sobre ajuste del modelo y se ha obtenido tanto en train, validación y prueba (nuevos datos) un accuracy del 99%. Se revisamos cada clase, la predicción está por encima del 95%, siendo la clase 2 (good - buena) la clase con peor predicción pero el AUC está dentro de unos valores de predicción muy buenos. "
   ]
  }
 ],
 "metadata": {
  "kernelspec": {
   "display_name": "Python 3 (ipykernel)",
   "language": "python",
   "name": "python3"
  },
  "language_info": {
   "codemirror_mode": {
    "name": "ipython",
    "version": 3
   },
   "file_extension": ".py",
   "mimetype": "text/x-python",
   "name": "python",
   "nbconvert_exporter": "python",
   "pygments_lexer": "ipython3",
   "version": "3.9.12"
  },
  "widgets": {
   "application/vnd.jupyter.widget-state+json": {
    "state": {},
    "version_major": 2,
    "version_minor": 0
   }
  }
 },
 "nbformat": 4,
 "nbformat_minor": 4
}
