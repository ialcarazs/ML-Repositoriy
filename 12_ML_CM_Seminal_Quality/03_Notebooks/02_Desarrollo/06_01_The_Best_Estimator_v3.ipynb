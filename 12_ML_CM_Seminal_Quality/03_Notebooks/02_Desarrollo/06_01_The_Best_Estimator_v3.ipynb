{
 "cells": [
  {
   "cell_type": "markdown",
   "metadata": {},
   "source": []
  },
  {
   "cell_type": "markdown",
   "metadata": {},
   "source": [
    "# 06_01 THE BEST ESTIMATOR_V3"
   ]
  },
  {
   "cell_type": "markdown",
   "metadata": {},
   "source": [
    "## MODELAR ALGORITMO DE CLASIFICACIÓN "
   ]
  },
  {
   "cell_type": "markdown",
   "metadata": {},
   "source": [
    "Vamos a parametrizar el algoritmo con mejor roc_auc del entrenamiento y evaluación con modelos base y preselección de variables.\n",
    "\n",
    "ExtraTreesClassifier()"
   ]
  },
  {
   "cell_type": "markdown",
   "metadata": {},
   "source": [
    "## IMPORTACIÓN DE PAQUETES"
   ]
  },
  {
   "cell_type": "code",
   "execution_count": 34,
   "metadata": {},
   "outputs": [],
   "source": [
    "import numpy as np\n",
    "import pandas as pd\n",
    "import matplotlib.pyplot as plt\n",
    "%matplotlib inline\n",
    "import seaborn as sns\n",
    "\n",
    "#Crear datasets de entrenamiento y validación\n",
    "from sklearn.model_selection import train_test_split\n",
    "\n",
    "#Modelos de clasificación\n",
    "from sklearn.ensemble import AdaBoostClassifier\n",
    "\n",
    "\n",
    "#Optimizar modelo\n",
    "from sklearn.model_selection import GridSearchCV\n",
    "\n",
    "#Métricas de evaluación\n",
    "from sklearn.metrics import roc_curve, auc, roc_auc_score\n",
    "from sklearn.metrics import accuracy_score\n",
    "from sklearn.metrics import confusion_matrix\n",
    "\n",
    "from sklearn.metrics import classification_report\n",
    "import scikitplot as skplt\n",
    "\n",
    "#Crear Pipeline\n",
    "from sklearn.pipeline import Pipeline\n",
    "\n",
    "\n",
    "import cloudpickle\n",
    "\n"
   ]
  },
  {
   "cell_type": "markdown",
   "metadata": {},
   "source": [
    "## IMPORTACIÓN DE DATOS"
   ]
  },
  {
   "cell_type": "markdown",
   "metadata": {},
   "source": [
    "## CARGAR LOS DATOS"
   ]
  },
  {
   "cell_type": "code",
   "execution_count": 35,
   "metadata": {},
   "outputs": [],
   "source": [
    "x = pd.read_pickle('../../02_Datos/03_Trabajo/x_preseleccionado.pickle')\n",
    "y = pd.read_pickle('../../02_Datos/03_Trabajo/y_preseleccionado.pickle')"
   ]
  },
  {
   "cell_type": "code",
   "execution_count": 36,
   "metadata": {},
   "outputs": [
    {
     "name": "stdout",
     "output_type": "stream",
     "text": [
      "(70, 6)\n"
     ]
    },
    {
     "data": {
      "text/html": [
       "<div>\n",
       "<style scoped>\n",
       "    .dataframe tbody tr th:only-of-type {\n",
       "        vertical-align: middle;\n",
       "    }\n",
       "\n",
       "    .dataframe tbody tr th {\n",
       "        vertical-align: top;\n",
       "    }\n",
       "\n",
       "    .dataframe thead th {\n",
       "        text-align: right;\n",
       "    }\n",
       "</style>\n",
       "<table border=\"1\" class=\"dataframe\">\n",
       "  <thead>\n",
       "    <tr style=\"text-align: right;\">\n",
       "      <th></th>\n",
       "      <th>edad</th>\n",
       "      <th>e_infantil</th>\n",
       "      <th>hr_sentado</th>\n",
       "      <th>frec_alcohol</th>\n",
       "      <th>fumar</th>\n",
       "      <th>estacion</th>\n",
       "    </tr>\n",
       "  </thead>\n",
       "  <tbody>\n",
       "    <tr>\n",
       "      <th>0</th>\n",
       "      <td>0.69</td>\n",
       "      <td>0</td>\n",
       "      <td>0.88</td>\n",
       "      <td>0.8</td>\n",
       "      <td>0</td>\n",
       "      <td>-0.33</td>\n",
       "    </tr>\n",
       "    <tr>\n",
       "      <th>1</th>\n",
       "      <td>0.94</td>\n",
       "      <td>1</td>\n",
       "      <td>0.31</td>\n",
       "      <td>0.8</td>\n",
       "      <td>1</td>\n",
       "      <td>-0.33</td>\n",
       "    </tr>\n",
       "    <tr>\n",
       "      <th>2</th>\n",
       "      <td>0.50</td>\n",
       "      <td>1</td>\n",
       "      <td>0.50</td>\n",
       "      <td>1.0</td>\n",
       "      <td>-1</td>\n",
       "      <td>-0.33</td>\n",
       "    </tr>\n",
       "    <tr>\n",
       "      <th>4</th>\n",
       "      <td>0.67</td>\n",
       "      <td>1</td>\n",
       "      <td>0.50</td>\n",
       "      <td>0.8</td>\n",
       "      <td>-1</td>\n",
       "      <td>-0.33</td>\n",
       "    </tr>\n",
       "    <tr>\n",
       "      <th>5</th>\n",
       "      <td>0.67</td>\n",
       "      <td>1</td>\n",
       "      <td>0.50</td>\n",
       "      <td>0.8</td>\n",
       "      <td>0</td>\n",
       "      <td>-0.33</td>\n",
       "    </tr>\n",
       "  </tbody>\n",
       "</table>\n",
       "</div>"
      ],
      "text/plain": [
       "   edad  e_infantil  hr_sentado  frec_alcohol  fumar  estacion\n",
       "0  0.69           0        0.88           0.8      0     -0.33\n",
       "1  0.94           1        0.31           0.8      1     -0.33\n",
       "2  0.50           1        0.50           1.0     -1     -0.33\n",
       "4  0.67           1        0.50           0.8     -1     -0.33\n",
       "5  0.67           1        0.50           0.8      0     -0.33"
      ]
     },
     "execution_count": 36,
     "metadata": {},
     "output_type": "execute_result"
    }
   ],
   "source": [
    "#Verificamos predictoras\n",
    "\n",
    "print(x.shape)\n",
    "x.head()"
   ]
  },
  {
   "cell_type": "code",
   "execution_count": 37,
   "metadata": {},
   "outputs": [
    {
     "name": "stdout",
     "output_type": "stream",
     "text": [
      "(70,)\n"
     ]
    },
    {
     "data": {
      "text/plain": [
       "0    0\n",
       "1    1\n",
       "2    0\n",
       "4    1\n",
       "5    0\n",
       "Name: produccion, dtype: int64"
      ]
     },
     "execution_count": 37,
     "metadata": {},
     "output_type": "execute_result"
    }
   ],
   "source": [
    "#Verificamos target\n",
    "print(y.shape)\n",
    "y.head()"
   ]
  },
  {
   "cell_type": "markdown",
   "metadata": {},
   "source": [
    "## MODELIZAR"
   ]
  },
  {
   "cell_type": "markdown",
   "metadata": {},
   "source": [
    "### RESERVAR LOS DATASET DE ENTRENAMIENTO Y VALIDACIÓN"
   ]
  },
  {
   "cell_type": "code",
   "execution_count": 38,
   "metadata": {},
   "outputs": [],
   "source": [
    "train_x, val_x, train_y, val_y = train_test_split(x, y, test_size= 0.3, random_state = 42)"
   ]
  },
  {
   "cell_type": "markdown",
   "metadata": {},
   "source": [
    "### CREAR PIPE Y EL DICCIONARIO CON LOS ALGORITMOS, PARÁMETROS Y VALORES "
   ]
  },
  {
   "cell_type": "code",
   "execution_count": 39,
   "metadata": {},
   "outputs": [],
   "source": [
    "pipe = Pipeline([('algoritmo', AdaBoostClassifier())])\n",
    "\n",
    "grid =  [\n",
    "            {   'algoritmo' : [AdaBoostClassifier()],\n",
    "                'algoritmo__n_estimators': [50, 100, 200, 300],       # Número de estimadores (número de árboles débiles)\n",
    "                'algoritmo__learning_rate': [0.01, 0.1, 1.0, 2.0],   # Tasa de aprendizaje (peso de cada árbol en el ensamble)\n",
    "                'algoritmo__algorithm': ['SAMME', 'SAMME.R'],          # Algoritmo utilizado (SAMME o SAMME.R)\n",
    "            }\n",
    "        ]"
   ]
  },
  {
   "cell_type": "markdown",
   "metadata": {},
   "source": [
    "### OPTIMIZAR LOS HIPERPARÁMETROS"
   ]
  },
  {
   "cell_type": "code",
   "execution_count": 40,
   "metadata": {},
   "outputs": [
    {
     "data": {
      "text/html": [
       "<div>\n",
       "<style scoped>\n",
       "    .dataframe tbody tr th:only-of-type {\n",
       "        vertical-align: middle;\n",
       "    }\n",
       "\n",
       "    .dataframe tbody tr th {\n",
       "        vertical-align: top;\n",
       "    }\n",
       "\n",
       "    .dataframe thead th {\n",
       "        text-align: right;\n",
       "    }\n",
       "</style>\n",
       "<table border=\"1\" class=\"dataframe\">\n",
       "  <thead>\n",
       "    <tr style=\"text-align: right;\">\n",
       "      <th></th>\n",
       "      <th>mean_fit_time</th>\n",
       "      <th>std_fit_time</th>\n",
       "      <th>mean_score_time</th>\n",
       "      <th>std_score_time</th>\n",
       "      <th>param_algoritmo</th>\n",
       "      <th>param_algoritmo__algorithm</th>\n",
       "      <th>param_algoritmo__learning_rate</th>\n",
       "      <th>param_algoritmo__n_estimators</th>\n",
       "      <th>params</th>\n",
       "      <th>split0_test_score</th>\n",
       "      <th>split1_test_score</th>\n",
       "      <th>split2_test_score</th>\n",
       "      <th>split3_test_score</th>\n",
       "      <th>split4_test_score</th>\n",
       "      <th>mean_test_score</th>\n",
       "      <th>std_test_score</th>\n",
       "      <th>rank_test_score</th>\n",
       "    </tr>\n",
       "  </thead>\n",
       "  <tbody>\n",
       "    <tr>\n",
       "      <th>27</th>\n",
       "      <td>1.057990</td>\n",
       "      <td>0.020337</td>\n",
       "      <td>0.121624</td>\n",
       "      <td>0.011655</td>\n",
       "      <td>AdaBoostClassifier(n_estimators=300)</td>\n",
       "      <td>SAMME.R</td>\n",
       "      <td>1.0</td>\n",
       "      <td>300</td>\n",
       "      <td>{'algoritmo': AdaBoostClassifier(n_estimators=...</td>\n",
       "      <td>0.722222</td>\n",
       "      <td>1.000000</td>\n",
       "      <td>0.444444</td>\n",
       "      <td>0.87500</td>\n",
       "      <td>0.6875</td>\n",
       "      <td>0.745833</td>\n",
       "      <td>0.187659</td>\n",
       "      <td>1</td>\n",
       "    </tr>\n",
       "    <tr>\n",
       "      <th>8</th>\n",
       "      <td>0.095393</td>\n",
       "      <td>0.005164</td>\n",
       "      <td>0.009888</td>\n",
       "      <td>0.000473</td>\n",
       "      <td>AdaBoostClassifier(n_estimators=300)</td>\n",
       "      <td>SAMME</td>\n",
       "      <td>1.0</td>\n",
       "      <td>50</td>\n",
       "      <td>{'algoritmo': AdaBoostClassifier(n_estimators=...</td>\n",
       "      <td>0.611111</td>\n",
       "      <td>1.000000</td>\n",
       "      <td>0.444444</td>\n",
       "      <td>1.00000</td>\n",
       "      <td>0.6250</td>\n",
       "      <td>0.736111</td>\n",
       "      <td>0.224640</td>\n",
       "      <td>2</td>\n",
       "    </tr>\n",
       "    <tr>\n",
       "      <th>26</th>\n",
       "      <td>0.688964</td>\n",
       "      <td>0.018538</td>\n",
       "      <td>0.078027</td>\n",
       "      <td>0.002573</td>\n",
       "      <td>AdaBoostClassifier(n_estimators=300)</td>\n",
       "      <td>SAMME.R</td>\n",
       "      <td>1.0</td>\n",
       "      <td>200</td>\n",
       "      <td>{'algoritmo': AdaBoostClassifier(n_estimators=...</td>\n",
       "      <td>0.611111</td>\n",
       "      <td>1.000000</td>\n",
       "      <td>0.444444</td>\n",
       "      <td>0.87500</td>\n",
       "      <td>0.6875</td>\n",
       "      <td>0.723611</td>\n",
       "      <td>0.195552</td>\n",
       "      <td>3</td>\n",
       "    </tr>\n",
       "    <tr>\n",
       "      <th>25</th>\n",
       "      <td>0.352953</td>\n",
       "      <td>0.017156</td>\n",
       "      <td>0.044461</td>\n",
       "      <td>0.001986</td>\n",
       "      <td>AdaBoostClassifier(n_estimators=300)</td>\n",
       "      <td>SAMME.R</td>\n",
       "      <td>1.0</td>\n",
       "      <td>100</td>\n",
       "      <td>{'algoritmo': AdaBoostClassifier(n_estimators=...</td>\n",
       "      <td>0.611111</td>\n",
       "      <td>1.000000</td>\n",
       "      <td>0.444444</td>\n",
       "      <td>0.87500</td>\n",
       "      <td>0.6875</td>\n",
       "      <td>0.723611</td>\n",
       "      <td>0.195552</td>\n",
       "      <td>3</td>\n",
       "    </tr>\n",
       "    <tr>\n",
       "      <th>9</th>\n",
       "      <td>0.203824</td>\n",
       "      <td>0.004359</td>\n",
       "      <td>0.018064</td>\n",
       "      <td>0.002584</td>\n",
       "      <td>AdaBoostClassifier(n_estimators=300)</td>\n",
       "      <td>SAMME</td>\n",
       "      <td>1.0</td>\n",
       "      <td>100</td>\n",
       "      <td>{'algoritmo': AdaBoostClassifier(n_estimators=...</td>\n",
       "      <td>0.611111</td>\n",
       "      <td>1.000000</td>\n",
       "      <td>0.444444</td>\n",
       "      <td>0.87500</td>\n",
       "      <td>0.6250</td>\n",
       "      <td>0.711111</td>\n",
       "      <td>0.199420</td>\n",
       "      <td>5</td>\n",
       "    </tr>\n",
       "    <tr>\n",
       "      <th>10</th>\n",
       "      <td>0.565253</td>\n",
       "      <td>0.107229</td>\n",
       "      <td>0.053490</td>\n",
       "      <td>0.016583</td>\n",
       "      <td>AdaBoostClassifier(n_estimators=300)</td>\n",
       "      <td>SAMME</td>\n",
       "      <td>1.0</td>\n",
       "      <td>200</td>\n",
       "      <td>{'algoritmo': AdaBoostClassifier(n_estimators=...</td>\n",
       "      <td>0.611111</td>\n",
       "      <td>1.000000</td>\n",
       "      <td>0.444444</td>\n",
       "      <td>0.87500</td>\n",
       "      <td>0.6250</td>\n",
       "      <td>0.711111</td>\n",
       "      <td>0.199420</td>\n",
       "      <td>5</td>\n",
       "    </tr>\n",
       "    <tr>\n",
       "      <th>23</th>\n",
       "      <td>1.076932</td>\n",
       "      <td>0.046423</td>\n",
       "      <td>0.122175</td>\n",
       "      <td>0.011066</td>\n",
       "      <td>AdaBoostClassifier(n_estimators=300)</td>\n",
       "      <td>SAMME.R</td>\n",
       "      <td>0.1</td>\n",
       "      <td>300</td>\n",
       "      <td>{'algoritmo': AdaBoostClassifier(n_estimators=...</td>\n",
       "      <td>0.611111</td>\n",
       "      <td>1.000000</td>\n",
       "      <td>0.555556</td>\n",
       "      <td>0.87500</td>\n",
       "      <td>0.5000</td>\n",
       "      <td>0.708333</td>\n",
       "      <td>0.194444</td>\n",
       "      <td>7</td>\n",
       "    </tr>\n",
       "    <tr>\n",
       "      <th>24</th>\n",
       "      <td>0.187330</td>\n",
       "      <td>0.022576</td>\n",
       "      <td>0.027969</td>\n",
       "      <td>0.005581</td>\n",
       "      <td>AdaBoostClassifier(n_estimators=300)</td>\n",
       "      <td>SAMME.R</td>\n",
       "      <td>1.0</td>\n",
       "      <td>50</td>\n",
       "      <td>{'algoritmo': AdaBoostClassifier(n_estimators=...</td>\n",
       "      <td>0.611111</td>\n",
       "      <td>1.000000</td>\n",
       "      <td>0.444444</td>\n",
       "      <td>0.87500</td>\n",
       "      <td>0.5625</td>\n",
       "      <td>0.698611</td>\n",
       "      <td>0.206268</td>\n",
       "      <td>8</td>\n",
       "    </tr>\n",
       "    <tr>\n",
       "      <th>11</th>\n",
       "      <td>0.667154</td>\n",
       "      <td>0.074423</td>\n",
       "      <td>0.045878</td>\n",
       "      <td>0.001343</td>\n",
       "      <td>AdaBoostClassifier(n_estimators=300)</td>\n",
       "      <td>SAMME</td>\n",
       "      <td>1.0</td>\n",
       "      <td>300</td>\n",
       "      <td>{'algoritmo': AdaBoostClassifier(n_estimators=...</td>\n",
       "      <td>0.611111</td>\n",
       "      <td>1.000000</td>\n",
       "      <td>0.444444</td>\n",
       "      <td>0.81250</td>\n",
       "      <td>0.6250</td>\n",
       "      <td>0.698611</td>\n",
       "      <td>0.190516</td>\n",
       "      <td>9</td>\n",
       "    </tr>\n",
       "    <tr>\n",
       "      <th>7</th>\n",
       "      <td>0.677776</td>\n",
       "      <td>0.133265</td>\n",
       "      <td>0.052352</td>\n",
       "      <td>0.005815</td>\n",
       "      <td>AdaBoostClassifier(n_estimators=300)</td>\n",
       "      <td>SAMME</td>\n",
       "      <td>0.1</td>\n",
       "      <td>300</td>\n",
       "      <td>{'algoritmo': AdaBoostClassifier(n_estimators=...</td>\n",
       "      <td>0.555556</td>\n",
       "      <td>1.000000</td>\n",
       "      <td>0.555556</td>\n",
       "      <td>1.00000</td>\n",
       "      <td>0.3750</td>\n",
       "      <td>0.697222</td>\n",
       "      <td>0.255857</td>\n",
       "      <td>10</td>\n",
       "    </tr>\n",
       "    <tr>\n",
       "      <th>21</th>\n",
       "      <td>0.250655</td>\n",
       "      <td>0.047865</td>\n",
       "      <td>0.035657</td>\n",
       "      <td>0.004907</td>\n",
       "      <td>AdaBoostClassifier(n_estimators=300)</td>\n",
       "      <td>SAMME.R</td>\n",
       "      <td>0.1</td>\n",
       "      <td>100</td>\n",
       "      <td>{'algoritmo': AdaBoostClassifier(n_estimators=...</td>\n",
       "      <td>0.611111</td>\n",
       "      <td>1.000000</td>\n",
       "      <td>0.555556</td>\n",
       "      <td>0.81250</td>\n",
       "      <td>0.5000</td>\n",
       "      <td>0.695833</td>\n",
       "      <td>0.185113</td>\n",
       "      <td>11</td>\n",
       "    </tr>\n",
       "    <tr>\n",
       "      <th>22</th>\n",
       "      <td>0.692910</td>\n",
       "      <td>0.060558</td>\n",
       "      <td>0.079524</td>\n",
       "      <td>0.003943</td>\n",
       "      <td>AdaBoostClassifier(n_estimators=300)</td>\n",
       "      <td>SAMME.R</td>\n",
       "      <td>0.1</td>\n",
       "      <td>200</td>\n",
       "      <td>{'algoritmo': AdaBoostClassifier(n_estimators=...</td>\n",
       "      <td>0.611111</td>\n",
       "      <td>1.000000</td>\n",
       "      <td>0.555556</td>\n",
       "      <td>0.81250</td>\n",
       "      <td>0.5000</td>\n",
       "      <td>0.695833</td>\n",
       "      <td>0.185113</td>\n",
       "      <td>11</td>\n",
       "    </tr>\n",
       "    <tr>\n",
       "      <th>31</th>\n",
       "      <td>0.792906</td>\n",
       "      <td>0.079115</td>\n",
       "      <td>0.061496</td>\n",
       "      <td>0.006196</td>\n",
       "      <td>AdaBoostClassifier(n_estimators=300)</td>\n",
       "      <td>SAMME.R</td>\n",
       "      <td>2.0</td>\n",
       "      <td>300</td>\n",
       "      <td>{'algoritmo': AdaBoostClassifier(n_estimators=...</td>\n",
       "      <td>0.555556</td>\n",
       "      <td>1.000000</td>\n",
       "      <td>0.333333</td>\n",
       "      <td>0.93750</td>\n",
       "      <td>0.3125</td>\n",
       "      <td>0.627778</td>\n",
       "      <td>0.291819</td>\n",
       "      <td>13</td>\n",
       "    </tr>\n",
       "    <tr>\n",
       "      <th>28</th>\n",
       "      <td>0.168582</td>\n",
       "      <td>0.002858</td>\n",
       "      <td>0.023634</td>\n",
       "      <td>0.001527</td>\n",
       "      <td>AdaBoostClassifier(n_estimators=300)</td>\n",
       "      <td>SAMME.R</td>\n",
       "      <td>2.0</td>\n",
       "      <td>50</td>\n",
       "      <td>{'algoritmo': AdaBoostClassifier(n_estimators=...</td>\n",
       "      <td>0.500000</td>\n",
       "      <td>1.000000</td>\n",
       "      <td>0.333333</td>\n",
       "      <td>0.93750</td>\n",
       "      <td>0.3125</td>\n",
       "      <td>0.616667</td>\n",
       "      <td>0.295393</td>\n",
       "      <td>14</td>\n",
       "    </tr>\n",
       "    <tr>\n",
       "      <th>29</th>\n",
       "      <td>0.357290</td>\n",
       "      <td>0.010430</td>\n",
       "      <td>0.050734</td>\n",
       "      <td>0.007765</td>\n",
       "      <td>AdaBoostClassifier(n_estimators=300)</td>\n",
       "      <td>SAMME.R</td>\n",
       "      <td>2.0</td>\n",
       "      <td>100</td>\n",
       "      <td>{'algoritmo': AdaBoostClassifier(n_estimators=...</td>\n",
       "      <td>0.500000</td>\n",
       "      <td>1.000000</td>\n",
       "      <td>0.333333</td>\n",
       "      <td>0.93750</td>\n",
       "      <td>0.3125</td>\n",
       "      <td>0.616667</td>\n",
       "      <td>0.295393</td>\n",
       "      <td>14</td>\n",
       "    </tr>\n",
       "    <tr>\n",
       "      <th>19</th>\n",
       "      <td>0.858923</td>\n",
       "      <td>0.193875</td>\n",
       "      <td>0.117608</td>\n",
       "      <td>0.017694</td>\n",
       "      <td>AdaBoostClassifier(n_estimators=300)</td>\n",
       "      <td>SAMME.R</td>\n",
       "      <td>0.01</td>\n",
       "      <td>300</td>\n",
       "      <td>{'algoritmo': AdaBoostClassifier(n_estimators=...</td>\n",
       "      <td>0.555556</td>\n",
       "      <td>1.000000</td>\n",
       "      <td>0.555556</td>\n",
       "      <td>0.93750</td>\n",
       "      <td>0.0000</td>\n",
       "      <td>0.609722</td>\n",
       "      <td>0.357039</td>\n",
       "      <td>16</td>\n",
       "    </tr>\n",
       "    <tr>\n",
       "      <th>18</th>\n",
       "      <td>0.470404</td>\n",
       "      <td>0.034821</td>\n",
       "      <td>0.049644</td>\n",
       "      <td>0.003560</td>\n",
       "      <td>AdaBoostClassifier(n_estimators=300)</td>\n",
       "      <td>SAMME.R</td>\n",
       "      <td>0.01</td>\n",
       "      <td>200</td>\n",
       "      <td>{'algoritmo': AdaBoostClassifier(n_estimators=...</td>\n",
       "      <td>0.555556</td>\n",
       "      <td>1.000000</td>\n",
       "      <td>0.555556</td>\n",
       "      <td>0.93750</td>\n",
       "      <td>0.0000</td>\n",
       "      <td>0.609722</td>\n",
       "      <td>0.357039</td>\n",
       "      <td>16</td>\n",
       "    </tr>\n",
       "    <tr>\n",
       "      <th>30</th>\n",
       "      <td>0.696173</td>\n",
       "      <td>0.015255</td>\n",
       "      <td>0.080442</td>\n",
       "      <td>0.010323</td>\n",
       "      <td>AdaBoostClassifier(n_estimators=300)</td>\n",
       "      <td>SAMME.R</td>\n",
       "      <td>2.0</td>\n",
       "      <td>200</td>\n",
       "      <td>{'algoritmo': AdaBoostClassifier(n_estimators=...</td>\n",
       "      <td>0.444444</td>\n",
       "      <td>1.000000</td>\n",
       "      <td>0.333333</td>\n",
       "      <td>0.93750</td>\n",
       "      <td>0.3125</td>\n",
       "      <td>0.605556</td>\n",
       "      <td>0.300572</td>\n",
       "      <td>18</td>\n",
       "    </tr>\n",
       "    <tr>\n",
       "      <th>15</th>\n",
       "      <td>0.658635</td>\n",
       "      <td>0.057223</td>\n",
       "      <td>0.048545</td>\n",
       "      <td>0.005176</td>\n",
       "      <td>AdaBoostClassifier(n_estimators=300)</td>\n",
       "      <td>SAMME</td>\n",
       "      <td>2.0</td>\n",
       "      <td>300</td>\n",
       "      <td>{'algoritmo': AdaBoostClassifier(n_estimators=...</td>\n",
       "      <td>0.444444</td>\n",
       "      <td>1.000000</td>\n",
       "      <td>0.888889</td>\n",
       "      <td>0.62500</td>\n",
       "      <td>0.0625</td>\n",
       "      <td>0.604167</td>\n",
       "      <td>0.333796</td>\n",
       "      <td>19</td>\n",
       "    </tr>\n",
       "    <tr>\n",
       "      <th>14</th>\n",
       "      <td>0.398887</td>\n",
       "      <td>0.020582</td>\n",
       "      <td>0.031788</td>\n",
       "      <td>0.002459</td>\n",
       "      <td>AdaBoostClassifier(n_estimators=300)</td>\n",
       "      <td>SAMME</td>\n",
       "      <td>2.0</td>\n",
       "      <td>200</td>\n",
       "      <td>{'algoritmo': AdaBoostClassifier(n_estimators=...</td>\n",
       "      <td>0.444444</td>\n",
       "      <td>1.000000</td>\n",
       "      <td>0.888889</td>\n",
       "      <td>0.62500</td>\n",
       "      <td>0.0625</td>\n",
       "      <td>0.604167</td>\n",
       "      <td>0.333796</td>\n",
       "      <td>19</td>\n",
       "    </tr>\n",
       "    <tr>\n",
       "      <th>13</th>\n",
       "      <td>0.226317</td>\n",
       "      <td>0.019268</td>\n",
       "      <td>0.017053</td>\n",
       "      <td>0.000658</td>\n",
       "      <td>AdaBoostClassifier(n_estimators=300)</td>\n",
       "      <td>SAMME</td>\n",
       "      <td>2.0</td>\n",
       "      <td>100</td>\n",
       "      <td>{'algoritmo': AdaBoostClassifier(n_estimators=...</td>\n",
       "      <td>0.444444</td>\n",
       "      <td>1.000000</td>\n",
       "      <td>0.888889</td>\n",
       "      <td>0.62500</td>\n",
       "      <td>0.0625</td>\n",
       "      <td>0.604167</td>\n",
       "      <td>0.333796</td>\n",
       "      <td>19</td>\n",
       "    </tr>\n",
       "    <tr>\n",
       "      <th>12</th>\n",
       "      <td>0.162487</td>\n",
       "      <td>0.044966</td>\n",
       "      <td>0.021172</td>\n",
       "      <td>0.023156</td>\n",
       "      <td>AdaBoostClassifier(n_estimators=300)</td>\n",
       "      <td>SAMME</td>\n",
       "      <td>2.0</td>\n",
       "      <td>50</td>\n",
       "      <td>{'algoritmo': AdaBoostClassifier(n_estimators=...</td>\n",
       "      <td>0.444444</td>\n",
       "      <td>1.000000</td>\n",
       "      <td>0.888889</td>\n",
       "      <td>0.62500</td>\n",
       "      <td>0.0625</td>\n",
       "      <td>0.604167</td>\n",
       "      <td>0.333796</td>\n",
       "      <td>19</td>\n",
       "    </tr>\n",
       "    <tr>\n",
       "      <th>20</th>\n",
       "      <td>0.111200</td>\n",
       "      <td>0.010360</td>\n",
       "      <td>0.013663</td>\n",
       "      <td>0.000421</td>\n",
       "      <td>AdaBoostClassifier(n_estimators=300)</td>\n",
       "      <td>SAMME.R</td>\n",
       "      <td>0.1</td>\n",
       "      <td>50</td>\n",
       "      <td>{'algoritmo': AdaBoostClassifier(n_estimators=...</td>\n",
       "      <td>0.611111</td>\n",
       "      <td>1.000000</td>\n",
       "      <td>0.555556</td>\n",
       "      <td>0.81250</td>\n",
       "      <td>0.0000</td>\n",
       "      <td>0.595833</td>\n",
       "      <td>0.336799</td>\n",
       "      <td>23</td>\n",
       "    </tr>\n",
       "    <tr>\n",
       "      <th>6</th>\n",
       "      <td>0.401846</td>\n",
       "      <td>0.035868</td>\n",
       "      <td>0.031956</td>\n",
       "      <td>0.001485</td>\n",
       "      <td>AdaBoostClassifier(n_estimators=300)</td>\n",
       "      <td>SAMME</td>\n",
       "      <td>0.1</td>\n",
       "      <td>200</td>\n",
       "      <td>{'algoritmo': AdaBoostClassifier(n_estimators=...</td>\n",
       "      <td>0.444444</td>\n",
       "      <td>1.000000</td>\n",
       "      <td>0.555556</td>\n",
       "      <td>0.93750</td>\n",
       "      <td>0.0000</td>\n",
       "      <td>0.587500</td>\n",
       "      <td>0.363125</td>\n",
       "      <td>24</td>\n",
       "    </tr>\n",
       "    <tr>\n",
       "      <th>17</th>\n",
       "      <td>0.245434</td>\n",
       "      <td>0.014846</td>\n",
       "      <td>0.025858</td>\n",
       "      <td>0.001465</td>\n",
       "      <td>AdaBoostClassifier(n_estimators=300)</td>\n",
       "      <td>SAMME.R</td>\n",
       "      <td>0.01</td>\n",
       "      <td>100</td>\n",
       "      <td>{'algoritmo': AdaBoostClassifier(n_estimators=...</td>\n",
       "      <td>0.555556</td>\n",
       "      <td>1.000000</td>\n",
       "      <td>0.444444</td>\n",
       "      <td>0.93750</td>\n",
       "      <td>0.0000</td>\n",
       "      <td>0.587500</td>\n",
       "      <td>0.363125</td>\n",
       "      <td>24</td>\n",
       "    </tr>\n",
       "    <tr>\n",
       "      <th>5</th>\n",
       "      <td>0.246853</td>\n",
       "      <td>0.022648</td>\n",
       "      <td>0.019411</td>\n",
       "      <td>0.003445</td>\n",
       "      <td>AdaBoostClassifier(n_estimators=300)</td>\n",
       "      <td>SAMME</td>\n",
       "      <td>0.1</td>\n",
       "      <td>100</td>\n",
       "      <td>{'algoritmo': AdaBoostClassifier(n_estimators=...</td>\n",
       "      <td>0.444444</td>\n",
       "      <td>1.000000</td>\n",
       "      <td>0.555556</td>\n",
       "      <td>0.84375</td>\n",
       "      <td>0.0625</td>\n",
       "      <td>0.581250</td>\n",
       "      <td>0.326415</td>\n",
       "      <td>26</td>\n",
       "    </tr>\n",
       "    <tr>\n",
       "      <th>4</th>\n",
       "      <td>0.102690</td>\n",
       "      <td>0.008704</td>\n",
       "      <td>0.010760</td>\n",
       "      <td>0.001571</td>\n",
       "      <td>AdaBoostClassifier(n_estimators=300)</td>\n",
       "      <td>SAMME</td>\n",
       "      <td>0.1</td>\n",
       "      <td>50</td>\n",
       "      <td>{'algoritmo': AdaBoostClassifier(n_estimators=...</td>\n",
       "      <td>0.444444</td>\n",
       "      <td>1.000000</td>\n",
       "      <td>0.555556</td>\n",
       "      <td>0.84375</td>\n",
       "      <td>0.0625</td>\n",
       "      <td>0.581250</td>\n",
       "      <td>0.326415</td>\n",
       "      <td>26</td>\n",
       "    </tr>\n",
       "    <tr>\n",
       "      <th>16</th>\n",
       "      <td>0.116102</td>\n",
       "      <td>0.013338</td>\n",
       "      <td>0.016770</td>\n",
       "      <td>0.003116</td>\n",
       "      <td>AdaBoostClassifier(n_estimators=300)</td>\n",
       "      <td>SAMME.R</td>\n",
       "      <td>0.01</td>\n",
       "      <td>50</td>\n",
       "      <td>{'algoritmo': AdaBoostClassifier(n_estimators=...</td>\n",
       "      <td>0.444444</td>\n",
       "      <td>1.000000</td>\n",
       "      <td>0.444444</td>\n",
       "      <td>0.84375</td>\n",
       "      <td>0.0625</td>\n",
       "      <td>0.559028</td>\n",
       "      <td>0.331156</td>\n",
       "      <td>28</td>\n",
       "    </tr>\n",
       "    <tr>\n",
       "      <th>2</th>\n",
       "      <td>0.458286</td>\n",
       "      <td>0.056520</td>\n",
       "      <td>0.040139</td>\n",
       "      <td>0.005517</td>\n",
       "      <td>AdaBoostClassifier(n_estimators=300)</td>\n",
       "      <td>SAMME</td>\n",
       "      <td>0.01</td>\n",
       "      <td>200</td>\n",
       "      <td>{'algoritmo': AdaBoostClassifier(n_estimators=...</td>\n",
       "      <td>0.444444</td>\n",
       "      <td>0.777778</td>\n",
       "      <td>0.666667</td>\n",
       "      <td>0.81250</td>\n",
       "      <td>0.0625</td>\n",
       "      <td>0.552778</td>\n",
       "      <td>0.276825</td>\n",
       "      <td>29</td>\n",
       "    </tr>\n",
       "    <tr>\n",
       "      <th>3</th>\n",
       "      <td>0.624140</td>\n",
       "      <td>0.045691</td>\n",
       "      <td>0.044104</td>\n",
       "      <td>0.001046</td>\n",
       "      <td>AdaBoostClassifier(n_estimators=300)</td>\n",
       "      <td>SAMME</td>\n",
       "      <td>0.01</td>\n",
       "      <td>300</td>\n",
       "      <td>{'algoritmo': AdaBoostClassifier(n_estimators=...</td>\n",
       "      <td>0.444444</td>\n",
       "      <td>0.777778</td>\n",
       "      <td>0.444444</td>\n",
       "      <td>0.78125</td>\n",
       "      <td>0.0625</td>\n",
       "      <td>0.502083</td>\n",
       "      <td>0.266015</td>\n",
       "      <td>30</td>\n",
       "    </tr>\n",
       "    <tr>\n",
       "      <th>0</th>\n",
       "      <td>0.108761</td>\n",
       "      <td>0.011911</td>\n",
       "      <td>0.013372</td>\n",
       "      <td>0.006618</td>\n",
       "      <td>AdaBoostClassifier(n_estimators=300)</td>\n",
       "      <td>SAMME</td>\n",
       "      <td>0.01</td>\n",
       "      <td>50</td>\n",
       "      <td>{'algoritmo': AdaBoostClassifier(n_estimators=...</td>\n",
       "      <td>0.500000</td>\n",
       "      <td>0.500000</td>\n",
       "      <td>0.500000</td>\n",
       "      <td>0.50000</td>\n",
       "      <td>0.5000</td>\n",
       "      <td>0.500000</td>\n",
       "      <td>0.000000</td>\n",
       "      <td>31</td>\n",
       "    </tr>\n",
       "    <tr>\n",
       "      <th>1</th>\n",
       "      <td>0.201648</td>\n",
       "      <td>0.018528</td>\n",
       "      <td>0.016885</td>\n",
       "      <td>0.000664</td>\n",
       "      <td>AdaBoostClassifier(n_estimators=300)</td>\n",
       "      <td>SAMME</td>\n",
       "      <td>0.01</td>\n",
       "      <td>100</td>\n",
       "      <td>{'algoritmo': AdaBoostClassifier(n_estimators=...</td>\n",
       "      <td>0.444444</td>\n",
       "      <td>0.500000</td>\n",
       "      <td>0.500000</td>\n",
       "      <td>0.50000</td>\n",
       "      <td>0.0625</td>\n",
       "      <td>0.401389</td>\n",
       "      <td>0.170805</td>\n",
       "      <td>32</td>\n",
       "    </tr>\n",
       "  </tbody>\n",
       "</table>\n",
       "</div>"
      ],
      "text/plain": [
       "    mean_fit_time  std_fit_time  mean_score_time  std_score_time  \\\n",
       "27       1.057990      0.020337         0.121624        0.011655   \n",
       "8        0.095393      0.005164         0.009888        0.000473   \n",
       "26       0.688964      0.018538         0.078027        0.002573   \n",
       "25       0.352953      0.017156         0.044461        0.001986   \n",
       "9        0.203824      0.004359         0.018064        0.002584   \n",
       "10       0.565253      0.107229         0.053490        0.016583   \n",
       "23       1.076932      0.046423         0.122175        0.011066   \n",
       "24       0.187330      0.022576         0.027969        0.005581   \n",
       "11       0.667154      0.074423         0.045878        0.001343   \n",
       "7        0.677776      0.133265         0.052352        0.005815   \n",
       "21       0.250655      0.047865         0.035657        0.004907   \n",
       "22       0.692910      0.060558         0.079524        0.003943   \n",
       "31       0.792906      0.079115         0.061496        0.006196   \n",
       "28       0.168582      0.002858         0.023634        0.001527   \n",
       "29       0.357290      0.010430         0.050734        0.007765   \n",
       "19       0.858923      0.193875         0.117608        0.017694   \n",
       "18       0.470404      0.034821         0.049644        0.003560   \n",
       "30       0.696173      0.015255         0.080442        0.010323   \n",
       "15       0.658635      0.057223         0.048545        0.005176   \n",
       "14       0.398887      0.020582         0.031788        0.002459   \n",
       "13       0.226317      0.019268         0.017053        0.000658   \n",
       "12       0.162487      0.044966         0.021172        0.023156   \n",
       "20       0.111200      0.010360         0.013663        0.000421   \n",
       "6        0.401846      0.035868         0.031956        0.001485   \n",
       "17       0.245434      0.014846         0.025858        0.001465   \n",
       "5        0.246853      0.022648         0.019411        0.003445   \n",
       "4        0.102690      0.008704         0.010760        0.001571   \n",
       "16       0.116102      0.013338         0.016770        0.003116   \n",
       "2        0.458286      0.056520         0.040139        0.005517   \n",
       "3        0.624140      0.045691         0.044104        0.001046   \n",
       "0        0.108761      0.011911         0.013372        0.006618   \n",
       "1        0.201648      0.018528         0.016885        0.000664   \n",
       "\n",
       "                         param_algoritmo param_algoritmo__algorithm  \\\n",
       "27  AdaBoostClassifier(n_estimators=300)                    SAMME.R   \n",
       "8   AdaBoostClassifier(n_estimators=300)                      SAMME   \n",
       "26  AdaBoostClassifier(n_estimators=300)                    SAMME.R   \n",
       "25  AdaBoostClassifier(n_estimators=300)                    SAMME.R   \n",
       "9   AdaBoostClassifier(n_estimators=300)                      SAMME   \n",
       "10  AdaBoostClassifier(n_estimators=300)                      SAMME   \n",
       "23  AdaBoostClassifier(n_estimators=300)                    SAMME.R   \n",
       "24  AdaBoostClassifier(n_estimators=300)                    SAMME.R   \n",
       "11  AdaBoostClassifier(n_estimators=300)                      SAMME   \n",
       "7   AdaBoostClassifier(n_estimators=300)                      SAMME   \n",
       "21  AdaBoostClassifier(n_estimators=300)                    SAMME.R   \n",
       "22  AdaBoostClassifier(n_estimators=300)                    SAMME.R   \n",
       "31  AdaBoostClassifier(n_estimators=300)                    SAMME.R   \n",
       "28  AdaBoostClassifier(n_estimators=300)                    SAMME.R   \n",
       "29  AdaBoostClassifier(n_estimators=300)                    SAMME.R   \n",
       "19  AdaBoostClassifier(n_estimators=300)                    SAMME.R   \n",
       "18  AdaBoostClassifier(n_estimators=300)                    SAMME.R   \n",
       "30  AdaBoostClassifier(n_estimators=300)                    SAMME.R   \n",
       "15  AdaBoostClassifier(n_estimators=300)                      SAMME   \n",
       "14  AdaBoostClassifier(n_estimators=300)                      SAMME   \n",
       "13  AdaBoostClassifier(n_estimators=300)                      SAMME   \n",
       "12  AdaBoostClassifier(n_estimators=300)                      SAMME   \n",
       "20  AdaBoostClassifier(n_estimators=300)                    SAMME.R   \n",
       "6   AdaBoostClassifier(n_estimators=300)                      SAMME   \n",
       "17  AdaBoostClassifier(n_estimators=300)                    SAMME.R   \n",
       "5   AdaBoostClassifier(n_estimators=300)                      SAMME   \n",
       "4   AdaBoostClassifier(n_estimators=300)                      SAMME   \n",
       "16  AdaBoostClassifier(n_estimators=300)                    SAMME.R   \n",
       "2   AdaBoostClassifier(n_estimators=300)                      SAMME   \n",
       "3   AdaBoostClassifier(n_estimators=300)                      SAMME   \n",
       "0   AdaBoostClassifier(n_estimators=300)                      SAMME   \n",
       "1   AdaBoostClassifier(n_estimators=300)                      SAMME   \n",
       "\n",
       "   param_algoritmo__learning_rate param_algoritmo__n_estimators  \\\n",
       "27                            1.0                           300   \n",
       "8                             1.0                            50   \n",
       "26                            1.0                           200   \n",
       "25                            1.0                           100   \n",
       "9                             1.0                           100   \n",
       "10                            1.0                           200   \n",
       "23                            0.1                           300   \n",
       "24                            1.0                            50   \n",
       "11                            1.0                           300   \n",
       "7                             0.1                           300   \n",
       "21                            0.1                           100   \n",
       "22                            0.1                           200   \n",
       "31                            2.0                           300   \n",
       "28                            2.0                            50   \n",
       "29                            2.0                           100   \n",
       "19                           0.01                           300   \n",
       "18                           0.01                           200   \n",
       "30                            2.0                           200   \n",
       "15                            2.0                           300   \n",
       "14                            2.0                           200   \n",
       "13                            2.0                           100   \n",
       "12                            2.0                            50   \n",
       "20                            0.1                            50   \n",
       "6                             0.1                           200   \n",
       "17                           0.01                           100   \n",
       "5                             0.1                           100   \n",
       "4                             0.1                            50   \n",
       "16                           0.01                            50   \n",
       "2                            0.01                           200   \n",
       "3                            0.01                           300   \n",
       "0                            0.01                            50   \n",
       "1                            0.01                           100   \n",
       "\n",
       "                                               params  split0_test_score  \\\n",
       "27  {'algoritmo': AdaBoostClassifier(n_estimators=...           0.722222   \n",
       "8   {'algoritmo': AdaBoostClassifier(n_estimators=...           0.611111   \n",
       "26  {'algoritmo': AdaBoostClassifier(n_estimators=...           0.611111   \n",
       "25  {'algoritmo': AdaBoostClassifier(n_estimators=...           0.611111   \n",
       "9   {'algoritmo': AdaBoostClassifier(n_estimators=...           0.611111   \n",
       "10  {'algoritmo': AdaBoostClassifier(n_estimators=...           0.611111   \n",
       "23  {'algoritmo': AdaBoostClassifier(n_estimators=...           0.611111   \n",
       "24  {'algoritmo': AdaBoostClassifier(n_estimators=...           0.611111   \n",
       "11  {'algoritmo': AdaBoostClassifier(n_estimators=...           0.611111   \n",
       "7   {'algoritmo': AdaBoostClassifier(n_estimators=...           0.555556   \n",
       "21  {'algoritmo': AdaBoostClassifier(n_estimators=...           0.611111   \n",
       "22  {'algoritmo': AdaBoostClassifier(n_estimators=...           0.611111   \n",
       "31  {'algoritmo': AdaBoostClassifier(n_estimators=...           0.555556   \n",
       "28  {'algoritmo': AdaBoostClassifier(n_estimators=...           0.500000   \n",
       "29  {'algoritmo': AdaBoostClassifier(n_estimators=...           0.500000   \n",
       "19  {'algoritmo': AdaBoostClassifier(n_estimators=...           0.555556   \n",
       "18  {'algoritmo': AdaBoostClassifier(n_estimators=...           0.555556   \n",
       "30  {'algoritmo': AdaBoostClassifier(n_estimators=...           0.444444   \n",
       "15  {'algoritmo': AdaBoostClassifier(n_estimators=...           0.444444   \n",
       "14  {'algoritmo': AdaBoostClassifier(n_estimators=...           0.444444   \n",
       "13  {'algoritmo': AdaBoostClassifier(n_estimators=...           0.444444   \n",
       "12  {'algoritmo': AdaBoostClassifier(n_estimators=...           0.444444   \n",
       "20  {'algoritmo': AdaBoostClassifier(n_estimators=...           0.611111   \n",
       "6   {'algoritmo': AdaBoostClassifier(n_estimators=...           0.444444   \n",
       "17  {'algoritmo': AdaBoostClassifier(n_estimators=...           0.555556   \n",
       "5   {'algoritmo': AdaBoostClassifier(n_estimators=...           0.444444   \n",
       "4   {'algoritmo': AdaBoostClassifier(n_estimators=...           0.444444   \n",
       "16  {'algoritmo': AdaBoostClassifier(n_estimators=...           0.444444   \n",
       "2   {'algoritmo': AdaBoostClassifier(n_estimators=...           0.444444   \n",
       "3   {'algoritmo': AdaBoostClassifier(n_estimators=...           0.444444   \n",
       "0   {'algoritmo': AdaBoostClassifier(n_estimators=...           0.500000   \n",
       "1   {'algoritmo': AdaBoostClassifier(n_estimators=...           0.444444   \n",
       "\n",
       "    split1_test_score  split2_test_score  split3_test_score  \\\n",
       "27           1.000000           0.444444            0.87500   \n",
       "8            1.000000           0.444444            1.00000   \n",
       "26           1.000000           0.444444            0.87500   \n",
       "25           1.000000           0.444444            0.87500   \n",
       "9            1.000000           0.444444            0.87500   \n",
       "10           1.000000           0.444444            0.87500   \n",
       "23           1.000000           0.555556            0.87500   \n",
       "24           1.000000           0.444444            0.87500   \n",
       "11           1.000000           0.444444            0.81250   \n",
       "7            1.000000           0.555556            1.00000   \n",
       "21           1.000000           0.555556            0.81250   \n",
       "22           1.000000           0.555556            0.81250   \n",
       "31           1.000000           0.333333            0.93750   \n",
       "28           1.000000           0.333333            0.93750   \n",
       "29           1.000000           0.333333            0.93750   \n",
       "19           1.000000           0.555556            0.93750   \n",
       "18           1.000000           0.555556            0.93750   \n",
       "30           1.000000           0.333333            0.93750   \n",
       "15           1.000000           0.888889            0.62500   \n",
       "14           1.000000           0.888889            0.62500   \n",
       "13           1.000000           0.888889            0.62500   \n",
       "12           1.000000           0.888889            0.62500   \n",
       "20           1.000000           0.555556            0.81250   \n",
       "6            1.000000           0.555556            0.93750   \n",
       "17           1.000000           0.444444            0.93750   \n",
       "5            1.000000           0.555556            0.84375   \n",
       "4            1.000000           0.555556            0.84375   \n",
       "16           1.000000           0.444444            0.84375   \n",
       "2            0.777778           0.666667            0.81250   \n",
       "3            0.777778           0.444444            0.78125   \n",
       "0            0.500000           0.500000            0.50000   \n",
       "1            0.500000           0.500000            0.50000   \n",
       "\n",
       "    split4_test_score  mean_test_score  std_test_score  rank_test_score  \n",
       "27             0.6875         0.745833        0.187659                1  \n",
       "8              0.6250         0.736111        0.224640                2  \n",
       "26             0.6875         0.723611        0.195552                3  \n",
       "25             0.6875         0.723611        0.195552                3  \n",
       "9              0.6250         0.711111        0.199420                5  \n",
       "10             0.6250         0.711111        0.199420                5  \n",
       "23             0.5000         0.708333        0.194444                7  \n",
       "24             0.5625         0.698611        0.206268                8  \n",
       "11             0.6250         0.698611        0.190516                9  \n",
       "7              0.3750         0.697222        0.255857               10  \n",
       "21             0.5000         0.695833        0.185113               11  \n",
       "22             0.5000         0.695833        0.185113               11  \n",
       "31             0.3125         0.627778        0.291819               13  \n",
       "28             0.3125         0.616667        0.295393               14  \n",
       "29             0.3125         0.616667        0.295393               14  \n",
       "19             0.0000         0.609722        0.357039               16  \n",
       "18             0.0000         0.609722        0.357039               16  \n",
       "30             0.3125         0.605556        0.300572               18  \n",
       "15             0.0625         0.604167        0.333796               19  \n",
       "14             0.0625         0.604167        0.333796               19  \n",
       "13             0.0625         0.604167        0.333796               19  \n",
       "12             0.0625         0.604167        0.333796               19  \n",
       "20             0.0000         0.595833        0.336799               23  \n",
       "6              0.0000         0.587500        0.363125               24  \n",
       "17             0.0000         0.587500        0.363125               24  \n",
       "5              0.0625         0.581250        0.326415               26  \n",
       "4              0.0625         0.581250        0.326415               26  \n",
       "16             0.0625         0.559028        0.331156               28  \n",
       "2              0.0625         0.552778        0.276825               29  \n",
       "3              0.0625         0.502083        0.266015               30  \n",
       "0              0.5000         0.500000        0.000000               31  \n",
       "1              0.0625         0.401389        0.170805               32  "
      ]
     },
     "execution_count": 40,
     "metadata": {},
     "output_type": "execute_result"
    }
   ],
   "source": [
    "grid_search = GridSearchCV( estimator= pipe,\n",
    "                           param_grid= grid,\n",
    "                           cv = 5,\n",
    "                           scoring= 'roc_auc',\n",
    "                           verbose=0,\n",
    "                           n_jobs= -1\n",
    "                        )\n",
    "\n",
    "modelo = grid_search.fit(train_x, train_y)\n",
    "pd.DataFrame(grid_search.cv_results_).sort_values(by = 'rank_test_score')"
   ]
  },
  {
   "cell_type": "code",
   "execution_count": 41,
   "metadata": {},
   "outputs": [
    {
     "data": {
      "text/html": [
       "<style>#sk-container-id-2 {color: black;background-color: white;}#sk-container-id-2 pre{padding: 0;}#sk-container-id-2 div.sk-toggleable {background-color: white;}#sk-container-id-2 label.sk-toggleable__label {cursor: pointer;display: block;width: 100%;margin-bottom: 0;padding: 0.3em;box-sizing: border-box;text-align: center;}#sk-container-id-2 label.sk-toggleable__label-arrow:before {content: \"▸\";float: left;margin-right: 0.25em;color: #696969;}#sk-container-id-2 label.sk-toggleable__label-arrow:hover:before {color: black;}#sk-container-id-2 div.sk-estimator:hover label.sk-toggleable__label-arrow:before {color: black;}#sk-container-id-2 div.sk-toggleable__content {max-height: 0;max-width: 0;overflow: hidden;text-align: left;background-color: #f0f8ff;}#sk-container-id-2 div.sk-toggleable__content pre {margin: 0.2em;color: black;border-radius: 0.25em;background-color: #f0f8ff;}#sk-container-id-2 input.sk-toggleable__control:checked~div.sk-toggleable__content {max-height: 200px;max-width: 100%;overflow: auto;}#sk-container-id-2 input.sk-toggleable__control:checked~label.sk-toggleable__label-arrow:before {content: \"▾\";}#sk-container-id-2 div.sk-estimator input.sk-toggleable__control:checked~label.sk-toggleable__label {background-color: #d4ebff;}#sk-container-id-2 div.sk-label input.sk-toggleable__control:checked~label.sk-toggleable__label {background-color: #d4ebff;}#sk-container-id-2 input.sk-hidden--visually {border: 0;clip: rect(1px 1px 1px 1px);clip: rect(1px, 1px, 1px, 1px);height: 1px;margin: -1px;overflow: hidden;padding: 0;position: absolute;width: 1px;}#sk-container-id-2 div.sk-estimator {font-family: monospace;background-color: #f0f8ff;border: 1px dotted black;border-radius: 0.25em;box-sizing: border-box;margin-bottom: 0.5em;}#sk-container-id-2 div.sk-estimator:hover {background-color: #d4ebff;}#sk-container-id-2 div.sk-parallel-item::after {content: \"\";width: 100%;border-bottom: 1px solid gray;flex-grow: 1;}#sk-container-id-2 div.sk-label:hover label.sk-toggleable__label {background-color: #d4ebff;}#sk-container-id-2 div.sk-serial::before {content: \"\";position: absolute;border-left: 1px solid gray;box-sizing: border-box;top: 0;bottom: 0;left: 50%;z-index: 0;}#sk-container-id-2 div.sk-serial {display: flex;flex-direction: column;align-items: center;background-color: white;padding-right: 0.2em;padding-left: 0.2em;position: relative;}#sk-container-id-2 div.sk-item {position: relative;z-index: 1;}#sk-container-id-2 div.sk-parallel {display: flex;align-items: stretch;justify-content: center;background-color: white;position: relative;}#sk-container-id-2 div.sk-item::before, #sk-container-id-2 div.sk-parallel-item::before {content: \"\";position: absolute;border-left: 1px solid gray;box-sizing: border-box;top: 0;bottom: 0;left: 50%;z-index: -1;}#sk-container-id-2 div.sk-parallel-item {display: flex;flex-direction: column;z-index: 1;position: relative;background-color: white;}#sk-container-id-2 div.sk-parallel-item:first-child::after {align-self: flex-end;width: 50%;}#sk-container-id-2 div.sk-parallel-item:last-child::after {align-self: flex-start;width: 50%;}#sk-container-id-2 div.sk-parallel-item:only-child::after {width: 0;}#sk-container-id-2 div.sk-dashed-wrapped {border: 1px dashed gray;margin: 0 0.4em 0.5em 0.4em;box-sizing: border-box;padding-bottom: 0.4em;background-color: white;}#sk-container-id-2 div.sk-label label {font-family: monospace;font-weight: bold;display: inline-block;line-height: 1.2em;}#sk-container-id-2 div.sk-label-container {text-align: center;}#sk-container-id-2 div.sk-container {/* jupyter's `normalize.less` sets `[hidden] { display: none; }` but bootstrap.min.css set `[hidden] { display: none !important; }` so we also need the `!important` here to be able to override the default hidden behavior on the sphinx rendered scikit-learn.org. See: https://github.com/scikit-learn/scikit-learn/issues/21755 */display: inline-block !important;position: relative;}#sk-container-id-2 div.sk-text-repr-fallback {display: none;}</style><div id=\"sk-container-id-2\" class=\"sk-top-container\"><div class=\"sk-text-repr-fallback\"><pre>Pipeline(steps=[(&#x27;algoritmo&#x27;, AdaBoostClassifier(n_estimators=300))])</pre><b>In a Jupyter environment, please rerun this cell to show the HTML representation or trust the notebook. <br />On GitHub, the HTML representation is unable to render, please try loading this page with nbviewer.org.</b></div><div class=\"sk-container\" hidden><div class=\"sk-item sk-dashed-wrapped\"><div class=\"sk-label-container\"><div class=\"sk-label sk-toggleable\"><input class=\"sk-toggleable__control sk-hidden--visually\" id=\"sk-estimator-id-3\" type=\"checkbox\" ><label for=\"sk-estimator-id-3\" class=\"sk-toggleable__label sk-toggleable__label-arrow\">Pipeline</label><div class=\"sk-toggleable__content\"><pre>Pipeline(steps=[(&#x27;algoritmo&#x27;, AdaBoostClassifier(n_estimators=300))])</pre></div></div></div><div class=\"sk-serial\"><div class=\"sk-item\"><div class=\"sk-estimator sk-toggleable\"><input class=\"sk-toggleable__control sk-hidden--visually\" id=\"sk-estimator-id-4\" type=\"checkbox\" ><label for=\"sk-estimator-id-4\" class=\"sk-toggleable__label sk-toggleable__label-arrow\">AdaBoostClassifier</label><div class=\"sk-toggleable__content\"><pre>AdaBoostClassifier(n_estimators=300)</pre></div></div></div></div></div></div></div>"
      ],
      "text/plain": [
       "Pipeline(steps=[('algoritmo', AdaBoostClassifier(n_estimators=300))])"
      ]
     },
     "execution_count": 41,
     "metadata": {},
     "output_type": "execute_result"
    }
   ],
   "source": [
    "modelo.best_estimator_"
   ]
  },
  {
   "cell_type": "code",
   "execution_count": 42,
   "metadata": {},
   "outputs": [
    {
     "data": {
      "text/plain": [
       "{'algoritmo': AdaBoostClassifier(n_estimators=300),\n",
       " 'algoritmo__algorithm': 'SAMME.R',\n",
       " 'algoritmo__learning_rate': 1.0,\n",
       " 'algoritmo__n_estimators': 300}"
      ]
     },
     "execution_count": 42,
     "metadata": {},
     "output_type": "execute_result"
    }
   ],
   "source": [
    "modelo.best_params_"
   ]
  },
  {
   "cell_type": "code",
   "execution_count": 43,
   "metadata": {},
   "outputs": [
    {
     "data": {
      "text/plain": [
       "0.7458333333333333"
      ]
     },
     "execution_count": 43,
     "metadata": {},
     "output_type": "execute_result"
    }
   ],
   "source": [
    "modelo.best_score_"
   ]
  },
  {
   "cell_type": "markdown",
   "metadata": {},
   "source": [
    "### GUARDAR MODELO.BEST_ESTIMATOR Y PARÁMETROS"
   ]
  },
  {
   "cell_type": "code",
   "execution_count": 44,
   "metadata": {},
   "outputs": [],
   "source": [
    "modelo_best_estimator = modelo"
   ]
  },
  {
   "cell_type": "markdown",
   "metadata": {},
   "source": [
    "#### Guardar modelo, parámetros y score"
   ]
  },
  {
   "cell_type": "code",
   "execution_count": 45,
   "metadata": {},
   "outputs": [],
   "source": [
    "m_best_estimator = str(modelo.best_estimator_[0])\n",
    "m_best_estimator = m_best_estimator.split('(')[0]\n",
    "m_best_params = str(modelo.best_params_)\n",
    "m_best_score = str(modelo.best_score_)"
   ]
  },
  {
   "cell_type": "markdown",
   "metadata": {},
   "source": [
    "## EVALUAR"
   ]
  },
  {
   "cell_type": "markdown",
   "metadata": {},
   "source": [
    "### PREDECIR Y EVALUAR SOBRE EL TRAIN"
   ]
  },
  {
   "cell_type": "markdown",
   "metadata": {},
   "source": [
    "### Predecir sobre el Train"
   ]
  },
  {
   "cell_type": "code",
   "execution_count": 46,
   "metadata": {},
   "outputs": [],
   "source": [
    "pred = modelo.best_estimator_.predict(train_x)"
   ]
  },
  {
   "cell_type": "markdown",
   "metadata": {},
   "source": [
    "### Evaluar sobre el Train"
   ]
  },
  {
   "cell_type": "code",
   "execution_count": 47,
   "metadata": {},
   "outputs": [
    {
     "name": "stdout",
     "output_type": "stream",
     "text": [
      "Roc AUC: 1.0\n",
      "Accuracy: 1.0\n",
      "Classification Report:\n",
      "              precision    recall  f1-score   support\n",
      "\n",
      "           0       1.00      1.00      1.00        43\n",
      "           1       1.00      1.00      1.00         6\n",
      "\n",
      "    accuracy                           1.00        49\n",
      "   macro avg       1.00      1.00      1.00        49\n",
      "weighted avg       1.00      1.00      1.00        49\n",
      "\n"
     ]
    }
   ],
   "source": [
    "t_roc_auc = roc_auc_score(train_y, pred)\n",
    "t_accuracy = accuracy_score(train_y, pred)\n",
    "t_report = classification_report(train_y, pred)\n",
    "\n",
    "print(f\"Roc AUC: {t_roc_auc}\")\n",
    "print(f\"Accuracy: {t_accuracy}\")\n",
    "print(f\"Classification Report:\\n{t_report}\")"
   ]
  },
  {
   "cell_type": "markdown",
   "metadata": {},
   "source": [
    "### PREDECIR Y EVALUAR SOBRE LA VALIDACIÓN"
   ]
  },
  {
   "cell_type": "markdown",
   "metadata": {},
   "source": [
    "### Predecir sobre la validación"
   ]
  },
  {
   "cell_type": "code",
   "execution_count": 48,
   "metadata": {},
   "outputs": [],
   "source": [
    "pred = modelo.best_estimator_.predict(val_x)\n",
    "pred_proba = modelo.best_estimator_.predict_proba(val_x)[:,1]"
   ]
  },
  {
   "cell_type": "markdown",
   "metadata": {},
   "source": [
    "### Evaluar sobre la validación"
   ]
  },
  {
   "cell_type": "code",
   "execution_count": 49,
   "metadata": {},
   "outputs": [
    {
     "name": "stdout",
     "output_type": "stream",
     "text": [
      "Roc AUC_proba: 0.574074074074074\n",
      "Roc AUC: 0.5277777777777778\n",
      "Accuracy: 0.6666666666666666\n",
      "Classification Report:              precision    recall  f1-score   support\n",
      "\n",
      "           0       0.87      0.72      0.79        18\n",
      "           1       0.17      0.33      0.22         3\n",
      "\n",
      "    accuracy                           0.67        21\n",
      "   macro avg       0.52      0.53      0.51        21\n",
      "weighted avg       0.77      0.67      0.71        21\n",
      "\n"
     ]
    }
   ],
   "source": [
    "v_roc_auc_proba = roc_auc_score(val_y, pred_proba)\n",
    "v_roc_auc = roc_auc_score(val_y, pred)\n",
    "v_accuracy = accuracy_score(val_y, pred)\n",
    "v_report = classification_report(val_y, pred)\n",
    "\n",
    "print(f\"Roc AUC_proba: {v_roc_auc_proba}\")\n",
    "print(f\"Roc AUC: {v_roc_auc}\")\n",
    "print(f\"Accuracy: {v_accuracy}\")\n",
    "print(f\"Classification Report:{v_report}\")"
   ]
  },
  {
   "cell_type": "markdown",
   "metadata": {},
   "source": [
    "## REPORTING DEL MODELO"
   ]
  },
  {
   "cell_type": "markdown",
   "metadata": {},
   "source": [
    "Matrix de Confusión MultiClass"
   ]
  },
  {
   "cell_type": "code",
   "execution_count": 50,
   "metadata": {},
   "outputs": [
    {
     "data": {
      "image/png": "[encoded data removed]",
      "text/plain": [
       "<Figure size 500x500 with 1 Axes>"
      ]
     },
     "metadata": {},
     "output_type": "display_data"
    }
   ],
   "source": [
    "# Calcular la matriz de confusión\n",
    "cm = confusion_matrix(val_y, pred)\n",
    "\n",
    "\n",
    "# Crear un mapa de calor de la matriz de confusión\n",
    "plt.figure(figsize=(5, 5))\n",
    "sns.heatmap(cm, annot=True, cmap=\"Blues\", fmt=\"d\", cbar=False)\n",
    "\n",
    "# Configurar etiquetas y título del gráfico\n",
    "plt.xlabel(\"Predicted Labels\")\n",
    "plt.ylabel(\"True Labels\")\n",
    "plt.title(\"Confusion Matrix\");\n"
   ]
  },
  {
   "cell_type": "markdown",
   "metadata": {},
   "source": [
    "### Gain Chart"
   ]
  },
  {
   "cell_type": "code",
   "execution_count": 51,
   "metadata": {},
   "outputs": [
    {
     "data": {
      "image/png": "[encoded data removed]",
      "text/plain": [
       "<Figure size 640x480 with 1 Axes>"
      ]
     },
     "metadata": {},
     "output_type": "display_data"
    }
   ],
   "source": [
    "fig, ax = plt.subplots()\n",
    "\n",
    "skplt.metrics.plot_cumulative_gain(val_y, modelo.best_estimator_.predict_proba(val_x), ax=ax) \n",
    "\n",
    "#Eliminamos la línea de los ceros y personalizamos la leyenda\n",
    "ax.lines[0].remove()               \n",
    "plt.legend(labels = ['Modelo','Aleatoria']);"
   ]
  },
  {
   "cell_type": "markdown",
   "metadata": {},
   "source": [
    "### Lift Chart"
   ]
  },
  {
   "cell_type": "code",
   "execution_count": 52,
   "metadata": {},
   "outputs": [
    {
     "data": {
      "image/png": "[encoded data removed]",
      "text/plain": [
       "<Figure size 640x480 with 1 Axes>"
      ]
     },
     "metadata": {},
     "output_type": "display_data"
    }
   ],
   "source": [
    "fig, ax = plt.subplots()\n",
    "\n",
    "skplt.metrics.plot_lift_curve(val_y, modelo.best_estimator_.predict_proba(val_x), ax=ax) \n",
    "\n",
    "#Eliminamos la línea de los ceros y personalizamos la leyenda\n",
    "ax.lines[0].remove()                \n",
    "plt.legend(labels = ['Modelo','Aleatoria']);"
   ]
  },
  {
   "cell_type": "markdown",
   "metadata": {},
   "source": [
    "### ROC Chart"
   ]
  },
  {
   "cell_type": "code",
   "execution_count": 53,
   "metadata": {},
   "outputs": [
    {
     "data": {
      "image/png": "[encoded data removed]",
      "text/plain": [
       "<Figure size 640x480 with 1 Axes>"
      ]
     },
     "metadata": {},
     "output_type": "display_data"
    }
   ],
   "source": [
    "fig, ax = plt.subplots()\n",
    "\n",
    "skplt.metrics.plot_roc(val_y, modelo.best_estimator_.predict_proba(val_x), ax=ax) \n",
    "\n",
    "#Eliminamos la línea de los ceros y personalizamos la leyenda\n",
    "ax.lines[0].remove()            \n",
    "ax.lines[1].remove()\n",
    "ax.lines[1].remove()\n",
    "plt.legend(labels = ['Modelo','Aleatoria']);"
   ]
  },
  {
   "cell_type": "markdown",
   "metadata": {},
   "source": [
    "## GUARDAR BEST_ESTIMATOR, PARÁMETROS Y RESULTADOS DEL TEST Y LA VALIDACIÓN"
   ]
  },
  {
   "cell_type": "markdown",
   "metadata": {},
   "source": [
    "#### Guardar el mejor estimador"
   ]
  },
  {
   "cell_type": "code",
   "execution_count": 54,
   "metadata": {},
   "outputs": [
    {
     "data": {
      "text/plain": [
       "'AdaBoostClassifier_v03.pickle'"
      ]
     },
     "execution_count": 54,
     "metadata": {},
     "output_type": "execute_result"
    }
   ],
   "source": [
    "version_estimator = '_v03'\n",
    "nombre_best_estimator = m_best_estimator + version_estimator + '.pickle'\n",
    "nombre_best_estimator"
   ]
  },
  {
   "cell_type": "code",
   "execution_count": 55,
   "metadata": {},
   "outputs": [
    {
     "data": {
      "text/plain": [
       "'AdaBoostClassifier'"
      ]
     },
     "execution_count": 55,
     "metadata": {},
     "output_type": "execute_result"
    }
   ],
   "source": [
    "m_best_estimator"
   ]
  },
  {
   "cell_type": "code",
   "execution_count": 56,
   "metadata": {},
   "outputs": [],
   "source": [
    "ruta_pipe_entrenamiento = '../../04_Modelos/Best_estimator/' + nombre_best_estimator\n",
    "\n",
    "with open (ruta_pipe_entrenamiento, mode= 'wb') as file:\n",
    "    cloudpickle.dump(modelo_best_estimator, file)\n"
   ]
  },
  {
   "cell_type": "code",
   "execution_count": 57,
   "metadata": {},
   "outputs": [],
   "source": [
    "# Añadir comentarios sobre el modelo y definimos predictoras y target\n",
    "\n",
    "comentarios = \"Modelo AdaClassifier con parámetros para evitar el sobreajuste y preselección de variables\"\n",
    "x_columns = list(x.columns)\n",
    "y_target = y.name\n"
   ]
  },
  {
   "cell_type": "code",
   "execution_count": 58,
   "metadata": {},
   "outputs": [
    {
     "data": {
      "text/plain": [
       "m_Best_estimator                                   AdaBoostClassifier\n",
       "m_Best_paramans     {'algoritmo': AdaBoostClassifier(n_estimators=...\n",
       "m_Best_Score                                       0.7458333333333333\n",
       "t_accuracy                                                        1.0\n",
       "t_report                          precision    recall  f1-score   ...\n",
       "v_roc_auc_proba                                              0.574074\n",
       "v_roc_auc                                                    0.527778\n",
       "v_accuracy                                                   0.666667\n",
       "v_report                          precision    recall  f1-score   ...\n",
       "comentarios         Modelo AdaClassifier con parámetros para evita...\n",
       "predictoras_X       [edad, e_infantil, hr_sentado, frec_alcohol, f...\n",
       "target_y                                                   produccion\n",
       "Name: AdaBoostClassifier_v03.pickle, dtype: object"
      ]
     },
     "execution_count": 58,
     "metadata": {},
     "output_type": "execute_result"
    }
   ],
   "source": [
    "#Cargamos la lista con los resultados\n",
    "resultado  = {'m_Best_estimator': m_best_estimator,\n",
    "               'm_Best_paramans' : m_best_params,\n",
    "               'm_Best_Score': m_best_score, \n",
    "               't_accuracy': t_accuracy, \n",
    "               't_report': t_report, \n",
    "               'v_roc_auc_proba': v_roc_auc_proba,\n",
    "               'v_roc_auc': v_roc_auc,\n",
    "               'v_accuracy': v_accuracy, \n",
    "               'v_report': v_report, \n",
    "               'comentarios': comentarios,\n",
    "               'predictoras_X': x_columns,\n",
    "               'target_y': y_target\n",
    "            }\n",
    "resultado= pd.Series(resultado,name=nombre_best_estimator)\n",
    "resultado"
   ]
  },
  {
   "cell_type": "code",
   "execution_count": 59,
   "metadata": {},
   "outputs": [],
   "source": [
    "df_best = pd.read_excel('../../04_Modelos/Best_estimator/Best_estimator.xlsx',index_col=0)\n"
   ]
  },
  {
   "cell_type": "code",
   "execution_count": 60,
   "metadata": {},
   "outputs": [],
   "source": [
    "df_best = pd.concat([df_best, resultado], ignore_index= False,axis=1)\n",
    "df_best.to_excel('../../04_Modelos/Best_estimator/Best_estimator.xlsx')"
   ]
  },
  {
   "cell_type": "markdown",
   "metadata": {},
   "source": [
    "**CONCLUSIÓN**: Vemos que la preselección de variables no ha ayudado a mejorar la predicción del modelo. "
   ]
  }
 ],
 "metadata": {
  "kernelspec": {
   "display_name": "proyecto1",
   "language": "python",
   "name": "python3"
  },
  "language_info": {
   "codemirror_mode": {
    "name": "ipython",
    "version": 3
   },
   "file_extension": ".py",
   "mimetype": "text/x-python",
   "name": "python",
   "nbconvert_exporter": "python",
   "pygments_lexer": "ipython3",
   "version": "3.11.3"
  },
  "orig_nbformat": 4
 },
 "nbformat": 4,
 "nbformat_minor": 2
}
