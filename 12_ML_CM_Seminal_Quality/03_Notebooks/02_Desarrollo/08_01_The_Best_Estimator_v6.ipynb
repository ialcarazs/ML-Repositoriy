{
 "cells": [
  {
   "cell_type": "markdown",
   "metadata": {},
   "source": [
    "# 08_01 THE BEST ESTIMATOR_V6"
   ]
  },
  {
   "cell_type": "markdown",
   "metadata": {},
   "source": [
    "## MODELAR ALGORITMO DE CLASIFICACIÓN "
   ]
  },
  {
   "cell_type": "markdown",
   "metadata": {},
   "source": [
    "Vamos a parametrizar el algoritmo con mejor roc_auc del entrenamiento y evaluación con XGBClassifier sin preselección de variables y con balanceo de datos.\n",
    "\n",
    "XGBClassifier()"
   ]
  },
  {
   "cell_type": "markdown",
   "metadata": {},
   "source": [
    "## IMPORTACIÓN DE PAQUETES"
   ]
  },
  {
   "cell_type": "code",
   "execution_count": 1,
   "metadata": {},
   "outputs": [],
   "source": [
    "import numpy as np\n",
    "import pandas as pd\n",
    "import matplotlib.pyplot as plt\n",
    "%matplotlib inline\n",
    "import seaborn as sns\n",
    "\n",
    "#Crear datasets de entrenamiento y validación\n",
    "from sklearn.model_selection import train_test_split\n",
    "from xgboost import XGBClassifier\n",
    "\n",
    "\n",
    "#Optimizar modelo\n",
    "from sklearn.model_selection import GridSearchCV\n",
    "\n",
    "#Métricas de evaluación\n",
    "from sklearn.metrics import roc_curve, auc, roc_auc_score\n",
    "from sklearn.metrics import accuracy_score\n",
    "from sklearn.metrics import confusion_matrix\n",
    "from sklearn.preprocessing import label_binarize\n",
    "from sklearn.metrics import classification_report\n",
    "from sklearn.metrics import PrecisionRecallDisplay, precision_recall_curve\n",
    "from yellowbrick.classifier import discrimination_threshold, DiscriminationThreshold\n",
    "import scikitplot as skplt\n",
    "\n",
    "\n",
    "\n",
    "#Crear Pipeline\n",
    "from sklearn.pipeline import Pipeline\n",
    "from sklearn.preprocessing import FunctionTransformer\n",
    "from sklearn.compose import make_column_transformer\n",
    "from sklearn.pipeline import make_pipeline\n",
    "\n",
    "import cloudpickle"
   ]
  },
  {
   "cell_type": "markdown",
   "metadata": {},
   "source": [
    "## IMPORTACIÓN DE DATOS"
   ]
  },
  {
   "cell_type": "markdown",
   "metadata": {},
   "source": [
    "## CARGAR LOS DATOS"
   ]
  },
  {
   "cell_type": "code",
   "execution_count": 2,
   "metadata": {},
   "outputs": [],
   "source": [
    "x = pd.read_pickle('../../02_Datos/03_Trabajo/x_balanceo.pickle')\n",
    "y = pd.read_pickle('../../02_Datos/03_Trabajo/y_balanceo.pickle')"
   ]
  },
  {
   "cell_type": "markdown",
   "metadata": {},
   "source": [
    "## MODELIZAR"
   ]
  },
  {
   "cell_type": "markdown",
   "metadata": {},
   "source": [
    "### RESERVAR LOS DATASET DE ENTRENAMIENTO Y VALIDACIÓN"
   ]
  },
  {
   "cell_type": "code",
   "execution_count": 3,
   "metadata": {},
   "outputs": [],
   "source": [
    "train_x, val_x, train_y, val_y = train_test_split(x, y, test_size= 0.3, random_state = 42)"
   ]
  },
  {
   "cell_type": "markdown",
   "metadata": {},
   "source": [
    "### CREAR PIPE Y EL DICCIONARIO CON LOS ALGORITMOS, PARÁMETROS Y VALORES "
   ]
  },
  {
   "cell_type": "code",
   "execution_count": 4,
   "metadata": {},
   "outputs": [],
   "source": [
    "pipe = Pipeline([('algoritmo', XGBClassifier())])\n",
    "\n",
    "grid = [\n",
    "        {'algoritmo': [XGBClassifier()],\n",
    "         'algoritmo__n_jobs': [-1],\n",
    "         'algoritmo__verbosity': [0],#para que no salgan warnings\n",
    "         'algoritmo__learning_rate': [0.01,0.025,0.05,0.1],\n",
    "         'algoritmo__max_depth': [5,10,20],\n",
    "         'algoritmo__reg_alpha': [0,0.1,0.5,1],\n",
    "         'algoritmo__reg_lambda': [0.01,0.1,1],\n",
    "         'algoritmo__n_estimators': [100,500,1000]\n",
    "         }\n",
    "       ]"
   ]
  },
  {
   "cell_type": "markdown",
   "metadata": {},
   "source": [
    "### OPTIMIZAR LOS HIPERPARÁMETROS"
   ]
  },
  {
   "cell_type": "code",
   "execution_count": 5,
   "metadata": {},
   "outputs": [
    {
     "data": {
      "text/html": [
       "<div>\n",
       "<style scoped>\n",
       "    .dataframe tbody tr th:only-of-type {\n",
       "        vertical-align: middle;\n",
       "    }\n",
       "\n",
       "    .dataframe tbody tr th {\n",
       "        vertical-align: top;\n",
       "    }\n",
       "\n",
       "    .dataframe thead th {\n",
       "        text-align: right;\n",
       "    }\n",
       "</style>\n",
       "<table border=\"1\" class=\"dataframe\">\n",
       "  <thead>\n",
       "    <tr style=\"text-align: right;\">\n",
       "      <th></th>\n",
       "      <th>mean_fit_time</th>\n",
       "      <th>std_fit_time</th>\n",
       "      <th>mean_score_time</th>\n",
       "      <th>std_score_time</th>\n",
       "      <th>param_algoritmo</th>\n",
       "      <th>param_algoritmo__learning_rate</th>\n",
       "      <th>param_algoritmo__max_depth</th>\n",
       "      <th>param_algoritmo__n_estimators</th>\n",
       "      <th>param_algoritmo__n_jobs</th>\n",
       "      <th>param_algoritmo__reg_alpha</th>\n",
       "      <th>...</th>\n",
       "      <th>param_algoritmo__verbosity</th>\n",
       "      <th>params</th>\n",
       "      <th>split0_test_score</th>\n",
       "      <th>split1_test_score</th>\n",
       "      <th>split2_test_score</th>\n",
       "      <th>split3_test_score</th>\n",
       "      <th>split4_test_score</th>\n",
       "      <th>mean_test_score</th>\n",
       "      <th>std_test_score</th>\n",
       "      <th>rank_test_score</th>\n",
       "    </tr>\n",
       "  </thead>\n",
       "  <tbody>\n",
       "    <tr>\n",
       "      <th>413</th>\n",
       "      <td>0.262402</td>\n",
       "      <td>0.015423</td>\n",
       "      <td>0.013541</td>\n",
       "      <td>0.005506</td>\n",
       "      <td>XGBClassifier(base_score=None, booster=None, c...</td>\n",
       "      <td>0.1</td>\n",
       "      <td>20</td>\n",
       "      <td>500</td>\n",
       "      <td>-1</td>\n",
       "      <td>0.1</td>\n",
       "      <td>...</td>\n",
       "      <td>0</td>\n",
       "      <td>{'algoritmo': XGBClassifier(base_score=None, b...</td>\n",
       "      <td>0.986111</td>\n",
       "      <td>0.972222</td>\n",
       "      <td>0.965278</td>\n",
       "      <td>1.0</td>\n",
       "      <td>1.0</td>\n",
       "      <td>0.984722</td>\n",
       "      <td>0.014164</td>\n",
       "      <td>1</td>\n",
       "    </tr>\n",
       "    <tr>\n",
       "      <th>389</th>\n",
       "      <td>0.505076</td>\n",
       "      <td>0.057981</td>\n",
       "      <td>0.008377</td>\n",
       "      <td>0.001492</td>\n",
       "      <td>XGBClassifier(base_score=None, booster=None, c...</td>\n",
       "      <td>0.1</td>\n",
       "      <td>10</td>\n",
       "      <td>1000</td>\n",
       "      <td>-1</td>\n",
       "      <td>0.1</td>\n",
       "      <td>...</td>\n",
       "      <td>0</td>\n",
       "      <td>{'algoritmo': XGBClassifier(base_score=None, b...</td>\n",
       "      <td>0.986111</td>\n",
       "      <td>0.972222</td>\n",
       "      <td>0.965278</td>\n",
       "      <td>1.0</td>\n",
       "      <td>1.0</td>\n",
       "      <td>0.984722</td>\n",
       "      <td>0.014164</td>\n",
       "      <td>1</td>\n",
       "    </tr>\n",
       "    <tr>\n",
       "      <th>341</th>\n",
       "      <td>0.240600</td>\n",
       "      <td>0.021598</td>\n",
       "      <td>0.008379</td>\n",
       "      <td>0.001198</td>\n",
       "      <td>XGBClassifier(base_score=None, booster=None, c...</td>\n",
       "      <td>0.1</td>\n",
       "      <td>5</td>\n",
       "      <td>500</td>\n",
       "      <td>-1</td>\n",
       "      <td>0.1</td>\n",
       "      <td>...</td>\n",
       "      <td>0</td>\n",
       "      <td>{'algoritmo': XGBClassifier(base_score=None, b...</td>\n",
       "      <td>0.986111</td>\n",
       "      <td>0.972222</td>\n",
       "      <td>0.965278</td>\n",
       "      <td>1.0</td>\n",
       "      <td>1.0</td>\n",
       "      <td>0.984722</td>\n",
       "      <td>0.014164</td>\n",
       "      <td>1</td>\n",
       "    </tr>\n",
       "    <tr>\n",
       "      <th>374</th>\n",
       "      <td>0.247004</td>\n",
       "      <td>0.034991</td>\n",
       "      <td>0.008269</td>\n",
       "      <td>0.001448</td>\n",
       "      <td>XGBClassifier(base_score=None, booster=None, c...</td>\n",
       "      <td>0.1</td>\n",
       "      <td>10</td>\n",
       "      <td>500</td>\n",
       "      <td>-1</td>\n",
       "      <td>0</td>\n",
       "      <td>...</td>\n",
       "      <td>0</td>\n",
       "      <td>{'algoritmo': XGBClassifier(base_score=None, b...</td>\n",
       "      <td>0.986111</td>\n",
       "      <td>0.972222</td>\n",
       "      <td>0.965278</td>\n",
       "      <td>1.0</td>\n",
       "      <td>1.0</td>\n",
       "      <td>0.984722</td>\n",
       "      <td>0.014164</td>\n",
       "      <td>1</td>\n",
       "    </tr>\n",
       "    <tr>\n",
       "      <th>386</th>\n",
       "      <td>0.408500</td>\n",
       "      <td>0.024842</td>\n",
       "      <td>0.007581</td>\n",
       "      <td>0.000490</td>\n",
       "      <td>XGBClassifier(base_score=None, booster=None, c...</td>\n",
       "      <td>0.1</td>\n",
       "      <td>10</td>\n",
       "      <td>1000</td>\n",
       "      <td>-1</td>\n",
       "      <td>0</td>\n",
       "      <td>...</td>\n",
       "      <td>0</td>\n",
       "      <td>{'algoritmo': XGBClassifier(base_score=None, b...</td>\n",
       "      <td>0.986111</td>\n",
       "      <td>0.972222</td>\n",
       "      <td>0.965278</td>\n",
       "      <td>1.0</td>\n",
       "      <td>1.0</td>\n",
       "      <td>0.984722</td>\n",
       "      <td>0.014164</td>\n",
       "      <td>1</td>\n",
       "    </tr>\n",
       "    <tr>\n",
       "      <th>...</th>\n",
       "      <td>...</td>\n",
       "      <td>...</td>\n",
       "      <td>...</td>\n",
       "      <td>...</td>\n",
       "      <td>...</td>\n",
       "      <td>...</td>\n",
       "      <td>...</td>\n",
       "      <td>...</td>\n",
       "      <td>...</td>\n",
       "      <td>...</td>\n",
       "      <td>...</td>\n",
       "      <td>...</td>\n",
       "      <td>...</td>\n",
       "      <td>...</td>\n",
       "      <td>...</td>\n",
       "      <td>...</td>\n",
       "      <td>...</td>\n",
       "      <td>...</td>\n",
       "      <td>...</td>\n",
       "      <td>...</td>\n",
       "      <td>...</td>\n",
       "    </tr>\n",
       "    <tr>\n",
       "      <th>4</th>\n",
       "      <td>0.032965</td>\n",
       "      <td>0.002403</td>\n",
       "      <td>0.004890</td>\n",
       "      <td>0.000659</td>\n",
       "      <td>XGBClassifier(base_score=None, booster=None, c...</td>\n",
       "      <td>0.01</td>\n",
       "      <td>5</td>\n",
       "      <td>100</td>\n",
       "      <td>-1</td>\n",
       "      <td>0.1</td>\n",
       "      <td>...</td>\n",
       "      <td>0</td>\n",
       "      <td>{'algoritmo': XGBClassifier(base_score=None, b...</td>\n",
       "      <td>0.916667</td>\n",
       "      <td>0.902778</td>\n",
       "      <td>0.868056</td>\n",
       "      <td>1.0</td>\n",
       "      <td>1.0</td>\n",
       "      <td>0.937500</td>\n",
       "      <td>0.053432</td>\n",
       "      <td>424</td>\n",
       "    </tr>\n",
       "    <tr>\n",
       "      <th>3</th>\n",
       "      <td>0.037539</td>\n",
       "      <td>0.009166</td>\n",
       "      <td>0.005784</td>\n",
       "      <td>0.000976</td>\n",
       "      <td>XGBClassifier(base_score=None, booster=None, c...</td>\n",
       "      <td>0.01</td>\n",
       "      <td>5</td>\n",
       "      <td>100</td>\n",
       "      <td>-1</td>\n",
       "      <td>0.1</td>\n",
       "      <td>...</td>\n",
       "      <td>0</td>\n",
       "      <td>{'algoritmo': XGBClassifier(base_score=None, b...</td>\n",
       "      <td>0.916667</td>\n",
       "      <td>0.902778</td>\n",
       "      <td>0.868056</td>\n",
       "      <td>1.0</td>\n",
       "      <td>1.0</td>\n",
       "      <td>0.937500</td>\n",
       "      <td>0.053432</td>\n",
       "      <td>424</td>\n",
       "    </tr>\n",
       "    <tr>\n",
       "      <th>1</th>\n",
       "      <td>0.036348</td>\n",
       "      <td>0.003689</td>\n",
       "      <td>0.006986</td>\n",
       "      <td>0.003524</td>\n",
       "      <td>XGBClassifier(base_score=None, booster=None, c...</td>\n",
       "      <td>0.01</td>\n",
       "      <td>5</td>\n",
       "      <td>100</td>\n",
       "      <td>-1</td>\n",
       "      <td>0</td>\n",
       "      <td>...</td>\n",
       "      <td>0</td>\n",
       "      <td>{'algoritmo': XGBClassifier(base_score=None, b...</td>\n",
       "      <td>0.916667</td>\n",
       "      <td>0.902778</td>\n",
       "      <td>0.868056</td>\n",
       "      <td>1.0</td>\n",
       "      <td>1.0</td>\n",
       "      <td>0.937500</td>\n",
       "      <td>0.053432</td>\n",
       "      <td>424</td>\n",
       "    </tr>\n",
       "    <tr>\n",
       "      <th>40</th>\n",
       "      <td>0.072529</td>\n",
       "      <td>0.010924</td>\n",
       "      <td>0.009104</td>\n",
       "      <td>0.001779</td>\n",
       "      <td>XGBClassifier(base_score=None, booster=None, c...</td>\n",
       "      <td>0.01</td>\n",
       "      <td>10</td>\n",
       "      <td>100</td>\n",
       "      <td>-1</td>\n",
       "      <td>0.1</td>\n",
       "      <td>...</td>\n",
       "      <td>0</td>\n",
       "      <td>{'algoritmo': XGBClassifier(base_score=None, b...</td>\n",
       "      <td>0.916667</td>\n",
       "      <td>0.902778</td>\n",
       "      <td>0.868056</td>\n",
       "      <td>1.0</td>\n",
       "      <td>1.0</td>\n",
       "      <td>0.937500</td>\n",
       "      <td>0.053432</td>\n",
       "      <td>424</td>\n",
       "    </tr>\n",
       "    <tr>\n",
       "      <th>76</th>\n",
       "      <td>0.079564</td>\n",
       "      <td>0.006454</td>\n",
       "      <td>0.007753</td>\n",
       "      <td>0.000706</td>\n",
       "      <td>XGBClassifier(base_score=None, booster=None, c...</td>\n",
       "      <td>0.01</td>\n",
       "      <td>20</td>\n",
       "      <td>100</td>\n",
       "      <td>-1</td>\n",
       "      <td>0.1</td>\n",
       "      <td>...</td>\n",
       "      <td>0</td>\n",
       "      <td>{'algoritmo': XGBClassifier(base_score=None, b...</td>\n",
       "      <td>0.916667</td>\n",
       "      <td>0.902778</td>\n",
       "      <td>0.868056</td>\n",
       "      <td>1.0</td>\n",
       "      <td>1.0</td>\n",
       "      <td>0.937500</td>\n",
       "      <td>0.053432</td>\n",
       "      <td>424</td>\n",
       "    </tr>\n",
       "  </tbody>\n",
       "</table>\n",
       "<p>432 rows × 21 columns</p>\n",
       "</div>"
      ],
      "text/plain": [
       "     mean_fit_time  std_fit_time  mean_score_time  std_score_time  \\\n",
       "413       0.262402      0.015423         0.013541        0.005506   \n",
       "389       0.505076      0.057981         0.008377        0.001492   \n",
       "341       0.240600      0.021598         0.008379        0.001198   \n",
       "374       0.247004      0.034991         0.008269        0.001448   \n",
       "386       0.408500      0.024842         0.007581        0.000490   \n",
       "..             ...           ...              ...             ...   \n",
       "4         0.032965      0.002403         0.004890        0.000659   \n",
       "3         0.037539      0.009166         0.005784        0.000976   \n",
       "1         0.036348      0.003689         0.006986        0.003524   \n",
       "40        0.072529      0.010924         0.009104        0.001779   \n",
       "76        0.079564      0.006454         0.007753        0.000706   \n",
       "\n",
       "                                       param_algoritmo  \\\n",
       "413  XGBClassifier(base_score=None, booster=None, c...   \n",
       "389  XGBClassifier(base_score=None, booster=None, c...   \n",
       "341  XGBClassifier(base_score=None, booster=None, c...   \n",
       "374  XGBClassifier(base_score=None, booster=None, c...   \n",
       "386  XGBClassifier(base_score=None, booster=None, c...   \n",
       "..                                                 ...   \n",
       "4    XGBClassifier(base_score=None, booster=None, c...   \n",
       "3    XGBClassifier(base_score=None, booster=None, c...   \n",
       "1    XGBClassifier(base_score=None, booster=None, c...   \n",
       "40   XGBClassifier(base_score=None, booster=None, c...   \n",
       "76   XGBClassifier(base_score=None, booster=None, c...   \n",
       "\n",
       "    param_algoritmo__learning_rate param_algoritmo__max_depth  \\\n",
       "413                            0.1                         20   \n",
       "389                            0.1                         10   \n",
       "341                            0.1                          5   \n",
       "374                            0.1                         10   \n",
       "386                            0.1                         10   \n",
       "..                             ...                        ...   \n",
       "4                             0.01                          5   \n",
       "3                             0.01                          5   \n",
       "1                             0.01                          5   \n",
       "40                            0.01                         10   \n",
       "76                            0.01                         20   \n",
       "\n",
       "    param_algoritmo__n_estimators param_algoritmo__n_jobs  \\\n",
       "413                           500                      -1   \n",
       "389                          1000                      -1   \n",
       "341                           500                      -1   \n",
       "374                           500                      -1   \n",
       "386                          1000                      -1   \n",
       "..                            ...                     ...   \n",
       "4                             100                      -1   \n",
       "3                             100                      -1   \n",
       "1                             100                      -1   \n",
       "40                            100                      -1   \n",
       "76                            100                      -1   \n",
       "\n",
       "    param_algoritmo__reg_alpha  ... param_algoritmo__verbosity  \\\n",
       "413                        0.1  ...                          0   \n",
       "389                        0.1  ...                          0   \n",
       "341                        0.1  ...                          0   \n",
       "374                          0  ...                          0   \n",
       "386                          0  ...                          0   \n",
       "..                         ...  ...                        ...   \n",
       "4                          0.1  ...                          0   \n",
       "3                          0.1  ...                          0   \n",
       "1                            0  ...                          0   \n",
       "40                         0.1  ...                          0   \n",
       "76                         0.1  ...                          0   \n",
       "\n",
       "                                                params split0_test_score  \\\n",
       "413  {'algoritmo': XGBClassifier(base_score=None, b...          0.986111   \n",
       "389  {'algoritmo': XGBClassifier(base_score=None, b...          0.986111   \n",
       "341  {'algoritmo': XGBClassifier(base_score=None, b...          0.986111   \n",
       "374  {'algoritmo': XGBClassifier(base_score=None, b...          0.986111   \n",
       "386  {'algoritmo': XGBClassifier(base_score=None, b...          0.986111   \n",
       "..                                                 ...               ...   \n",
       "4    {'algoritmo': XGBClassifier(base_score=None, b...          0.916667   \n",
       "3    {'algoritmo': XGBClassifier(base_score=None, b...          0.916667   \n",
       "1    {'algoritmo': XGBClassifier(base_score=None, b...          0.916667   \n",
       "40   {'algoritmo': XGBClassifier(base_score=None, b...          0.916667   \n",
       "76   {'algoritmo': XGBClassifier(base_score=None, b...          0.916667   \n",
       "\n",
       "     split1_test_score  split2_test_score  split3_test_score  \\\n",
       "413           0.972222           0.965278                1.0   \n",
       "389           0.972222           0.965278                1.0   \n",
       "341           0.972222           0.965278                1.0   \n",
       "374           0.972222           0.965278                1.0   \n",
       "386           0.972222           0.965278                1.0   \n",
       "..                 ...                ...                ...   \n",
       "4             0.902778           0.868056                1.0   \n",
       "3             0.902778           0.868056                1.0   \n",
       "1             0.902778           0.868056                1.0   \n",
       "40            0.902778           0.868056                1.0   \n",
       "76            0.902778           0.868056                1.0   \n",
       "\n",
       "     split4_test_score  mean_test_score  std_test_score  rank_test_score  \n",
       "413                1.0         0.984722        0.014164                1  \n",
       "389                1.0         0.984722        0.014164                1  \n",
       "341                1.0         0.984722        0.014164                1  \n",
       "374                1.0         0.984722        0.014164                1  \n",
       "386                1.0         0.984722        0.014164                1  \n",
       "..                 ...              ...             ...              ...  \n",
       "4                  1.0         0.937500        0.053432              424  \n",
       "3                  1.0         0.937500        0.053432              424  \n",
       "1                  1.0         0.937500        0.053432              424  \n",
       "40                 1.0         0.937500        0.053432              424  \n",
       "76                 1.0         0.937500        0.053432              424  \n",
       "\n",
       "[432 rows x 21 columns]"
      ]
     },
     "execution_count": 5,
     "metadata": {},
     "output_type": "execute_result"
    }
   ],
   "source": [
    "grid_search = GridSearchCV( estimator= pipe,\n",
    "                           param_grid= grid,\n",
    "                           cv = 5,\n",
    "                           scoring= 'roc_auc',\n",
    "                           verbose=0,\n",
    "                           n_jobs= -1\n",
    "                        )\n",
    "\n",
    "modelo = grid_search.fit(train_x, train_y)\n",
    "pd.DataFrame(grid_search.cv_results_).sort_values(by = 'rank_test_score')"
   ]
  },
  {
   "cell_type": "code",
   "execution_count": 6,
   "metadata": {},
   "outputs": [
    {
     "data": {
      "text/html": [
       "<style>#sk-container-id-1 {color: black;background-color: white;}#sk-container-id-1 pre{padding: 0;}#sk-container-id-1 div.sk-toggleable {background-color: white;}#sk-container-id-1 label.sk-toggleable__label {cursor: pointer;display: block;width: 100%;margin-bottom: 0;padding: 0.3em;box-sizing: border-box;text-align: center;}#sk-container-id-1 label.sk-toggleable__label-arrow:before {content: \"▸\";float: left;margin-right: 0.25em;color: #696969;}#sk-container-id-1 label.sk-toggleable__label-arrow:hover:before {color: black;}#sk-container-id-1 div.sk-estimator:hover label.sk-toggleable__label-arrow:before {color: black;}#sk-container-id-1 div.sk-toggleable__content {max-height: 0;max-width: 0;overflow: hidden;text-align: left;background-color: #f0f8ff;}#sk-container-id-1 div.sk-toggleable__content pre {margin: 0.2em;color: black;border-radius: 0.25em;background-color: #f0f8ff;}#sk-container-id-1 input.sk-toggleable__control:checked~div.sk-toggleable__content {max-height: 200px;max-width: 100%;overflow: auto;}#sk-container-id-1 input.sk-toggleable__control:checked~label.sk-toggleable__label-arrow:before {content: \"▾\";}#sk-container-id-1 div.sk-estimator input.sk-toggleable__control:checked~label.sk-toggleable__label {background-color: #d4ebff;}#sk-container-id-1 div.sk-label input.sk-toggleable__control:checked~label.sk-toggleable__label {background-color: #d4ebff;}#sk-container-id-1 input.sk-hidden--visually {border: 0;clip: rect(1px 1px 1px 1px);clip: rect(1px, 1px, 1px, 1px);height: 1px;margin: -1px;overflow: hidden;padding: 0;position: absolute;width: 1px;}#sk-container-id-1 div.sk-estimator {font-family: monospace;background-color: #f0f8ff;border: 1px dotted black;border-radius: 0.25em;box-sizing: border-box;margin-bottom: 0.5em;}#sk-container-id-1 div.sk-estimator:hover {background-color: #d4ebff;}#sk-container-id-1 div.sk-parallel-item::after {content: \"\";width: 100%;border-bottom: 1px solid gray;flex-grow: 1;}#sk-container-id-1 div.sk-label:hover label.sk-toggleable__label {background-color: #d4ebff;}#sk-container-id-1 div.sk-serial::before {content: \"\";position: absolute;border-left: 1px solid gray;box-sizing: border-box;top: 0;bottom: 0;left: 50%;z-index: 0;}#sk-container-id-1 div.sk-serial {display: flex;flex-direction: column;align-items: center;background-color: white;padding-right: 0.2em;padding-left: 0.2em;position: relative;}#sk-container-id-1 div.sk-item {position: relative;z-index: 1;}#sk-container-id-1 div.sk-parallel {display: flex;align-items: stretch;justify-content: center;background-color: white;position: relative;}#sk-container-id-1 div.sk-item::before, #sk-container-id-1 div.sk-parallel-item::before {content: \"\";position: absolute;border-left: 1px solid gray;box-sizing: border-box;top: 0;bottom: 0;left: 50%;z-index: -1;}#sk-container-id-1 div.sk-parallel-item {display: flex;flex-direction: column;z-index: 1;position: relative;background-color: white;}#sk-container-id-1 div.sk-parallel-item:first-child::after {align-self: flex-end;width: 50%;}#sk-container-id-1 div.sk-parallel-item:last-child::after {align-self: flex-start;width: 50%;}#sk-container-id-1 div.sk-parallel-item:only-child::after {width: 0;}#sk-container-id-1 div.sk-dashed-wrapped {border: 1px dashed gray;margin: 0 0.4em 0.5em 0.4em;box-sizing: border-box;padding-bottom: 0.4em;background-color: white;}#sk-container-id-1 div.sk-label label {font-family: monospace;font-weight: bold;display: inline-block;line-height: 1.2em;}#sk-container-id-1 div.sk-label-container {text-align: center;}#sk-container-id-1 div.sk-container {/* jupyter's `normalize.less` sets `[hidden] { display: none; }` but bootstrap.min.css set `[hidden] { display: none !important; }` so we also need the `!important` here to be able to override the default hidden behavior on the sphinx rendered scikit-learn.org. See: https://github.com/scikit-learn/scikit-learn/issues/21755 */display: inline-block !important;position: relative;}#sk-container-id-1 div.sk-text-repr-fallback {display: none;}</style><div id=\"sk-container-id-1\" class=\"sk-top-container\"><div class=\"sk-text-repr-fallback\"><pre>Pipeline(steps=[(&#x27;algoritmo&#x27;,\n",
       "                 XGBClassifier(base_score=None, booster=None, callbacks=None,\n",
       "                               colsample_bylevel=None, colsample_bynode=None,\n",
       "                               colsample_bytree=None,\n",
       "                               early_stopping_rounds=None,\n",
       "                               enable_categorical=False, eval_metric=None,\n",
       "                               feature_types=None, gamma=None, gpu_id=None,\n",
       "                               grow_policy=None, importance_type=None,\n",
       "                               interaction_constraints=None, learning_rate=0.05,\n",
       "                               max_bin=None, max_cat_threshold=None,\n",
       "                               max_cat_to_onehot=None, max_delta_step=None,\n",
       "                               max_depth=5, max_leaves=None,\n",
       "                               min_child_weight=None, missing=nan,\n",
       "                               monotone_constraints=None, n_estimators=500,\n",
       "                               n_jobs=-1, num_parallel_tree=None,\n",
       "                               predictor=None, random_state=None, ...))])</pre><b>In a Jupyter environment, please rerun this cell to show the HTML representation or trust the notebook. <br />On GitHub, the HTML representation is unable to render, please try loading this page with nbviewer.org.</b></div><div class=\"sk-container\" hidden><div class=\"sk-item sk-dashed-wrapped\"><div class=\"sk-label-container\"><div class=\"sk-label sk-toggleable\"><input class=\"sk-toggleable__control sk-hidden--visually\" id=\"sk-estimator-id-1\" type=\"checkbox\" ><label for=\"sk-estimator-id-1\" class=\"sk-toggleable__label sk-toggleable__label-arrow\">Pipeline</label><div class=\"sk-toggleable__content\"><pre>Pipeline(steps=[(&#x27;algoritmo&#x27;,\n",
       "                 XGBClassifier(base_score=None, booster=None, callbacks=None,\n",
       "                               colsample_bylevel=None, colsample_bynode=None,\n",
       "                               colsample_bytree=None,\n",
       "                               early_stopping_rounds=None,\n",
       "                               enable_categorical=False, eval_metric=None,\n",
       "                               feature_types=None, gamma=None, gpu_id=None,\n",
       "                               grow_policy=None, importance_type=None,\n",
       "                               interaction_constraints=None, learning_rate=0.05,\n",
       "                               max_bin=None, max_cat_threshold=None,\n",
       "                               max_cat_to_onehot=None, max_delta_step=None,\n",
       "                               max_depth=5, max_leaves=None,\n",
       "                               min_child_weight=None, missing=nan,\n",
       "                               monotone_constraints=None, n_estimators=500,\n",
       "                               n_jobs=-1, num_parallel_tree=None,\n",
       "                               predictor=None, random_state=None, ...))])</pre></div></div></div><div class=\"sk-serial\"><div class=\"sk-item\"><div class=\"sk-estimator sk-toggleable\"><input class=\"sk-toggleable__control sk-hidden--visually\" id=\"sk-estimator-id-2\" type=\"checkbox\" ><label for=\"sk-estimator-id-2\" class=\"sk-toggleable__label sk-toggleable__label-arrow\">XGBClassifier</label><div class=\"sk-toggleable__content\"><pre>XGBClassifier(base_score=None, booster=None, callbacks=None,\n",
       "              colsample_bylevel=None, colsample_bynode=None,\n",
       "              colsample_bytree=None, early_stopping_rounds=None,\n",
       "              enable_categorical=False, eval_metric=None, feature_types=None,\n",
       "              gamma=None, gpu_id=None, grow_policy=None, importance_type=None,\n",
       "              interaction_constraints=None, learning_rate=0.05, max_bin=None,\n",
       "              max_cat_threshold=None, max_cat_to_onehot=None,\n",
       "              max_delta_step=None, max_depth=5, max_leaves=None,\n",
       "              min_child_weight=None, missing=nan, monotone_constraints=None,\n",
       "              n_estimators=500, n_jobs=-1, num_parallel_tree=None,\n",
       "              predictor=None, random_state=None, ...)</pre></div></div></div></div></div></div></div>"
      ],
      "text/plain": [
       "Pipeline(steps=[('algoritmo',\n",
       "                 XGBClassifier(base_score=None, booster=None, callbacks=None,\n",
       "                               colsample_bylevel=None, colsample_bynode=None,\n",
       "                               colsample_bytree=None,\n",
       "                               early_stopping_rounds=None,\n",
       "                               enable_categorical=False, eval_metric=None,\n",
       "                               feature_types=None, gamma=None, gpu_id=None,\n",
       "                               grow_policy=None, importance_type=None,\n",
       "                               interaction_constraints=None, learning_rate=0.05,\n",
       "                               max_bin=None, max_cat_threshold=None,\n",
       "                               max_cat_to_onehot=None, max_delta_step=None,\n",
       "                               max_depth=5, max_leaves=None,\n",
       "                               min_child_weight=None, missing=nan,\n",
       "                               monotone_constraints=None, n_estimators=500,\n",
       "                               n_jobs=-1, num_parallel_tree=None,\n",
       "                               predictor=None, random_state=None, ...))])"
      ]
     },
     "execution_count": 6,
     "metadata": {},
     "output_type": "execute_result"
    }
   ],
   "source": [
    "modelo.best_estimator_"
   ]
  },
  {
   "cell_type": "code",
   "execution_count": 7,
   "metadata": {},
   "outputs": [
    {
     "data": {
      "text/plain": [
       "{'algoritmo': XGBClassifier(base_score=None, booster=None, callbacks=None,\n",
       "               colsample_bylevel=None, colsample_bynode=None,\n",
       "               colsample_bytree=None, early_stopping_rounds=None,\n",
       "               enable_categorical=False, eval_metric=None, feature_types=None,\n",
       "               gamma=None, gpu_id=None, grow_policy=None, importance_type=None,\n",
       "               interaction_constraints=None, learning_rate=0.05, max_bin=None,\n",
       "               max_cat_threshold=None, max_cat_to_onehot=None,\n",
       "               max_delta_step=None, max_depth=5, max_leaves=None,\n",
       "               min_child_weight=None, missing=nan, monotone_constraints=None,\n",
       "               n_estimators=500, n_jobs=-1, num_parallel_tree=None,\n",
       "               predictor=None, random_state=None, ...),\n",
       " 'algoritmo__learning_rate': 0.05,\n",
       " 'algoritmo__max_depth': 5,\n",
       " 'algoritmo__n_estimators': 500,\n",
       " 'algoritmo__n_jobs': -1,\n",
       " 'algoritmo__reg_alpha': 0.1,\n",
       " 'algoritmo__reg_lambda': 0.1,\n",
       " 'algoritmo__verbosity': 0}"
      ]
     },
     "execution_count": 7,
     "metadata": {},
     "output_type": "execute_result"
    }
   ],
   "source": [
    "modelo.best_params_"
   ]
  },
  {
   "cell_type": "code",
   "execution_count": 8,
   "metadata": {},
   "outputs": [
    {
     "data": {
      "text/plain": [
       "0.9847222222222222"
      ]
     },
     "execution_count": 8,
     "metadata": {},
     "output_type": "execute_result"
    }
   ],
   "source": [
    "modelo.best_score_"
   ]
  },
  {
   "cell_type": "markdown",
   "metadata": {},
   "source": [
    "### GUARDAR MODELO.BEST_ESTIMATOR Y PARÁMETROS"
   ]
  },
  {
   "cell_type": "code",
   "execution_count": 9,
   "metadata": {},
   "outputs": [],
   "source": [
    "modelo_best_estimator = modelo"
   ]
  },
  {
   "cell_type": "markdown",
   "metadata": {},
   "source": [
    "#### Guardar modelo, parámetros y score"
   ]
  },
  {
   "cell_type": "code",
   "execution_count": 10,
   "metadata": {},
   "outputs": [],
   "source": [
    "m_best_estimator = str(modelo.best_estimator_[0])\n",
    "m_best_estimator = m_best_estimator.split('(')[0]\n",
    "m_best_params = str(modelo.best_params_)\n",
    "m_best_score = str(modelo.best_score_)"
   ]
  },
  {
   "cell_type": "markdown",
   "metadata": {},
   "source": [
    "## EVALUAR"
   ]
  },
  {
   "cell_type": "markdown",
   "metadata": {},
   "source": [
    "### PREDECIR Y EVALUAR SOBRE EL TRAIN"
   ]
  },
  {
   "cell_type": "markdown",
   "metadata": {},
   "source": [
    "### Predecir sobre el Train"
   ]
  },
  {
   "cell_type": "code",
   "execution_count": 11,
   "metadata": {},
   "outputs": [],
   "source": [
    "pred = modelo.best_estimator_.predict(train_x)"
   ]
  },
  {
   "cell_type": "markdown",
   "metadata": {},
   "source": [
    "### Evaluar sobre el Train"
   ]
  },
  {
   "cell_type": "code",
   "execution_count": 12,
   "metadata": {},
   "outputs": [
    {
     "name": "stdout",
     "output_type": "stream",
     "text": [
      "Roc AUC: 0.9883720930232558\n",
      "Accuracy: 0.9882352941176471\n",
      "Classification Report:\n",
      "              precision    recall  f1-score   support\n",
      "\n",
      "           0       1.00      0.98      0.99        43\n",
      "           1       0.98      1.00      0.99        42\n",
      "\n",
      "    accuracy                           0.99        85\n",
      "   macro avg       0.99      0.99      0.99        85\n",
      "weighted avg       0.99      0.99      0.99        85\n",
      "\n"
     ]
    }
   ],
   "source": [
    "t_roc_auc = roc_auc_score(train_y, pred)\n",
    "t_accuracy = accuracy_score(train_y, pred)\n",
    "t_report = classification_report(train_y, pred)\n",
    "\n",
    "print(f\"Roc AUC: {t_roc_auc}\")\n",
    "print(f\"Accuracy: {t_accuracy}\")\n",
    "print(f\"Classification Report:\\n{t_report}\")"
   ]
  },
  {
   "cell_type": "markdown",
   "metadata": {},
   "source": [
    "### PREDECIR Y EVALUAR SOBRE LA VALIDACIÓN"
   ]
  },
  {
   "cell_type": "markdown",
   "metadata": {},
   "source": [
    "### Predecir sobre la validación"
   ]
  },
  {
   "cell_type": "code",
   "execution_count": 13,
   "metadata": {},
   "outputs": [],
   "source": [
    "pred = modelo.best_estimator_.predict(val_x)\n",
    "pred_proba = modelo.best_estimator_.predict_proba(val_x)[:,1]"
   ]
  },
  {
   "cell_type": "markdown",
   "metadata": {},
   "source": [
    "### Evaluar sobre la validación"
   ]
  },
  {
   "cell_type": "code",
   "execution_count": 14,
   "metadata": {},
   "outputs": [
    {
     "name": "stdout",
     "output_type": "stream",
     "text": [
      "Roc AUC_proba: 0.9181286549707602\n",
      "Roc AUC: 0.8625730994152047\n",
      "Accuracy: 0.8648648648648649\n",
      "Classification Report:              precision    recall  f1-score   support\n",
      "\n",
      "           0       0.93      0.78      0.85        18\n",
      "           1       0.82      0.95      0.88        19\n",
      "\n",
      "    accuracy                           0.86        37\n",
      "   macro avg       0.88      0.86      0.86        37\n",
      "weighted avg       0.87      0.86      0.86        37\n",
      "\n"
     ]
    }
   ],
   "source": [
    "v_roc_auc_proba = roc_auc_score(val_y, pred_proba)\n",
    "v_roc_auc = roc_auc_score(val_y, pred)\n",
    "v_accuracy = accuracy_score(val_y, pred)\n",
    "v_report = classification_report(val_y, pred)\n",
    "\n",
    "print(f\"Roc AUC_proba: {v_roc_auc_proba}\")\n",
    "print(f\"Roc AUC: {v_roc_auc}\")\n",
    "print(f\"Accuracy: {v_accuracy}\")\n",
    "print(f\"Classification Report:{v_report}\")"
   ]
  },
  {
   "cell_type": "markdown",
   "metadata": {},
   "source": [
    "## REPORTING DEL MODELO"
   ]
  },
  {
   "cell_type": "markdown",
   "metadata": {},
   "source": [
    "Matrix de Confusión MultiClass"
   ]
  },
  {
   "cell_type": "code",
   "execution_count": 15,
   "metadata": {},
   "outputs": [
    {
     "data": {
      "image/png": "[encoded data removed]",
      "text/plain": [
       "<Figure size 500x500 with 1 Axes>"
      ]
     },
     "metadata": {},
     "output_type": "display_data"
    }
   ],
   "source": [
    "# Calcular la matriz de confusión\n",
    "cm = confusion_matrix(val_y, pred)\n",
    "\n",
    "\n",
    "# Crear un mapa de calor de la matriz de confusión\n",
    "plt.figure(figsize=(5, 5))\n",
    "sns.heatmap(cm, annot=True, cmap=\"Blues\", fmt=\"d\", cbar=False)\n",
    "\n",
    "# Configurar etiquetas y título del gráfico\n",
    "plt.xlabel(\"Predicted Labels\")\n",
    "plt.ylabel(\"True Labels\")\n",
    "plt.title(\"Confusion Matrix\");\n"
   ]
  },
  {
   "cell_type": "markdown",
   "metadata": {},
   "source": [
    "### Precision-Recall"
   ]
  },
  {
   "cell_type": "code",
   "execution_count": 16,
   "metadata": {},
   "outputs": [
    {
     "data": {
      "text/plain": [
       "<sklearn.metrics._plot.precision_recall_curve.PrecisionRecallDisplay at 0x27c8cd1cad0>"
      ]
     },
     "execution_count": 16,
     "metadata": {},
     "output_type": "execute_result"
    },
    {
     "data": {
      "image/png": "[encoded data removed]",
      "text/plain": [
       "<Figure size 800x550 with 1 Axes>"
      ]
     },
     "metadata": {},
     "output_type": "display_data"
    }
   ],
   "source": [
    "PrecisionRecallDisplay.from_estimator(modelo_best_estimator, val_x, val_y)"
   ]
  },
  {
   "cell_type": "code",
   "execution_count": 17,
   "metadata": {},
   "outputs": [
    {
     "name": "stdout",
     "output_type": "stream",
     "text": [
      "El mejor best_threshold: 0.64831114\n"
     ]
    },
    {
     "data": {
      "image/png": "[encoded data removed]",
      "text/plain": [
       "<Figure size 800x600 with 1 Axes>"
      ]
     },
     "metadata": {},
     "output_type": "display_data"
    }
   ],
   "source": [
    "# Calcula la curva de precisión y recall para diferentes umbrales de corte\n",
    "precision, recall, thresholds = precision_recall_curve(val_y, pred_proba)\n",
    "\n",
    "# Grafica la relación entre la precisión y el recall en función del umbral de corte\n",
    "plt.figure(figsize=(8, 6))\n",
    "plt.plot(thresholds, precision[:-1], label='Precision', linestyle='--')\n",
    "plt.plot(thresholds, recall[:-1], label='Recall', linestyle='-')\n",
    "plt.xlabel('Threshold')\n",
    "plt.ylabel('Score')\n",
    "plt.legend()\n",
    "plt.title('Precision and Recall vs. Threshold')\n",
    "\n",
    "# Encuentra el umbral que maximiza F1-score (o ajusta según tus necesidades)\n",
    "f1_scores = 2 * (precision * recall) / (precision + recall)\n",
    "best_threshold = thresholds[np.argmax(f1_scores)]\n",
    "print(\"El mejor best_threshold:\", best_threshold)"
   ]
  },
  {
   "cell_type": "markdown",
   "metadata": {},
   "source": [
    "### ROC Chart"
   ]
  },
  {
   "cell_type": "code",
   "execution_count": 30,
   "metadata": {},
   "outputs": [
    {
     "data": {
      "image/png": "[encoded data removed]",
      "text/plain": [
       "<Figure size 800x550 with 1 Axes>"
      ]
     },
     "metadata": {},
     "output_type": "display_data"
    }
   ],
   "source": [
    "fig, ax = plt.subplots()\n",
    "\n",
    "skplt.metrics.plot_roc(val_y, modelo.best_estimator_.predict_proba(val_x), ax=ax) \n",
    "\n",
    "#Eliminamos la línea de los ceros y personalizamos la leyenda\n",
    "ax.lines[0].remove()            \n",
    "ax.lines[1].remove()\n",
    "ax.lines[1].remove()\n",
    "plt.legend(labels = ['Modelo','Aleatoria']);"
   ]
  },
  {
   "cell_type": "markdown",
   "metadata": {},
   "source": [
    "## ESTABLECER UMBRAL DE CORTE"
   ]
  },
  {
   "cell_type": "markdown",
   "metadata": {},
   "source": [
    "En este caso, al laboratorio o especialista le interesa tener una alta precisión en los casos y tener menos casos de falsos positivos. Por ese motivo vamos a aplicar un umbral de corte equilibrado entre precision y recall para tener el mayor caso de positivos reales y evitar falsos positivos."
   ]
  },
  {
   "cell_type": "code",
   "execution_count": 26,
   "metadata": {},
   "outputs": [],
   "source": [
    "\n",
    "def calcular_metricas(real, scoring, umbral):\n",
    "    \n",
    "    #CALCULAR LA DECISION SEGUN EL UMBRAL\n",
    "    predicho = np.where(scoring > umbral,1,0) \n",
    "    \n",
    "    #CALCULAR TODAS LAS MÉTRICAS\n",
    "    conf = confusion_matrix(real,predicho)\n",
    "\n",
    "    tn, fp, fn, tp = conf.ravel()\n",
    "\n",
    "    total_casos = y.shape[0]\n",
    "    \n",
    "    accuracy = (tn + tp) / total_casos\n",
    "    precision = tp / (tp + fp)\n",
    "    recall = tp / (tp + fn)\n",
    "    F1 = 2 * (precision * recall) / (precision + recall)\n",
    "\n",
    "    #IMPRIMIR RESULTADOS\n",
    "    # Crear un mapa de calor de la matriz de confusión\n",
    "    plt.figure(figsize=(5, 5))\n",
    "    sns.heatmap(conf, annot=True, cmap=\"Blues\", fmt=\"d\", cbar=False)\n",
    "    # Configurar etiquetas y título del gráfico\n",
    "    plt.xlabel(\"Predicted Labels\")\n",
    "    plt.ylabel(\"True Labels\")\n",
    "    plt.title(\"Confusion Matrix\");\n",
    "    print('\\nUmbral de corte:', umbral)\n",
    "    print('accuracy:',round(accuracy,3))\n",
    "    print('precision:',round(precision,3))\n",
    "    print('recall:',round(recall,3))\n",
    "    print('F1:',round(F1,3))"
   ]
  },
  {
   "cell_type": "code",
   "execution_count": 29,
   "metadata": {},
   "outputs": [
    {
     "name": "stdout",
     "output_type": "stream",
     "text": [
      "\n",
      "Umbral de corte: 0.64831114\n",
      "accuracy: 0.262\n",
      "precision: 0.889\n",
      "recall: 0.842\n",
      "F1: 0.865\n"
     ]
    },
    {
     "data": {
      "image/png": "[encoded data removed]",
      "text/plain": [
       "<Figure size 500x500 with 1 Axes>"
      ]
     },
     "metadata": {},
     "output_type": "display_data"
    }
   ],
   "source": [
    "calcular_metricas(val_y, pred_proba, best_threshold)"
   ]
  },
  {
   "cell_type": "markdown",
   "metadata": {},
   "source": [
    "## GUARDAR BEST_ESTIMATOR, PARÁMETROS Y RESULTADOS DEL TEST Y LA VALIDACIÓN"
   ]
  },
  {
   "cell_type": "markdown",
   "metadata": {},
   "source": [
    "#### Guardar el mejor estimador"
   ]
  },
  {
   "cell_type": "code",
   "execution_count": 39,
   "metadata": {},
   "outputs": [
    {
     "data": {
      "text/plain": [
       "'XGBClassifier_v06.pickle'"
      ]
     },
     "execution_count": 39,
     "metadata": {},
     "output_type": "execute_result"
    }
   ],
   "source": [
    "version_estimator = '_v06'\n",
    "nombre_best_estimator = m_best_estimator + version_estimator + '.pickle'\n",
    "nombre_best_estimator"
   ]
  },
  {
   "cell_type": "code",
   "execution_count": 40,
   "metadata": {},
   "outputs": [
    {
     "data": {
      "text/plain": [
       "'XGBClassifier'"
      ]
     },
     "execution_count": 40,
     "metadata": {},
     "output_type": "execute_result"
    }
   ],
   "source": [
    "m_best_estimator"
   ]
  },
  {
   "cell_type": "code",
   "execution_count": 41,
   "metadata": {},
   "outputs": [],
   "source": [
    "ruta_pipe_entrenamiento = '../../04_Modelos/Best_estimator/' + nombre_best_estimator\n",
    "\n",
    "with open (ruta_pipe_entrenamiento, mode= 'wb') as file:\n",
    "    cloudpickle.dump(modelo_best_estimator, file)\n"
   ]
  },
  {
   "cell_type": "code",
   "execution_count": 42,
   "metadata": {},
   "outputs": [],
   "source": [
    "# Añadir comentarios sobre el modelo y definimos predictoras y target\n",
    "\n",
    "comentarios = \"Modelo XGBClassifier con parámetros para evitar el sobreajuste sin preselección de variables y con balanceo de datos (Smote-Tomek)\"\n",
    "x_columns = list(x.columns)\n",
    "y_target = y.name\n"
   ]
  },
  {
   "cell_type": "code",
   "execution_count": 43,
   "metadata": {},
   "outputs": [
    {
     "data": {
      "text/plain": [
       "m_Best_estimator                                        XGBClassifier\n",
       "m_Best_paramans     {'algoritmo': XGBClassifier(base_score=None, b...\n",
       "m_Best_Score                                       0.9847222222222222\n",
       "t_accuracy                                                   0.988235\n",
       "t_report                          precision    recall  f1-score   ...\n",
       "v_roc_auc_proba                                              0.918129\n",
       "v_roc_auc                                                    0.862573\n",
       "v_accuracy                                                   0.864865\n",
       "v_report                          precision    recall  f1-score   ...\n",
       "comentarios         Modelo XGBClassifier con parámetros para evita...\n",
       "predictoras_X       [estacion, edad, e_infantil, acc_grave, int_qu...\n",
       "target_y                                                   produccion\n",
       "Name: XGBClassifier_v06.pickle, dtype: object"
      ]
     },
     "execution_count": 43,
     "metadata": {},
     "output_type": "execute_result"
    }
   ],
   "source": [
    "#Cargamos la lista con los resultados\n",
    "resultado  = {'m_Best_estimator': m_best_estimator,\n",
    "               'm_Best_paramans' : m_best_params,\n",
    "               'm_Best_Score': m_best_score, \n",
    "               't_accuracy': t_accuracy, \n",
    "               't_report': t_report, \n",
    "               'v_roc_auc_proba': v_roc_auc_proba,\n",
    "               'v_roc_auc': v_roc_auc,\n",
    "               'v_accuracy': v_accuracy, \n",
    "               'v_report': v_report, \n",
    "               'comentarios': comentarios,\n",
    "               'predictoras_X': x_columns,\n",
    "               'target_y': y_target\n",
    "            }\n",
    "resultado= pd.Series(resultado,name=nombre_best_estimator)\n",
    "resultado"
   ]
  },
  {
   "cell_type": "code",
   "execution_count": 44,
   "metadata": {},
   "outputs": [],
   "source": [
    "df_best = pd.read_excel('../../04_Modelos/Best_estimator/Best_estimator.xlsx',index_col=0)\n"
   ]
  },
  {
   "cell_type": "code",
   "execution_count": 45,
   "metadata": {},
   "outputs": [],
   "source": [
    "df_best = pd.concat([df_best, resultado], ignore_index= False,axis=1)\n",
    "df_best.to_excel('../../04_Modelos/Best_estimator/Best_estimator.xlsx')"
   ]
  },
  {
   "cell_type": "markdown",
   "metadata": {},
   "source": [
    "**CONCLUSIÓN**: Vemos que el modelo con los datos de valuación tiene un AUC [1] del 91% debido al Smote-Tomek. Hemos obtenido tanto un precisión como un recall muy buenos con los datos de validación y hemos aplicado el umbral de corte para ajustar entre estas dos variables. \n",
    "\n",
    "**PRÓXIMOS PASOS:**\n",
    "\n",
    "Realizaremos el modelo definitivo con este modelo. Pero antes veremos si podemos ajustar el precisión y recall para ajustar los falsos positivos. "
   ]
  }
 ],
 "metadata": {
  "kernelspec": {
   "display_name": "proyecto1",
   "language": "python",
   "name": "python3"
  },
  "language_info": {
   "codemirror_mode": {
    "name": "ipython",
    "version": 3
   },
   "file_extension": ".py",
   "mimetype": "text/x-python",
   "name": "python",
   "nbconvert_exporter": "python",
   "pygments_lexer": "ipython3",
   "version": "3.11.3"
  },
  "orig_nbformat": 4
 },
 "nbformat": 4,
 "nbformat_minor": 2
}
