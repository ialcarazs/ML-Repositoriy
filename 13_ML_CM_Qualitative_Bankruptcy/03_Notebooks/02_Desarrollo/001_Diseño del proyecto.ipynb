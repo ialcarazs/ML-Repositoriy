{
 "cells": [
  {
   "cell_type": "markdown",
   "id": "1bf8a98a",
   "metadata": {},
   "source": [
    "# Estimate chance of Bankruptcy from Qualitative parameters from experts"
   ]
  },
  {
   "cell_type": "markdown",
   "id": "acc1cb19",
   "metadata": {},
   "source": [
    "![Alt text](../../09_Otros/407.jpg)"
   ]
  },
  {
   "cell_type": "markdown",
   "id": "2381a6f2",
   "metadata": {},
   "source": [
    "# DISEÑO DEL PROYECTO"
   ]
  },
  {
   "attachments": {},
   "cell_type": "markdown",
   "id": "3762bdba",
   "metadata": {},
   "source": [
    "This *beginner* level data set has 250 rows and 7 columns.\n",
    "\n",
    "This dataset contains 6 qualitative parameters from experts which could be used to predict the bankruptcy."
   ]
  },
  {
   "cell_type": "markdown",
   "id": "a7a23442",
   "metadata": {},
   "source": [
    "## OBJETIVO"
   ]
  },
  {
   "attachments": {},
   "cell_type": "markdown",
   "id": "5e6cb9b4",
   "metadata": {},
   "source": [
    "**Level:** Beginner <br/>\n",
    "**Recommended Use:** Classification Models<br/>\n",
    "**Domain:** Finance/Banking<br/> \n",
    "\n",
    "Predict the bakruptcy.\n",
    "\n",
    "This data set is recommended for learning and practicing your skills in **exploratory data analysis**, **data visualization**, and **classification modelling techniques**. \n",
    "Feel free to explore the data set with multiple **supervised** and **unsupervised** learning techniques."
   ]
  },
  {
   "cell_type": "markdown",
   "id": "8dc55217",
   "metadata": {},
   "source": [
    "## ENTIDADES Y DATOS"
   ]
  },
  {
   "cell_type": "markdown",
   "id": "bfef837e",
   "metadata": {},
   "source": [
    "The Following data dictionary gives more details on this data set:\n",
    "\n",
    "### Data Dictionary \n",
    "\n",
    "| Column   Position \t| Atrribute Name        \t| Definition                                                   \t| Data Type   \t| Example \t| % Null Ratios \t|\n",
    "|-------------------\t|-----------------------\t|--------------------------------------------------------------\t|-------------\t|---------\t|---------------\t|\n",
    "| 1                 \t| Industrial Risk       \t| Industrial Risk (P: Positive, A: Average, N: Negative)       \t| Qualitative \t| P, A, N \t| 0             \t|\n",
    "| 2                 \t| Management Risk       \t| Management Risk (P: Positive, A: Average, N: Negative)       \t| Qualitative \t| P, A, N \t| 0             \t|\n",
    "| 3                 \t| Financial Flexibility \t| Financial Flexibility (P: Positive, A: Average, N: Negative) \t| Qualitative \t| P, A, N \t| 0             \t|\n",
    "| 4                 \t| Credibility           \t| Credibility (P: Positive, A: Average, N: Negative)           \t| Qualitative \t| P, A, N \t| 0             \t|\n",
    "| 5                 \t| Competitiveness       \t| Competitiveness (P: Positive, A: Average, N: Negative)       \t| Qualitative \t| P, A, N \t| 0             \t|\n",
    "| 6                 \t| Operating Risk        \t| Operating Risk (P: Positive, A: Average, N: Negative)        \t| Qualitative \t| P, A, N \t| 0             \t|\n",
    "| 7                 \t| Class                 \t| Class (B: Bankruptcy, NB: Non-Bankruptcy)                    \t| Qualitative \t| B, NB   \t| 0             \t|\n",
    "---\n",
    "Following are the details of the qualitative risk factors which mentions their risk components:\n",
    "\n",
    "**i.Industry risk (IR):** <br>\n",
    "\t- Government policies and International agreements, <br>\n",
    "\t- Cyclicality, <br>\n",
    "\t- Degree of competition, <br>\t\t\t\t\n",
    "\t- The price and stability of market supply, <br>\n",
    "\t- The size and growth of market demand, <br>\t\n",
    "\t- The sensitivity to changes in macroeconomic factors, <br>\n",
    "\t- Domestic and international competitive power, <br>\n",
    "\t- Product Life Cycle.<br>\n",
    "\n",
    "**ii.Management risk(MR):** <br>\n",
    "\t- Ability and competence of management, <br>\n",
    "\t- Stability of management,<br>\n",
    "\t- The relationship between management/ owner, <br>\n",
    "\t- Human resources management, <br>\n",
    "\t- Growth process/business performance, <br>\n",
    "\t- Short and long term business planning, <br>\n",
    "\t- achievement and feasibility. <br>\n",
    "\n",
    "**iii.Financial Flexibility(FF):** <br>\n",
    "\t- Direct financing, <br>\n",
    "\t- Indirect financing, <br>\n",
    "\t- Other financing <br>\n",
    "\n",
    "**iv.Credibility (CR):**  <br>\n",
    "\t- Credit history,  <br>\n",
    "\t- reliability of information, <br>\n",
    "\t- The relationship with financial institutes.<br>\n",
    "\n",
    "**v.Competitiveness (CO):**  <br>\n",
    "\t- Market position, <br>\n",
    "\t- The level of core capacities, <br>\n",
    "\t- Differentiated strategy, <br>\n",
    "\n",
    "**vi.Operating Risk (OP):**  <br>\n",
    "\t- The stability and diversity of procurement, <br>\n",
    "\t- The stability of transaction, <br>\n",
    "\t- The efficiency of production, <br>\n",
    "\t- The prospects for demand for product and service, <br>\n",
    "\t- Sales diversification, <br>\n",
    "\t- Sales price and settlement condition, <br>\n",
    "\t- Collection of A/R,<br>\n",
    "\t- Effectiveness of sale network.<br>"
   ]
  }
 ],
 "metadata": {
  "kernelspec": {
   "display_name": "Python 3 (ipykernel)",
   "language": "python",
   "name": "python3"
  },
  "language_info": {
   "codemirror_mode": {
    "name": "ipython",
    "version": 3
   },
   "file_extension": ".py",
   "mimetype": "text/x-python",
   "name": "python",
   "nbconvert_exporter": "python",
   "pygments_lexer": "ipython3",
   "version": "3.9.12"
  },
  "toc": {
   "base_numbering": 1,
   "nav_menu": {},
   "number_sections": true,
   "sideBar": true,
   "skip_h1_title": false,
   "title_cell": "Table of Contents",
   "title_sidebar": "Contents",
   "toc_cell": false,
   "toc_position": {},
   "toc_section_display": true,
   "toc_window_display": false
  },
  "varInspector": {
   "cols": {
    "lenName": 16,
    "lenType": 16,
    "lenVar": 40
   },
   "kernels_config": {
    "python": {
     "delete_cmd_postfix": "",
     "delete_cmd_prefix": "del ",
     "library": "var_list.py",
     "varRefreshCmd": "print(var_dic_list())"
    },
    "r": {
     "delete_cmd_postfix": ") ",
     "delete_cmd_prefix": "rm(",
     "library": "var_list.r",
     "varRefreshCmd": "cat(var_dic_list()) "
    }
   },
   "types_to_exclude": [
    "module",
    "function",
    "builtin_function_or_method",
    "instance",
    "_Feature"
   ],
   "window_display": false
  }
 },
 "nbformat": 4,
 "nbformat_minor": 5
}
