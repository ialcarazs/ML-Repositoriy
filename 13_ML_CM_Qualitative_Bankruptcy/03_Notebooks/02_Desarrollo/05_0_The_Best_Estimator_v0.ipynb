{
 "cells": [
  {
   "cell_type": "markdown",
   "metadata": {},
   "source": [
    "# 5 THE BEST ESTIMATOR - MODELO BASE"
   ]
  },
  {
   "cell_type": "markdown",
   "metadata": {},
   "source": [
    "## MODELAR ALGORITMO DE CLASIFICACIÓN - MODELO BASE"
   ]
  },
  {
   "cell_type": "markdown",
   "metadata": {},
   "source": [
    "Los modelos que van a competir mediante el GridSearch:\n",
    "\n",
    "![Alt text](image.png)"
   ]
  },
  {
   "cell_type": "markdown",
   "metadata": {},
   "source": [
    "## IMPORTACIÓN DE PAQUETES"
   ]
  },
  {
   "cell_type": "code",
   "execution_count": 20,
   "metadata": {},
   "outputs": [],
   "source": [
    "import numpy as np \n",
    "import pandas as pd \n",
    "import matplotlib.pyplot as plt\n",
    "%matplotlib inline \n",
    "import seaborn as sns\n",
    "\n",
    "# Crear train and test\n",
    "from sklearn.model_selection import train_test_split\n",
    "\n",
    "#Modelos seleccionados por LazyPredict\n",
    "from sklearn.semi_supervised import LabelPropagation\n",
    "from sklearn.linear_model import RidgeClassifier\n",
    "from sklearn.linear_model import RidgeClassifierCV\n",
    "from sklearn.linear_model import LogisticRegression\n",
    "from lightgbm import LGBMClassifier\n",
    "from sklearn.svm import NuSVC\n",
    "\n",
    "#Optimizar modelos\n",
    "from sklearn.model_selection import GridSearchCV\n",
    "\n",
    "#Métricas de evaluación\n",
    "from sklearn.metrics import roc_auc_score\n",
    "from sklearn.metrics import accuracy_score\n",
    "from sklearn.metrics import PrecisionRecallDisplay, precision_recall_curve\n",
    "from sklearn.metrics import classification_report, confusion_matrix\n",
    "import scikitplot as skplt\n",
    "\n",
    "#Crear Pipeline\n",
    "\n",
    "from sklearn.pipeline import Pipeline\n",
    "\n",
    "import cloudpickle\n",
    "\n",
    "import warnings\n",
    "warnings.filterwarnings(\"ignore\")"
   ]
  },
  {
   "cell_type": "markdown",
   "metadata": {},
   "source": [
    "## IMPORTACIÓN DE DATOS"
   ]
  },
  {
   "cell_type": "markdown",
   "metadata": {},
   "source": [
    "### CARGAR LOS DATOS"
   ]
  },
  {
   "cell_type": "code",
   "execution_count": 2,
   "metadata": {},
   "outputs": [
    {
     "data": {
      "text/html": [
       "<div>\n",
       "<style scoped>\n",
       "    .dataframe tbody tr th:only-of-type {\n",
       "        vertical-align: middle;\n",
       "    }\n",
       "\n",
       "    .dataframe tbody tr th {\n",
       "        vertical-align: top;\n",
       "    }\n",
       "\n",
       "    .dataframe thead th {\n",
       "        text-align: right;\n",
       "    }\n",
       "</style>\n",
       "<table border=\"1\" class=\"dataframe\">\n",
       "  <thead>\n",
       "    <tr style=\"text-align: right;\">\n",
       "      <th></th>\n",
       "      <th>industrial_risk_oe</th>\n",
       "      <th>management_risk_oe</th>\n",
       "      <th>financial_flexibility_oe</th>\n",
       "      <th>credibility_oe</th>\n",
       "      <th>competitiveness_oe</th>\n",
       "      <th>operating_risk_oe</th>\n",
       "      <th>target</th>\n",
       "    </tr>\n",
       "  </thead>\n",
       "  <tbody>\n",
       "    <tr>\n",
       "      <th>0</th>\n",
       "      <td>0.0</td>\n",
       "      <td>0.0</td>\n",
       "      <td>1.0</td>\n",
       "      <td>1.0</td>\n",
       "      <td>1.0</td>\n",
       "      <td>0.0</td>\n",
       "      <td>0</td>\n",
       "    </tr>\n",
       "    <tr>\n",
       "      <th>1</th>\n",
       "      <td>1.0</td>\n",
       "      <td>1.0</td>\n",
       "      <td>1.0</td>\n",
       "      <td>1.0</td>\n",
       "      <td>1.0</td>\n",
       "      <td>1.0</td>\n",
       "      <td>0</td>\n",
       "    </tr>\n",
       "    <tr>\n",
       "      <th>2</th>\n",
       "      <td>2.0</td>\n",
       "      <td>2.0</td>\n",
       "      <td>2.0</td>\n",
       "      <td>2.0</td>\n",
       "      <td>2.0</td>\n",
       "      <td>2.0</td>\n",
       "      <td>0</td>\n",
       "    </tr>\n",
       "    <tr>\n",
       "      <th>3</th>\n",
       "      <td>0.0</td>\n",
       "      <td>0.0</td>\n",
       "      <td>2.0</td>\n",
       "      <td>2.0</td>\n",
       "      <td>2.0</td>\n",
       "      <td>0.0</td>\n",
       "      <td>0</td>\n",
       "    </tr>\n",
       "    <tr>\n",
       "      <th>4</th>\n",
       "      <td>1.0</td>\n",
       "      <td>1.0</td>\n",
       "      <td>2.0</td>\n",
       "      <td>2.0</td>\n",
       "      <td>2.0</td>\n",
       "      <td>1.0</td>\n",
       "      <td>0</td>\n",
       "    </tr>\n",
       "  </tbody>\n",
       "</table>\n",
       "</div>"
      ],
      "text/plain": [
       "   industrial_risk_oe  management_risk_oe  financial_flexibility_oe  \\\n",
       "0                 0.0                 0.0                       1.0   \n",
       "1                 1.0                 1.0                       1.0   \n",
       "2                 2.0                 2.0                       2.0   \n",
       "3                 0.0                 0.0                       2.0   \n",
       "4                 1.0                 1.0                       2.0   \n",
       "\n",
       "   credibility_oe  competitiveness_oe  operating_risk_oe  target  \n",
       "0             1.0                 1.0                0.0       0  \n",
       "1             1.0                 1.0                1.0       0  \n",
       "2             2.0                 2.0                2.0       0  \n",
       "3             2.0                 2.0                0.0       0  \n",
       "4             2.0                 2.0                1.0       0  "
      ]
     },
     "execution_count": 2,
     "metadata": {},
     "output_type": "execute_result"
    }
   ],
   "source": [
    "df = pd.read_pickle('../../02_Datos/03_Trabajo/df_tablon_oe.pickle')\n",
    "df.head()"
   ]
  },
  {
   "cell_type": "markdown",
   "metadata": {},
   "source": [
    "## SEPARAR PREDICTORAS Y TARGET"
   ]
  },
  {
   "cell_type": "code",
   "execution_count": 3,
   "metadata": {},
   "outputs": [],
   "source": [
    "x = df.drop(columns= 'target').copy()\n",
    "y = df.target.copy()"
   ]
  },
  {
   "cell_type": "code",
   "execution_count": 4,
   "metadata": {},
   "outputs": [
    {
     "data": {
      "text/html": [
       "<div>\n",
       "<style scoped>\n",
       "    .dataframe tbody tr th:only-of-type {\n",
       "        vertical-align: middle;\n",
       "    }\n",
       "\n",
       "    .dataframe tbody tr th {\n",
       "        vertical-align: top;\n",
       "    }\n",
       "\n",
       "    .dataframe thead th {\n",
       "        text-align: right;\n",
       "    }\n",
       "</style>\n",
       "<table border=\"1\" class=\"dataframe\">\n",
       "  <thead>\n",
       "    <tr style=\"text-align: right;\">\n",
       "      <th></th>\n",
       "      <th>industrial_risk_oe</th>\n",
       "      <th>management_risk_oe</th>\n",
       "      <th>financial_flexibility_oe</th>\n",
       "      <th>credibility_oe</th>\n",
       "      <th>competitiveness_oe</th>\n",
       "      <th>operating_risk_oe</th>\n",
       "    </tr>\n",
       "  </thead>\n",
       "  <tbody>\n",
       "    <tr>\n",
       "      <th>0</th>\n",
       "      <td>0.0</td>\n",
       "      <td>0.0</td>\n",
       "      <td>1.0</td>\n",
       "      <td>1.0</td>\n",
       "      <td>1.0</td>\n",
       "      <td>0.0</td>\n",
       "    </tr>\n",
       "    <tr>\n",
       "      <th>1</th>\n",
       "      <td>1.0</td>\n",
       "      <td>1.0</td>\n",
       "      <td>1.0</td>\n",
       "      <td>1.0</td>\n",
       "      <td>1.0</td>\n",
       "      <td>1.0</td>\n",
       "    </tr>\n",
       "    <tr>\n",
       "      <th>2</th>\n",
       "      <td>2.0</td>\n",
       "      <td>2.0</td>\n",
       "      <td>2.0</td>\n",
       "      <td>2.0</td>\n",
       "      <td>2.0</td>\n",
       "      <td>2.0</td>\n",
       "    </tr>\n",
       "    <tr>\n",
       "      <th>3</th>\n",
       "      <td>0.0</td>\n",
       "      <td>0.0</td>\n",
       "      <td>2.0</td>\n",
       "      <td>2.0</td>\n",
       "      <td>2.0</td>\n",
       "      <td>0.0</td>\n",
       "    </tr>\n",
       "    <tr>\n",
       "      <th>4</th>\n",
       "      <td>1.0</td>\n",
       "      <td>1.0</td>\n",
       "      <td>2.0</td>\n",
       "      <td>2.0</td>\n",
       "      <td>2.0</td>\n",
       "      <td>1.0</td>\n",
       "    </tr>\n",
       "  </tbody>\n",
       "</table>\n",
       "</div>"
      ],
      "text/plain": [
       "   industrial_risk_oe  management_risk_oe  financial_flexibility_oe  \\\n",
       "0                 0.0                 0.0                       1.0   \n",
       "1                 1.0                 1.0                       1.0   \n",
       "2                 2.0                 2.0                       2.0   \n",
       "3                 0.0                 0.0                       2.0   \n",
       "4                 1.0                 1.0                       2.0   \n",
       "\n",
       "   credibility_oe  competitiveness_oe  operating_risk_oe  \n",
       "0             1.0                 1.0                0.0  \n",
       "1             1.0                 1.0                1.0  \n",
       "2             2.0                 2.0                2.0  \n",
       "3             2.0                 2.0                0.0  \n",
       "4             2.0                 2.0                1.0  "
      ]
     },
     "execution_count": 4,
     "metadata": {},
     "output_type": "execute_result"
    }
   ],
   "source": [
    "x.head()"
   ]
  },
  {
   "cell_type": "code",
   "execution_count": 5,
   "metadata": {},
   "outputs": [
    {
     "data": {
      "text/plain": [
       "0    0\n",
       "1    0\n",
       "2    0\n",
       "3    0\n",
       "4    0\n",
       "Name: target, dtype: int64"
      ]
     },
     "execution_count": 5,
     "metadata": {},
     "output_type": "execute_result"
    }
   ],
   "source": [
    "y.head()"
   ]
  },
  {
   "cell_type": "markdown",
   "metadata": {},
   "source": [
    "## MODELIZAR"
   ]
  },
  {
   "cell_type": "markdown",
   "metadata": {},
   "source": [
    "### RESERVAR LOS DATASET DE ENTRENAMIENTO Y VALIDACIÓN"
   ]
  },
  {
   "cell_type": "code",
   "execution_count": 6,
   "metadata": {},
   "outputs": [],
   "source": [
    "train_x, val_x, train_y, val_y = train_test_split(x, y, test_size= 0.3, random_state= 42)"
   ]
  },
  {
   "cell_type": "markdown",
   "metadata": {},
   "source": [
    "### CREAR PIPE Y EL DICCIONARIO CON LOS ALGORITMOS, PARÁMETROS Y VALORES"
   ]
  },
  {
   "cell_type": "code",
   "execution_count": 7,
   "metadata": {},
   "outputs": [],
   "source": [
    "pipe = Pipeline([('algoritmo', LogisticRegression())])\n",
    "\n",
    "grid = [\n",
    "\n",
    "            {\n",
    "                'algoritmo' : [LabelPropagation()]\n",
    "            },\n",
    "\n",
    "            {\n",
    "                'algoritmo' : [RidgeClassifier()]\n",
    "            },\n",
    "\n",
    "            {\n",
    "                'algoritmo' : [RidgeClassifierCV()]\n",
    "            },\n",
    "\n",
    "            {\n",
    "                'algoritmo' : [LogisticRegression()]\n",
    "            },\n",
    "\n",
    "            {\n",
    "                'algoritmo' : [LGBMClassifier()]\n",
    "            },\n",
    "\n",
    "            {\n",
    "                'algoritmo' : [NuSVC()]\n",
    "            }\n",
    "\n",
    "        ]"
   ]
  },
  {
   "cell_type": "markdown",
   "metadata": {},
   "source": [
    "### OPTIMIZAR LOS HIPERPARÁMETROS"
   ]
  },
  {
   "cell_type": "code",
   "execution_count": 8,
   "metadata": {},
   "outputs": [],
   "source": [
    "grid_search = GridSearchCV(estimator= pipe,\n",
    "                           param_grid= grid,\n",
    "                           cv = 5,\n",
    "                           scoring= 'roc_auc',\n",
    "                           n_jobs= -1,\n",
    "                           verbose=0)\n"
   ]
  },
  {
   "cell_type": "code",
   "execution_count": 9,
   "metadata": {},
   "outputs": [
    {
     "data": {
      "text/html": [
       "<div>\n",
       "<style scoped>\n",
       "    .dataframe tbody tr th:only-of-type {\n",
       "        vertical-align: middle;\n",
       "    }\n",
       "\n",
       "    .dataframe tbody tr th {\n",
       "        vertical-align: top;\n",
       "    }\n",
       "\n",
       "    .dataframe thead th {\n",
       "        text-align: right;\n",
       "    }\n",
       "</style>\n",
       "<table border=\"1\" class=\"dataframe\">\n",
       "  <thead>\n",
       "    <tr style=\"text-align: right;\">\n",
       "      <th></th>\n",
       "      <th>mean_fit_time</th>\n",
       "      <th>std_fit_time</th>\n",
       "      <th>mean_score_time</th>\n",
       "      <th>std_score_time</th>\n",
       "      <th>param_algoritmo</th>\n",
       "      <th>params</th>\n",
       "      <th>split0_test_score</th>\n",
       "      <th>split1_test_score</th>\n",
       "      <th>split2_test_score</th>\n",
       "      <th>split3_test_score</th>\n",
       "      <th>split4_test_score</th>\n",
       "      <th>mean_test_score</th>\n",
       "      <th>std_test_score</th>\n",
       "      <th>rank_test_score</th>\n",
       "    </tr>\n",
       "  </thead>\n",
       "  <tbody>\n",
       "    <tr>\n",
       "      <th>0</th>\n",
       "      <td>0.017664</td>\n",
       "      <td>0.015424</td>\n",
       "      <td>0.006618</td>\n",
       "      <td>0.001981</td>\n",
       "      <td>LabelPropagation()</td>\n",
       "      <td>{'algoritmo': LabelPropagation()}</td>\n",
       "      <td>1.000000</td>\n",
       "      <td>1.000000</td>\n",
       "      <td>1.000000</td>\n",
       "      <td>1.000000</td>\n",
       "      <td>1.000000</td>\n",
       "      <td>1.000000</td>\n",
       "      <td>0.000000</td>\n",
       "      <td>1</td>\n",
       "    </tr>\n",
       "    <tr>\n",
       "      <th>1</th>\n",
       "      <td>0.014150</td>\n",
       "      <td>0.006578</td>\n",
       "      <td>0.004234</td>\n",
       "      <td>0.000971</td>\n",
       "      <td>RidgeClassifier()</td>\n",
       "      <td>{'algoritmo': RidgeClassifier()}</td>\n",
       "      <td>1.000000</td>\n",
       "      <td>1.000000</td>\n",
       "      <td>1.000000</td>\n",
       "      <td>1.000000</td>\n",
       "      <td>1.000000</td>\n",
       "      <td>1.000000</td>\n",
       "      <td>0.000000</td>\n",
       "      <td>1</td>\n",
       "    </tr>\n",
       "    <tr>\n",
       "      <th>2</th>\n",
       "      <td>0.010732</td>\n",
       "      <td>0.006524</td>\n",
       "      <td>0.003570</td>\n",
       "      <td>0.000472</td>\n",
       "      <td>RidgeClassifierCV()</td>\n",
       "      <td>{'algoritmo': RidgeClassifierCV()}</td>\n",
       "      <td>1.000000</td>\n",
       "      <td>1.000000</td>\n",
       "      <td>1.000000</td>\n",
       "      <td>1.000000</td>\n",
       "      <td>1.000000</td>\n",
       "      <td>1.000000</td>\n",
       "      <td>0.000000</td>\n",
       "      <td>1</td>\n",
       "    </tr>\n",
       "    <tr>\n",
       "      <th>3</th>\n",
       "      <td>0.009355</td>\n",
       "      <td>0.002684</td>\n",
       "      <td>0.003703</td>\n",
       "      <td>0.000848</td>\n",
       "      <td>LogisticRegression()</td>\n",
       "      <td>{'algoritmo': LogisticRegression()}</td>\n",
       "      <td>1.000000</td>\n",
       "      <td>1.000000</td>\n",
       "      <td>1.000000</td>\n",
       "      <td>1.000000</td>\n",
       "      <td>1.000000</td>\n",
       "      <td>1.000000</td>\n",
       "      <td>0.000000</td>\n",
       "      <td>1</td>\n",
       "    </tr>\n",
       "    <tr>\n",
       "      <th>5</th>\n",
       "      <td>0.004065</td>\n",
       "      <td>0.001463</td>\n",
       "      <td>0.004509</td>\n",
       "      <td>0.001267</td>\n",
       "      <td>NuSVC()</td>\n",
       "      <td>{'algoritmo': NuSVC()}</td>\n",
       "      <td>1.000000</td>\n",
       "      <td>1.000000</td>\n",
       "      <td>1.000000</td>\n",
       "      <td>1.000000</td>\n",
       "      <td>1.000000</td>\n",
       "      <td>1.000000</td>\n",
       "      <td>0.000000</td>\n",
       "      <td>1</td>\n",
       "    </tr>\n",
       "    <tr>\n",
       "      <th>4</th>\n",
       "      <td>0.187360</td>\n",
       "      <td>0.029756</td>\n",
       "      <td>0.004786</td>\n",
       "      <td>0.000399</td>\n",
       "      <td>LGBMClassifier()</td>\n",
       "      <td>{'algoritmo': LGBMClassifier()}</td>\n",
       "      <td>0.888889</td>\n",
       "      <td>0.638889</td>\n",
       "      <td>0.972222</td>\n",
       "      <td>0.888889</td>\n",
       "      <td>0.851852</td>\n",
       "      <td>0.848148</td>\n",
       "      <td>0.111819</td>\n",
       "      <td>6</td>\n",
       "    </tr>\n",
       "  </tbody>\n",
       "</table>\n",
       "</div>"
      ],
      "text/plain": [
       "   mean_fit_time  std_fit_time  mean_score_time  std_score_time  \\\n",
       "0       0.017664      0.015424         0.006618        0.001981   \n",
       "1       0.014150      0.006578         0.004234        0.000971   \n",
       "2       0.010732      0.006524         0.003570        0.000472   \n",
       "3       0.009355      0.002684         0.003703        0.000848   \n",
       "5       0.004065      0.001463         0.004509        0.001267   \n",
       "4       0.187360      0.029756         0.004786        0.000399   \n",
       "\n",
       "        param_algoritmo                               params  \\\n",
       "0    LabelPropagation()    {'algoritmo': LabelPropagation()}   \n",
       "1     RidgeClassifier()     {'algoritmo': RidgeClassifier()}   \n",
       "2   RidgeClassifierCV()   {'algoritmo': RidgeClassifierCV()}   \n",
       "3  LogisticRegression()  {'algoritmo': LogisticRegression()}   \n",
       "5               NuSVC()               {'algoritmo': NuSVC()}   \n",
       "4      LGBMClassifier()      {'algoritmo': LGBMClassifier()}   \n",
       "\n",
       "   split0_test_score  split1_test_score  split2_test_score  split3_test_score  \\\n",
       "0           1.000000           1.000000           1.000000           1.000000   \n",
       "1           1.000000           1.000000           1.000000           1.000000   \n",
       "2           1.000000           1.000000           1.000000           1.000000   \n",
       "3           1.000000           1.000000           1.000000           1.000000   \n",
       "5           1.000000           1.000000           1.000000           1.000000   \n",
       "4           0.888889           0.638889           0.972222           0.888889   \n",
       "\n",
       "   split4_test_score  mean_test_score  std_test_score  rank_test_score  \n",
       "0           1.000000         1.000000        0.000000                1  \n",
       "1           1.000000         1.000000        0.000000                1  \n",
       "2           1.000000         1.000000        0.000000                1  \n",
       "3           1.000000         1.000000        0.000000                1  \n",
       "5           1.000000         1.000000        0.000000                1  \n",
       "4           0.851852         0.848148        0.111819                6  "
      ]
     },
     "execution_count": 9,
     "metadata": {},
     "output_type": "execute_result"
    }
   ],
   "source": [
    "modelo = grid_search.fit(train_x, train_y)\n",
    "pd.DataFrame(grid_search.cv_results_).sort_values(by = 'rank_test_score')"
   ]
  },
  {
   "cell_type": "code",
   "execution_count": 10,
   "metadata": {},
   "outputs": [
    {
     "data": {
      "text/html": [
       "<style>#sk-container-id-1 {color: black;background-color: white;}#sk-container-id-1 pre{padding: 0;}#sk-container-id-1 div.sk-toggleable {background-color: white;}#sk-container-id-1 label.sk-toggleable__label {cursor: pointer;display: block;width: 100%;margin-bottom: 0;padding: 0.3em;box-sizing: border-box;text-align: center;}#sk-container-id-1 label.sk-toggleable__label-arrow:before {content: \"▸\";float: left;margin-right: 0.25em;color: #696969;}#sk-container-id-1 label.sk-toggleable__label-arrow:hover:before {color: black;}#sk-container-id-1 div.sk-estimator:hover label.sk-toggleable__label-arrow:before {color: black;}#sk-container-id-1 div.sk-toggleable__content {max-height: 0;max-width: 0;overflow: hidden;text-align: left;background-color: #f0f8ff;}#sk-container-id-1 div.sk-toggleable__content pre {margin: 0.2em;color: black;border-radius: 0.25em;background-color: #f0f8ff;}#sk-container-id-1 input.sk-toggleable__control:checked~div.sk-toggleable__content {max-height: 200px;max-width: 100%;overflow: auto;}#sk-container-id-1 input.sk-toggleable__control:checked~label.sk-toggleable__label-arrow:before {content: \"▾\";}#sk-container-id-1 div.sk-estimator input.sk-toggleable__control:checked~label.sk-toggleable__label {background-color: #d4ebff;}#sk-container-id-1 div.sk-label input.sk-toggleable__control:checked~label.sk-toggleable__label {background-color: #d4ebff;}#sk-container-id-1 input.sk-hidden--visually {border: 0;clip: rect(1px 1px 1px 1px);clip: rect(1px, 1px, 1px, 1px);height: 1px;margin: -1px;overflow: hidden;padding: 0;position: absolute;width: 1px;}#sk-container-id-1 div.sk-estimator {font-family: monospace;background-color: #f0f8ff;border: 1px dotted black;border-radius: 0.25em;box-sizing: border-box;margin-bottom: 0.5em;}#sk-container-id-1 div.sk-estimator:hover {background-color: #d4ebff;}#sk-container-id-1 div.sk-parallel-item::after {content: \"\";width: 100%;border-bottom: 1px solid gray;flex-grow: 1;}#sk-container-id-1 div.sk-label:hover label.sk-toggleable__label {background-color: #d4ebff;}#sk-container-id-1 div.sk-serial::before {content: \"\";position: absolute;border-left: 1px solid gray;box-sizing: border-box;top: 0;bottom: 0;left: 50%;z-index: 0;}#sk-container-id-1 div.sk-serial {display: flex;flex-direction: column;align-items: center;background-color: white;padding-right: 0.2em;padding-left: 0.2em;position: relative;}#sk-container-id-1 div.sk-item {position: relative;z-index: 1;}#sk-container-id-1 div.sk-parallel {display: flex;align-items: stretch;justify-content: center;background-color: white;position: relative;}#sk-container-id-1 div.sk-item::before, #sk-container-id-1 div.sk-parallel-item::before {content: \"\";position: absolute;border-left: 1px solid gray;box-sizing: border-box;top: 0;bottom: 0;left: 50%;z-index: -1;}#sk-container-id-1 div.sk-parallel-item {display: flex;flex-direction: column;z-index: 1;position: relative;background-color: white;}#sk-container-id-1 div.sk-parallel-item:first-child::after {align-self: flex-end;width: 50%;}#sk-container-id-1 div.sk-parallel-item:last-child::after {align-self: flex-start;width: 50%;}#sk-container-id-1 div.sk-parallel-item:only-child::after {width: 0;}#sk-container-id-1 div.sk-dashed-wrapped {border: 1px dashed gray;margin: 0 0.4em 0.5em 0.4em;box-sizing: border-box;padding-bottom: 0.4em;background-color: white;}#sk-container-id-1 div.sk-label label {font-family: monospace;font-weight: bold;display: inline-block;line-height: 1.2em;}#sk-container-id-1 div.sk-label-container {text-align: center;}#sk-container-id-1 div.sk-container {/* jupyter's `normalize.less` sets `[hidden] { display: none; }` but bootstrap.min.css set `[hidden] { display: none !important; }` so we also need the `!important` here to be able to override the default hidden behavior on the sphinx rendered scikit-learn.org. See: https://github.com/scikit-learn/scikit-learn/issues/21755 */display: inline-block !important;position: relative;}#sk-container-id-1 div.sk-text-repr-fallback {display: none;}</style><div id=\"sk-container-id-1\" class=\"sk-top-container\"><div class=\"sk-text-repr-fallback\"><pre>Pipeline(steps=[(&#x27;algoritmo&#x27;, LabelPropagation())])</pre><b>In a Jupyter environment, please rerun this cell to show the HTML representation or trust the notebook. <br />On GitHub, the HTML representation is unable to render, please try loading this page with nbviewer.org.</b></div><div class=\"sk-container\" hidden><div class=\"sk-item sk-dashed-wrapped\"><div class=\"sk-label-container\"><div class=\"sk-label sk-toggleable\"><input class=\"sk-toggleable__control sk-hidden--visually\" id=\"sk-estimator-id-1\" type=\"checkbox\" ><label for=\"sk-estimator-id-1\" class=\"sk-toggleable__label sk-toggleable__label-arrow\">Pipeline</label><div class=\"sk-toggleable__content\"><pre>Pipeline(steps=[(&#x27;algoritmo&#x27;, LabelPropagation())])</pre></div></div></div><div class=\"sk-serial\"><div class=\"sk-item\"><div class=\"sk-estimator sk-toggleable\"><input class=\"sk-toggleable__control sk-hidden--visually\" id=\"sk-estimator-id-2\" type=\"checkbox\" ><label for=\"sk-estimator-id-2\" class=\"sk-toggleable__label sk-toggleable__label-arrow\">LabelPropagation</label><div class=\"sk-toggleable__content\"><pre>LabelPropagation()</pre></div></div></div></div></div></div></div>"
      ],
      "text/plain": [
       "Pipeline(steps=[('algoritmo', LabelPropagation())])"
      ]
     },
     "execution_count": 10,
     "metadata": {},
     "output_type": "execute_result"
    }
   ],
   "source": [
    "modelo.best_estimator_"
   ]
  },
  {
   "cell_type": "code",
   "execution_count": 11,
   "metadata": {},
   "outputs": [
    {
     "data": {
      "text/plain": [
       "{'algoritmo': LabelPropagation()}"
      ]
     },
     "execution_count": 11,
     "metadata": {},
     "output_type": "execute_result"
    }
   ],
   "source": [
    "modelo.best_params_"
   ]
  },
  {
   "cell_type": "code",
   "execution_count": 12,
   "metadata": {},
   "outputs": [
    {
     "data": {
      "text/plain": [
       "1.0"
      ]
     },
     "execution_count": 12,
     "metadata": {},
     "output_type": "execute_result"
    }
   ],
   "source": [
    "modelo.best_score_"
   ]
  },
  {
   "cell_type": "markdown",
   "metadata": {},
   "source": [
    "### GUARDAR MODELO.BEST_ESTIMATOR Y PARÁMETROS"
   ]
  },
  {
   "cell_type": "code",
   "execution_count": 13,
   "metadata": {},
   "outputs": [],
   "source": [
    "modelo_best_estimator = modelo"
   ]
  },
  {
   "cell_type": "markdown",
   "metadata": {},
   "source": [
    "### Guardar modelo, parámetros y score"
   ]
  },
  {
   "cell_type": "code",
   "execution_count": 14,
   "metadata": {},
   "outputs": [],
   "source": [
    "m_best_estimator = str(modelo.best_estimator_[0])\n",
    "m_best_estimator = m_best_estimator.split('(')[0]\n",
    "m_best_params = str(modelo.best_params_)\n",
    "m_best_score = str(modelo.best_score_)"
   ]
  },
  {
   "cell_type": "markdown",
   "metadata": {},
   "source": [
    "## EVALUAR"
   ]
  },
  {
   "cell_type": "markdown",
   "metadata": {},
   "source": [
    "### PRECEDIR Y EVALUAR SOBRE EL TRAIN"
   ]
  },
  {
   "cell_type": "markdown",
   "metadata": {},
   "source": [
    "#### Predecir sobre el train"
   ]
  },
  {
   "cell_type": "code",
   "execution_count": 15,
   "metadata": {},
   "outputs": [],
   "source": [
    "pred = modelo.best_estimator_.predict(train_x)"
   ]
  },
  {
   "cell_type": "markdown",
   "metadata": {},
   "source": [
    "### Evaluar sobre el Train"
   ]
  },
  {
   "cell_type": "code",
   "execution_count": 16,
   "metadata": {},
   "outputs": [
    {
     "name": "stdout",
     "output_type": "stream",
     "text": [
      "Roc AUC: 1.0\n",
      "Accuracy: 1.0\n",
      "Classification Report:\n",
      "              precision    recall  f1-score   support\n",
      "\n",
      "           0       1.00      1.00      1.00        45\n",
      "           1       1.00      1.00      1.00        18\n",
      "\n",
      "    accuracy                           1.00        63\n",
      "   macro avg       1.00      1.00      1.00        63\n",
      "weighted avg       1.00      1.00      1.00        63\n",
      "\n"
     ]
    }
   ],
   "source": [
    "t_roc_auc = roc_auc_score(train_y, pred)\n",
    "t_accuracy = accuracy_score(train_y, pred)\n",
    "t_report = classification_report(train_y, pred)\n",
    "\n",
    "print(f\"Roc AUC: {t_roc_auc}\")\n",
    "print(f\"Accuracy: {t_accuracy}\")\n",
    "print(f\"Classification Report:\\n{t_report}\")"
   ]
  },
  {
   "cell_type": "markdown",
   "metadata": {},
   "source": [
    "### PREDECIR Y EVALUAR SOBRE LA VALIDACIÓN"
   ]
  },
  {
   "cell_type": "markdown",
   "metadata": {},
   "source": [
    "#### Predecir sobre la validación"
   ]
  },
  {
   "cell_type": "code",
   "execution_count": 17,
   "metadata": {},
   "outputs": [],
   "source": [
    "pred = modelo.best_estimator_.predict(val_x)\n",
    "pred_proba = modelo.best_estimator_.predict_proba(val_x)[:,1]"
   ]
  },
  {
   "cell_type": "markdown",
   "metadata": {},
   "source": [
    "#### Evaluar sobre la validación"
   ]
  },
  {
   "cell_type": "code",
   "execution_count": 18,
   "metadata": {},
   "outputs": [
    {
     "name": "stdout",
     "output_type": "stream",
     "text": [
      "Roc AUC_proba: 1.0\n",
      "Roc AUC: 1.0\n",
      "Accuracy: 1.0\n",
      "Classification Report:              precision    recall  f1-score   support\n",
      "\n",
      "           0       1.00      1.00      1.00        21\n",
      "           1       1.00      1.00      1.00         7\n",
      "\n",
      "    accuracy                           1.00        28\n",
      "   macro avg       1.00      1.00      1.00        28\n",
      "weighted avg       1.00      1.00      1.00        28\n",
      "\n"
     ]
    }
   ],
   "source": [
    "v_roc_auc_proba = roc_auc_score(val_y, pred_proba)\n",
    "v_roc_auc = roc_auc_score(val_y, pred)\n",
    "v_accuracy = accuracy_score(val_y, pred)\n",
    "v_report = classification_report(val_y, pred)\n",
    "\n",
    "print(f\"Roc AUC_proba: {v_roc_auc_proba}\")\n",
    "print(f\"Roc AUC: {v_roc_auc}\")\n",
    "print(f\"Accuracy: {v_accuracy}\")\n",
    "print(f\"Classification Report:{v_report}\")"
   ]
  },
  {
   "cell_type": "markdown",
   "metadata": {},
   "source": [
    "## REPORTING DEL MODELO"
   ]
  },
  {
   "cell_type": "markdown",
   "metadata": {},
   "source": [
    "Matrix de Confusión MultiClass"
   ]
  },
  {
   "cell_type": "code",
   "execution_count": 21,
   "metadata": {},
   "outputs": [
    {
     "data": {
      "image/png": "[encoded data removed]",
      "text/plain": [
       "<Figure size 500x500 with 1 Axes>"
      ]
     },
     "metadata": {},
     "output_type": "display_data"
    }
   ],
   "source": [
    "# Calcular la matriz de confusión\n",
    "cm = confusion_matrix(val_y, pred)\n",
    "\n",
    "\n",
    "# Crear un mapa de calor de la matriz de confusión\n",
    "plt.figure(figsize=(5, 5))\n",
    "sns.heatmap(cm, annot=True, cmap=\"Blues\", fmt=\"d\", cbar=False)\n",
    "\n",
    "# Configurar etiquetas y título del gráfico\n",
    "plt.xlabel(\"Predicted Labels\")\n",
    "plt.ylabel(\"True Labels\")\n",
    "plt.title(\"Confusion Matrix\");\n"
   ]
  },
  {
   "cell_type": "markdown",
   "metadata": {},
   "source": [
    "### Precision-Recall"
   ]
  },
  {
   "cell_type": "code",
   "execution_count": 22,
   "metadata": {},
   "outputs": [
    {
     "data": {
      "text/plain": [
       "<sklearn.metrics._plot.precision_recall_curve.PrecisionRecallDisplay at 0x2e65bafba50>"
      ]
     },
     "execution_count": 22,
     "metadata": {},
     "output_type": "execute_result"
    },
    {
     "data": {
      "image/png": "[encoded data removed]",
      "text/plain": [
       "<Figure size 640x480 with 1 Axes>"
      ]
     },
     "metadata": {},
     "output_type": "display_data"
    }
   ],
   "source": [
    "PrecisionRecallDisplay.from_estimator(modelo_best_estimator, val_x, val_y)"
   ]
  },
  {
   "cell_type": "code",
   "execution_count": null,
   "metadata": {},
   "outputs": [
    {
     "name": "stdout",
     "output_type": "stream",
     "text": [
      "El mejor best_threshold: 1.0\n"
     ]
    },
    {
     "data": {
      "image/png": "[encoded data removed]",
      "text/plain": [
       "<Figure size 800x600 with 1 Axes>"
      ]
     },
     "metadata": {},
     "output_type": "display_data"
    }
   ],
   "source": [
    "# Calcula la curva de precisión y recall para diferentes umbrales de corte\n",
    "precision, recall, thresholds = precision_recall_curve(val_y, pred_proba)\n",
    "\n",
    "# Grafica la relación entre la precisión y el recall en función del umbral de corte\n",
    "plt.figure(figsize=(8, 6))\n",
    "plt.plot(thresholds, precision[:-1], label='Precision', linestyle='--')\n",
    "plt.plot(thresholds, recall[:-1], label='Recall', linestyle='-')\n",
    "plt.xlabel('Threshold')\n",
    "plt.ylabel('Score')\n",
    "plt.legend()\n",
    "plt.title('Precision and Recall vs. Threshold')\n",
    "\n",
    "# Encuentra el umbral que maximiza F1-score (o ajusta según tus necesidades)\n",
    "f1_scores = 2 * (precision * recall) / (precision + recall)\n",
    "best_threshold = thresholds[np.argmax(f1_scores)]\n",
    "print(\"El mejor best_threshold:\", best_threshold)"
   ]
  },
  {
   "cell_type": "markdown",
   "metadata": {},
   "source": [
    "### ROC Chart"
   ]
  },
  {
   "cell_type": "code",
   "execution_count": null,
   "metadata": {},
   "outputs": [
    {
     "data": {
      "image/png": "[encoded data removed]",
      "text/plain": [
       "<Figure size 640x480 with 1 Axes>"
      ]
     },
     "metadata": {},
     "output_type": "display_data"
    }
   ],
   "source": [
    "fig, ax = plt.subplots()\n",
    "\n",
    "skplt.metrics.plot_roc(val_y, modelo.best_estimator_.predict_proba(val_x), ax=ax) \n",
    "\n",
    "#Eliminamos la línea de los ceros y personalizamos la leyenda\n",
    "ax.lines[0].remove()            \n",
    "ax.lines[1].remove()\n",
    "ax.lines[1].remove()\n",
    "plt.legend(labels = ['Modelo','Aleatoria']);"
   ]
  },
  {
   "cell_type": "markdown",
   "metadata": {},
   "source": [
    "## GUARDAR BEST_ESTIMATOR, PARÁMETROS Y RESULTADOS DEL TEST Y LA VALIDACIÓN"
   ]
  },
  {
   "cell_type": "markdown",
   "metadata": {},
   "source": [
    "#### Guardar el mejor estimador"
   ]
  },
  {
   "cell_type": "code",
   "execution_count": null,
   "metadata": {},
   "outputs": [
    {
     "data": {
      "text/plain": [
       "'LabelPropagation_v0.pickle'"
      ]
     },
     "execution_count": 29,
     "metadata": {},
     "output_type": "execute_result"
    }
   ],
   "source": [
    "version_estimator = '_v0'\n",
    "nombre_best_estimator = m_best_estimator + version_estimator + '.pickle'\n",
    "nombre_best_estimator"
   ]
  },
  {
   "cell_type": "code",
   "execution_count": null,
   "metadata": {},
   "outputs": [
    {
     "data": {
      "text/plain": [
       "'LabelPropagation'"
      ]
     },
     "execution_count": 30,
     "metadata": {},
     "output_type": "execute_result"
    }
   ],
   "source": [
    "m_best_estimator"
   ]
  },
  {
   "cell_type": "code",
   "execution_count": null,
   "metadata": {},
   "outputs": [],
   "source": [
    "ruta_pipe_entrenamiento = '../../04_Modelos/Best_estimator/' + nombre_best_estimator\n",
    "\n",
    "with open (ruta_pipe_entrenamiento, mode= 'wb') as file:\n",
    "    cloudpickle.dump(modelo_best_estimator, file)\n"
   ]
  },
  {
   "cell_type": "code",
   "execution_count": null,
   "metadata": {},
   "outputs": [],
   "source": [
    "# Añadir comentarios sobre el modelo y definimos predictoras y target\n",
    "\n",
    "comentarios = \"Gridsearch con modelos bases\"\n",
    "x_columns = list(x.columns)\n",
    "y_target = y.name\n"
   ]
  },
  {
   "cell_type": "code",
   "execution_count": null,
   "metadata": {},
   "outputs": [
    {
     "data": {
      "text/plain": [
       "m_Best_estimator                                     LabelPropagation\n",
       "m_Best_paramans                     {'algoritmo': LabelPropagation()}\n",
       "m_Best_Score                                                      1.0\n",
       "t_accuracy                                                        1.0\n",
       "t_report                          precision    recall  f1-score   ...\n",
       "v_roc_auc_proba                                                   1.0\n",
       "v_roc_auc                                                         1.0\n",
       "v_accuracy                                                        1.0\n",
       "v_report                          precision    recall  f1-score   ...\n",
       "comentarios                              Gridsearch con modelos bases\n",
       "predictoras_X       [industrial_risk_oe, management_risk_oe, finan...\n",
       "target_y                                                       target\n",
       "Name: LabelPropagation_v0.pickle, dtype: object"
      ]
     },
     "execution_count": 33,
     "metadata": {},
     "output_type": "execute_result"
    }
   ],
   "source": [
    "#Cargamos la lista con los resultados\n",
    "resultado  = {'m_Best_estimator': m_best_estimator,\n",
    "               'm_Best_paramans' : m_best_params,\n",
    "               'm_Best_Score': m_best_score, \n",
    "               't_accuracy': t_accuracy, \n",
    "               't_report': t_report, \n",
    "               'v_roc_auc_proba': v_roc_auc_proba,\n",
    "               'v_roc_auc': v_roc_auc,\n",
    "               'v_accuracy': v_accuracy, \n",
    "               'v_report': v_report, \n",
    "               'comentarios': comentarios,\n",
    "               'predictoras_X': x_columns,\n",
    "               'target_y': y_target\n",
    "            }\n",
    "resultado= pd.Series(resultado,name=nombre_best_estimator)\n",
    "resultado"
   ]
  },
  {
   "cell_type": "code",
   "execution_count": null,
   "metadata": {},
   "outputs": [],
   "source": [
    "df_best = pd.read_excel('../../04_Modelos/Best_estimator/Best_estimator.xlsx',index_col=0)\n"
   ]
  },
  {
   "cell_type": "code",
   "execution_count": null,
   "metadata": {},
   "outputs": [],
   "source": [
    "df_best = pd.concat([df_best, resultado], ignore_index= False,axis=1)\n",
    "df_best.to_excel('../../04_Modelos/Best_estimator/Best_estimator.xlsx')"
   ]
  },
  {
   "cell_type": "markdown",
   "metadata": {},
   "source": [
    "**CONCLUSIÓN**: Vemos que el modelo ha dado muy buenos resultados con tanto con el modelo base de LabelPropagation() tanto para los datos de entrenamiento como los de validación. \n",
    "\n",
    "**PRÓXIMOS PASOS:**\n",
    "\n",
    "Realizaremos el modelo definitivo con este modelo. Si detectamos que el modelo está sobre ajustado, haremos un nuevo modelo con  hiperparámetros para evitar el sobre ajuste y evaluaremos nuevamente el modelo."
   ]
  }
 ],
 "metadata": {
  "kernelspec": {
   "display_name": "Python 3 (ipykernel)",
   "language": "python",
   "name": "python3"
  },
  "language_info": {
   "codemirror_mode": {
    "name": "ipython",
    "version": 3
   },
   "file_extension": ".py",
   "mimetype": "text/x-python",
   "name": "python",
   "nbconvert_exporter": "python",
   "pygments_lexer": "ipython3",
   "version": "3.9.12"
  },
  "widgets": {
   "application/vnd.jupyter.widget-state+json": {
    "state": {},
    "version_major": 2,
    "version_minor": 0
   }
  }
 },
 "nbformat": 4,
 "nbformat_minor": 4
}
