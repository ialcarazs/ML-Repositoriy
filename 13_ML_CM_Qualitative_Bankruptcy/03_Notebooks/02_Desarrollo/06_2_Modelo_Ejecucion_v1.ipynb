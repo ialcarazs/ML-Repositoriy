{
 "cells": [
  {
   "cell_type": "markdown",
   "metadata": {},
   "source": [
    "# 6_ 2 - MODELO DE EJECUCIÓN CON LOS DATOS DE PRUEBA CON EL **RIDGE CLASSIFIER**"
   ]
  },
  {
   "cell_type": "markdown",
   "metadata": {},
   "source": [
    "En este notebook vamos a cargar el dataset de prueba y realizaremos la calidad de datos, separaremos predictoras y target, predeciremos sobre los datos de prueba y evaluaremos el modelo definitivo."
   ]
  },
  {
   "cell_type": "markdown",
   "metadata": {},
   "source": [
    "## IMPORTAR LOS PAQUETES"
   ]
  },
  {
   "cell_type": "code",
   "execution_count": 2,
   "metadata": {},
   "outputs": [],
   "source": [
    "import numpy as np \n",
    "import pandas as pd\n",
    "import matplotlib.pyplot as plt\n",
    "%matplotlib inline\n",
    "import seaborn as sns\n",
    "import scikitplot as skplt \n",
    "\n",
    "#transformación de datos\n",
    "from sklearn.preprocessing import OrdinalEncoder\n",
    "\n",
    "#modelo\n",
    "\n",
    "from sklearn.linear_model import RidgeClassifier\n",
    "\n",
    "#metricas de evaluación\n",
    "from sklearn.metrics import PrecisionRecallDisplay, RocCurveDisplay\n",
    "from sklearn.metrics import roc_auc_score, roc_curve\n",
    "from sklearn.metrics import accuracy_score\n",
    "from sklearn.metrics import confusion_matrix\n",
    "from sklearn.metrics import classification_report\n",
    "\n",
    "#Crear Pipeline\n",
    "from sklearn.pipeline import make_pipeline\n",
    "\n",
    "import cloudpickle"
   ]
  },
  {
   "cell_type": "markdown",
   "metadata": {},
   "source": [
    "## CARGAR LOS DATOS"
   ]
  },
  {
   "cell_type": "code",
   "execution_count": 3,
   "metadata": {},
   "outputs": [
    {
     "data": {
      "text/html": [
       "<div>\n",
       "<style scoped>\n",
       "    .dataframe tbody tr th:only-of-type {\n",
       "        vertical-align: middle;\n",
       "    }\n",
       "\n",
       "    .dataframe tbody tr th {\n",
       "        vertical-align: top;\n",
       "    }\n",
       "\n",
       "    .dataframe thead th {\n",
       "        text-align: right;\n",
       "    }\n",
       "</style>\n",
       "<table border=\"1\" class=\"dataframe\">\n",
       "  <thead>\n",
       "    <tr style=\"text-align: right;\">\n",
       "      <th></th>\n",
       "      <th>industrial_risk</th>\n",
       "      <th>management_risk</th>\n",
       "      <th>financial_flexibility</th>\n",
       "      <th>credibility</th>\n",
       "      <th>competitiveness</th>\n",
       "      <th>operating_risk</th>\n",
       "      <th>target</th>\n",
       "    </tr>\n",
       "  </thead>\n",
       "  <tbody>\n",
       "    <tr>\n",
       "      <th>190</th>\n",
       "      <td>N</td>\n",
       "      <td>N</td>\n",
       "      <td>N</td>\n",
       "      <td>N</td>\n",
       "      <td>N</td>\n",
       "      <td>N</td>\n",
       "      <td>B</td>\n",
       "    </tr>\n",
       "    <tr>\n",
       "      <th>10</th>\n",
       "      <td>P</td>\n",
       "      <td>P</td>\n",
       "      <td>P</td>\n",
       "      <td>P</td>\n",
       "      <td>A</td>\n",
       "      <td>P</td>\n",
       "      <td>NB</td>\n",
       "    </tr>\n",
       "    <tr>\n",
       "      <th>191</th>\n",
       "      <td>P</td>\n",
       "      <td>N</td>\n",
       "      <td>N</td>\n",
       "      <td>N</td>\n",
       "      <td>A</td>\n",
       "      <td>A</td>\n",
       "      <td>B</td>\n",
       "    </tr>\n",
       "    <tr>\n",
       "      <th>168</th>\n",
       "      <td>A</td>\n",
       "      <td>A</td>\n",
       "      <td>N</td>\n",
       "      <td>N</td>\n",
       "      <td>N</td>\n",
       "      <td>N</td>\n",
       "      <td>B</td>\n",
       "    </tr>\n",
       "    <tr>\n",
       "      <th>130</th>\n",
       "      <td>A</td>\n",
       "      <td>A</td>\n",
       "      <td>A</td>\n",
       "      <td>A</td>\n",
       "      <td>P</td>\n",
       "      <td>A</td>\n",
       "      <td>NB</td>\n",
       "    </tr>\n",
       "    <tr>\n",
       "      <th>...</th>\n",
       "      <td>...</td>\n",
       "      <td>...</td>\n",
       "      <td>...</td>\n",
       "      <td>...</td>\n",
       "      <td>...</td>\n",
       "      <td>...</td>\n",
       "      <td>...</td>\n",
       "    </tr>\n",
       "    <tr>\n",
       "      <th>60</th>\n",
       "      <td>A</td>\n",
       "      <td>A</td>\n",
       "      <td>A</td>\n",
       "      <td>P</td>\n",
       "      <td>P</td>\n",
       "      <td>A</td>\n",
       "      <td>NB</td>\n",
       "    </tr>\n",
       "    <tr>\n",
       "      <th>37</th>\n",
       "      <td>A</td>\n",
       "      <td>N</td>\n",
       "      <td>A</td>\n",
       "      <td>P</td>\n",
       "      <td>P</td>\n",
       "      <td>A</td>\n",
       "      <td>NB</td>\n",
       "    </tr>\n",
       "    <tr>\n",
       "      <th>22</th>\n",
       "      <td>A</td>\n",
       "      <td>A</td>\n",
       "      <td>A</td>\n",
       "      <td>A</td>\n",
       "      <td>P</td>\n",
       "      <td>A</td>\n",
       "      <td>NB</td>\n",
       "    </tr>\n",
       "    <tr>\n",
       "      <th>77</th>\n",
       "      <td>A</td>\n",
       "      <td>P</td>\n",
       "      <td>A</td>\n",
       "      <td>P</td>\n",
       "      <td>A</td>\n",
       "      <td>P</td>\n",
       "      <td>NB</td>\n",
       "    </tr>\n",
       "    <tr>\n",
       "      <th>200</th>\n",
       "      <td>N</td>\n",
       "      <td>N</td>\n",
       "      <td>N</td>\n",
       "      <td>N</td>\n",
       "      <td>N</td>\n",
       "      <td>P</td>\n",
       "      <td>B</td>\n",
       "    </tr>\n",
       "  </tbody>\n",
       "</table>\n",
       "<p>62 rows × 7 columns</p>\n",
       "</div>"
      ],
      "text/plain": [
       "    industrial_risk management_risk financial_flexibility credibility  \\\n",
       "190               N               N                     N           N   \n",
       "10                P               P                     P           P   \n",
       "191               P               N                     N           N   \n",
       "168               A               A                     N           N   \n",
       "130               A               A                     A           A   \n",
       "..              ...             ...                   ...         ...   \n",
       "60                A               A                     A           P   \n",
       "37                A               N                     A           P   \n",
       "22                A               A                     A           A   \n",
       "77                A               P                     A           P   \n",
       "200               N               N                     N           N   \n",
       "\n",
       "    competitiveness operating_risk target  \n",
       "190               N              N      B  \n",
       "10                A              P     NB  \n",
       "191               A              A      B  \n",
       "168               N              N      B  \n",
       "130               P              A     NB  \n",
       "..              ...            ...    ...  \n",
       "60                P              A     NB  \n",
       "37                P              A     NB  \n",
       "22                P              A     NB  \n",
       "77                A              P     NB  \n",
       "200               N              P      B  \n",
       "\n",
       "[62 rows x 7 columns]"
      ]
     },
     "execution_count": 3,
     "metadata": {},
     "output_type": "execute_result"
    }
   ],
   "source": [
    "df = pd.read_csv('../../02_Datos/02_Validacion/prueba.csv', index_col= 0)\n",
    "df"
   ]
  },
  {
   "cell_type": "markdown",
   "metadata": {},
   "source": [
    "## TRANSFORMACIÓN DE DATOS"
   ]
  },
  {
   "cell_type": "markdown",
   "metadata": {},
   "source": [
    "### Variables a aplicar Ordinal Encoder"
   ]
  },
  {
   "cell_type": "code",
   "execution_count": 4,
   "metadata": {},
   "outputs": [],
   "source": [
    "var_oe = ['industrial_risk',\n",
    "            'management_risk',\n",
    "            'financial_flexibility',\n",
    "            'credibility',\n",
    "            'competitiveness',\n",
    "            'operating_risk']\n"
   ]
  },
  {
   "cell_type": "markdown",
   "metadata": {},
   "source": [
    "### Orden y categoría de las variables"
   ]
  },
  {
   "cell_type": "code",
   "execution_count": 5,
   "metadata": {},
   "outputs": [],
   "source": [
    "orden_industrial = ['N','A','P']\n",
    "orden_management = ['N','A','P']\n",
    "orden_financial = ['N','A','P']\n",
    "orden_credibility = ['N','A','P']\n",
    "orden_competitiveness = ['N','A','P']\n",
    "orden_operating = ['N','A','P']\n",
    "\n",
    "categorias = [orden_industrial,\n",
    "              orden_management,\n",
    "              orden_financial,\n",
    "              orden_credibility,\n",
    "              orden_competitiveness,\n",
    "              orden_operating]\n"
   ]
  },
  {
   "cell_type": "markdown",
   "metadata": {},
   "source": [
    "### Instanciar Ordinal Encoder"
   ]
  },
  {
   "cell_type": "code",
   "execution_count": 6,
   "metadata": {},
   "outputs": [],
   "source": [
    "oe = OrdinalEncoder(categories= categorias, \n",
    "                    handle_unknown= 'use_encoded_value',\n",
    "                    unknown_value= -99)"
   ]
  },
  {
   "cell_type": "markdown",
   "metadata": {},
   "source": [
    "### Entrenar y aplicar"
   ]
  },
  {
   "cell_type": "code",
   "execution_count": 7,
   "metadata": {},
   "outputs": [],
   "source": [
    "df_oe = oe.fit_transform(df[var_oe])"
   ]
  },
  {
   "cell_type": "code",
   "execution_count": 8,
   "metadata": {},
   "outputs": [
    {
     "data": {
      "text/html": [
       "<div>\n",
       "<style scoped>\n",
       "    .dataframe tbody tr th:only-of-type {\n",
       "        vertical-align: middle;\n",
       "    }\n",
       "\n",
       "    .dataframe tbody tr th {\n",
       "        vertical-align: top;\n",
       "    }\n",
       "\n",
       "    .dataframe thead th {\n",
       "        text-align: right;\n",
       "    }\n",
       "</style>\n",
       "<table border=\"1\" class=\"dataframe\">\n",
       "  <thead>\n",
       "    <tr style=\"text-align: right;\">\n",
       "      <th></th>\n",
       "      <th>industrial_risk_oe</th>\n",
       "      <th>management_risk_oe</th>\n",
       "      <th>financial_flexibility_oe</th>\n",
       "      <th>credibility_oe</th>\n",
       "      <th>competitiveness_oe</th>\n",
       "      <th>operating_risk_oe</th>\n",
       "    </tr>\n",
       "  </thead>\n",
       "  <tbody>\n",
       "    <tr>\n",
       "      <th>0</th>\n",
       "      <td>0.0</td>\n",
       "      <td>0.0</td>\n",
       "      <td>0.0</td>\n",
       "      <td>0.0</td>\n",
       "      <td>0.0</td>\n",
       "      <td>0.0</td>\n",
       "    </tr>\n",
       "    <tr>\n",
       "      <th>1</th>\n",
       "      <td>2.0</td>\n",
       "      <td>2.0</td>\n",
       "      <td>2.0</td>\n",
       "      <td>2.0</td>\n",
       "      <td>1.0</td>\n",
       "      <td>2.0</td>\n",
       "    </tr>\n",
       "    <tr>\n",
       "      <th>2</th>\n",
       "      <td>2.0</td>\n",
       "      <td>0.0</td>\n",
       "      <td>0.0</td>\n",
       "      <td>0.0</td>\n",
       "      <td>1.0</td>\n",
       "      <td>1.0</td>\n",
       "    </tr>\n",
       "    <tr>\n",
       "      <th>3</th>\n",
       "      <td>1.0</td>\n",
       "      <td>1.0</td>\n",
       "      <td>0.0</td>\n",
       "      <td>0.0</td>\n",
       "      <td>0.0</td>\n",
       "      <td>0.0</td>\n",
       "    </tr>\n",
       "    <tr>\n",
       "      <th>4</th>\n",
       "      <td>1.0</td>\n",
       "      <td>1.0</td>\n",
       "      <td>1.0</td>\n",
       "      <td>1.0</td>\n",
       "      <td>2.0</td>\n",
       "      <td>1.0</td>\n",
       "    </tr>\n",
       "    <tr>\n",
       "      <th>...</th>\n",
       "      <td>...</td>\n",
       "      <td>...</td>\n",
       "      <td>...</td>\n",
       "      <td>...</td>\n",
       "      <td>...</td>\n",
       "      <td>...</td>\n",
       "    </tr>\n",
       "    <tr>\n",
       "      <th>57</th>\n",
       "      <td>1.0</td>\n",
       "      <td>1.0</td>\n",
       "      <td>1.0</td>\n",
       "      <td>2.0</td>\n",
       "      <td>2.0</td>\n",
       "      <td>1.0</td>\n",
       "    </tr>\n",
       "    <tr>\n",
       "      <th>58</th>\n",
       "      <td>1.0</td>\n",
       "      <td>0.0</td>\n",
       "      <td>1.0</td>\n",
       "      <td>2.0</td>\n",
       "      <td>2.0</td>\n",
       "      <td>1.0</td>\n",
       "    </tr>\n",
       "    <tr>\n",
       "      <th>59</th>\n",
       "      <td>1.0</td>\n",
       "      <td>1.0</td>\n",
       "      <td>1.0</td>\n",
       "      <td>1.0</td>\n",
       "      <td>2.0</td>\n",
       "      <td>1.0</td>\n",
       "    </tr>\n",
       "    <tr>\n",
       "      <th>60</th>\n",
       "      <td>1.0</td>\n",
       "      <td>2.0</td>\n",
       "      <td>1.0</td>\n",
       "      <td>2.0</td>\n",
       "      <td>1.0</td>\n",
       "      <td>2.0</td>\n",
       "    </tr>\n",
       "    <tr>\n",
       "      <th>61</th>\n",
       "      <td>0.0</td>\n",
       "      <td>0.0</td>\n",
       "      <td>0.0</td>\n",
       "      <td>0.0</td>\n",
       "      <td>0.0</td>\n",
       "      <td>2.0</td>\n",
       "    </tr>\n",
       "  </tbody>\n",
       "</table>\n",
       "<p>62 rows × 6 columns</p>\n",
       "</div>"
      ],
      "text/plain": [
       "    industrial_risk_oe  management_risk_oe  financial_flexibility_oe  \\\n",
       "0                  0.0                 0.0                       0.0   \n",
       "1                  2.0                 2.0                       2.0   \n",
       "2                  2.0                 0.0                       0.0   \n",
       "3                  1.0                 1.0                       0.0   \n",
       "4                  1.0                 1.0                       1.0   \n",
       "..                 ...                 ...                       ...   \n",
       "57                 1.0                 1.0                       1.0   \n",
       "58                 1.0                 0.0                       1.0   \n",
       "59                 1.0                 1.0                       1.0   \n",
       "60                 1.0                 2.0                       1.0   \n",
       "61                 0.0                 0.0                       0.0   \n",
       "\n",
       "    credibility_oe  competitiveness_oe  operating_risk_oe  \n",
       "0              0.0                 0.0                0.0  \n",
       "1              2.0                 1.0                2.0  \n",
       "2              0.0                 1.0                1.0  \n",
       "3              0.0                 0.0                0.0  \n",
       "4              1.0                 2.0                1.0  \n",
       "..             ...                 ...                ...  \n",
       "57             2.0                 2.0                1.0  \n",
       "58             2.0                 2.0                1.0  \n",
       "59             1.0                 2.0                1.0  \n",
       "60             2.0                 1.0                2.0  \n",
       "61             0.0                 0.0                2.0  \n",
       "\n",
       "[62 rows x 6 columns]"
      ]
     },
     "execution_count": 8,
     "metadata": {},
     "output_type": "execute_result"
    }
   ],
   "source": [
    "nombre_oe = [variable + '_oe' for variable in var_oe]\n",
    "x = pd.DataFrame(df_oe, columns= nombre_oe)\n",
    "x"
   ]
  },
  {
   "cell_type": "markdown",
   "metadata": {},
   "source": [
    "## APLICAR TRANSFORMACIÓN BINARIA A LA TARGET"
   ]
  },
  {
   "cell_type": "code",
   "execution_count": 9,
   "metadata": {},
   "outputs": [
    {
     "data": {
      "text/html": [
       "<div>\n",
       "<style scoped>\n",
       "    .dataframe tbody tr th:only-of-type {\n",
       "        vertical-align: middle;\n",
       "    }\n",
       "\n",
       "    .dataframe tbody tr th {\n",
       "        vertical-align: top;\n",
       "    }\n",
       "\n",
       "    .dataframe thead th {\n",
       "        text-align: right;\n",
       "    }\n",
       "</style>\n",
       "<table border=\"1\" class=\"dataframe\">\n",
       "  <thead>\n",
       "    <tr style=\"text-align: right;\">\n",
       "      <th></th>\n",
       "      <th>target</th>\n",
       "    </tr>\n",
       "  </thead>\n",
       "  <tbody>\n",
       "    <tr>\n",
       "      <th>0</th>\n",
       "      <td>1</td>\n",
       "    </tr>\n",
       "    <tr>\n",
       "      <th>1</th>\n",
       "      <td>0</td>\n",
       "    </tr>\n",
       "    <tr>\n",
       "      <th>2</th>\n",
       "      <td>1</td>\n",
       "    </tr>\n",
       "    <tr>\n",
       "      <th>3</th>\n",
       "      <td>1</td>\n",
       "    </tr>\n",
       "    <tr>\n",
       "      <th>4</th>\n",
       "      <td>0</td>\n",
       "    </tr>\n",
       "    <tr>\n",
       "      <th>...</th>\n",
       "      <td>...</td>\n",
       "    </tr>\n",
       "    <tr>\n",
       "      <th>57</th>\n",
       "      <td>0</td>\n",
       "    </tr>\n",
       "    <tr>\n",
       "      <th>58</th>\n",
       "      <td>0</td>\n",
       "    </tr>\n",
       "    <tr>\n",
       "      <th>59</th>\n",
       "      <td>0</td>\n",
       "    </tr>\n",
       "    <tr>\n",
       "      <th>60</th>\n",
       "      <td>0</td>\n",
       "    </tr>\n",
       "    <tr>\n",
       "      <th>61</th>\n",
       "      <td>1</td>\n",
       "    </tr>\n",
       "  </tbody>\n",
       "</table>\n",
       "<p>62 rows × 1 columns</p>\n",
       "</div>"
      ],
      "text/plain": [
       "    target\n",
       "0        1\n",
       "1        0\n",
       "2        1\n",
       "3        1\n",
       "4        0\n",
       "..     ...\n",
       "57       0\n",
       "58       0\n",
       "59       0\n",
       "60       0\n",
       "61       1\n",
       "\n",
       "[62 rows x 1 columns]"
      ]
     },
     "execution_count": 9,
     "metadata": {},
     "output_type": "execute_result"
    }
   ],
   "source": [
    "y = df.target.replace({'B':1 , 'NB': 0}).reset_index().copy()\n",
    "y.drop(columns= 'index', inplace= True)\n",
    "y"
   ]
  },
  {
   "cell_type": "markdown",
   "metadata": {},
   "source": [
    "## MODELIZAR CON EL PIPE DE EJECUCIÓN"
   ]
  },
  {
   "cell_type": "markdown",
   "metadata": {},
   "source": [
    "### CARGAMOS EL PIPE DE EJECUCIÓN"
   ]
  },
  {
   "cell_type": "code",
   "execution_count": 10,
   "metadata": {},
   "outputs": [],
   "source": [
    "modelo = pd.read_pickle('../../04_Modelos/pipe_ejecucion_v1.pickle')"
   ]
  },
  {
   "cell_type": "markdown",
   "metadata": {},
   "source": [
    "## PREDECIR Y EVALUAR CON LOS DATOS DE PRUEBA"
   ]
  },
  {
   "cell_type": "markdown",
   "metadata": {},
   "source": [
    "### PREDECIR SOBRE LOS DATOS"
   ]
  },
  {
   "cell_type": "code",
   "execution_count": 11,
   "metadata": {},
   "outputs": [],
   "source": [
    "pred = modelo.predict(x)\n",
    "#pred_proba = modelo.predict_proba(x)[:,1]"
   ]
  },
  {
   "cell_type": "markdown",
   "metadata": {},
   "source": [
    "### EVALUAR SOBRE LOS DATOS"
   ]
  },
  {
   "cell_type": "code",
   "execution_count": 12,
   "metadata": {},
   "outputs": [
    {
     "name": "stdout",
     "output_type": "stream",
     "text": [
      "Roc AUC: 1.0\n",
      "Accuracy: 1.0\n",
      "Classification Report:\n",
      "              precision    recall  f1-score   support\n",
      "\n",
      "           0       1.00      1.00      1.00        40\n",
      "           1       1.00      1.00      1.00        22\n",
      "\n",
      "    accuracy                           1.00        62\n",
      "   macro avg       1.00      1.00      1.00        62\n",
      "weighted avg       1.00      1.00      1.00        62\n",
      "\n"
     ]
    }
   ],
   "source": [
    "#v_roc_auc_proba = roc_auc_score(y, pred_proba)\n",
    "v_roc_auc = roc_auc_score(y, pred)\n",
    "v_accuracy = accuracy_score(y, pred)\n",
    "v_report = classification_report(y, pred)\n",
    "\n",
    "#print(f\"Roc AUC_proba: {v_roc_auc_proba}\")\n",
    "print(f\"Roc AUC: {v_roc_auc}\")\n",
    "print(f\"Accuracy: {v_accuracy}\")\n",
    "print(f\"Classification Report:\\n{v_report}\")"
   ]
  },
  {
   "cell_type": "markdown",
   "metadata": {},
   "source": [
    "## REPORTING DEL MODELO"
   ]
  },
  {
   "cell_type": "markdown",
   "metadata": {},
   "source": [
    "Matrix de Confusión MultiClass"
   ]
  },
  {
   "cell_type": "code",
   "execution_count": 13,
   "metadata": {},
   "outputs": [
    {
     "data": {
      "image/png": "[encoded data removed]",
      "text/plain": [
       "<Figure size 500x500 with 1 Axes>"
      ]
     },
     "metadata": {},
     "output_type": "display_data"
    }
   ],
   "source": [
    "# Calcular la matriz de confusión\n",
    "cm = confusion_matrix(y, pred)\n",
    "\n",
    "\n",
    "# Crear un mapa de calor de la matriz de confusión\n",
    "plt.figure(figsize=(5, 5))\n",
    "sns.heatmap(cm, annot=True, cmap=\"Blues\", fmt=\"d\", cbar=False)\n",
    "\n",
    "# Configurar etiquetas y título del gráfico\n",
    "plt.xlabel(\"Predicted Labels\")\n",
    "plt.ylabel(\"True Labels\")\n",
    "plt.title(\"Confusion Matrix\");\n"
   ]
  },
  {
   "cell_type": "markdown",
   "metadata": {},
   "source": [
    "### Precision-Recall"
   ]
  },
  {
   "cell_type": "code",
   "execution_count": 14,
   "metadata": {},
   "outputs": [
    {
     "data": {
      "image/png": "[encoded data removed]",
      "text/plain": [
       "<Figure size 640x480 with 1 Axes>"
      ]
     },
     "metadata": {},
     "output_type": "display_data"
    }
   ],
   "source": [
    "PrecisionRecallDisplay.from_estimator(modelo, x, y);"
   ]
  },
  {
   "cell_type": "markdown",
   "metadata": {},
   "source": [
    "### ROC Chart"
   ]
  },
  {
   "cell_type": "code",
   "execution_count": 15,
   "metadata": {},
   "outputs": [
    {
     "data": {
      "image/png": "[encoded data removed]",
      "text/plain": [
       "<Figure size 640x480 with 1 Axes>"
      ]
     },
     "metadata": {},
     "output_type": "display_data"
    }
   ],
   "source": [
    "y_score = modelo.decision_function(x)\n",
    "fpr, tpr, _ = roc_curve(y, y_score, pos_label=modelo.classes_[1])\n",
    "roc_display = RocCurveDisplay(fpr=fpr, tpr=tpr).plot()"
   ]
  },
  {
   "cell_type": "markdown",
   "metadata": {},
   "source": [
    "### **CONCLUSIÓN:**\n",
    "\n",
    "El modelo ha funcionado muy bien con los datos de prueba obteniendo un 100% roc_auc sobre los [1].\n",
    "\n",
    "Al ser un scoring de riesgo bancario muchas veces se precisa de una interpretación de los datos para comunicar el motivo al cliente. Vamos a solicitar los coeficientes y el intercepto para calcular el scoring según las variables del cliente."
   ]
  },
  {
   "cell_type": "markdown",
   "metadata": {},
   "source": [
    "### COEFICIENTE Y INTERCEPTO DEL MODELO"
   ]
  },
  {
   "cell_type": "code",
   "execution_count": 28,
   "metadata": {},
   "outputs": [
    {
     "name": "stdout",
     "output_type": "stream",
     "text": [
      "Coeficientes de las características:\n",
      "Característica 1: -0.0438\n",
      "Característica 2: -0.0531\n",
      "Característica 3: -0.2422\n",
      "Característica 4: -0.2066\n",
      "Característica 5: -0.6489\n",
      "Característica 6: -0.0787\n",
      "Término de intercepción (sesgo): 0.974061742352917\n"
     ]
    }
   ],
   "source": [
    "# Obtén el estimador interno (RidgeClassifier) del pipeline\n",
    "ridge_classifier = modelo.named_steps['ridgeclassifier']\n",
    "\n",
    "# Obtén el coeficiente y intercepto\n",
    "coeficientes = ridge_classifier.coef_\n",
    "intercepcion = ridge_classifier.intercept_\n",
    "\n",
    "# Imprimir los coeficientes de las características\n",
    "print(\"Coeficientes de las características:\")\n",
    "for i, coef in enumerate(coeficientes[0]):\n",
    "    print(f\"Característica {i + 1}: {coef:.4f}\")\n",
    "\n",
    "# Imprimir el término de intercepción (sesgo)\n",
    "print(\"Término de intercepción (sesgo):\", intercepcion[0])"
   ]
  },
  {
   "cell_type": "markdown",
   "metadata": {},
   "source": [
    "### FUNCIÓN PARA CALCULAR EL SCORING DEL CLIENTE"
   ]
  },
  {
   "cell_type": "code",
   "execution_count": 32,
   "metadata": {},
   "outputs": [
    {
     "name": "stdout",
     "output_type": "stream",
     "text": [
      "Probabilidades: [0.70815425]\n"
     ]
    }
   ],
   "source": [
    "def de_logit_a_prob(modelo, test_x):\n",
    "    test_x = np.array(test_x)\n",
    "    logit = modelo.intercept_ + np.sum(modelo.coef_ * test_x, axis=1)\n",
    "    proba = 1 / (1 + np.exp(-logit))\n",
    "    return proba\n",
    "\n",
    "# Obtén el estimador interno (RidgeClassifier) del pipeline\n",
    "modelo_especifico = modelo.named_steps['ridgeclassifier']\n",
    "\n",
    "# Valores manuales de un nuevo cliente\n",
    "valores_manuales = [[2, 0, 0, 0, 0, 0]]  # Ejemplo de valores manuales para características\n",
    "\n",
    "# Calcular las probabilidades utilizando la función de_logit_a_prob\n",
    "probabilidades = de_logit_a_prob(modelo_especifico, valores_manuales)\n",
    "\n",
    "# Imprimir las probabilidades calculadas\n",
    "print(\"Probabilidades:\", probabilidades)"
   ]
  },
  {
   "cell_type": "markdown",
   "metadata": {},
   "source": [
    "**PRÓXIMOS PASOS:** \n",
    "\n",
    "También realizaremos un modelo de tipo Árbol de decisión para ver el flujo de las variables y los valores para una mejor interpretación."
   ]
  }
 ],
 "metadata": {
  "kernelspec": {
   "display_name": "Python 3 (ipykernel)",
   "language": "python",
   "name": "python3"
  },
  "language_info": {
   "codemirror_mode": {
    "name": "ipython",
    "version": 3
   },
   "file_extension": ".py",
   "mimetype": "text/x-python",
   "name": "python",
   "nbconvert_exporter": "python",
   "pygments_lexer": "ipython3",
   "version": "3.9.12"
  },
  "widgets": {
   "application/vnd.jupyter.widget-state+json": {
    "state": {},
    "version_major": 2,
    "version_minor": 0
   }
  }
 },
 "nbformat": 4,
 "nbformat_minor": 4
}
