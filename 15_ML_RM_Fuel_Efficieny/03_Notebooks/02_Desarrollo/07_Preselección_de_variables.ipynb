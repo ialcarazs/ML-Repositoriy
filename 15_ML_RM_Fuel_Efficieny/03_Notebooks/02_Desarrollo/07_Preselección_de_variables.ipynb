{
 "cells": [
  {
   "cell_type": "markdown",
   "metadata": {},
   "source": [
    "# 7 PRESELECCIÓN DE VARIABLES"
   ]
  },
  {
   "cell_type": "markdown",
   "metadata": {},
   "source": [
    "## IMPORTAR PAQUETES"
   ]
  },
  {
   "cell_type": "code",
   "execution_count": 1,
   "metadata": {},
   "outputs": [],
   "source": [
    "import numpy as np\n",
    "import pandas as pd\n",
    "import matplotlib.pyplot as plt\n",
    "%matplotlib inline\n",
    "\n",
    "from sklearn.feature_selection import mutual_info_classif\n",
    "from sklearn.feature_selection import mutual_info_regression\n",
    "from sklearn.feature_selection import RFE\n",
    "from xgboost import XGBClassifier\n",
    "from xgboost import XGBRegressor\n",
    "from sklearn.inspection import permutation_importance\n",
    "\n",
    "#Automcompletar rápido\n",
    "%config IPCompleter.greedy=True"
   ]
  },
  {
   "cell_type": "markdown",
   "metadata": {},
   "source": [
    "## IMPORTAR LOS DATOS"
   ]
  },
  {
   "cell_type": "markdown",
   "metadata": {},
   "source": [
    "Cargar los datos."
   ]
  },
  {
   "cell_type": "code",
   "execution_count": 2,
   "metadata": {},
   "outputs": [
    {
     "data": {
      "text/html": [
       "<div>\n",
       "<style scoped>\n",
       "    .dataframe tbody tr th:only-of-type {\n",
       "        vertical-align: middle;\n",
       "    }\n",
       "\n",
       "    .dataframe tbody tr th {\n",
       "        vertical-align: top;\n",
       "    }\n",
       "\n",
       "    .dataframe thead th {\n",
       "        text-align: right;\n",
       "    }\n",
       "</style>\n",
       "<table border=\"1\" class=\"dataframe\">\n",
       "  <thead>\n",
       "    <tr style=\"text-align: right;\">\n",
       "      <th></th>\n",
       "      <th>1200</th>\n",
       "      <th>500</th>\n",
       "      <th>504</th>\n",
       "      <th>amc</th>\n",
       "      <th>aspen</th>\n",
       "      <th>audi</th>\n",
       "      <th>benz</th>\n",
       "      <th>brougham</th>\n",
       "      <th>buick</th>\n",
       "      <th>caprice</th>\n",
       "      <th>...</th>\n",
       "      <th>any_modelo_82</th>\n",
       "      <th>origen_1</th>\n",
       "      <th>origen_2</th>\n",
       "      <th>origen_3</th>\n",
       "      <th>cilindros_oe_mms</th>\n",
       "      <th>desplazamiento_yeo_mms</th>\n",
       "      <th>caballos_yeo_mms</th>\n",
       "      <th>peso_yeo_mms</th>\n",
       "      <th>aceleracion_yeo_mms</th>\n",
       "      <th>mpg</th>\n",
       "    </tr>\n",
       "  </thead>\n",
       "  <tbody>\n",
       "    <tr>\n",
       "      <th>0</th>\n",
       "      <td>0</td>\n",
       "      <td>0</td>\n",
       "      <td>0</td>\n",
       "      <td>0</td>\n",
       "      <td>0</td>\n",
       "      <td>0</td>\n",
       "      <td>0</td>\n",
       "      <td>0</td>\n",
       "      <td>1</td>\n",
       "      <td>0</td>\n",
       "      <td>...</td>\n",
       "      <td>0.0</td>\n",
       "      <td>1.0</td>\n",
       "      <td>0.0</td>\n",
       "      <td>0.0</td>\n",
       "      <td>1.0</td>\n",
       "      <td>0.893854</td>\n",
       "      <td>0.869861</td>\n",
       "      <td>0.755175</td>\n",
       "      <td>0.248895</td>\n",
       "      <td>15.0</td>\n",
       "    </tr>\n",
       "    <tr>\n",
       "      <th>1</th>\n",
       "      <td>0</td>\n",
       "      <td>0</td>\n",
       "      <td>0</td>\n",
       "      <td>1</td>\n",
       "      <td>0</td>\n",
       "      <td>0</td>\n",
       "      <td>0</td>\n",
       "      <td>0</td>\n",
       "      <td>0</td>\n",
       "      <td>0</td>\n",
       "      <td>...</td>\n",
       "      <td>0.0</td>\n",
       "      <td>1.0</td>\n",
       "      <td>0.0</td>\n",
       "      <td>0.0</td>\n",
       "      <td>1.0</td>\n",
       "      <td>0.832943</td>\n",
       "      <td>0.826943</td>\n",
       "      <td>0.697145</td>\n",
       "      <td>0.281928</td>\n",
       "      <td>16.0</td>\n",
       "    </tr>\n",
       "    <tr>\n",
       "      <th>2</th>\n",
       "      <td>0</td>\n",
       "      <td>1</td>\n",
       "      <td>0</td>\n",
       "      <td>0</td>\n",
       "      <td>0</td>\n",
       "      <td>0</td>\n",
       "      <td>0</td>\n",
       "      <td>0</td>\n",
       "      <td>0</td>\n",
       "      <td>0</td>\n",
       "      <td>...</td>\n",
       "      <td>0.0</td>\n",
       "      <td>1.0</td>\n",
       "      <td>0.0</td>\n",
       "      <td>0.0</td>\n",
       "      <td>1.0</td>\n",
       "      <td>0.976988</td>\n",
       "      <td>0.944816</td>\n",
       "      <td>0.878469</td>\n",
       "      <td>0.146330</td>\n",
       "      <td>15.0</td>\n",
       "    </tr>\n",
       "    <tr>\n",
       "      <th>3</th>\n",
       "      <td>0</td>\n",
       "      <td>0</td>\n",
       "      <td>0</td>\n",
       "      <td>0</td>\n",
       "      <td>0</td>\n",
       "      <td>0</td>\n",
       "      <td>0</td>\n",
       "      <td>0</td>\n",
       "      <td>0</td>\n",
       "      <td>0</td>\n",
       "      <td>...</td>\n",
       "      <td>0.0</td>\n",
       "      <td>1.0</td>\n",
       "      <td>0.0</td>\n",
       "      <td>0.0</td>\n",
       "      <td>1.0</td>\n",
       "      <td>0.999148</td>\n",
       "      <td>0.984192</td>\n",
       "      <td>0.880684</td>\n",
       "      <td>0.074690</td>\n",
       "      <td>14.0</td>\n",
       "    </tr>\n",
       "    <tr>\n",
       "      <th>4</th>\n",
       "      <td>0</td>\n",
       "      <td>0</td>\n",
       "      <td>0</td>\n",
       "      <td>0</td>\n",
       "      <td>0</td>\n",
       "      <td>0</td>\n",
       "      <td>0</td>\n",
       "      <td>0</td>\n",
       "      <td>0</td>\n",
       "      <td>0</td>\n",
       "      <td>...</td>\n",
       "      <td>0.0</td>\n",
       "      <td>1.0</td>\n",
       "      <td>0.0</td>\n",
       "      <td>0.0</td>\n",
       "      <td>1.0</td>\n",
       "      <td>0.986944</td>\n",
       "      <td>0.975833</td>\n",
       "      <td>0.873496</td>\n",
       "      <td>0.037754</td>\n",
       "      <td>14.0</td>\n",
       "    </tr>\n",
       "  </tbody>\n",
       "</table>\n",
       "<p>5 rows × 95 columns</p>\n",
       "</div>"
      ],
      "text/plain": [
       "   1200  500  504  amc  aspen  audi  benz  brougham  buick  caprice  ...  \\\n",
       "0     0    0    0    0      0     0     0         0      1        0  ...   \n",
       "1     0    0    0    1      0     0     0         0      0        0  ...   \n",
       "2     0    1    0    0      0     0     0         0      0        0  ...   \n",
       "3     0    0    0    0      0     0     0         0      0        0  ...   \n",
       "4     0    0    0    0      0     0     0         0      0        0  ...   \n",
       "\n",
       "   any_modelo_82  origen_1  origen_2  origen_3  cilindros_oe_mms  \\\n",
       "0            0.0       1.0       0.0       0.0               1.0   \n",
       "1            0.0       1.0       0.0       0.0               1.0   \n",
       "2            0.0       1.0       0.0       0.0               1.0   \n",
       "3            0.0       1.0       0.0       0.0               1.0   \n",
       "4            0.0       1.0       0.0       0.0               1.0   \n",
       "\n",
       "   desplazamiento_yeo_mms  caballos_yeo_mms  peso_yeo_mms  \\\n",
       "0                0.893854          0.869861      0.755175   \n",
       "1                0.832943          0.826943      0.697145   \n",
       "2                0.976988          0.944816      0.878469   \n",
       "3                0.999148          0.984192      0.880684   \n",
       "4                0.986944          0.975833      0.873496   \n",
       "\n",
       "   aceleracion_yeo_mms   mpg  \n",
       "0             0.248895  15.0  \n",
       "1             0.281928  16.0  \n",
       "2             0.146330  15.0  \n",
       "3             0.074690  14.0  \n",
       "4             0.037754  14.0  \n",
       "\n",
       "[5 rows x 95 columns]"
      ]
     },
     "execution_count": 2,
     "metadata": {},
     "output_type": "execute_result"
    }
   ],
   "source": [
    "df = pd.read_pickle('../../02_Datos/03_Trabajo/df_tablon.pickle')\n",
    "df.head()"
   ]
  },
  {
   "cell_type": "markdown",
   "metadata": {},
   "source": [
    "## MÉTODOS SUPERVISADOS"
   ]
  },
  {
   "cell_type": "markdown",
   "metadata": {},
   "source": [
    "### Preparar x e y"
   ]
  },
  {
   "cell_type": "code",
   "execution_count": 3,
   "metadata": {},
   "outputs": [],
   "source": [
    "target = 'mpg'\n",
    "x = df.drop(columns = target).copy()\n",
    "y =  df[target].copy()"
   ]
  },
  {
   "cell_type": "markdown",
   "metadata": {},
   "source": [
    "### Mutual Information"
   ]
  },
  {
   "cell_type": "markdown",
   "metadata": {},
   "source": [
    "#### Crear una función para mostrar el resultado"
   ]
  },
  {
   "cell_type": "code",
   "execution_count": 4,
   "metadata": {},
   "outputs": [],
   "source": [
    "def ranking_mi(mutual_selector, modo = 'tabla'):\n",
    "    #Maqueta el ranking\n",
    "    ranking_mi = pd.DataFrame(mutual_selector, index = x.columns).reset_index()\n",
    "    ranking_mi.columns = ['variable','importancia_mi']\n",
    "    ranking_mi = ranking_mi.sort_values(by = 'importancia_mi', ascending = False)\n",
    "    ranking_mi['ranking_mi'] = np.arange(0,ranking_mi.shape[0])\n",
    "    #Muestra la salida\n",
    "    if modo == 'tabla':\n",
    "        return(ranking_mi)\n",
    "    else:\n",
    "        g = ranking_mi.importancia_mi.sort_values().plot.barh(figsize = (12,20))\n",
    "        g.set_yticklabels(ranking_mi.sort_values(by = 'importancia_mi').variable)\n",
    "        return(g)"
   ]
  },
  {
   "cell_type": "markdown",
   "metadata": {},
   "source": [
    "#### Calcular y revisar"
   ]
  },
  {
   "cell_type": "code",
   "execution_count": 5,
   "metadata": {},
   "outputs": [
    {
     "name": "stderr",
     "output_type": "stream",
     "text": [
      "c:\\Users\\ialca\\anaconda3\\envs\\proyecto1\\Lib\\site-packages\\sklearn\\utils\\validation.py:768: UserWarning: pandas.DataFrame with sparse columns found.It will be converted to a dense numpy array.\n",
      "  warnings.warn(\n"
     ]
    },
    {
     "data": {
      "image/png": "[encoded data removed]",
      "text/plain": [
       "<Figure size 1200x2000 with 1 Axes>"
      ]
     },
     "metadata": {},
     "output_type": "display_data"
    }
   ],
   "source": [
    "mutual_selector = mutual_info_regression(x,y)\n",
    "\n",
    "rank_mi = ranking_mi(mutual_selector, modo = 'grafico')"
   ]
  },
  {
   "cell_type": "code",
   "execution_count": 6,
   "metadata": {},
   "outputs": [
    {
     "data": {
      "text/html": [
       "<div>\n",
       "<style scoped>\n",
       "    .dataframe tbody tr th:only-of-type {\n",
       "        vertical-align: middle;\n",
       "    }\n",
       "\n",
       "    .dataframe tbody tr th {\n",
       "        vertical-align: top;\n",
       "    }\n",
       "\n",
       "    .dataframe thead th {\n",
       "        text-align: right;\n",
       "    }\n",
       "</style>\n",
       "<table border=\"1\" class=\"dataframe\">\n",
       "  <thead>\n",
       "    <tr style=\"text-align: right;\">\n",
       "      <th></th>\n",
       "      <th>variable</th>\n",
       "      <th>importancia_mi</th>\n",
       "      <th>ranking_mi</th>\n",
       "    </tr>\n",
       "  </thead>\n",
       "  <tbody>\n",
       "    <tr>\n",
       "      <th>90</th>\n",
       "      <td>desplazamiento_yeo_mms</td>\n",
       "      <td>0.789678</td>\n",
       "      <td>0</td>\n",
       "    </tr>\n",
       "    <tr>\n",
       "      <th>92</th>\n",
       "      <td>peso_yeo_mms</td>\n",
       "      <td>0.727355</td>\n",
       "      <td>1</td>\n",
       "    </tr>\n",
       "    <tr>\n",
       "      <th>91</th>\n",
       "      <td>caballos_yeo_mms</td>\n",
       "      <td>0.691658</td>\n",
       "      <td>2</td>\n",
       "    </tr>\n",
       "    <tr>\n",
       "      <th>89</th>\n",
       "      <td>cilindros_oe_mms</td>\n",
       "      <td>0.614135</td>\n",
       "      <td>3</td>\n",
       "    </tr>\n",
       "    <tr>\n",
       "      <th>93</th>\n",
       "      <td>aceleracion_yeo_mms</td>\n",
       "      <td>0.177004</td>\n",
       "      <td>4</td>\n",
       "    </tr>\n",
       "    <tr>\n",
       "      <th>86</th>\n",
       "      <td>origen_1</td>\n",
       "      <td>0.166317</td>\n",
       "      <td>5</td>\n",
       "    </tr>\n",
       "    <tr>\n",
       "      <th>88</th>\n",
       "      <td>origen_3</td>\n",
       "      <td>0.136406</td>\n",
       "      <td>6</td>\n",
       "    </tr>\n",
       "    <tr>\n",
       "      <th>76</th>\n",
       "      <td>any_modelo_73</td>\n",
       "      <td>0.090503</td>\n",
       "      <td>7</td>\n",
       "    </tr>\n",
       "    <tr>\n",
       "      <th>83</th>\n",
       "      <td>any_modelo_80</td>\n",
       "      <td>0.085425</td>\n",
       "      <td>8</td>\n",
       "    </tr>\n",
       "    <tr>\n",
       "      <th>73</th>\n",
       "      <td>any_modelo_70</td>\n",
       "      <td>0.080546</td>\n",
       "      <td>9</td>\n",
       "    </tr>\n",
       "    <tr>\n",
       "      <th>18</th>\n",
       "      <td>colt</td>\n",
       "      <td>0.049680</td>\n",
       "      <td>10</td>\n",
       "    </tr>\n",
       "    <tr>\n",
       "      <th>82</th>\n",
       "      <td>any_modelo_79</td>\n",
       "      <td>0.047440</td>\n",
       "      <td>11</td>\n",
       "    </tr>\n",
       "    <tr>\n",
       "      <th>85</th>\n",
       "      <td>any_modelo_82</td>\n",
       "      <td>0.047204</td>\n",
       "      <td>12</td>\n",
       "    </tr>\n",
       "    <tr>\n",
       "      <th>62</th>\n",
       "      <td>rabbit</td>\n",
       "      <td>0.046645</td>\n",
       "      <td>13</td>\n",
       "    </tr>\n",
       "    <tr>\n",
       "      <th>13</th>\n",
       "      <td>chevette</td>\n",
       "      <td>0.044959</td>\n",
       "      <td>14</td>\n",
       "    </tr>\n",
       "    <tr>\n",
       "      <th>55</th>\n",
       "      <td>oldsmobile</td>\n",
       "      <td>0.043278</td>\n",
       "      <td>15</td>\n",
       "    </tr>\n",
       "    <tr>\n",
       "      <th>40</th>\n",
       "      <td>grand</td>\n",
       "      <td>0.042058</td>\n",
       "      <td>16</td>\n",
       "    </tr>\n",
       "    <tr>\n",
       "      <th>3</th>\n",
       "      <td>amc</td>\n",
       "      <td>0.038921</td>\n",
       "      <td>17</td>\n",
       "    </tr>\n",
       "    <tr>\n",
       "      <th>77</th>\n",
       "      <td>any_modelo_74</td>\n",
       "      <td>0.038667</td>\n",
       "      <td>18</td>\n",
       "    </tr>\n",
       "    <tr>\n",
       "      <th>78</th>\n",
       "      <td>any_modelo_75</td>\n",
       "      <td>0.038309</td>\n",
       "      <td>19</td>\n",
       "    </tr>\n",
       "    <tr>\n",
       "      <th>87</th>\n",
       "      <td>origen_2</td>\n",
       "      <td>0.037966</td>\n",
       "      <td>20</td>\n",
       "    </tr>\n",
       "    <tr>\n",
       "      <th>47</th>\n",
       "      <td>malibu</td>\n",
       "      <td>0.036575</td>\n",
       "      <td>21</td>\n",
       "    </tr>\n",
       "    <tr>\n",
       "      <th>67</th>\n",
       "      <td>sw</td>\n",
       "      <td>0.036508</td>\n",
       "      <td>22</td>\n",
       "    </tr>\n",
       "    <tr>\n",
       "      <th>4</th>\n",
       "      <td>aspen</td>\n",
       "      <td>0.036201</td>\n",
       "      <td>23</td>\n",
       "    </tr>\n",
       "    <tr>\n",
       "      <th>50</th>\n",
       "      <td>mazda</td>\n",
       "      <td>0.035347</td>\n",
       "      <td>24</td>\n",
       "    </tr>\n",
       "    <tr>\n",
       "      <th>17</th>\n",
       "      <td>classic</td>\n",
       "      <td>0.035222</td>\n",
       "      <td>25</td>\n",
       "    </tr>\n",
       "    <tr>\n",
       "      <th>71</th>\n",
       "      <td>volkswagen</td>\n",
       "      <td>0.029086</td>\n",
       "      <td>26</td>\n",
       "    </tr>\n",
       "    <tr>\n",
       "      <th>10</th>\n",
       "      <td>carlo</td>\n",
       "      <td>0.028800</td>\n",
       "      <td>27</td>\n",
       "    </tr>\n",
       "    <tr>\n",
       "      <th>80</th>\n",
       "      <td>any_modelo_77</td>\n",
       "      <td>0.027383</td>\n",
       "      <td>28</td>\n",
       "    </tr>\n",
       "    <tr>\n",
       "      <th>27</th>\n",
       "      <td>datsun</td>\n",
       "      <td>0.026589</td>\n",
       "      <td>29</td>\n",
       "    </tr>\n",
       "    <tr>\n",
       "      <th>48</th>\n",
       "      <td>matador</td>\n",
       "      <td>0.025485</td>\n",
       "      <td>30</td>\n",
       "    </tr>\n",
       "    <tr>\n",
       "      <th>66</th>\n",
       "      <td>subaru</td>\n",
       "      <td>0.025348</td>\n",
       "      <td>31</td>\n",
       "    </tr>\n",
       "    <tr>\n",
       "      <th>36</th>\n",
       "      <td>gl</td>\n",
       "      <td>0.024071</td>\n",
       "      <td>32</td>\n",
       "    </tr>\n",
       "    <tr>\n",
       "      <th>19</th>\n",
       "      <td>concord</td>\n",
       "      <td>0.023995</td>\n",
       "      <td>33</td>\n",
       "    </tr>\n",
       "    <tr>\n",
       "      <th>45</th>\n",
       "      <td>landau</td>\n",
       "      <td>0.023518</td>\n",
       "      <td>34</td>\n",
       "    </tr>\n",
       "    <tr>\n",
       "      <th>21</th>\n",
       "      <td>corona</td>\n",
       "      <td>0.022309</td>\n",
       "      <td>35</td>\n",
       "    </tr>\n",
       "    <tr>\n",
       "      <th>84</th>\n",
       "      <td>any_modelo_81</td>\n",
       "      <td>0.022186</td>\n",
       "      <td>36</td>\n",
       "    </tr>\n",
       "    <tr>\n",
       "      <th>2</th>\n",
       "      <td>504</td>\n",
       "      <td>0.022115</td>\n",
       "      <td>37</td>\n",
       "    </tr>\n",
       "    <tr>\n",
       "      <th>72</th>\n",
       "      <td>volvo</td>\n",
       "      <td>0.020488</td>\n",
       "      <td>38</td>\n",
       "    </tr>\n",
       "    <tr>\n",
       "      <th>44</th>\n",
       "      <td>impala</td>\n",
       "      <td>0.019737</td>\n",
       "      <td>39</td>\n",
       "    </tr>\n",
       "  </tbody>\n",
       "</table>\n",
       "</div>"
      ],
      "text/plain": [
       "                  variable  importancia_mi  ranking_mi\n",
       "90  desplazamiento_yeo_mms        0.789678           0\n",
       "92            peso_yeo_mms        0.727355           1\n",
       "91        caballos_yeo_mms        0.691658           2\n",
       "89        cilindros_oe_mms        0.614135           3\n",
       "93     aceleracion_yeo_mms        0.177004           4\n",
       "86                origen_1        0.166317           5\n",
       "88                origen_3        0.136406           6\n",
       "76           any_modelo_73        0.090503           7\n",
       "83           any_modelo_80        0.085425           8\n",
       "73           any_modelo_70        0.080546           9\n",
       "18                    colt        0.049680          10\n",
       "82           any_modelo_79        0.047440          11\n",
       "85           any_modelo_82        0.047204          12\n",
       "62                  rabbit        0.046645          13\n",
       "13                chevette        0.044959          14\n",
       "55              oldsmobile        0.043278          15\n",
       "40                   grand        0.042058          16\n",
       "3                      amc        0.038921          17\n",
       "77           any_modelo_74        0.038667          18\n",
       "78           any_modelo_75        0.038309          19\n",
       "87                origen_2        0.037966          20\n",
       "47                  malibu        0.036575          21\n",
       "67                      sw        0.036508          22\n",
       "4                    aspen        0.036201          23\n",
       "50                   mazda        0.035347          24\n",
       "17                 classic        0.035222          25\n",
       "71              volkswagen        0.029086          26\n",
       "10                   carlo        0.028800          27\n",
       "80           any_modelo_77        0.027383          28\n",
       "27                  datsun        0.026589          29\n",
       "48                 matador        0.025485          30\n",
       "66                  subaru        0.025348          31\n",
       "36                      gl        0.024071          32\n",
       "19                 concord        0.023995          33\n",
       "45                  landau        0.023518          34\n",
       "21                  corona        0.022309          35\n",
       "84           any_modelo_81        0.022186          36\n",
       "2                      504        0.022115          37\n",
       "72                   volvo        0.020488          38\n",
       "44                  impala        0.019737          39"
      ]
     },
     "execution_count": 6,
     "metadata": {},
     "output_type": "execute_result"
    }
   ],
   "source": [
    "rank_mi = ranking_mi(mutual_selector, modo = 'tabla')\n",
    "rank_mi.head(40)"
   ]
  },
  {
   "cell_type": "markdown",
   "metadata": {},
   "source": [
    "#### Seleccionar las variables que pasan"
   ]
  },
  {
   "cell_type": "markdown",
   "metadata": {},
   "source": [
    "##### Definir la posición de la última variable que va a entrar"
   ]
  },
  {
   "cell_type": "code",
   "execution_count": 7,
   "metadata": {},
   "outputs": [],
   "source": [
    "posicion_variable_limite = 40"
   ]
  },
  {
   "cell_type": "markdown",
   "metadata": {},
   "source": [
    "##### Extraer los nombres de las que entran"
   ]
  },
  {
   "cell_type": "code",
   "execution_count": 8,
   "metadata": {},
   "outputs": [],
   "source": [
    "entran_mi = ranking_mi(mutual_selector).iloc[0:posicion_variable_limite].variable"
   ]
  },
  {
   "cell_type": "markdown",
   "metadata": {},
   "source": [
    "##### Crear el dataframe con la selección"
   ]
  },
  {
   "cell_type": "code",
   "execution_count": 9,
   "metadata": {},
   "outputs": [],
   "source": [
    "x_mi = x[entran_mi].copy()"
   ]
  },
  {
   "cell_type": "markdown",
   "metadata": {},
   "source": [
    "### Recursive Feature Elimination"
   ]
  },
  {
   "cell_type": "markdown",
   "metadata": {},
   "source": [
    "#### Instanciar"
   ]
  },
  {
   "cell_type": "code",
   "execution_count": 10,
   "metadata": {},
   "outputs": [],
   "source": [
    "rfe = RFE(estimator = XGBRegressor(use_label_encoder=False, n_jobs = -1, eval_metric='mae'))"
   ]
  },
  {
   "cell_type": "markdown",
   "metadata": {},
   "source": [
    "#### Entrenar"
   ]
  },
  {
   "cell_type": "code",
   "execution_count": 11,
   "metadata": {},
   "outputs": [
    {
     "name": "stderr",
     "output_type": "stream",
     "text": [
      "c:\\Users\\ialca\\anaconda3\\envs\\proyecto1\\Lib\\site-packages\\sklearn\\utils\\validation.py:768: UserWarning: pandas.DataFrame with sparse columns found.It will be converted to a dense numpy array.\n",
      "  warnings.warn(\n"
     ]
    },
    {
     "data": {
      "text/html": [
       "<style>#sk-container-id-1 {color: black;background-color: white;}#sk-container-id-1 pre{padding: 0;}#sk-container-id-1 div.sk-toggleable {background-color: white;}#sk-container-id-1 label.sk-toggleable__label {cursor: pointer;display: block;width: 100%;margin-bottom: 0;padding: 0.3em;box-sizing: border-box;text-align: center;}#sk-container-id-1 label.sk-toggleable__label-arrow:before {content: \"▸\";float: left;margin-right: 0.25em;color: #696969;}#sk-container-id-1 label.sk-toggleable__label-arrow:hover:before {color: black;}#sk-container-id-1 div.sk-estimator:hover label.sk-toggleable__label-arrow:before {color: black;}#sk-container-id-1 div.sk-toggleable__content {max-height: 0;max-width: 0;overflow: hidden;text-align: left;background-color: #f0f8ff;}#sk-container-id-1 div.sk-toggleable__content pre {margin: 0.2em;color: black;border-radius: 0.25em;background-color: #f0f8ff;}#sk-container-id-1 input.sk-toggleable__control:checked~div.sk-toggleable__content {max-height: 200px;max-width: 100%;overflow: auto;}#sk-container-id-1 input.sk-toggleable__control:checked~label.sk-toggleable__label-arrow:before {content: \"▾\";}#sk-container-id-1 div.sk-estimator input.sk-toggleable__control:checked~label.sk-toggleable__label {background-color: #d4ebff;}#sk-container-id-1 div.sk-label input.sk-toggleable__control:checked~label.sk-toggleable__label {background-color: #d4ebff;}#sk-container-id-1 input.sk-hidden--visually {border: 0;clip: rect(1px 1px 1px 1px);clip: rect(1px, 1px, 1px, 1px);height: 1px;margin: -1px;overflow: hidden;padding: 0;position: absolute;width: 1px;}#sk-container-id-1 div.sk-estimator {font-family: monospace;background-color: #f0f8ff;border: 1px dotted black;border-radius: 0.25em;box-sizing: border-box;margin-bottom: 0.5em;}#sk-container-id-1 div.sk-estimator:hover {background-color: #d4ebff;}#sk-container-id-1 div.sk-parallel-item::after {content: \"\";width: 100%;border-bottom: 1px solid gray;flex-grow: 1;}#sk-container-id-1 div.sk-label:hover label.sk-toggleable__label {background-color: #d4ebff;}#sk-container-id-1 div.sk-serial::before {content: \"\";position: absolute;border-left: 1px solid gray;box-sizing: border-box;top: 0;bottom: 0;left: 50%;z-index: 0;}#sk-container-id-1 div.sk-serial {display: flex;flex-direction: column;align-items: center;background-color: white;padding-right: 0.2em;padding-left: 0.2em;position: relative;}#sk-container-id-1 div.sk-item {position: relative;z-index: 1;}#sk-container-id-1 div.sk-parallel {display: flex;align-items: stretch;justify-content: center;background-color: white;position: relative;}#sk-container-id-1 div.sk-item::before, #sk-container-id-1 div.sk-parallel-item::before {content: \"\";position: absolute;border-left: 1px solid gray;box-sizing: border-box;top: 0;bottom: 0;left: 50%;z-index: -1;}#sk-container-id-1 div.sk-parallel-item {display: flex;flex-direction: column;z-index: 1;position: relative;background-color: white;}#sk-container-id-1 div.sk-parallel-item:first-child::after {align-self: flex-end;width: 50%;}#sk-container-id-1 div.sk-parallel-item:last-child::after {align-self: flex-start;width: 50%;}#sk-container-id-1 div.sk-parallel-item:only-child::after {width: 0;}#sk-container-id-1 div.sk-dashed-wrapped {border: 1px dashed gray;margin: 0 0.4em 0.5em 0.4em;box-sizing: border-box;padding-bottom: 0.4em;background-color: white;}#sk-container-id-1 div.sk-label label {font-family: monospace;font-weight: bold;display: inline-block;line-height: 1.2em;}#sk-container-id-1 div.sk-label-container {text-align: center;}#sk-container-id-1 div.sk-container {/* jupyter's `normalize.less` sets `[hidden] { display: none; }` but bootstrap.min.css set `[hidden] { display: none !important; }` so we also need the `!important` here to be able to override the default hidden behavior on the sphinx rendered scikit-learn.org. See: https://github.com/scikit-learn/scikit-learn/issues/21755 */display: inline-block !important;position: relative;}#sk-container-id-1 div.sk-text-repr-fallback {display: none;}</style><div id=\"sk-container-id-1\" class=\"sk-top-container\"><div class=\"sk-text-repr-fallback\"><pre>RFE(estimator=XGBRegressor(base_score=None, booster=None, callbacks=None,\n",
       "                           colsample_bylevel=None, colsample_bynode=None,\n",
       "                           colsample_bytree=None, early_stopping_rounds=None,\n",
       "                           enable_categorical=False, eval_metric=&#x27;mae&#x27;,\n",
       "                           feature_types=None, gamma=None, gpu_id=None,\n",
       "                           grow_policy=None, importance_type=None,\n",
       "                           interaction_constraints=None, learning_rate=None,\n",
       "                           max_bin=None, max_cat_threshold=None,\n",
       "                           max_cat_to_onehot=None, max_delta_step=None,\n",
       "                           max_depth=None, max_leaves=None,\n",
       "                           min_child_weight=None, missing=nan,\n",
       "                           monotone_constraints=None, n_estimators=100,\n",
       "                           n_jobs=-1, num_parallel_tree=None, predictor=None,\n",
       "                           random_state=None, ...))</pre><b>In a Jupyter environment, please rerun this cell to show the HTML representation or trust the notebook. <br />On GitHub, the HTML representation is unable to render, please try loading this page with nbviewer.org.</b></div><div class=\"sk-container\" hidden><div class=\"sk-item sk-dashed-wrapped\"><div class=\"sk-label-container\"><div class=\"sk-label sk-toggleable\"><input class=\"sk-toggleable__control sk-hidden--visually\" id=\"sk-estimator-id-1\" type=\"checkbox\" ><label for=\"sk-estimator-id-1\" class=\"sk-toggleable__label sk-toggleable__label-arrow\">RFE</label><div class=\"sk-toggleable__content\"><pre>RFE(estimator=XGBRegressor(base_score=None, booster=None, callbacks=None,\n",
       "                           colsample_bylevel=None, colsample_bynode=None,\n",
       "                           colsample_bytree=None, early_stopping_rounds=None,\n",
       "                           enable_categorical=False, eval_metric=&#x27;mae&#x27;,\n",
       "                           feature_types=None, gamma=None, gpu_id=None,\n",
       "                           grow_policy=None, importance_type=None,\n",
       "                           interaction_constraints=None, learning_rate=None,\n",
       "                           max_bin=None, max_cat_threshold=None,\n",
       "                           max_cat_to_onehot=None, max_delta_step=None,\n",
       "                           max_depth=None, max_leaves=None,\n",
       "                           min_child_weight=None, missing=nan,\n",
       "                           monotone_constraints=None, n_estimators=100,\n",
       "                           n_jobs=-1, num_parallel_tree=None, predictor=None,\n",
       "                           random_state=None, ...))</pre></div></div></div><div class=\"sk-parallel\"><div class=\"sk-parallel-item\"><div class=\"sk-item\"><div class=\"sk-label-container\"><div class=\"sk-label sk-toggleable\"><input class=\"sk-toggleable__control sk-hidden--visually\" id=\"sk-estimator-id-2\" type=\"checkbox\" ><label for=\"sk-estimator-id-2\" class=\"sk-toggleable__label sk-toggleable__label-arrow\">estimator: XGBRegressor</label><div class=\"sk-toggleable__content\"><pre>XGBRegressor(base_score=None, booster=None, callbacks=None,\n",
       "             colsample_bylevel=None, colsample_bynode=None,\n",
       "             colsample_bytree=None, early_stopping_rounds=None,\n",
       "             enable_categorical=False, eval_metric=&#x27;mae&#x27;, feature_types=None,\n",
       "             gamma=None, gpu_id=None, grow_policy=None, importance_type=None,\n",
       "             interaction_constraints=None, learning_rate=None, max_bin=None,\n",
       "             max_cat_threshold=None, max_cat_to_onehot=None,\n",
       "             max_delta_step=None, max_depth=None, max_leaves=None,\n",
       "             min_child_weight=None, missing=nan, monotone_constraints=None,\n",
       "             n_estimators=100, n_jobs=-1, num_parallel_tree=None,\n",
       "             predictor=None, random_state=None, ...)</pre></div></div></div><div class=\"sk-serial\"><div class=\"sk-item\"><div class=\"sk-estimator sk-toggleable\"><input class=\"sk-toggleable__control sk-hidden--visually\" id=\"sk-estimator-id-3\" type=\"checkbox\" ><label for=\"sk-estimator-id-3\" class=\"sk-toggleable__label sk-toggleable__label-arrow\">XGBRegressor</label><div class=\"sk-toggleable__content\"><pre>XGBRegressor(base_score=None, booster=None, callbacks=None,\n",
       "             colsample_bylevel=None, colsample_bynode=None,\n",
       "             colsample_bytree=None, early_stopping_rounds=None,\n",
       "             enable_categorical=False, eval_metric=&#x27;mae&#x27;, feature_types=None,\n",
       "             gamma=None, gpu_id=None, grow_policy=None, importance_type=None,\n",
       "             interaction_constraints=None, learning_rate=None, max_bin=None,\n",
       "             max_cat_threshold=None, max_cat_to_onehot=None,\n",
       "             max_delta_step=None, max_depth=None, max_leaves=None,\n",
       "             min_child_weight=None, missing=nan, monotone_constraints=None,\n",
       "             n_estimators=100, n_jobs=-1, num_parallel_tree=None,\n",
       "             predictor=None, random_state=None, ...)</pre></div></div></div></div></div></div></div></div></div></div>"
      ],
      "text/plain": [
       "RFE(estimator=XGBRegressor(base_score=None, booster=None, callbacks=None,\n",
       "                           colsample_bylevel=None, colsample_bynode=None,\n",
       "                           colsample_bytree=None, early_stopping_rounds=None,\n",
       "                           enable_categorical=False, eval_metric='mae',\n",
       "                           feature_types=None, gamma=None, gpu_id=None,\n",
       "                           grow_policy=None, importance_type=None,\n",
       "                           interaction_constraints=None, learning_rate=None,\n",
       "                           max_bin=None, max_cat_threshold=None,\n",
       "                           max_cat_to_onehot=None, max_delta_step=None,\n",
       "                           max_depth=None, max_leaves=None,\n",
       "                           min_child_weight=None, missing=nan,\n",
       "                           monotone_constraints=None, n_estimators=100,\n",
       "                           n_jobs=-1, num_parallel_tree=None, predictor=None,\n",
       "                           random_state=None, ...))"
      ]
     },
     "execution_count": 11,
     "metadata": {},
     "output_type": "execute_result"
    }
   ],
   "source": [
    "rfe.fit(x,y)"
   ]
  },
  {
   "cell_type": "markdown",
   "metadata": {},
   "source": [
    "##### Extraer los nombres de las que entran"
   ]
  },
  {
   "cell_type": "code",
   "execution_count": 12,
   "metadata": {},
   "outputs": [],
   "source": [
    "entran_rfe = x.columns[rfe.support_]"
   ]
  },
  {
   "cell_type": "code",
   "execution_count": 13,
   "metadata": {},
   "outputs": [
    {
     "data": {
      "text/plain": [
       "47"
      ]
     },
     "execution_count": 13,
     "metadata": {},
     "output_type": "execute_result"
    }
   ],
   "source": [
    "len(entran_rfe)"
   ]
  },
  {
   "cell_type": "markdown",
   "metadata": {},
   "source": [
    "#### Crear el dataframe con la selección"
   ]
  },
  {
   "cell_type": "code",
   "execution_count": 14,
   "metadata": {},
   "outputs": [],
   "source": [
    "x_rfe = x[entran_rfe].copy()"
   ]
  },
  {
   "cell_type": "code",
   "execution_count": 15,
   "metadata": {},
   "outputs": [
    {
     "data": {
      "text/plain": [
       "Index(['aspen', 'audi', 'chevette', 'corolla', 'coupe', 'cutlass', 'dasher',\n",
       "       'datsun', 'diesel', 'dl', 'fiat', 'ford', 'glc', 'grand', 'honda', 'ii',\n",
       "       'mazda', 'mercury', 'mustang', 'nova', 'peugeot', 'phoenix', 'pinto',\n",
       "       'pontiac', 'subaru', 'sw', 'volkswagen', 'volvo', 'any_modelo_70',\n",
       "       'any_modelo_72', 'any_modelo_73', 'any_modelo_74', 'any_modelo_75',\n",
       "       'any_modelo_76', 'any_modelo_77', 'any_modelo_78', 'any_modelo_79',\n",
       "       'any_modelo_80', 'any_modelo_81', 'any_modelo_82', 'origen_1',\n",
       "       'origen_2', 'cilindros_oe_mms', 'desplazamiento_yeo_mms',\n",
       "       'caballos_yeo_mms', 'peso_yeo_mms', 'aceleracion_yeo_mms'],\n",
       "      dtype='object')"
      ]
     },
     "execution_count": 15,
     "metadata": {},
     "output_type": "execute_result"
    }
   ],
   "source": [
    "x_rfe.columns"
   ]
  },
  {
   "cell_type": "markdown",
   "metadata": {},
   "source": [
    "### Permutation Importance"
   ]
  },
  {
   "cell_type": "markdown",
   "metadata": {},
   "source": [
    "#### Crear una función para mostrar el resultado"
   ]
  },
  {
   "cell_type": "code",
   "execution_count": 16,
   "metadata": {},
   "outputs": [],
   "source": [
    "def ranking_per(predictoras,permutacion):\n",
    "    ranking_per = pd.DataFrame({'variable': predictoras.columns, 'importancia_per': permutacion.importances_mean}).sort_values(by = 'importancia_per', ascending = False)\n",
    "    ranking_per['ranking_per'] = np.arange(0,ranking_per.shape[0])\n",
    "    return(ranking_per)"
   ]
  },
  {
   "cell_type": "markdown",
   "metadata": {},
   "source": [
    "#### Instanciar y entrenar"
   ]
  },
  {
   "cell_type": "code",
   "execution_count": 17,
   "metadata": {},
   "outputs": [],
   "source": [
    "import warnings\n",
    "warnings.filterwarnings(action=\"ignore\", message=r'.*Use subset.*of np.ndarray is not recommended')\n",
    "\n",
    "xgb = XGBRegressor(use_label_encoder=False, n_jobs = -1, eval_metric='mae')\n",
    "\n",
    "xgb.fit(x,y)\n",
    "\n",
    "permutacion = permutation_importance(xgb, \n",
    "                                     x, y, \n",
    "                                     scoring = 'neg_mean_absolute_percentage_error',\n",
    "                                     n_repeats=5, n_jobs = -1)"
   ]
  },
  {
   "cell_type": "markdown",
   "metadata": {},
   "source": [
    "#### Revisar la salida"
   ]
  },
  {
   "cell_type": "code",
   "execution_count": 18,
   "metadata": {},
   "outputs": [
    {
     "data": {
      "image/png": "[encoded data removed]",
      "text/plain": [
       "<Figure size 1200x2000 with 1 Axes>"
      ]
     },
     "metadata": {},
     "output_type": "display_data"
    }
   ],
   "source": [
    "rank_per = ranking_per(x,permutacion)\n",
    "\n",
    "rank_per.set_index('variable').importancia_per.sort_values().plot.barh(figsize = (12,20));"
   ]
  },
  {
   "cell_type": "code",
   "execution_count": 19,
   "metadata": {},
   "outputs": [
    {
     "data": {
      "text/html": [
       "<div>\n",
       "<style scoped>\n",
       "    .dataframe tbody tr th:only-of-type {\n",
       "        vertical-align: middle;\n",
       "    }\n",
       "\n",
       "    .dataframe tbody tr th {\n",
       "        vertical-align: top;\n",
       "    }\n",
       "\n",
       "    .dataframe thead th {\n",
       "        text-align: right;\n",
       "    }\n",
       "</style>\n",
       "<table border=\"1\" class=\"dataframe\">\n",
       "  <thead>\n",
       "    <tr style=\"text-align: right;\">\n",
       "      <th></th>\n",
       "      <th>variable</th>\n",
       "      <th>importancia_per</th>\n",
       "      <th>ranking_per</th>\n",
       "    </tr>\n",
       "  </thead>\n",
       "  <tbody>\n",
       "    <tr>\n",
       "      <th>92</th>\n",
       "      <td>peso_yeo_mms</td>\n",
       "      <td>0.177164</td>\n",
       "      <td>0</td>\n",
       "    </tr>\n",
       "    <tr>\n",
       "      <th>91</th>\n",
       "      <td>caballos_yeo_mms</td>\n",
       "      <td>0.102798</td>\n",
       "      <td>1</td>\n",
       "    </tr>\n",
       "    <tr>\n",
       "      <th>90</th>\n",
       "      <td>desplazamiento_yeo_mms</td>\n",
       "      <td>0.074877</td>\n",
       "      <td>2</td>\n",
       "    </tr>\n",
       "    <tr>\n",
       "      <th>93</th>\n",
       "      <td>aceleracion_yeo_mms</td>\n",
       "      <td>0.033797</td>\n",
       "      <td>3</td>\n",
       "    </tr>\n",
       "    <tr>\n",
       "      <th>83</th>\n",
       "      <td>any_modelo_80</td>\n",
       "      <td>0.024425</td>\n",
       "      <td>4</td>\n",
       "    </tr>\n",
       "    <tr>\n",
       "      <th>76</th>\n",
       "      <td>any_modelo_73</td>\n",
       "      <td>0.018009</td>\n",
       "      <td>5</td>\n",
       "    </tr>\n",
       "    <tr>\n",
       "      <th>75</th>\n",
       "      <td>any_modelo_72</td>\n",
       "      <td>0.012622</td>\n",
       "      <td>6</td>\n",
       "    </tr>\n",
       "    <tr>\n",
       "      <th>82</th>\n",
       "      <td>any_modelo_79</td>\n",
       "      <td>0.011930</td>\n",
       "      <td>7</td>\n",
       "    </tr>\n",
       "    <tr>\n",
       "      <th>85</th>\n",
       "      <td>any_modelo_82</td>\n",
       "      <td>0.011699</td>\n",
       "      <td>8</td>\n",
       "    </tr>\n",
       "    <tr>\n",
       "      <th>79</th>\n",
       "      <td>any_modelo_76</td>\n",
       "      <td>0.008745</td>\n",
       "      <td>9</td>\n",
       "    </tr>\n",
       "    <tr>\n",
       "      <th>84</th>\n",
       "      <td>any_modelo_81</td>\n",
       "      <td>0.008324</td>\n",
       "      <td>10</td>\n",
       "    </tr>\n",
       "    <tr>\n",
       "      <th>73</th>\n",
       "      <td>any_modelo_70</td>\n",
       "      <td>0.008002</td>\n",
       "      <td>11</td>\n",
       "    </tr>\n",
       "    <tr>\n",
       "      <th>77</th>\n",
       "      <td>any_modelo_74</td>\n",
       "      <td>0.007348</td>\n",
       "      <td>12</td>\n",
       "    </tr>\n",
       "    <tr>\n",
       "      <th>86</th>\n",
       "      <td>origen_1</td>\n",
       "      <td>0.005656</td>\n",
       "      <td>13</td>\n",
       "    </tr>\n",
       "    <tr>\n",
       "      <th>89</th>\n",
       "      <td>cilindros_oe_mms</td>\n",
       "      <td>0.005262</td>\n",
       "      <td>14</td>\n",
       "    </tr>\n",
       "    <tr>\n",
       "      <th>78</th>\n",
       "      <td>any_modelo_75</td>\n",
       "      <td>0.004457</td>\n",
       "      <td>15</td>\n",
       "    </tr>\n",
       "    <tr>\n",
       "      <th>25</th>\n",
       "      <td>cutlass</td>\n",
       "      <td>0.004121</td>\n",
       "      <td>16</td>\n",
       "    </tr>\n",
       "    <tr>\n",
       "      <th>74</th>\n",
       "      <td>any_modelo_71</td>\n",
       "      <td>0.003734</td>\n",
       "      <td>17</td>\n",
       "    </tr>\n",
       "    <tr>\n",
       "      <th>51</th>\n",
       "      <td>mercury</td>\n",
       "      <td>0.003104</td>\n",
       "      <td>18</td>\n",
       "    </tr>\n",
       "    <tr>\n",
       "      <th>33</th>\n",
       "      <td>ford</td>\n",
       "      <td>0.003078</td>\n",
       "      <td>19</td>\n",
       "    </tr>\n",
       "    <tr>\n",
       "      <th>27</th>\n",
       "      <td>datsun</td>\n",
       "      <td>0.002239</td>\n",
       "      <td>20</td>\n",
       "    </tr>\n",
       "    <tr>\n",
       "      <th>81</th>\n",
       "      <td>any_modelo_78</td>\n",
       "      <td>0.002236</td>\n",
       "      <td>21</td>\n",
       "    </tr>\n",
       "    <tr>\n",
       "      <th>67</th>\n",
       "      <td>sw</td>\n",
       "      <td>0.002219</td>\n",
       "      <td>22</td>\n",
       "    </tr>\n",
       "    <tr>\n",
       "      <th>28</th>\n",
       "      <td>diesel</td>\n",
       "      <td>0.002082</td>\n",
       "      <td>23</td>\n",
       "    </tr>\n",
       "    <tr>\n",
       "      <th>8</th>\n",
       "      <td>buick</td>\n",
       "      <td>0.001945</td>\n",
       "      <td>24</td>\n",
       "    </tr>\n",
       "  </tbody>\n",
       "</table>\n",
       "</div>"
      ],
      "text/plain": [
       "                  variable  importancia_per  ranking_per\n",
       "92            peso_yeo_mms         0.177164            0\n",
       "91        caballos_yeo_mms         0.102798            1\n",
       "90  desplazamiento_yeo_mms         0.074877            2\n",
       "93     aceleracion_yeo_mms         0.033797            3\n",
       "83           any_modelo_80         0.024425            4\n",
       "76           any_modelo_73         0.018009            5\n",
       "75           any_modelo_72         0.012622            6\n",
       "82           any_modelo_79         0.011930            7\n",
       "85           any_modelo_82         0.011699            8\n",
       "79           any_modelo_76         0.008745            9\n",
       "84           any_modelo_81         0.008324           10\n",
       "73           any_modelo_70         0.008002           11\n",
       "77           any_modelo_74         0.007348           12\n",
       "86                origen_1         0.005656           13\n",
       "89        cilindros_oe_mms         0.005262           14\n",
       "78           any_modelo_75         0.004457           15\n",
       "25                 cutlass         0.004121           16\n",
       "74           any_modelo_71         0.003734           17\n",
       "51                 mercury         0.003104           18\n",
       "33                    ford         0.003078           19\n",
       "27                  datsun         0.002239           20\n",
       "81           any_modelo_78         0.002236           21\n",
       "67                      sw         0.002219           22\n",
       "28                  diesel         0.002082           23\n",
       "8                    buick         0.001945           24"
      ]
     },
     "execution_count": 19,
     "metadata": {},
     "output_type": "execute_result"
    }
   ],
   "source": [
    "rank_per.head(25)"
   ]
  },
  {
   "cell_type": "markdown",
   "metadata": {},
   "source": [
    "#### Seleccionar las variables que pasan"
   ]
  },
  {
   "cell_type": "markdown",
   "metadata": {},
   "source": [
    "##### Definir la posición de la última variable que va a entrar"
   ]
  },
  {
   "cell_type": "code",
   "execution_count": 20,
   "metadata": {},
   "outputs": [],
   "source": [
    "posicion_variable_limite = 25"
   ]
  },
  {
   "cell_type": "markdown",
   "metadata": {},
   "source": [
    "##### Extraer los nombres de las que entran"
   ]
  },
  {
   "cell_type": "code",
   "execution_count": 21,
   "metadata": {},
   "outputs": [],
   "source": [
    "entran_per = rank_per.iloc[0:posicion_variable_limite].variable"
   ]
  },
  {
   "cell_type": "markdown",
   "metadata": {},
   "source": [
    "##### Crear el dataframe con la selección"
   ]
  },
  {
   "cell_type": "code",
   "execution_count": 22,
   "metadata": {},
   "outputs": [],
   "source": [
    "x_per = x[entran_per].copy()"
   ]
  },
  {
   "cell_type": "markdown",
   "metadata": {},
   "source": [
    "## SELECCIONAR EL MÉTODO FINAL"
   ]
  },
  {
   "cell_type": "markdown",
   "metadata": {},
   "source": [
    "Descomentar el método de preselección elegido y dejar comentados el resto."
   ]
  },
  {
   "cell_type": "code",
   "execution_count": 23,
   "metadata": {},
   "outputs": [],
   "source": [
    "x_preseleccionado = x_mi\n",
    "# x_preseleccionado = x_rfe\n",
    "# x_preseleccionado = x_per"
   ]
  },
  {
   "cell_type": "markdown",
   "metadata": {},
   "source": [
    "## MÉTODOS NO SUPERVISADOS"
   ]
  },
  {
   "cell_type": "markdown",
   "metadata": {},
   "source": [
    "## STATSMODELS"
   ]
  },
  {
   "cell_type": "code",
   "execution_count": 24,
   "metadata": {},
   "outputs": [
    {
     "name": "stdout",
     "output_type": "stream",
     "text": [
      "                            OLS Regression Results                            \n",
      "==============================================================================\n",
      "Dep. Variable:                    mpg   R-squared:                       0.930\n",
      "Model:                            OLS   Adj. R-squared:                  0.895\n",
      "Method:                 Least Squares   F-statistic:                     27.18\n",
      "Date:                Thu, 07 Dec 2023   Prob (F-statistic):           2.17e-73\n",
      "Time:                        16:52:10   Log-Likelihood:                -595.73\n",
      "No. Observations:                 279   AIC:                             1375.\n",
      "Df Residuals:                     187   BIC:                             1710.\n",
      "Df Model:                          91                                         \n",
      "Covariance Type:            nonrobust                                         \n",
      "==========================================================================================\n",
      "                             coef    std err          t      P>|t|      [0.025      0.975]\n",
      "------------------------------------------------------------------------------------------\n",
      "const                     28.2145      1.500     18.813      0.000      25.256      31.173\n",
      "1200                       1.4604      1.854      0.788      0.432      -2.198       5.119\n",
      "500                       -1.0881      4.472     -0.243      0.808      -9.910       7.734\n",
      "504                        4.7318      2.501      1.892      0.060      -0.203       9.666\n",
      "amc                        0.1812      1.891      0.096      0.924      -3.549       3.911\n",
      "aspen                     -0.4595      1.676     -0.274      0.784      -3.765       2.846\n",
      "audi                      -0.1701      1.662     -0.102      0.919      -3.449       3.109\n",
      "benz                       2.0460      2.016      1.015      0.312      -1.932       6.024\n",
      "brougham                  -0.3944      1.388     -0.284      0.777      -3.132       2.344\n",
      "buick                      0.4642      1.972      0.235      0.814      -3.427       4.355\n",
      "caprice                   -0.2520      2.876     -0.088      0.930      -5.926       5.421\n",
      "carlo                      0.8103      0.920      0.881      0.380      -1.005       2.625\n",
      "century                   -0.0838      1.793     -0.047      0.963      -3.621       3.453\n",
      "chevelle                   1.3578      2.434      0.558      0.578      -3.444       6.159\n",
      "chevette                  -1.4999      1.639     -0.915      0.361      -4.734       1.734\n",
      "chevrolet                 -0.3725      1.666     -0.224      0.823      -3.659       2.914\n",
      "chrysler                   2.5769      2.546      1.012      0.313      -2.446       7.600\n",
      "civic                     -0.4535      2.304     -0.197      0.844      -4.998       4.091\n",
      "classic                   -0.2086      2.431     -0.086      0.932      -5.004       4.586\n",
      "colt                       1.7257      1.560      1.106      0.270      -1.353       4.804\n",
      "concord                   -1.8321      1.697     -1.080      0.282      -5.179       1.515\n",
      "corolla                    2.0955      1.619      1.295      0.197      -1.098       5.289\n",
      "corona                     3.4594      1.771      1.953      0.052      -0.035       6.954\n",
      "country                    0.6789      1.703      0.399      0.691      -2.680       4.038\n",
      "coupe                      0.9198      1.449      0.635      0.526      -1.939       3.779\n",
      "custom                     0.2539      0.850      0.299      0.765      -1.422       1.930\n",
      "cutlass                    4.2990      2.298      1.871      0.063      -0.234       8.832\n",
      "dasher                    -3.1867      1.762     -1.808      0.072      -6.663       0.290\n",
      "datsun                     9.4361      2.102      4.489      0.000       5.289      13.583\n",
      "diesel                     7.6474      1.952      3.917      0.000       3.796      11.499\n",
      "dl                        -1.9506      1.655     -1.179      0.240      -5.215       1.314\n",
      "dodge                     -0.9616      1.843     -0.522      0.603      -4.598       2.675\n",
      "fairmont                  -1.7241      1.756     -0.982      0.327      -5.188       1.740\n",
      "fiat                       2.0751      1.532      1.354      0.177      -0.947       5.097\n",
      "ford                      -0.5593      1.770     -0.316      0.752      -4.051       2.933\n",
      "fury                       1.4373      1.795      0.801      0.424      -2.104       4.979\n",
      "galaxie                    3.0601      4.784      0.640      0.523      -6.377      12.497\n",
      "gl                         2.8528      1.770      1.612      0.109      -0.639       6.345\n",
      "glc                        6.8858      1.972      3.492      0.001       2.996      10.776\n",
      "gran                       0.2156      3.047      0.071      0.944      -5.796       6.227\n",
      "granada                   -2.1378      1.870     -1.143      0.255      -5.828       1.552\n",
      "grand                      0.7806      1.515      0.515      0.607      -2.207       3.769\n",
      "honda                      7.2558      2.738      2.650      0.009       1.855      12.657\n",
      "hornet                     0.0493      1.649      0.030      0.976      -3.205       3.303\n",
      "ii                         2.2851      1.599      1.429      0.155      -0.870       5.440\n",
      "impala                     1.0560      1.627      0.649      0.517      -2.153       4.265\n",
      "landau                    -1.8298      1.893     -0.967      0.335      -5.564       1.904\n",
      "lebaron                   -6.3956      2.570     -2.488      0.014     -11.466      -1.325\n",
      "malibu                    -0.4355      1.858     -0.234      0.815      -4.100       3.229\n",
      "matador                   -0.4864      1.660     -0.293      0.770      -3.761       2.788\n",
      "maverick                   1.3436      1.637      0.821      0.413      -1.886       4.574\n",
      "mazda                      1.6672      2.067      0.807      0.421      -2.411       5.745\n",
      "mercury                   -3.1352      2.005     -1.564      0.120      -7.090       0.819\n",
      "monte                      0.8103      0.920      0.881      0.380      -1.005       2.625\n",
      "mustang                   -6.1762      1.912     -3.231      0.001      -9.948      -2.405\n",
      "nova                       0.5231      1.602      0.327      0.744      -2.636       3.683\n",
      "oldsmobile                 0.5627      2.207      0.255      0.799      -3.791       4.917\n",
      "opel                       1.5114      1.928      0.784      0.434      -2.293       5.316\n",
      "peugeot                   -2.4144      2.493     -0.968      0.334      -7.333       2.504\n",
      "phoenix                    0.8170      1.792      0.456      0.649      -2.719       4.353\n",
      "pinto                      0.1676      1.489      0.113      0.911      -2.770       3.106\n",
      "plymouth                   0.1044      1.721      0.061      0.952      -3.290       3.499\n",
      "pontiac                    0.8084      1.826      0.443      0.658      -2.793       4.410\n",
      "rabbit                    -2.3898      1.388     -1.722      0.087      -5.127       0.348\n",
      "saab                       2.3130      1.978      1.169      0.244      -1.589       6.215\n",
      "satellite                 -0.0577      1.776     -0.033      0.974      -3.561       3.445\n",
      "skylark                   -0.0820      1.965     -0.042      0.967      -3.959       3.795\n",
      "subaru                     8.0577      2.605      3.093      0.002       2.919      13.197\n",
      "sw                         0.1250      0.885      0.141      0.888      -1.620       1.870\n",
      "torino                     1.5299      3.723      0.411      0.682      -5.814       8.874\n",
      "toyota                     5.5538      2.021      2.748      0.007       1.566       9.541\n",
      "vega                       1.1277      1.758      0.641      0.522      -2.341       4.596\n",
      "volkswagen                 2.6125      1.377      1.898      0.059      -0.103       5.328\n",
      "volvo                     -0.4959      1.734     -0.286      0.775      -3.917       2.925\n",
      "any_modelo_70             -0.6694      0.690     -0.971      0.333      -2.030       0.691\n",
      "any_modelo_71             -0.0123      0.794     -0.016      0.988      -1.578       1.554\n",
      "any_modelo_72             -1.1975      0.716     -1.672      0.096      -2.610       0.215\n",
      "any_modelo_73             -1.2116      0.613     -1.976      0.050      -2.421      -0.002\n",
      "any_modelo_74             -0.3996      0.680     -0.588      0.557      -1.740       0.941\n",
      "any_modelo_75              0.8444      0.612      1.380      0.169      -0.362       2.051\n",
      "any_modelo_76              1.0338      0.556      1.859      0.065      -0.063       2.131\n",
      "any_modelo_77              2.5551      0.623      4.102      0.000       1.326       3.784\n",
      "any_modelo_78              2.2864      0.596      3.833      0.000       1.110       3.463\n",
      "any_modelo_79              4.9960      0.604      8.276      0.000       3.805       6.187\n",
      "any_modelo_80              8.1005      0.638     12.690      0.000       6.841       9.360\n",
      "any_modelo_81              4.9390      0.674      7.331      0.000       3.610       6.268\n",
      "any_modelo_82              6.9498      0.743      9.353      0.000       5.484       8.416\n",
      "origen_1                  12.4597      1.498      8.319      0.000       9.505      15.414\n",
      "origen_2                  10.9291      1.127      9.698      0.000       8.706      13.152\n",
      "origen_3                   4.8257      1.560      3.094      0.002       1.749       7.903\n",
      "cilindros_oe_mms           0.7382      1.977      0.373      0.709      -3.162       4.639\n",
      "desplazamiento_yeo_mms    -7.3788      4.348     -1.697      0.091     -15.955       1.198\n",
      "caballos_yeo_mms         -12.1880      3.252     -3.748      0.000     -18.604      -5.772\n",
      "peso_yeo_mms              -9.6799      4.092     -2.366      0.019     -17.752      -1.608\n",
      "aceleracion_yeo_mms       -7.4098      2.051     -3.613      0.000     -11.456      -3.364\n",
      "==============================================================================\n",
      "Omnibus:                       33.013   Durbin-Watson:                   2.017\n",
      "Prob(Omnibus):                  0.000   Jarque-Bera (JB):               94.404\n",
      "Skew:                           0.496   Prob(JB):                     3.17e-21\n",
      "Kurtosis:                       5.672   Cond. No.                     1.25e+16\n",
      "==============================================================================\n",
      "\n",
      "Notes:\n",
      "[1] Standard Errors assume that the covariance matrix of the errors is correctly specified.\n",
      "[2] The smallest eigenvalue is 5.78e-30. This might indicate that there are\n",
      "strong multicollinearity problems or that the design matrix is singular.\n",
      "\n",
      "Variables Significativas:\n",
      "                       Odds Ratio  Confidence Interval       p-value\n",
      "const                1.792236e+12         9.301090e+10  5.292980e-45\n",
      "datsun               1.253278e+04         1.982015e+02  1.249212e-05\n",
      "diesel               2.095256e+03         4.453747e+01  1.253979e-04\n",
      "glc                  9.782843e+02         2.000348e+01  5.980208e-04\n",
      "honda                1.416339e+03         6.391599e+00  8.731339e-03\n",
      "lebaron              1.668861e-03         1.047707e-05  1.371443e-02\n",
      "mustang              2.078250e-03         4.784521e-05  1.459029e-03\n",
      "subaru               3.157875e+03         1.851725e+01  2.283931e-03\n",
      "toyota               2.582157e+02         4.788879e+00  6.590454e-03\n",
      "any_modelo_73        2.977115e-01         8.882774e-02  4.958812e-02\n",
      "any_modelo_77        1.287231e+01         3.766963e+00  6.108718e-05\n",
      "any_modelo_78        9.839432e+00         3.033386e+00  1.727653e-04\n",
      "any_modelo_79        1.478273e+02         4.493174e+01  2.358900e-14\n",
      "any_modelo_80        3.296084e+03         9.356102e+02  5.084347e-27\n",
      "any_modelo_81        1.396262e+02         3.696540e+01  6.673468e-12\n",
      "any_modelo_82        1.042950e+03         2.407830e+02  2.671194e-17\n",
      "origen_1             2.577317e+05         1.342667e+04  1.811826e-14\n",
      "origen_2             5.577695e+04         6.038531e+03  2.850604e-18\n",
      "origen_3             1.246731e+02         5.747269e+00  2.278596e-03\n",
      "caballos_yeo_mms     5.091136e-06         8.327090e-09  2.377768e-04\n",
      "peso_yeo_mms         6.252544e-05         1.952557e-08  1.901368e-02\n",
      "aceleracion_yeo_mms  6.052976e-04         1.058730e-05  3.892119e-04\n"
     ]
    }
   ],
   "source": [
    "import statsmodels.api as sm\n",
    "\n",
    "# Agregar una constante al conjunto de datos para el término de sesgo (intercepto) del modelo\n",
    "X = sm.add_constant(x)\n",
    "\n",
    "# Ajustar el modelo de regresión logística utilizando statsmodels\n",
    "model = sm.OLS(y, X)\n",
    "result = model.fit()\n",
    "\n",
    "# Ver un resumen del modelo para obtener estadísticas y coeficientes\n",
    "print(result.summary())\n",
    "\n",
    "# Para ver la importancia de las variables, puedes examinar los valores de p (p-values) en el resumen del modelo.\n",
    "# Cuanto menor sea el valor de p, más significativa es la variable en la predicción del resultado.\n",
    "# Por ejemplo, si el valor de p es menor que un umbral (por ejemplo, 0.05), la variable se considera significativa.\n",
    "\n",
    "# También puedes calcular las odds ratios para evaluar el impacto relativo de las variables en las probabilidades\n",
    "# de la clase positiva (o el evento que estás prediciendo).\n",
    "\n",
    "# Calcular odds ratios y sus intervalos de confianza del 95%\n",
    "odds_ratios = np.exp(result.params)\n",
    "conf_intervals = np.exp(result.conf_int())\n",
    "\n",
    "# Crear un DataFrame para mostrar los resultados\n",
    "results_summary = pd.DataFrame({'Odds Ratio': odds_ratios, 'Confidence Interval': conf_intervals[0], 'p-value': result.pvalues})\n",
    "\n",
    "# Filtrar las variables significativas (por ejemplo, aquellas con p < 0.05)\n",
    "significant_results = results_summary[results_summary['p-value'] < 0.05]\n",
    "\n",
    "# Mostrar los resultados para las variables significativas\n",
    "print(\"\\nVariables Significativas:\")\n",
    "print(significant_results)"
   ]
  },
  {
   "cell_type": "markdown",
   "metadata": {},
   "source": [
    "### Correlación"
   ]
  },
  {
   "cell_type": "markdown",
   "metadata": {},
   "source": [
    "#### Crear una función para mostrar el resultado"
   ]
  },
  {
   "cell_type": "code",
   "execution_count": 25,
   "metadata": {},
   "outputs": [],
   "source": [
    "def correlaciones_fuertes(df, lim_inf = 0.3, lim_sup = 1,drop_dupli=True):\n",
    "    #Calcula la matriz de correlación\n",
    "    c = df.corr().abs()\n",
    "    #Lo pasa todo a filas\n",
    "    c= c.unstack()\n",
    "    #Pasa el índice a columnas y le pone nombres\n",
    "    c = pd.DataFrame(c).reset_index()\n",
    "    c.columns = ['var1','var2','corr']\n",
    "    #A dataframe, filtra limites y ordena en descendiente\n",
    "    c = c.loc[(c['corr'] > lim_inf) &  (c['corr'] < lim_sup),:].sort_values(by = 'corr', ascending=False)\n",
    "    #Desduplica las correlaciones (o no si drop_dupli es False)\n",
    "    c = c if drop_dupli == False else c.drop_duplicates(subset = ['corr'])\n",
    "    #Devuelve la salida\n",
    "    return(c)"
   ]
  },
  {
   "cell_type": "markdown",
   "metadata": {},
   "source": [
    "#### Calcular y revisar"
   ]
  },
  {
   "cell_type": "markdown",
   "metadata": {},
   "source": [
    "##### Calcular"
   ]
  },
  {
   "cell_type": "code",
   "execution_count": 26,
   "metadata": {},
   "outputs": [],
   "source": [
    "cor_finales = correlaciones_fuertes(x_preseleccionado)"
   ]
  },
  {
   "cell_type": "markdown",
   "metadata": {},
   "source": [
    "##### Revisar agregado"
   ]
  },
  {
   "cell_type": "code",
   "execution_count": 27,
   "metadata": {},
   "outputs": [
    {
     "data": {
      "text/plain": [
       "desplazamiento_yeo_mms    5\n",
       "peso_yeo_mms              4\n",
       "origen_3                  4\n",
       "aceleracion_yeo_mms       3\n",
       "volkswagen                3\n",
       "origen_2                  3\n",
       "caballos_yeo_mms          2\n",
       "origen_1                  2\n",
       "datsun                    2\n",
       "amc                       2\n",
       "cilindros_oe_mms          1\n",
       "landau                    1\n",
       "malibu                    1\n",
       "rabbit                    1\n",
       "Name: var1, dtype: int64"
      ]
     },
     "execution_count": 27,
     "metadata": {},
     "output_type": "execute_result"
    }
   ],
   "source": [
    "cor_finales.var1.value_counts()"
   ]
  },
  {
   "cell_type": "markdown",
   "metadata": {},
   "source": [
    "##### Revisar detalle"
   ]
  },
  {
   "cell_type": "code",
   "execution_count": 28,
   "metadata": {},
   "outputs": [
    {
     "data": {
      "text/html": [
       "<div>\n",
       "<style scoped>\n",
       "    .dataframe tbody tr th:only-of-type {\n",
       "        vertical-align: middle;\n",
       "    }\n",
       "\n",
       "    .dataframe tbody tr th {\n",
       "        vertical-align: top;\n",
       "    }\n",
       "\n",
       "    .dataframe thead th {\n",
       "        text-align: right;\n",
       "    }\n",
       "</style>\n",
       "<table border=\"1\" class=\"dataframe\">\n",
       "  <thead>\n",
       "    <tr style=\"text-align: right;\">\n",
       "      <th></th>\n",
       "      <th>var1</th>\n",
       "      <th>var2</th>\n",
       "      <th>corr</th>\n",
       "    </tr>\n",
       "  </thead>\n",
       "  <tbody>\n",
       "    <tr>\n",
       "      <th>1</th>\n",
       "      <td>desplazamiento_yeo_mms</td>\n",
       "      <td>peso_yeo_mms</td>\n",
       "      <td>0.948003</td>\n",
       "    </tr>\n",
       "    <tr>\n",
       "      <th>3</th>\n",
       "      <td>desplazamiento_yeo_mms</td>\n",
       "      <td>cilindros_oe_mms</td>\n",
       "      <td>0.938319</td>\n",
       "    </tr>\n",
       "    <tr>\n",
       "      <th>43</th>\n",
       "      <td>peso_yeo_mms</td>\n",
       "      <td>cilindros_oe_mms</td>\n",
       "      <td>0.874677</td>\n",
       "    </tr>\n",
       "    <tr>\n",
       "      <th>42</th>\n",
       "      <td>peso_yeo_mms</td>\n",
       "      <td>caballos_yeo_mms</td>\n",
       "      <td>0.869894</td>\n",
       "    </tr>\n",
       "    <tr>\n",
       "      <th>2</th>\n",
       "      <td>desplazamiento_yeo_mms</td>\n",
       "      <td>caballos_yeo_mms</td>\n",
       "      <td>0.860617</td>\n",
       "    </tr>\n",
       "    <tr>\n",
       "      <th>83</th>\n",
       "      <td>caballos_yeo_mms</td>\n",
       "      <td>cilindros_oe_mms</td>\n",
       "      <td>0.812373</td>\n",
       "    </tr>\n",
       "    <tr>\n",
       "      <th>5</th>\n",
       "      <td>desplazamiento_yeo_mms</td>\n",
       "      <td>origen_1</td>\n",
       "      <td>0.700208</td>\n",
       "    </tr>\n",
       "    <tr>\n",
       "      <th>162</th>\n",
       "      <td>aceleracion_yeo_mms</td>\n",
       "      <td>caballos_yeo_mms</td>\n",
       "      <td>0.669111</td>\n",
       "    </tr>\n",
       "    <tr>\n",
       "      <th>220</th>\n",
       "      <td>origen_1</td>\n",
       "      <td>origen_2</td>\n",
       "      <td>0.637926</td>\n",
       "    </tr>\n",
       "    <tr>\n",
       "      <th>125</th>\n",
       "      <td>cilindros_oe_mms</td>\n",
       "      <td>origen_1</td>\n",
       "      <td>0.609528</td>\n",
       "    </tr>\n",
       "    <tr>\n",
       "      <th>245</th>\n",
       "      <td>origen_3</td>\n",
       "      <td>origen_1</td>\n",
       "      <td>0.608024</td>\n",
       "    </tr>\n",
       "    <tr>\n",
       "      <th>45</th>\n",
       "      <td>peso_yeo_mms</td>\n",
       "      <td>origen_1</td>\n",
       "      <td>0.599189</td>\n",
       "    </tr>\n",
       "    <tr>\n",
       "      <th>1387</th>\n",
       "      <td>landau</td>\n",
       "      <td>carlo</td>\n",
       "      <td>0.572112</td>\n",
       "    </tr>\n",
       "    <tr>\n",
       "      <th>202</th>\n",
       "      <td>origen_1</td>\n",
       "      <td>caballos_yeo_mms</td>\n",
       "      <td>0.510431</td>\n",
       "    </tr>\n",
       "    <tr>\n",
       "      <th>1166</th>\n",
       "      <td>datsun</td>\n",
       "      <td>origen_3</td>\n",
       "      <td>0.497974</td>\n",
       "    </tr>\n",
       "    <tr>\n",
       "      <th>1060</th>\n",
       "      <td>volkswagen</td>\n",
       "      <td>origen_2</td>\n",
       "      <td>0.492221</td>\n",
       "    </tr>\n",
       "    <tr>\n",
       "      <th>865</th>\n",
       "      <td>malibu</td>\n",
       "      <td>classic</td>\n",
       "      <td>0.489011</td>\n",
       "    </tr>\n",
       "    <tr>\n",
       "      <th>240</th>\n",
       "      <td>origen_3</td>\n",
       "      <td>desplazamiento_yeo_mms</td>\n",
       "      <td>0.485178</td>\n",
       "    </tr>\n",
       "    <tr>\n",
       "      <th>46</th>\n",
       "      <td>peso_yeo_mms</td>\n",
       "      <td>origen_3</td>\n",
       "      <td>0.469859</td>\n",
       "    </tr>\n",
       "    <tr>\n",
       "      <th>546</th>\n",
       "      <td>rabbit</td>\n",
       "      <td>volkswagen</td>\n",
       "      <td>0.469795</td>\n",
       "    </tr>\n",
       "    <tr>\n",
       "      <th>4</th>\n",
       "      <td>desplazamiento_yeo_mms</td>\n",
       "      <td>aceleracion_yeo_mms</td>\n",
       "      <td>0.460974</td>\n",
       "    </tr>\n",
       "    <tr>\n",
       "      <th>163</th>\n",
       "      <td>aceleracion_yeo_mms</td>\n",
       "      <td>cilindros_oe_mms</td>\n",
       "      <td>0.457733</td>\n",
       "    </tr>\n",
       "    <tr>\n",
       "      <th>713</th>\n",
       "      <td>amc</td>\n",
       "      <td>concord</td>\n",
       "      <td>0.446142</td>\n",
       "    </tr>\n",
       "    <tr>\n",
       "      <th>710</th>\n",
       "      <td>amc</td>\n",
       "      <td>matador</td>\n",
       "      <td>0.446142</td>\n",
       "    </tr>\n",
       "    <tr>\n",
       "      <th>800</th>\n",
       "      <td>origen_2</td>\n",
       "      <td>desplazamiento_yeo_mms</td>\n",
       "      <td>0.389030</td>\n",
       "    </tr>\n",
       "    <tr>\n",
       "      <th>243</th>\n",
       "      <td>origen_3</td>\n",
       "      <td>cilindros_oe_mms</td>\n",
       "      <td>0.383223</td>\n",
       "    </tr>\n",
       "    <tr>\n",
       "      <th>803</th>\n",
       "      <td>origen_2</td>\n",
       "      <td>cilindros_oe_mms</td>\n",
       "      <td>0.376596</td>\n",
       "    </tr>\n",
       "    <tr>\n",
       "      <th>161</th>\n",
       "      <td>aceleracion_yeo_mms</td>\n",
       "      <td>peso_yeo_mms</td>\n",
       "      <td>0.375541</td>\n",
       "    </tr>\n",
       "    <tr>\n",
       "      <th>86</th>\n",
       "      <td>caballos_yeo_mms</td>\n",
       "      <td>origen_3</td>\n",
       "      <td>0.353451</td>\n",
       "    </tr>\n",
       "    <tr>\n",
       "      <th>264</th>\n",
       "      <td>origen_3</td>\n",
       "      <td>mazda</td>\n",
       "      <td>0.347561</td>\n",
       "    </tr>\n",
       "    <tr>\n",
       "      <th>813</th>\n",
       "      <td>origen_2</td>\n",
       "      <td>rabbit</td>\n",
       "      <td>0.331269</td>\n",
       "    </tr>\n",
       "    <tr>\n",
       "      <th>1045</th>\n",
       "      <td>volkswagen</td>\n",
       "      <td>origen_1</td>\n",
       "      <td>0.314000</td>\n",
       "    </tr>\n",
       "    <tr>\n",
       "      <th>1042</th>\n",
       "      <td>volkswagen</td>\n",
       "      <td>caballos_yeo_mms</td>\n",
       "      <td>0.312982</td>\n",
       "    </tr>\n",
       "    <tr>\n",
       "      <th>1165</th>\n",
       "      <td>datsun</td>\n",
       "      <td>origen_1</td>\n",
       "      <td>0.302780</td>\n",
       "    </tr>\n",
       "  </tbody>\n",
       "</table>\n",
       "</div>"
      ],
      "text/plain": [
       "                        var1                    var2      corr\n",
       "1     desplazamiento_yeo_mms            peso_yeo_mms  0.948003\n",
       "3     desplazamiento_yeo_mms        cilindros_oe_mms  0.938319\n",
       "43              peso_yeo_mms        cilindros_oe_mms  0.874677\n",
       "42              peso_yeo_mms        caballos_yeo_mms  0.869894\n",
       "2     desplazamiento_yeo_mms        caballos_yeo_mms  0.860617\n",
       "83          caballos_yeo_mms        cilindros_oe_mms  0.812373\n",
       "5     desplazamiento_yeo_mms                origen_1  0.700208\n",
       "162      aceleracion_yeo_mms        caballos_yeo_mms  0.669111\n",
       "220                 origen_1                origen_2  0.637926\n",
       "125         cilindros_oe_mms                origen_1  0.609528\n",
       "245                 origen_3                origen_1  0.608024\n",
       "45              peso_yeo_mms                origen_1  0.599189\n",
       "1387                  landau                   carlo  0.572112\n",
       "202                 origen_1        caballos_yeo_mms  0.510431\n",
       "1166                  datsun                origen_3  0.497974\n",
       "1060              volkswagen                origen_2  0.492221\n",
       "865                   malibu                 classic  0.489011\n",
       "240                 origen_3  desplazamiento_yeo_mms  0.485178\n",
       "46              peso_yeo_mms                origen_3  0.469859\n",
       "546                   rabbit              volkswagen  0.469795\n",
       "4     desplazamiento_yeo_mms     aceleracion_yeo_mms  0.460974\n",
       "163      aceleracion_yeo_mms        cilindros_oe_mms  0.457733\n",
       "713                      amc                 concord  0.446142\n",
       "710                      amc                 matador  0.446142\n",
       "800                 origen_2  desplazamiento_yeo_mms  0.389030\n",
       "243                 origen_3        cilindros_oe_mms  0.383223\n",
       "803                 origen_2        cilindros_oe_mms  0.376596\n",
       "161      aceleracion_yeo_mms            peso_yeo_mms  0.375541\n",
       "86          caballos_yeo_mms                origen_3  0.353451\n",
       "264                 origen_3                   mazda  0.347561\n",
       "813                 origen_2                  rabbit  0.331269\n",
       "1045              volkswagen                origen_1  0.314000\n",
       "1042              volkswagen        caballos_yeo_mms  0.312982\n",
       "1165                  datsun                origen_1  0.302780"
      ]
     },
     "execution_count": 28,
     "metadata": {},
     "output_type": "execute_result"
    }
   ],
   "source": [
    "cor_finales.head(50)"
   ]
  },
  {
   "cell_type": "markdown",
   "metadata": {},
   "source": [
    "#### Filtrar variables"
   ]
  },
  {
   "cell_type": "markdown",
   "metadata": {},
   "source": [
    "Meter en una lista las que queramos descartar por alta correlacion y eliminarlas."
   ]
  },
  {
   "cell_type": "code",
   "execution_count": 29,
   "metadata": {},
   "outputs": [],
   "source": [
    "a_eliminar_corr = ['desplazamiento_yeo_mms', 'cilindros_oe_mms','origen_3']"
   ]
  },
  {
   "cell_type": "code",
   "execution_count": 30,
   "metadata": {},
   "outputs": [],
   "source": [
    "x_preseleccionado.drop(columns = a_eliminar_corr, inplace = True)"
   ]
  },
  {
   "cell_type": "code",
   "execution_count": 31,
   "metadata": {},
   "outputs": [
    {
     "data": {
      "text/plain": [
       "['peso_yeo_mms',\n",
       " 'caballos_yeo_mms',\n",
       " 'aceleracion_yeo_mms',\n",
       " 'origen_1',\n",
       " 'any_modelo_73',\n",
       " 'any_modelo_80',\n",
       " 'any_modelo_70',\n",
       " 'colt',\n",
       " 'any_modelo_79',\n",
       " 'any_modelo_82',\n",
       " 'rabbit',\n",
       " 'chevette',\n",
       " 'oldsmobile',\n",
       " 'grand',\n",
       " 'amc',\n",
       " 'any_modelo_74',\n",
       " 'any_modelo_75',\n",
       " 'origen_2',\n",
       " 'malibu',\n",
       " 'sw',\n",
       " 'aspen',\n",
       " 'mazda',\n",
       " 'classic',\n",
       " 'volkswagen',\n",
       " 'carlo',\n",
       " 'any_modelo_77',\n",
       " 'datsun',\n",
       " 'matador',\n",
       " 'subaru',\n",
       " 'gl',\n",
       " 'concord',\n",
       " 'landau',\n",
       " 'corona',\n",
       " 'any_modelo_81',\n",
       " '504',\n",
       " 'volvo',\n",
       " 'impala']"
      ]
     },
     "execution_count": 31,
     "metadata": {},
     "output_type": "execute_result"
    }
   ],
   "source": [
    "x_preseleccionado.columns.to_list()"
   ]
  },
  {
   "cell_type": "markdown",
   "metadata": {},
   "source": [
    "### UNIFICAMOS X_PRESELECCIONADO Y TARGET"
   ]
  },
  {
   "cell_type": "code",
   "execution_count": 32,
   "metadata": {},
   "outputs": [],
   "source": [
    "df_final = pd.concat([x_preseleccionado,y],axis= 1)"
   ]
  },
  {
   "cell_type": "markdown",
   "metadata": {},
   "source": [
    "## GUARDAR DATASETS TRAS PRESELECCION DE VARIABLES"
   ]
  },
  {
   "cell_type": "code",
   "execution_count": 33,
   "metadata": {},
   "outputs": [],
   "source": [
    "#Guardar los archivos\n",
    "df_final.to_pickle('../../02_Datos/03_Trabajo/df_final.pickle')  "
   ]
  }
 ],
 "metadata": {
  "kernelspec": {
   "display_name": "proyecto1",
   "language": "python",
   "name": "python3"
  },
  "language_info": {
   "codemirror_mode": {
    "name": "ipython",
    "version": 3
   },
   "file_extension": ".py",
   "mimetype": "text/x-python",
   "name": "python",
   "nbconvert_exporter": "python",
   "pygments_lexer": "ipython3",
   "version": "3.11.3"
  }
 },
 "nbformat": 4,
 "nbformat_minor": 2
}
