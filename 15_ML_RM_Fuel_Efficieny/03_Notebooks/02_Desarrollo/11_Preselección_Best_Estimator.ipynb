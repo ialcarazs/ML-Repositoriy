{
 "cells": [
  {
   "attachments": {},
   "cell_type": "markdown",
   "metadata": {},
   "source": [
    "# 11 - ANÁLISIS GRID DE BEST ESTIMATOR"
   ]
  },
  {
   "attachments": {},
   "cell_type": "markdown",
   "metadata": {},
   "source": [
    "## IMPORTACIÓN DE PAQUETES"
   ]
  },
  {
   "cell_type": "code",
   "execution_count": 34,
   "metadata": {},
   "outputs": [],
   "source": [
    "import numpy as np \n",
    "import pandas as pd\n",
    "import matplotlib.pyplot as plt\n",
    "%matplotlib inline\n",
    "\n",
    "from sklearn.model_selection import train_test_split\n",
    "\n",
    "from sklearn.linear_model import PoissonRegressor\n",
    "from sklearn.linear_model import RidgeCV\n",
    "from sklearn.linear_model import SGDRegressor\n",
    "from sklearn.ensemble import RandomForestRegressor\n",
    "from xgboost import XGBRegressor\n",
    "from sklearn.ensemble import HistGradientBoostingRegressor\n",
    "from sklearn.ensemble import GradientBoostingRegressor\n",
    "from sklearn.pipeline import Pipeline\n",
    "\n",
    "from sklearn.model_selection import GridSearchCV\n",
    "from sklearn.model_selection import RandomizedSearchCV\n",
    "\n",
    "#Métricas de evaluación\n",
    "from sklearn.metrics import mean_absolute_percentage_error\n",
    "from sklearn.metrics import r2_score\n",
    "from sklearn.metrics import mean_absolute_error\n",
    "from sklearn.metrics import mean_squared_error\n",
    "\n",
    "#Crear Pipeline\n",
    "from sklearn.pipeline import Pipeline\n",
    "from sklearn.preprocessing import FunctionTransformer\n",
    "from sklearn.compose import make_column_transformer\n",
    "from sklearn.pipeline import make_pipeline\n",
    "\n",
    "import cloudpickle"
   ]
  },
  {
   "attachments": {},
   "cell_type": "markdown",
   "metadata": {},
   "source": [
    "## IMPORTAR LOS DATOS"
   ]
  },
  {
   "attachments": {},
   "cell_type": "markdown",
   "metadata": {},
   "source": [
    "### CARGAR LOS DATOS"
   ]
  },
  {
   "cell_type": "code",
   "execution_count": 35,
   "metadata": {},
   "outputs": [
    {
     "data": {
      "text/html": [
       "<div>\n",
       "<style scoped>\n",
       "    .dataframe tbody tr th:only-of-type {\n",
       "        vertical-align: middle;\n",
       "    }\n",
       "\n",
       "    .dataframe tbody tr th {\n",
       "        vertical-align: top;\n",
       "    }\n",
       "\n",
       "    .dataframe thead th {\n",
       "        text-align: right;\n",
       "    }\n",
       "</style>\n",
       "<table border=\"1\" class=\"dataframe\">\n",
       "  <thead>\n",
       "    <tr style=\"text-align: right;\">\n",
       "      <th></th>\n",
       "      <th>peso_yeo_mms</th>\n",
       "      <th>caballos_yeo_mms</th>\n",
       "      <th>aceleracion_yeo_mms</th>\n",
       "      <th>origen_1</th>\n",
       "      <th>any_modelo_73</th>\n",
       "      <th>any_modelo_80</th>\n",
       "      <th>any_modelo_70</th>\n",
       "      <th>colt</th>\n",
       "      <th>any_modelo_79</th>\n",
       "      <th>any_modelo_82</th>\n",
       "      <th>...</th>\n",
       "      <th>subaru</th>\n",
       "      <th>gl</th>\n",
       "      <th>concord</th>\n",
       "      <th>landau</th>\n",
       "      <th>corona</th>\n",
       "      <th>any_modelo_81</th>\n",
       "      <th>504</th>\n",
       "      <th>volvo</th>\n",
       "      <th>impala</th>\n",
       "      <th>mpg</th>\n",
       "    </tr>\n",
       "  </thead>\n",
       "  <tbody>\n",
       "    <tr>\n",
       "      <th>0</th>\n",
       "      <td>0.755175</td>\n",
       "      <td>0.869861</td>\n",
       "      <td>0.248895</td>\n",
       "      <td>1.0</td>\n",
       "      <td>0.0</td>\n",
       "      <td>0.0</td>\n",
       "      <td>1.0</td>\n",
       "      <td>0</td>\n",
       "      <td>0.0</td>\n",
       "      <td>0.0</td>\n",
       "      <td>...</td>\n",
       "      <td>0</td>\n",
       "      <td>0</td>\n",
       "      <td>0</td>\n",
       "      <td>0</td>\n",
       "      <td>0</td>\n",
       "      <td>0.0</td>\n",
       "      <td>0</td>\n",
       "      <td>0</td>\n",
       "      <td>0</td>\n",
       "      <td>15.0</td>\n",
       "    </tr>\n",
       "    <tr>\n",
       "      <th>1</th>\n",
       "      <td>0.697145</td>\n",
       "      <td>0.826943</td>\n",
       "      <td>0.281928</td>\n",
       "      <td>1.0</td>\n",
       "      <td>0.0</td>\n",
       "      <td>0.0</td>\n",
       "      <td>1.0</td>\n",
       "      <td>0</td>\n",
       "      <td>0.0</td>\n",
       "      <td>0.0</td>\n",
       "      <td>...</td>\n",
       "      <td>0</td>\n",
       "      <td>0</td>\n",
       "      <td>0</td>\n",
       "      <td>0</td>\n",
       "      <td>0</td>\n",
       "      <td>0.0</td>\n",
       "      <td>0</td>\n",
       "      <td>0</td>\n",
       "      <td>0</td>\n",
       "      <td>16.0</td>\n",
       "    </tr>\n",
       "    <tr>\n",
       "      <th>2</th>\n",
       "      <td>0.878469</td>\n",
       "      <td>0.944816</td>\n",
       "      <td>0.146330</td>\n",
       "      <td>1.0</td>\n",
       "      <td>0.0</td>\n",
       "      <td>0.0</td>\n",
       "      <td>1.0</td>\n",
       "      <td>0</td>\n",
       "      <td>0.0</td>\n",
       "      <td>0.0</td>\n",
       "      <td>...</td>\n",
       "      <td>0</td>\n",
       "      <td>0</td>\n",
       "      <td>0</td>\n",
       "      <td>0</td>\n",
       "      <td>0</td>\n",
       "      <td>0.0</td>\n",
       "      <td>0</td>\n",
       "      <td>0</td>\n",
       "      <td>0</td>\n",
       "      <td>15.0</td>\n",
       "    </tr>\n",
       "    <tr>\n",
       "      <th>3</th>\n",
       "      <td>0.880684</td>\n",
       "      <td>0.984192</td>\n",
       "      <td>0.074690</td>\n",
       "      <td>1.0</td>\n",
       "      <td>0.0</td>\n",
       "      <td>0.0</td>\n",
       "      <td>1.0</td>\n",
       "      <td>0</td>\n",
       "      <td>0.0</td>\n",
       "      <td>0.0</td>\n",
       "      <td>...</td>\n",
       "      <td>0</td>\n",
       "      <td>0</td>\n",
       "      <td>0</td>\n",
       "      <td>0</td>\n",
       "      <td>0</td>\n",
       "      <td>0.0</td>\n",
       "      <td>0</td>\n",
       "      <td>0</td>\n",
       "      <td>1</td>\n",
       "      <td>14.0</td>\n",
       "    </tr>\n",
       "    <tr>\n",
       "      <th>4</th>\n",
       "      <td>0.873496</td>\n",
       "      <td>0.975833</td>\n",
       "      <td>0.037754</td>\n",
       "      <td>1.0</td>\n",
       "      <td>0.0</td>\n",
       "      <td>0.0</td>\n",
       "      <td>1.0</td>\n",
       "      <td>0</td>\n",
       "      <td>0.0</td>\n",
       "      <td>0.0</td>\n",
       "      <td>...</td>\n",
       "      <td>0</td>\n",
       "      <td>0</td>\n",
       "      <td>0</td>\n",
       "      <td>0</td>\n",
       "      <td>0</td>\n",
       "      <td>0.0</td>\n",
       "      <td>0</td>\n",
       "      <td>0</td>\n",
       "      <td>0</td>\n",
       "      <td>14.0</td>\n",
       "    </tr>\n",
       "  </tbody>\n",
       "</table>\n",
       "<p>5 rows × 38 columns</p>\n",
       "</div>"
      ],
      "text/plain": [
       "   peso_yeo_mms  caballos_yeo_mms  aceleracion_yeo_mms  origen_1  \\\n",
       "0      0.755175          0.869861             0.248895       1.0   \n",
       "1      0.697145          0.826943             0.281928       1.0   \n",
       "2      0.878469          0.944816             0.146330       1.0   \n",
       "3      0.880684          0.984192             0.074690       1.0   \n",
       "4      0.873496          0.975833             0.037754       1.0   \n",
       "\n",
       "   any_modelo_73  any_modelo_80  any_modelo_70  colt  any_modelo_79  \\\n",
       "0            0.0            0.0            1.0     0            0.0   \n",
       "1            0.0            0.0            1.0     0            0.0   \n",
       "2            0.0            0.0            1.0     0            0.0   \n",
       "3            0.0            0.0            1.0     0            0.0   \n",
       "4            0.0            0.0            1.0     0            0.0   \n",
       "\n",
       "   any_modelo_82  ...  subaru  gl  concord  landau  corona  any_modelo_81  \\\n",
       "0            0.0  ...       0   0        0       0       0            0.0   \n",
       "1            0.0  ...       0   0        0       0       0            0.0   \n",
       "2            0.0  ...       0   0        0       0       0            0.0   \n",
       "3            0.0  ...       0   0        0       0       0            0.0   \n",
       "4            0.0  ...       0   0        0       0       0            0.0   \n",
       "\n",
       "   504  volvo  impala   mpg  \n",
       "0    0      0       0  15.0  \n",
       "1    0      0       0  16.0  \n",
       "2    0      0       0  15.0  \n",
       "3    0      0       1  14.0  \n",
       "4    0      0       0  14.0  \n",
       "\n",
       "[5 rows x 38 columns]"
      ]
     },
     "execution_count": 35,
     "metadata": {},
     "output_type": "execute_result"
    }
   ],
   "source": [
    "df = pd.read_pickle('../../02_Datos/03_Trabajo/df_final.pickle')\n",
    "df.head()"
   ]
  },
  {
   "cell_type": "markdown",
   "metadata": {},
   "source": [
    "### SEPARAR PREDICTORAS Y TARGET"
   ]
  },
  {
   "cell_type": "code",
   "execution_count": 36,
   "metadata": {},
   "outputs": [],
   "source": [
    "x = df.drop(columns='mpg').copy()\n",
    "y = df.mpg.copy()"
   ]
  },
  {
   "cell_type": "code",
   "execution_count": 37,
   "metadata": {},
   "outputs": [
    {
     "data": {
      "text/plain": [
       "0    15.0\n",
       "1    16.0\n",
       "2    15.0\n",
       "3    14.0\n",
       "4    14.0\n",
       "Name: mpg, dtype: float64"
      ]
     },
     "execution_count": 37,
     "metadata": {},
     "output_type": "execute_result"
    }
   ],
   "source": [
    "y.head(5)"
   ]
  },
  {
   "cell_type": "code",
   "execution_count": 38,
   "metadata": {},
   "outputs": [
    {
     "name": "stdout",
     "output_type": "stream",
     "text": [
      "(279, 37)\n",
      "(279,)\n"
     ]
    }
   ],
   "source": [
    "print(x.shape)\n",
    "print(y.shape)"
   ]
  },
  {
   "cell_type": "code",
   "execution_count": 39,
   "metadata": {},
   "outputs": [],
   "source": [
    "x_columns = list(x.columns)\n",
    "y_target = y.name"
   ]
  },
  {
   "attachments": {},
   "cell_type": "markdown",
   "metadata": {},
   "source": [
    "## MODELIZAR"
   ]
  },
  {
   "attachments": {},
   "cell_type": "markdown",
   "metadata": {},
   "source": [
    "### RESERVAR EL DATASET DE VALIDACIÓN"
   ]
  },
  {
   "cell_type": "code",
   "execution_count": 40,
   "metadata": {},
   "outputs": [],
   "source": [
    "train_x, val_x, train_y, val_y = train_test_split(x, y, test_size= 0.3, random_state= 42)"
   ]
  },
  {
   "attachments": {},
   "cell_type": "markdown",
   "metadata": {},
   "source": [
    "### CREAR PIPE Y EL DICCIONARIO CON LOS ALGORITMOS, PARÁMETROS Y VALORES"
   ]
  },
  {
   "cell_type": "markdown",
   "metadata": {},
   "source": [
    "Optimizamos los algoritmos, parámetros y valores para los mejores modelos analizados en el lazypredict"
   ]
  },
  {
   "cell_type": "markdown",
   "metadata": {},
   "source": [
    "#### Parámetros a testear:"
   ]
  },
  {
   "cell_type": "code",
   "execution_count": 41,
   "metadata": {},
   "outputs": [],
   "source": [
    "pipe = Pipeline([('algoritmo', RandomForestRegressor())])\n",
    "\n",
    "grid = [   \n",
    "\n",
    "            {\n",
    "                'algoritmo': [SGDRegressor()]\n",
    "            },\n",
    "            {\n",
    "                'algoritmo': [RidgeCV()]\n",
    "            },\n",
    "            {\n",
    "                'algoritmo': [HistGradientBoostingRegressor()]\n",
    "            },\n",
    "            {\n",
    "                'algoritmo': [XGBRegressor()]\n",
    "            },\n",
    "            {\n",
    "                'algoritmo': [PoissonRegressor()]\n",
    "            }\n",
    "          ]"
   ]
  },
  {
   "attachments": {},
   "cell_type": "markdown",
   "metadata": {},
   "source": [
    "### OPTIMIZAR LOS HIPERPARÁMETROS"
   ]
  },
  {
   "cell_type": "markdown",
   "metadata": {},
   "source": [
    "####  Con grid search"
   ]
  },
  {
   "cell_type": "code",
   "execution_count": 42,
   "metadata": {},
   "outputs": [
    {
     "name": "stderr",
     "output_type": "stream",
     "text": [
      "c:\\Users\\ialca\\anaconda3\\envs\\proyecto1\\Lib\\site-packages\\sklearn\\utils\\validation.py:768: UserWarning: pandas.DataFrame with sparse columns found.It will be converted to a dense numpy array.\n",
      "  warnings.warn(\n"
     ]
    },
    {
     "data": {
      "text/html": [
       "<div>\n",
       "<style scoped>\n",
       "    .dataframe tbody tr th:only-of-type {\n",
       "        vertical-align: middle;\n",
       "    }\n",
       "\n",
       "    .dataframe tbody tr th {\n",
       "        vertical-align: top;\n",
       "    }\n",
       "\n",
       "    .dataframe thead th {\n",
       "        text-align: right;\n",
       "    }\n",
       "</style>\n",
       "<table border=\"1\" class=\"dataframe\">\n",
       "  <thead>\n",
       "    <tr style=\"text-align: right;\">\n",
       "      <th></th>\n",
       "      <th>mean_fit_time</th>\n",
       "      <th>std_fit_time</th>\n",
       "      <th>mean_score_time</th>\n",
       "      <th>std_score_time</th>\n",
       "      <th>param_algoritmo</th>\n",
       "      <th>params</th>\n",
       "      <th>split0_test_score</th>\n",
       "      <th>split1_test_score</th>\n",
       "      <th>split2_test_score</th>\n",
       "      <th>split3_test_score</th>\n",
       "      <th>split4_test_score</th>\n",
       "      <th>mean_test_score</th>\n",
       "      <th>std_test_score</th>\n",
       "      <th>rank_test_score</th>\n",
       "    </tr>\n",
       "  </thead>\n",
       "  <tbody>\n",
       "    <tr>\n",
       "      <th>1</th>\n",
       "      <td>0.018751</td>\n",
       "      <td>0.003419</td>\n",
       "      <td>0.004094</td>\n",
       "      <td>0.001493</td>\n",
       "      <td>RidgeCV()</td>\n",
       "      <td>{'algoritmo': RidgeCV()}</td>\n",
       "      <td>-0.145637</td>\n",
       "      <td>-0.071944</td>\n",
       "      <td>-0.094721</td>\n",
       "      <td>-0.090647</td>\n",
       "      <td>-0.106447</td>\n",
       "      <td>-0.101879</td>\n",
       "      <td>0.024532</td>\n",
       "      <td>1</td>\n",
       "    </tr>\n",
       "    <tr>\n",
       "      <th>0</th>\n",
       "      <td>0.040913</td>\n",
       "      <td>0.005973</td>\n",
       "      <td>0.003790</td>\n",
       "      <td>0.000399</td>\n",
       "      <td>SGDRegressor()</td>\n",
       "      <td>{'algoritmo': SGDRegressor()}</td>\n",
       "      <td>-0.143317</td>\n",
       "      <td>-0.092629</td>\n",
       "      <td>-0.105285</td>\n",
       "      <td>-0.105943</td>\n",
       "      <td>-0.118089</td>\n",
       "      <td>-0.113053</td>\n",
       "      <td>0.017142</td>\n",
       "      <td>2</td>\n",
       "    </tr>\n",
       "    <tr>\n",
       "      <th>3</th>\n",
       "      <td>0.115755</td>\n",
       "      <td>0.027383</td>\n",
       "      <td>0.004390</td>\n",
       "      <td>0.001741</td>\n",
       "      <td>XGBRegressor(base_score=None, booster=None, ca...</td>\n",
       "      <td>{'algoritmo': XGBRegressor(base_score=None, bo...</td>\n",
       "      <td>-0.122778</td>\n",
       "      <td>-0.092130</td>\n",
       "      <td>-0.114611</td>\n",
       "      <td>-0.131352</td>\n",
       "      <td>-0.115463</td>\n",
       "      <td>-0.115267</td>\n",
       "      <td>0.013046</td>\n",
       "      <td>3</td>\n",
       "    </tr>\n",
       "    <tr>\n",
       "      <th>4</th>\n",
       "      <td>0.016573</td>\n",
       "      <td>0.001650</td>\n",
       "      <td>0.004035</td>\n",
       "      <td>0.000637</td>\n",
       "      <td>PoissonRegressor()</td>\n",
       "      <td>{'algoritmo': PoissonRegressor()}</td>\n",
       "      <td>-0.137561</td>\n",
       "      <td>-0.086316</td>\n",
       "      <td>-0.117312</td>\n",
       "      <td>-0.123629</td>\n",
       "      <td>-0.141862</td>\n",
       "      <td>-0.121336</td>\n",
       "      <td>0.019659</td>\n",
       "      <td>4</td>\n",
       "    </tr>\n",
       "    <tr>\n",
       "      <th>2</th>\n",
       "      <td>0.151590</td>\n",
       "      <td>0.022292</td>\n",
       "      <td>0.006084</td>\n",
       "      <td>0.000662</td>\n",
       "      <td>HistGradientBoostingRegressor()</td>\n",
       "      <td>{'algoritmo': HistGradientBoostingRegressor()}</td>\n",
       "      <td>-0.161737</td>\n",
       "      <td>-0.111932</td>\n",
       "      <td>-0.140044</td>\n",
       "      <td>-0.140145</td>\n",
       "      <td>-0.107694</td>\n",
       "      <td>-0.132310</td>\n",
       "      <td>0.020042</td>\n",
       "      <td>5</td>\n",
       "    </tr>\n",
       "  </tbody>\n",
       "</table>\n",
       "</div>"
      ],
      "text/plain": [
       "   mean_fit_time  std_fit_time  mean_score_time  std_score_time  \\\n",
       "1       0.018751      0.003419         0.004094        0.001493   \n",
       "0       0.040913      0.005973         0.003790        0.000399   \n",
       "3       0.115755      0.027383         0.004390        0.001741   \n",
       "4       0.016573      0.001650         0.004035        0.000637   \n",
       "2       0.151590      0.022292         0.006084        0.000662   \n",
       "\n",
       "                                     param_algoritmo  \\\n",
       "1                                          RidgeCV()   \n",
       "0                                     SGDRegressor()   \n",
       "3  XGBRegressor(base_score=None, booster=None, ca...   \n",
       "4                                 PoissonRegressor()   \n",
       "2                    HistGradientBoostingRegressor()   \n",
       "\n",
       "                                              params  split0_test_score  \\\n",
       "1                           {'algoritmo': RidgeCV()}          -0.145637   \n",
       "0                      {'algoritmo': SGDRegressor()}          -0.143317   \n",
       "3  {'algoritmo': XGBRegressor(base_score=None, bo...          -0.122778   \n",
       "4                  {'algoritmo': PoissonRegressor()}          -0.137561   \n",
       "2     {'algoritmo': HistGradientBoostingRegressor()}          -0.161737   \n",
       "\n",
       "   split1_test_score  split2_test_score  split3_test_score  split4_test_score  \\\n",
       "1          -0.071944          -0.094721          -0.090647          -0.106447   \n",
       "0          -0.092629          -0.105285          -0.105943          -0.118089   \n",
       "3          -0.092130          -0.114611          -0.131352          -0.115463   \n",
       "4          -0.086316          -0.117312          -0.123629          -0.141862   \n",
       "2          -0.111932          -0.140044          -0.140145          -0.107694   \n",
       "\n",
       "   mean_test_score  std_test_score  rank_test_score  \n",
       "1        -0.101879        0.024532                1  \n",
       "0        -0.113053        0.017142                2  \n",
       "3        -0.115267        0.013046                3  \n",
       "4        -0.121336        0.019659                4  \n",
       "2        -0.132310        0.020042                5  "
      ]
     },
     "execution_count": 42,
     "metadata": {},
     "output_type": "execute_result"
    }
   ],
   "source": [
    "grid_search = GridSearchCV(estimator= pipe, \n",
    "                           param_grid = grid, \n",
    "                           cv = 5, \n",
    "                           scoring = 'neg_mean_absolute_percentage_error',\n",
    "                           verbose = 0,\n",
    "                           n_jobs = -1)\n",
    "\n",
    "modelo = grid_search.fit(train_x,train_y)\n",
    "\n",
    "pd.DataFrame(grid_search.cv_results_).sort_values(by = 'rank_test_score')"
   ]
  },
  {
   "cell_type": "code",
   "execution_count": 43,
   "metadata": {},
   "outputs": [
    {
     "data": {
      "text/html": [
       "<style>#sk-container-id-2 {color: black;background-color: white;}#sk-container-id-2 pre{padding: 0;}#sk-container-id-2 div.sk-toggleable {background-color: white;}#sk-container-id-2 label.sk-toggleable__label {cursor: pointer;display: block;width: 100%;margin-bottom: 0;padding: 0.3em;box-sizing: border-box;text-align: center;}#sk-container-id-2 label.sk-toggleable__label-arrow:before {content: \"▸\";float: left;margin-right: 0.25em;color: #696969;}#sk-container-id-2 label.sk-toggleable__label-arrow:hover:before {color: black;}#sk-container-id-2 div.sk-estimator:hover label.sk-toggleable__label-arrow:before {color: black;}#sk-container-id-2 div.sk-toggleable__content {max-height: 0;max-width: 0;overflow: hidden;text-align: left;background-color: #f0f8ff;}#sk-container-id-2 div.sk-toggleable__content pre {margin: 0.2em;color: black;border-radius: 0.25em;background-color: #f0f8ff;}#sk-container-id-2 input.sk-toggleable__control:checked~div.sk-toggleable__content {max-height: 200px;max-width: 100%;overflow: auto;}#sk-container-id-2 input.sk-toggleable__control:checked~label.sk-toggleable__label-arrow:before {content: \"▾\";}#sk-container-id-2 div.sk-estimator input.sk-toggleable__control:checked~label.sk-toggleable__label {background-color: #d4ebff;}#sk-container-id-2 div.sk-label input.sk-toggleable__control:checked~label.sk-toggleable__label {background-color: #d4ebff;}#sk-container-id-2 input.sk-hidden--visually {border: 0;clip: rect(1px 1px 1px 1px);clip: rect(1px, 1px, 1px, 1px);height: 1px;margin: -1px;overflow: hidden;padding: 0;position: absolute;width: 1px;}#sk-container-id-2 div.sk-estimator {font-family: monospace;background-color: #f0f8ff;border: 1px dotted black;border-radius: 0.25em;box-sizing: border-box;margin-bottom: 0.5em;}#sk-container-id-2 div.sk-estimator:hover {background-color: #d4ebff;}#sk-container-id-2 div.sk-parallel-item::after {content: \"\";width: 100%;border-bottom: 1px solid gray;flex-grow: 1;}#sk-container-id-2 div.sk-label:hover label.sk-toggleable__label {background-color: #d4ebff;}#sk-container-id-2 div.sk-serial::before {content: \"\";position: absolute;border-left: 1px solid gray;box-sizing: border-box;top: 0;bottom: 0;left: 50%;z-index: 0;}#sk-container-id-2 div.sk-serial {display: flex;flex-direction: column;align-items: center;background-color: white;padding-right: 0.2em;padding-left: 0.2em;position: relative;}#sk-container-id-2 div.sk-item {position: relative;z-index: 1;}#sk-container-id-2 div.sk-parallel {display: flex;align-items: stretch;justify-content: center;background-color: white;position: relative;}#sk-container-id-2 div.sk-item::before, #sk-container-id-2 div.sk-parallel-item::before {content: \"\";position: absolute;border-left: 1px solid gray;box-sizing: border-box;top: 0;bottom: 0;left: 50%;z-index: -1;}#sk-container-id-2 div.sk-parallel-item {display: flex;flex-direction: column;z-index: 1;position: relative;background-color: white;}#sk-container-id-2 div.sk-parallel-item:first-child::after {align-self: flex-end;width: 50%;}#sk-container-id-2 div.sk-parallel-item:last-child::after {align-self: flex-start;width: 50%;}#sk-container-id-2 div.sk-parallel-item:only-child::after {width: 0;}#sk-container-id-2 div.sk-dashed-wrapped {border: 1px dashed gray;margin: 0 0.4em 0.5em 0.4em;box-sizing: border-box;padding-bottom: 0.4em;background-color: white;}#sk-container-id-2 div.sk-label label {font-family: monospace;font-weight: bold;display: inline-block;line-height: 1.2em;}#sk-container-id-2 div.sk-label-container {text-align: center;}#sk-container-id-2 div.sk-container {/* jupyter's `normalize.less` sets `[hidden] { display: none; }` but bootstrap.min.css set `[hidden] { display: none !important; }` so we also need the `!important` here to be able to override the default hidden behavior on the sphinx rendered scikit-learn.org. See: https://github.com/scikit-learn/scikit-learn/issues/21755 */display: inline-block !important;position: relative;}#sk-container-id-2 div.sk-text-repr-fallback {display: none;}</style><div id=\"sk-container-id-2\" class=\"sk-top-container\"><div class=\"sk-text-repr-fallback\"><pre>Pipeline(steps=[(&#x27;algoritmo&#x27;, RidgeCV())])</pre><b>In a Jupyter environment, please rerun this cell to show the HTML representation or trust the notebook. <br />On GitHub, the HTML representation is unable to render, please try loading this page with nbviewer.org.</b></div><div class=\"sk-container\" hidden><div class=\"sk-item sk-dashed-wrapped\"><div class=\"sk-label-container\"><div class=\"sk-label sk-toggleable\"><input class=\"sk-toggleable__control sk-hidden--visually\" id=\"sk-estimator-id-3\" type=\"checkbox\" ><label for=\"sk-estimator-id-3\" class=\"sk-toggleable__label sk-toggleable__label-arrow\">Pipeline</label><div class=\"sk-toggleable__content\"><pre>Pipeline(steps=[(&#x27;algoritmo&#x27;, RidgeCV())])</pre></div></div></div><div class=\"sk-serial\"><div class=\"sk-item\"><div class=\"sk-estimator sk-toggleable\"><input class=\"sk-toggleable__control sk-hidden--visually\" id=\"sk-estimator-id-4\" type=\"checkbox\" ><label for=\"sk-estimator-id-4\" class=\"sk-toggleable__label sk-toggleable__label-arrow\">RidgeCV</label><div class=\"sk-toggleable__content\"><pre>RidgeCV()</pre></div></div></div></div></div></div></div>"
      ],
      "text/plain": [
       "Pipeline(steps=[('algoritmo', RidgeCV())])"
      ]
     },
     "execution_count": 43,
     "metadata": {},
     "output_type": "execute_result"
    }
   ],
   "source": [
    "modelo.best_estimator_"
   ]
  },
  {
   "cell_type": "code",
   "execution_count": 44,
   "metadata": {},
   "outputs": [
    {
     "data": {
      "text/plain": [
       "{'algoritmo': RidgeCV()}"
      ]
     },
     "execution_count": 44,
     "metadata": {},
     "output_type": "execute_result"
    }
   ],
   "source": [
    "modelo.best_params_"
   ]
  },
  {
   "cell_type": "code",
   "execution_count": 45,
   "metadata": {},
   "outputs": [
    {
     "data": {
      "text/plain": [
       "-0.10187923173376405"
      ]
     },
     "execution_count": 45,
     "metadata": {},
     "output_type": "execute_result"
    }
   ],
   "source": [
    "modelo.best_score_"
   ]
  },
  {
   "cell_type": "markdown",
   "metadata": {},
   "source": [
    "### CREAR PICKLE DE MODELO.BEST_ESTIMATOR y PARÁMETROS"
   ]
  },
  {
   "cell_type": "code",
   "execution_count": 46,
   "metadata": {},
   "outputs": [],
   "source": [
    "modelo_best_estimator = modelo"
   ]
  },
  {
   "cell_type": "markdown",
   "metadata": {},
   "source": [
    "#### Guardamos modelo, parámetros y score"
   ]
  },
  {
   "cell_type": "code",
   "execution_count": 47,
   "metadata": {},
   "outputs": [],
   "source": [
    "m_best_estimator = str(modelo.best_estimator_[0])\n",
    "m_best_estimator = m_best_estimator.split('(')[0]\n",
    "m_best_params = str(modelo.best_params_)\n",
    "m_best_score = str(modelo.best_score_)"
   ]
  },
  {
   "attachments": {},
   "cell_type": "markdown",
   "metadata": {},
   "source": [
    "## EVALUAR"
   ]
  },
  {
   "cell_type": "markdown",
   "metadata": {},
   "source": [
    "### EVALUAR SOBRE EL TRAIN"
   ]
  },
  {
   "cell_type": "code",
   "execution_count": 48,
   "metadata": {},
   "outputs": [
    {
     "name": "stdout",
     "output_type": "stream",
     "text": [
      "%mape: 0.08508667990098688\n",
      "Coeficiente de determinación: 0.8909745803230766\n",
      "MAE: 1.9056071025554566\n",
      "RMSE: 6.639929216316835\n"
     ]
    },
    {
     "name": "stderr",
     "output_type": "stream",
     "text": [
      "c:\\Users\\ialca\\anaconda3\\envs\\proyecto1\\Lib\\site-packages\\sklearn\\utils\\validation.py:768: UserWarning: pandas.DataFrame with sparse columns found.It will be converted to a dense numpy array.\n",
      "  warnings.warn(\n"
     ]
    }
   ],
   "source": [
    "pred = modelo.best_estimator_.predict(train_x)\n",
    "t_mape = mean_absolute_percentage_error(train_y, pred)\n",
    "t_coef_determinacion = r2_score(train_y,pred)\n",
    "t_mae = mean_absolute_error(train_y, pred)\n",
    "t_rmse =  mean_squared_error(train_y,pred,squared='False')\n",
    "\n",
    "print(\"%mape:\", t_mape )\n",
    "print(\"Coeficiente de determinación:\", t_coef_determinacion)\n",
    "print(\"MAE:\", t_mae)\n",
    "print(\"RMSE:\",t_rmse)\n"
   ]
  },
  {
   "attachments": {},
   "cell_type": "markdown",
   "metadata": {},
   "source": [
    "### PREDECIR SOBRE LA VALIDACIÓN"
   ]
  },
  {
   "cell_type": "code",
   "execution_count": 49,
   "metadata": {},
   "outputs": [
    {
     "name": "stderr",
     "output_type": "stream",
     "text": [
      "c:\\Users\\ialca\\anaconda3\\envs\\proyecto1\\Lib\\site-packages\\sklearn\\utils\\validation.py:768: UserWarning: pandas.DataFrame with sparse columns found.It will be converted to a dense numpy array.\n",
      "  warnings.warn(\n"
     ]
    }
   ],
   "source": [
    "pred = modelo.best_estimator_.predict(val_x)"
   ]
  },
  {
   "attachments": {},
   "cell_type": "markdown",
   "metadata": {},
   "source": [
    "### EVALUAR SOBRE LA VALIDACIÓN"
   ]
  },
  {
   "cell_type": "code",
   "execution_count": 50,
   "metadata": {},
   "outputs": [
    {
     "name": "stdout",
     "output_type": "stream",
     "text": [
      "%mape: 0.09834670268802774\n",
      "Coeficiente de determinación: 0.8376492891477074\n",
      "MAE: 2.1205842740868333\n",
      "RMSE: 9.155776391625697\n"
     ]
    }
   ],
   "source": [
    "v_mape = mean_absolute_percentage_error(val_y, pred)\n",
    "v_coef_determinacion = r2_score(val_y,pred)\n",
    "v_mae = mean_absolute_error(val_y, pred)\n",
    "v_rmse =  mean_squared_error(val_y,pred,squared='False')\n",
    "\n",
    "\n",
    "print(\"%mape:\", v_mape)\n",
    "print(\"Coeficiente de determinación:\", v_coef_determinacion)\n",
    "print(\"MAE:\", v_mae)\n",
    "print(\"RMSE:\", v_rmse)"
   ]
  },
  {
   "cell_type": "markdown",
   "metadata": {},
   "source": [
    "#### Gráfico entre la diferencia entre la validación y el original"
   ]
  },
  {
   "cell_type": "code",
   "execution_count": 51,
   "metadata": {},
   "outputs": [
    {
     "data": {
      "text/html": [
       "<div>\n",
       "<style scoped>\n",
       "    .dataframe tbody tr th:only-of-type {\n",
       "        vertical-align: middle;\n",
       "    }\n",
       "\n",
       "    .dataframe tbody tr th {\n",
       "        vertical-align: top;\n",
       "    }\n",
       "\n",
       "    .dataframe thead th {\n",
       "        text-align: right;\n",
       "    }\n",
       "</style>\n",
       "<table border=\"1\" class=\"dataframe\">\n",
       "  <thead>\n",
       "    <tr style=\"text-align: right;\">\n",
       "      <th></th>\n",
       "      <th>index</th>\n",
       "      <th>mpg</th>\n",
       "      <th>pred</th>\n",
       "      <th>dif</th>\n",
       "    </tr>\n",
       "  </thead>\n",
       "  <tbody>\n",
       "    <tr>\n",
       "      <th>81</th>\n",
       "      <td>271</td>\n",
       "      <td>38.0</td>\n",
       "      <td>26.902143</td>\n",
       "      <td>11.097857</td>\n",
       "    </tr>\n",
       "    <tr>\n",
       "      <th>47</th>\n",
       "      <td>237</td>\n",
       "      <td>23.7</td>\n",
       "      <td>32.537066</td>\n",
       "      <td>8.837066</td>\n",
       "    </tr>\n",
       "    <tr>\n",
       "      <th>36</th>\n",
       "      <td>258</td>\n",
       "      <td>20.2</td>\n",
       "      <td>28.453918</td>\n",
       "      <td>8.253918</td>\n",
       "    </tr>\n",
       "    <tr>\n",
       "      <th>83</th>\n",
       "      <td>231</td>\n",
       "      <td>43.4</td>\n",
       "      <td>35.846467</td>\n",
       "      <td>7.553533</td>\n",
       "    </tr>\n",
       "    <tr>\n",
       "      <th>20</th>\n",
       "      <td>259</td>\n",
       "      <td>17.6</td>\n",
       "      <td>24.967076</td>\n",
       "      <td>7.367076</td>\n",
       "    </tr>\n",
       "    <tr>\n",
       "      <th>32</th>\n",
       "      <td>194</td>\n",
       "      <td>19.8</td>\n",
       "      <td>25.533964</td>\n",
       "      <td>5.733964</td>\n",
       "    </tr>\n",
       "    <tr>\n",
       "      <th>82</th>\n",
       "      <td>244</td>\n",
       "      <td>39.0</td>\n",
       "      <td>33.828995</td>\n",
       "      <td>5.171005</td>\n",
       "    </tr>\n",
       "    <tr>\n",
       "      <th>76</th>\n",
       "      <td>261</td>\n",
       "      <td>34.0</td>\n",
       "      <td>28.835945</td>\n",
       "      <td>5.164055</td>\n",
       "    </tr>\n",
       "    <tr>\n",
       "      <th>80</th>\n",
       "      <td>213</td>\n",
       "      <td>37.3</td>\n",
       "      <td>32.273611</td>\n",
       "      <td>5.026389</td>\n",
       "    </tr>\n",
       "    <tr>\n",
       "      <th>73</th>\n",
       "      <td>164</td>\n",
       "      <td>33.5</td>\n",
       "      <td>28.648797</td>\n",
       "      <td>4.851203</td>\n",
       "    </tr>\n",
       "  </tbody>\n",
       "</table>\n",
       "</div>"
      ],
      "text/plain": [
       "    index   mpg       pred        dif\n",
       "81    271  38.0  26.902143  11.097857\n",
       "47    237  23.7  32.537066   8.837066\n",
       "36    258  20.2  28.453918   8.253918\n",
       "83    231  43.4  35.846467   7.553533\n",
       "20    259  17.6  24.967076   7.367076\n",
       "32    194  19.8  25.533964   5.733964\n",
       "82    244  39.0  33.828995   5.171005\n",
       "76    261  34.0  28.835945   5.164055\n",
       "80    213  37.3  32.273611   5.026389\n",
       "73    164  33.5  28.648797   4.851203"
      ]
     },
     "execution_count": 51,
     "metadata": {},
     "output_type": "execute_result"
    }
   ],
   "source": [
    "test_y = val_y.reset_index().copy()\n",
    "test_pred = pd.Series(pred).to_frame()\n",
    "df_pred = pd.concat([test_y,test_pred], axis= 1).sort_values(by='mpg').reset_index()\n",
    "df_pred.rename(columns = {0:'pred'}, inplace = True)\n",
    "df_pred = df_pred.drop(columns= ['level_0'])\n",
    "df_pred['dif'] = abs(df_pred['mpg']-df_pred['pred'])\n",
    "# Diferencia entre predicción y validación\n",
    "df_pred.sort_values(by = 'dif', ascending = False).head(10)"
   ]
  },
  {
   "cell_type": "markdown",
   "metadata": {},
   "source": [
    "- Quitaremos estos atípicos para mejor el modelo (index 85 y 273)"
   ]
  },
  {
   "cell_type": "code",
   "execution_count": 52,
   "metadata": {},
   "outputs": [
    {
     "data": {
      "image/png": "[encoded data removed]",
      "text/plain": [
       "<Figure size 1600x500 with 1 Axes>"
      ]
     },
     "metadata": {},
     "output_type": "display_data"
    }
   ],
   "source": [
    "df_pred[['mpg','pred']].plot(figsize=(16,5));"
   ]
  },
  {
   "cell_type": "markdown",
   "metadata": {},
   "source": [
    "## Gráficios de validación modelos de regresión"
   ]
  },
  {
   "cell_type": "markdown",
   "metadata": {},
   "source": [
    "1. Gráfico de dispersión de valores reales vs. valores predichos: "
   ]
  },
  {
   "cell_type": "markdown",
   "metadata": {},
   "source": [
    "Este gráfico muestra los puntos de datos observados en un diagrama de dispersión, y superpone la línea de regresión que representa la relación lineal ajustada por el modelo. Puedes utilizar este gráfico para evaluar visualmente cómo se ajusta la línea de regresión a los datos observados."
   ]
  },
  {
   "cell_type": "code",
   "execution_count": 53,
   "metadata": {},
   "outputs": [
    {
     "data": {
      "image/png": "[encoded data removed]",
      "text/plain": [
       "<Figure size 640x480 with 1 Axes>"
      ]
     },
     "metadata": {},
     "output_type": "display_data"
    }
   ],
   "source": [
    "import matplotlib.pyplot as plt\n",
    "\n",
    "# y = target: Valores reales\n",
    "# pred - predicción: Valores predichos por el modelo\n",
    "\n",
    "plt.scatter(val_y, pred)\n",
    "plt.plot([min(val_y), max(val_y)], [min(val_y), max(val_y)], color='red')  # Línea diagonal\n",
    "plt.xlabel('Valores Reales')\n",
    "plt.ylabel('Valores Predichos')\n",
    "plt.title('Gráfico de dispersión de valores reales vs. valores predichos')\n",
    "plt.show()\n"
   ]
  },
  {
   "cell_type": "markdown",
   "metadata": {},
   "source": [
    "2. Gráfico de residuos vs. valores predichos: \n"
   ]
  },
  {
   "cell_type": "markdown",
   "metadata": {},
   "source": [
    "Un gráfico de residuos muestra los residuos (diferencias entre los valores observados y los valores predichos por el modelo) en función de los valores ajustados o las variables independientes. Este gráfico puede ayudarte a verificar si los residuos tienen algún patrón sistemático, como una relación no lineal o una heterocedasticidad."
   ]
  },
  {
   "cell_type": "code",
   "execution_count": 54,
   "metadata": {},
   "outputs": [
    {
     "data": {
      "image/png": "[encoded data removed]",
      "text/plain": [
       "<Figure size 640x480 with 1 Axes>"
      ]
     },
     "metadata": {},
     "output_type": "display_data"
    }
   ],
   "source": [
    "residuos = val_y - pred\n",
    "\n",
    "plt.scatter(pred, residuos)\n",
    "plt.axhline(y=0, color='red')  # Línea horizontal en cero\n",
    "plt.xlabel('Valores Predichos')\n",
    "plt.ylabel('Residuos')\n",
    "plt.title('Gráfico de residuos vs. valores predichos')\n",
    "plt.show()\n"
   ]
  },
  {
   "cell_type": "markdown",
   "metadata": {},
   "source": [
    "3. Histograma de residuos:"
   ]
  },
  {
   "cell_type": "markdown",
   "metadata": {},
   "source": [
    " Este gráfico muestra la distribución de los residuos del modelo. Puedes utilizar un histograma o un gráfico de densidad para visualizar cómo se distribuyen los residuos y verificar si siguen una distribución aproximadamente normal."
   ]
  },
  {
   "cell_type": "code",
   "execution_count": 55,
   "metadata": {},
   "outputs": [
    {
     "data": {
      "image/png": "[encoded data removed]",
      "text/plain": [
       "<Figure size 640x480 with 1 Axes>"
      ]
     },
     "metadata": {},
     "output_type": "display_data"
    }
   ],
   "source": [
    "plt.hist(residuos, bins=30)\n",
    "plt.xlabel('Residuos')\n",
    "plt.ylabel('Frecuencia')\n",
    "plt.title('Histograma de residuos')\n",
    "plt.show()"
   ]
  },
  {
   "cell_type": "markdown",
   "metadata": {},
   "source": [
    "4. Gráfico de Q-Q (cuantil-cuantil):"
   ]
  },
  {
   "cell_type": "markdown",
   "metadata": {},
   "source": [
    "Este gráfico compara los cuantiles de los residuos con los cuantiles esperados de una distribución normal. Puede ayudarte a evaluar si los residuos siguen una distribución normal."
   ]
  },
  {
   "cell_type": "code",
   "execution_count": 56,
   "metadata": {},
   "outputs": [
    {
     "data": {
      "image/png": "[encoded data removed]",
      "text/plain": [
       "<Figure size 640x480 with 1 Axes>"
      ]
     },
     "metadata": {},
     "output_type": "display_data"
    }
   ],
   "source": [
    "import scipy.stats as stats\n",
    "\n",
    "stats.probplot(residuos, dist=\"norm\", plot=plt)\n",
    "plt.xlabel('Cuantiles Teóricos')\n",
    "plt.ylabel('Cuantiles de los Residuos')\n",
    "plt.show()\n"
   ]
  },
  {
   "cell_type": "markdown",
   "metadata": {},
   "source": [
    "5. Gráfico de influencia:"
   ]
  },
  {
   "cell_type": "markdown",
   "metadata": {},
   "source": [
    "Un gráfico de influencia muestra la influencia de cada observación en el ajuste del modelo. Puede ayudarte a identificar puntos atípicos o valores influyentes que pueden tener un impacto significativo en los resultados de la regresión."
   ]
  },
  {
   "cell_type": "code",
   "execution_count": 57,
   "metadata": {},
   "outputs": [
    {
     "data": {
      "image/png": "[encoded data removed]",
      "text/plain": [
       "<Figure size 640x480 with 1 Axes>"
      ]
     },
     "metadata": {},
     "output_type": "display_data"
    }
   ],
   "source": [
    "import statsmodels.api as sm\n",
    "\n",
    "infl = sm.OLS(val_y, sm.add_constant(pred)).fit().get_influence()\n",
    "residuos_estudentizados = infl.resid_studentized_external\n",
    "\n",
    "plt.scatter(pred, residuos_estudentizados)\n",
    "plt.axhline(y=0, color='r', linestyle='-', label='Residuos Estudentizados = 0')\n",
    "plt.xlabel('Valores Ajustados')\n",
    "plt.ylabel('Residuos Estudentizados')\n",
    "plt.legend()\n",
    "plt.show()"
   ]
  },
  {
   "cell_type": "code",
   "execution_count": 58,
   "metadata": {},
   "outputs": [
    {
     "data": {
      "text/plain": [
       "array([ 5,  8, 12, 23, 49], dtype=int64)"
      ]
     },
     "execution_count": 58,
     "metadata": {},
     "output_type": "execute_result"
    }
   ],
   "source": [
    "# Paso 3: Definir umbral para Valores Atípicos\n",
    "std_dev_threshold = 2  # Umbral en desviaciones estándar\n",
    "\n",
    "# Paso 4: Identificación de Atípicos\n",
    "outliers_indices = np.where(np.abs(residuos) > std_dev_threshold * np.std(residuos))[0]\n",
    "outliers_indices"
   ]
  },
  {
   "cell_type": "code",
   "execution_count": 59,
   "metadata": {},
   "outputs": [
    {
     "data": {
      "text/plain": [
       "20.0"
      ]
     },
     "execution_count": 59,
     "metadata": {},
     "output_type": "execute_result"
    }
   ],
   "source": [
    "val_y.iloc[3]"
   ]
  },
  {
   "cell_type": "markdown",
   "metadata": {},
   "source": [
    "# GUARDAR BEST_ESTIMATOR, PARÁMETROS Y RESULTADOS DEL TEST Y LA VALIDACIÓN"
   ]
  },
  {
   "cell_type": "markdown",
   "metadata": {},
   "source": [
    "#### Guardar el mejor estimador"
   ]
  },
  {
   "cell_type": "code",
   "execution_count": 67,
   "metadata": {},
   "outputs": [
    {
     "data": {
      "text/plain": [
       "'v5_RidgeCV.pickle'"
      ]
     },
     "execution_count": 67,
     "metadata": {},
     "output_type": "execute_result"
    }
   ],
   "source": [
    "version_estimator = 'v5_'\n",
    "nombre_best_estimator =  version_estimator + m_best_estimator + '.pickle'\n",
    "nombre_best_estimator"
   ]
  },
  {
   "cell_type": "code",
   "execution_count": 61,
   "metadata": {},
   "outputs": [
    {
     "data": {
      "text/plain": [
       "'RidgeCV'"
      ]
     },
     "execution_count": 61,
     "metadata": {},
     "output_type": "execute_result"
    }
   ],
   "source": [
    "m_best_estimator"
   ]
  },
  {
   "cell_type": "code",
   "execution_count": 62,
   "metadata": {},
   "outputs": [],
   "source": [
    "ruta_pipe_entrenamiento = '../../04_Modelos/Best_estimator/' + nombre_best_estimator\n",
    "\n",
    "with open (ruta_pipe_entrenamiento, mode= 'wb') as file:\n",
    "    cloudpickle.dump(modelo_best_estimator, file)\n"
   ]
  },
  {
   "cell_type": "markdown",
   "metadata": {},
   "source": [
    "### Guardar la información del estimador"
   ]
  },
  {
   "cell_type": "code",
   "execution_count": 63,
   "metadata": {},
   "outputs": [],
   "source": [
    "# Añadir comentarios sobre el modelo\n",
    "\n",
    "comentarios = \"Realizamos un GridSearch para ver que modelo se adapta mejor a los datos.\"\n"
   ]
  },
  {
   "cell_type": "code",
   "execution_count": 68,
   "metadata": {},
   "outputs": [
    {
     "data": {
      "text/plain": [
       "m_Best_estimator                                                   RidgeCV\n",
       "m_Best_paramans                                   {'algoritmo': RidgeCV()}\n",
       "m_Best_Score                                          -0.10187923173376405\n",
       "t_%mape                                                           0.085087\n",
       "t_Coef._determinacion                                             0.890975\n",
       "t_mae                                                             1.905607\n",
       "t_rmse                                                            6.639929\n",
       "v_%mape                                                           0.098347\n",
       "v_Coef._determinacion                                             0.837649\n",
       "v_mae                                                             2.120584\n",
       "v_rmse                                                            9.155776\n",
       "comentarios              Realizamos un GridSearch para ver que modelo s...\n",
       "predictoras_X            [peso_yeo_mms, caballos_yeo_mms, aceleracion_y...\n",
       "target_y                                                               mpg\n",
       "Name: v5_RidgeCV.pickle, dtype: object"
      ]
     },
     "execution_count": 68,
     "metadata": {},
     "output_type": "execute_result"
    }
   ],
   "source": [
    "#Cargamos la lista con los resultados\n",
    "resultado  = {'m_Best_estimator': m_best_estimator,\n",
    "               'm_Best_paramans' : m_best_params,\n",
    "               'm_Best_Score': m_best_score, \n",
    "               't_%mape': t_mape, \n",
    "               't_Coef._determinacion': t_coef_determinacion, \n",
    "               't_mae': t_mae, \n",
    "               't_rmse': t_rmse, \n",
    "               'v_%mape':  v_mape, \n",
    "               'v_Coef._determinacion': v_coef_determinacion, \n",
    "               'v_mae': v_mae, \n",
    "               'v_rmse': v_rmse,\n",
    "               'comentarios': comentarios,\n",
    "               'predictoras_X': x_columns,\n",
    "               'target_y': y_target\n",
    "            }\n",
    "resultado= pd.Series(resultado,name=nombre_best_estimator)\n",
    "resultado"
   ]
  },
  {
   "cell_type": "code",
   "execution_count": 69,
   "metadata": {},
   "outputs": [],
   "source": [
    "df_best = pd.read_excel('../../04_Modelos/Best_estimator/Best_estimator.xlsx',index_col=0)\n"
   ]
  },
  {
   "cell_type": "code",
   "execution_count": 70,
   "metadata": {},
   "outputs": [],
   "source": [
    "df_best = pd.concat([df_best, resultado], ignore_index= False,axis=1)\n",
    "df_best.to_excel('../../04_Modelos/Best_estimator/Best_estimator.xlsx')"
   ]
  }
 ],
 "metadata": {
  "kernelspec": {
   "display_name": "proyecto1",
   "language": "python",
   "name": "python3"
  },
  "language_info": {
   "codemirror_mode": {
    "name": "ipython",
    "version": 3
   },
   "file_extension": ".py",
   "mimetype": "text/x-python",
   "name": "python",
   "nbconvert_exporter": "python",
   "pygments_lexer": "ipython3",
   "version": "3.11.3"
  },
  "orig_nbformat": 4
 },
 "nbformat": 4,
 "nbformat_minor": 2
}
