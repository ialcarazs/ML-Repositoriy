{
 "cells": [
  {
   "attachments": {},
   "cell_type": "markdown",
   "metadata": {},
   "source": [
    "# 13 - ANÁLISIS CON XGB REGRESSOR"
   ]
  },
  {
   "attachments": {},
   "cell_type": "markdown",
   "metadata": {},
   "source": [
    "## IMPORTACIÓN DE PAQUETES"
   ]
  },
  {
   "cell_type": "code",
   "execution_count": 1,
   "metadata": {},
   "outputs": [],
   "source": [
    "import numpy as np \n",
    "import pandas as pd\n",
    "import matplotlib.pyplot as plt\n",
    "%matplotlib inline\n",
    "\n",
    "from sklearn.model_selection import train_test_split\n",
    "\n",
    "from sklearn.linear_model import PoissonRegressor\n",
    "from sklearn.linear_model import RidgeCV\n",
    "from sklearn.linear_model import SGDRegressor\n",
    "from sklearn.ensemble import RandomForestRegressor\n",
    "from xgboost import XGBRegressor\n",
    "from sklearn.ensemble import HistGradientBoostingRegressor\n",
    "from sklearn.ensemble import GradientBoostingRegressor\n",
    "from sklearn.pipeline import Pipeline\n",
    "\n",
    "from sklearn.model_selection import GridSearchCV\n",
    "from sklearn.model_selection import RandomizedSearchCV\n",
    "\n",
    "#Métricas de evaluación\n",
    "from sklearn.metrics import mean_absolute_percentage_error\n",
    "from sklearn.metrics import r2_score\n",
    "from sklearn.metrics import mean_absolute_error\n",
    "from sklearn.metrics import mean_squared_error\n",
    "\n",
    "#Crear Pipeline\n",
    "from sklearn.pipeline import Pipeline\n",
    "from sklearn.preprocessing import FunctionTransformer\n",
    "from sklearn.compose import make_column_transformer\n",
    "from sklearn.pipeline import make_pipeline\n",
    "\n",
    "import cloudpickle"
   ]
  },
  {
   "attachments": {},
   "cell_type": "markdown",
   "metadata": {},
   "source": [
    "## IMPORTAR LOS DATOS"
   ]
  },
  {
   "attachments": {},
   "cell_type": "markdown",
   "metadata": {},
   "source": [
    "### CARGAR LOS DATOS"
   ]
  },
  {
   "cell_type": "code",
   "execution_count": 2,
   "metadata": {},
   "outputs": [
    {
     "data": {
      "text/html": [
       "<div>\n",
       "<style scoped>\n",
       "    .dataframe tbody tr th:only-of-type {\n",
       "        vertical-align: middle;\n",
       "    }\n",
       "\n",
       "    .dataframe tbody tr th {\n",
       "        vertical-align: top;\n",
       "    }\n",
       "\n",
       "    .dataframe thead th {\n",
       "        text-align: right;\n",
       "    }\n",
       "</style>\n",
       "<table border=\"1\" class=\"dataframe\">\n",
       "  <thead>\n",
       "    <tr style=\"text-align: right;\">\n",
       "      <th></th>\n",
       "      <th>peso_yeo_mms</th>\n",
       "      <th>caballos_yeo_mms</th>\n",
       "      <th>aceleracion_yeo_mms</th>\n",
       "      <th>origen_1</th>\n",
       "      <th>any_modelo_73</th>\n",
       "      <th>any_modelo_80</th>\n",
       "      <th>any_modelo_70</th>\n",
       "      <th>colt</th>\n",
       "      <th>any_modelo_79</th>\n",
       "      <th>any_modelo_82</th>\n",
       "      <th>...</th>\n",
       "      <th>subaru</th>\n",
       "      <th>gl</th>\n",
       "      <th>concord</th>\n",
       "      <th>landau</th>\n",
       "      <th>corona</th>\n",
       "      <th>any_modelo_81</th>\n",
       "      <th>504</th>\n",
       "      <th>volvo</th>\n",
       "      <th>impala</th>\n",
       "      <th>mpg</th>\n",
       "    </tr>\n",
       "  </thead>\n",
       "  <tbody>\n",
       "    <tr>\n",
       "      <th>0</th>\n",
       "      <td>0.755175</td>\n",
       "      <td>0.869861</td>\n",
       "      <td>0.248895</td>\n",
       "      <td>1.0</td>\n",
       "      <td>0.0</td>\n",
       "      <td>0.0</td>\n",
       "      <td>1.0</td>\n",
       "      <td>0</td>\n",
       "      <td>0.0</td>\n",
       "      <td>0.0</td>\n",
       "      <td>...</td>\n",
       "      <td>0</td>\n",
       "      <td>0</td>\n",
       "      <td>0</td>\n",
       "      <td>0</td>\n",
       "      <td>0</td>\n",
       "      <td>0.0</td>\n",
       "      <td>0</td>\n",
       "      <td>0</td>\n",
       "      <td>0</td>\n",
       "      <td>15.0</td>\n",
       "    </tr>\n",
       "    <tr>\n",
       "      <th>1</th>\n",
       "      <td>0.697145</td>\n",
       "      <td>0.826943</td>\n",
       "      <td>0.281928</td>\n",
       "      <td>1.0</td>\n",
       "      <td>0.0</td>\n",
       "      <td>0.0</td>\n",
       "      <td>1.0</td>\n",
       "      <td>0</td>\n",
       "      <td>0.0</td>\n",
       "      <td>0.0</td>\n",
       "      <td>...</td>\n",
       "      <td>0</td>\n",
       "      <td>0</td>\n",
       "      <td>0</td>\n",
       "      <td>0</td>\n",
       "      <td>0</td>\n",
       "      <td>0.0</td>\n",
       "      <td>0</td>\n",
       "      <td>0</td>\n",
       "      <td>0</td>\n",
       "      <td>16.0</td>\n",
       "    </tr>\n",
       "    <tr>\n",
       "      <th>2</th>\n",
       "      <td>0.878469</td>\n",
       "      <td>0.944816</td>\n",
       "      <td>0.146330</td>\n",
       "      <td>1.0</td>\n",
       "      <td>0.0</td>\n",
       "      <td>0.0</td>\n",
       "      <td>1.0</td>\n",
       "      <td>0</td>\n",
       "      <td>0.0</td>\n",
       "      <td>0.0</td>\n",
       "      <td>...</td>\n",
       "      <td>0</td>\n",
       "      <td>0</td>\n",
       "      <td>0</td>\n",
       "      <td>0</td>\n",
       "      <td>0</td>\n",
       "      <td>0.0</td>\n",
       "      <td>0</td>\n",
       "      <td>0</td>\n",
       "      <td>0</td>\n",
       "      <td>15.0</td>\n",
       "    </tr>\n",
       "    <tr>\n",
       "      <th>3</th>\n",
       "      <td>0.880684</td>\n",
       "      <td>0.984192</td>\n",
       "      <td>0.074690</td>\n",
       "      <td>1.0</td>\n",
       "      <td>0.0</td>\n",
       "      <td>0.0</td>\n",
       "      <td>1.0</td>\n",
       "      <td>0</td>\n",
       "      <td>0.0</td>\n",
       "      <td>0.0</td>\n",
       "      <td>...</td>\n",
       "      <td>0</td>\n",
       "      <td>0</td>\n",
       "      <td>0</td>\n",
       "      <td>0</td>\n",
       "      <td>0</td>\n",
       "      <td>0.0</td>\n",
       "      <td>0</td>\n",
       "      <td>0</td>\n",
       "      <td>1</td>\n",
       "      <td>14.0</td>\n",
       "    </tr>\n",
       "    <tr>\n",
       "      <th>4</th>\n",
       "      <td>0.873496</td>\n",
       "      <td>0.975833</td>\n",
       "      <td>0.037754</td>\n",
       "      <td>1.0</td>\n",
       "      <td>0.0</td>\n",
       "      <td>0.0</td>\n",
       "      <td>1.0</td>\n",
       "      <td>0</td>\n",
       "      <td>0.0</td>\n",
       "      <td>0.0</td>\n",
       "      <td>...</td>\n",
       "      <td>0</td>\n",
       "      <td>0</td>\n",
       "      <td>0</td>\n",
       "      <td>0</td>\n",
       "      <td>0</td>\n",
       "      <td>0.0</td>\n",
       "      <td>0</td>\n",
       "      <td>0</td>\n",
       "      <td>0</td>\n",
       "      <td>14.0</td>\n",
       "    </tr>\n",
       "  </tbody>\n",
       "</table>\n",
       "<p>5 rows × 38 columns</p>\n",
       "</div>"
      ],
      "text/plain": [
       "   peso_yeo_mms  caballos_yeo_mms  aceleracion_yeo_mms  origen_1  \\\n",
       "0      0.755175          0.869861             0.248895       1.0   \n",
       "1      0.697145          0.826943             0.281928       1.0   \n",
       "2      0.878469          0.944816             0.146330       1.0   \n",
       "3      0.880684          0.984192             0.074690       1.0   \n",
       "4      0.873496          0.975833             0.037754       1.0   \n",
       "\n",
       "   any_modelo_73  any_modelo_80  any_modelo_70  colt  any_modelo_79  \\\n",
       "0            0.0            0.0            1.0     0            0.0   \n",
       "1            0.0            0.0            1.0     0            0.0   \n",
       "2            0.0            0.0            1.0     0            0.0   \n",
       "3            0.0            0.0            1.0     0            0.0   \n",
       "4            0.0            0.0            1.0     0            0.0   \n",
       "\n",
       "   any_modelo_82  ...  subaru  gl  concord  landau  corona  any_modelo_81  \\\n",
       "0            0.0  ...       0   0        0       0       0            0.0   \n",
       "1            0.0  ...       0   0        0       0       0            0.0   \n",
       "2            0.0  ...       0   0        0       0       0            0.0   \n",
       "3            0.0  ...       0   0        0       0       0            0.0   \n",
       "4            0.0  ...       0   0        0       0       0            0.0   \n",
       "\n",
       "   504  volvo  impala   mpg  \n",
       "0    0      0       0  15.0  \n",
       "1    0      0       0  16.0  \n",
       "2    0      0       0  15.0  \n",
       "3    0      0       1  14.0  \n",
       "4    0      0       0  14.0  \n",
       "\n",
       "[5 rows x 38 columns]"
      ]
     },
     "execution_count": 2,
     "metadata": {},
     "output_type": "execute_result"
    }
   ],
   "source": [
    "df = pd.read_pickle('../../02_Datos/03_Trabajo/df_final.pickle')\n",
    "df.head()"
   ]
  },
  {
   "cell_type": "markdown",
   "metadata": {},
   "source": [
    "### SEPARAR PREDICTORAS Y TARGET"
   ]
  },
  {
   "cell_type": "code",
   "execution_count": 3,
   "metadata": {},
   "outputs": [],
   "source": [
    "x = df.drop(columns='mpg').copy()\n",
    "y = df.mpg.copy()"
   ]
  },
  {
   "cell_type": "code",
   "execution_count": 4,
   "metadata": {},
   "outputs": [
    {
     "data": {
      "text/plain": [
       "0    15.0\n",
       "1    16.0\n",
       "2    15.0\n",
       "3    14.0\n",
       "4    14.0\n",
       "Name: mpg, dtype: float64"
      ]
     },
     "execution_count": 4,
     "metadata": {},
     "output_type": "execute_result"
    }
   ],
   "source": [
    "y.head(5)"
   ]
  },
  {
   "cell_type": "code",
   "execution_count": 5,
   "metadata": {},
   "outputs": [
    {
     "name": "stdout",
     "output_type": "stream",
     "text": [
      "(279, 37)\n",
      "(279,)\n"
     ]
    }
   ],
   "source": [
    "print(x.shape)\n",
    "print(y.shape)"
   ]
  },
  {
   "cell_type": "code",
   "execution_count": 6,
   "metadata": {},
   "outputs": [],
   "source": [
    "x_columns = list(x.columns)\n",
    "y_target = y.name"
   ]
  },
  {
   "attachments": {},
   "cell_type": "markdown",
   "metadata": {},
   "source": [
    "## MODELIZAR"
   ]
  },
  {
   "attachments": {},
   "cell_type": "markdown",
   "metadata": {},
   "source": [
    "### RESERVAR EL DATASET DE VALIDACIÓN"
   ]
  },
  {
   "cell_type": "code",
   "execution_count": 7,
   "metadata": {},
   "outputs": [],
   "source": [
    "train_x, val_x, train_y, val_y = train_test_split(x, y, test_size= 0.3, random_state= 42)"
   ]
  },
  {
   "attachments": {},
   "cell_type": "markdown",
   "metadata": {},
   "source": [
    "### CREAR PIPE Y EL DICCIONARIO CON LOS ALGORITMOS, PARÁMETROS Y VALORES"
   ]
  },
  {
   "cell_type": "markdown",
   "metadata": {},
   "source": [
    "Optimizamos los algoritmos, parámetros y valores para los mejores modelos analizados en el lazypredict"
   ]
  },
  {
   "cell_type": "markdown",
   "metadata": {},
   "source": [
    "#### Parámetros a testear:"
   ]
  },
  {
   "cell_type": "code",
   "execution_count": 8,
   "metadata": {},
   "outputs": [],
   "source": [
    "pipe = Pipeline([('algoritmo', XGBRegressor())])\n",
    "\n",
    "grid = [   {\n",
    "            'algoritmo__n_estimators': [100, 200, 300],\n",
    "            'algoritmo__learning_rate': [0.01, 0.1, 0.2],\n",
    "            'algoritmo__max_depth': [3, 4, 5],\n",
    "            'algoritmo__subsample': [0.8, 0.9, 1.0],\n",
    "            'algoritmo__colsample_bytree': [0.8, 0.9, 1.0],\n",
    "            'algoritmo__reg_lambda': [0.1, 1, 10]  # Parámetro de regularización L2\n",
    "            }\n",
    "          ]"
   ]
  },
  {
   "attachments": {},
   "cell_type": "markdown",
   "metadata": {},
   "source": [
    "### OPTIMIZAR LOS HIPERPARÁMETROS"
   ]
  },
  {
   "cell_type": "markdown",
   "metadata": {},
   "source": [
    "####  Con grid search"
   ]
  },
  {
   "cell_type": "code",
   "execution_count": 9,
   "metadata": {},
   "outputs": [
    {
     "data": {
      "text/html": [
       "<div>\n",
       "<style scoped>\n",
       "    .dataframe tbody tr th:only-of-type {\n",
       "        vertical-align: middle;\n",
       "    }\n",
       "\n",
       "    .dataframe tbody tr th {\n",
       "        vertical-align: top;\n",
       "    }\n",
       "\n",
       "    .dataframe thead th {\n",
       "        text-align: right;\n",
       "    }\n",
       "</style>\n",
       "<table border=\"1\" class=\"dataframe\">\n",
       "  <thead>\n",
       "    <tr style=\"text-align: right;\">\n",
       "      <th></th>\n",
       "      <th>mean_fit_time</th>\n",
       "      <th>std_fit_time</th>\n",
       "      <th>mean_score_time</th>\n",
       "      <th>std_score_time</th>\n",
       "      <th>param_algoritmo__colsample_bytree</th>\n",
       "      <th>param_algoritmo__learning_rate</th>\n",
       "      <th>param_algoritmo__max_depth</th>\n",
       "      <th>param_algoritmo__n_estimators</th>\n",
       "      <th>param_algoritmo__reg_lambda</th>\n",
       "      <th>param_algoritmo__subsample</th>\n",
       "      <th>params</th>\n",
       "      <th>split0_test_score</th>\n",
       "      <th>split1_test_score</th>\n",
       "      <th>split2_test_score</th>\n",
       "      <th>split3_test_score</th>\n",
       "      <th>split4_test_score</th>\n",
       "      <th>mean_test_score</th>\n",
       "      <th>std_test_score</th>\n",
       "      <th>rank_test_score</th>\n",
       "    </tr>\n",
       "  </thead>\n",
       "  <tbody>\n",
       "    <tr>\n",
       "      <th>81</th>\n",
       "      <td>0.120246</td>\n",
       "      <td>0.003332</td>\n",
       "      <td>0.009775</td>\n",
       "      <td>0.001466</td>\n",
       "      <td>0.8</td>\n",
       "      <td>0.1</td>\n",
       "      <td>3</td>\n",
       "      <td>100</td>\n",
       "      <td>0.1</td>\n",
       "      <td>0.8</td>\n",
       "      <td>{'algoritmo__colsample_bytree': 0.8, 'algoritm...</td>\n",
       "      <td>-0.126877</td>\n",
       "      <td>-0.067275</td>\n",
       "      <td>-0.097699</td>\n",
       "      <td>-0.093336</td>\n",
       "      <td>-0.106549</td>\n",
       "      <td>-0.098347</td>\n",
       "      <td>0.019351</td>\n",
       "      <td>1</td>\n",
       "    </tr>\n",
       "    <tr>\n",
       "      <th>327</th>\n",
       "      <td>0.125888</td>\n",
       "      <td>0.009480</td>\n",
       "      <td>0.009574</td>\n",
       "      <td>0.000798</td>\n",
       "      <td>0.9</td>\n",
       "      <td>0.1</td>\n",
       "      <td>3</td>\n",
       "      <td>100</td>\n",
       "      <td>1</td>\n",
       "      <td>0.8</td>\n",
       "      <td>{'algoritmo__colsample_bytree': 0.9, 'algoritm...</td>\n",
       "      <td>-0.120150</td>\n",
       "      <td>-0.064963</td>\n",
       "      <td>-0.100321</td>\n",
       "      <td>-0.111640</td>\n",
       "      <td>-0.101897</td>\n",
       "      <td>-0.099794</td>\n",
       "      <td>0.018828</td>\n",
       "      <td>2</td>\n",
       "    </tr>\n",
       "    <tr>\n",
       "      <th>84</th>\n",
       "      <td>0.117609</td>\n",
       "      <td>0.005707</td>\n",
       "      <td>0.009774</td>\n",
       "      <td>0.001716</td>\n",
       "      <td>0.8</td>\n",
       "      <td>0.1</td>\n",
       "      <td>3</td>\n",
       "      <td>100</td>\n",
       "      <td>1</td>\n",
       "      <td>0.8</td>\n",
       "      <td>{'algoritmo__colsample_bytree': 0.8, 'algoritm...</td>\n",
       "      <td>-0.125266</td>\n",
       "      <td>-0.063485</td>\n",
       "      <td>-0.100035</td>\n",
       "      <td>-0.109928</td>\n",
       "      <td>-0.102736</td>\n",
       "      <td>-0.100290</td>\n",
       "      <td>0.020383</td>\n",
       "      <td>3</td>\n",
       "    </tr>\n",
       "    <tr>\n",
       "      <th>82</th>\n",
       "      <td>0.120085</td>\n",
       "      <td>0.004877</td>\n",
       "      <td>0.010173</td>\n",
       "      <td>0.000747</td>\n",
       "      <td>0.8</td>\n",
       "      <td>0.1</td>\n",
       "      <td>3</td>\n",
       "      <td>100</td>\n",
       "      <td>0.1</td>\n",
       "      <td>0.9</td>\n",
       "      <td>{'algoritmo__colsample_bytree': 0.8, 'algoritm...</td>\n",
       "      <td>-0.130295</td>\n",
       "      <td>-0.069689</td>\n",
       "      <td>-0.098361</td>\n",
       "      <td>-0.099494</td>\n",
       "      <td>-0.106844</td>\n",
       "      <td>-0.100937</td>\n",
       "      <td>0.019401</td>\n",
       "      <td>4</td>\n",
       "    </tr>\n",
       "    <tr>\n",
       "      <th>324</th>\n",
       "      <td>0.119418</td>\n",
       "      <td>0.005978</td>\n",
       "      <td>0.009079</td>\n",
       "      <td>0.000204</td>\n",
       "      <td>0.9</td>\n",
       "      <td>0.1</td>\n",
       "      <td>3</td>\n",
       "      <td>100</td>\n",
       "      <td>0.1</td>\n",
       "      <td>0.8</td>\n",
       "      <td>{'algoritmo__colsample_bytree': 0.9, 'algoritm...</td>\n",
       "      <td>-0.132483</td>\n",
       "      <td>-0.065237</td>\n",
       "      <td>-0.100868</td>\n",
       "      <td>-0.098698</td>\n",
       "      <td>-0.109598</td>\n",
       "      <td>-0.101377</td>\n",
       "      <td>0.021674</td>\n",
       "      <td>5</td>\n",
       "    </tr>\n",
       "    <tr>\n",
       "      <th>...</th>\n",
       "      <td>...</td>\n",
       "      <td>...</td>\n",
       "      <td>...</td>\n",
       "      <td>...</td>\n",
       "      <td>...</td>\n",
       "      <td>...</td>\n",
       "      <td>...</td>\n",
       "      <td>...</td>\n",
       "      <td>...</td>\n",
       "      <td>...</td>\n",
       "      <td>...</td>\n",
       "      <td>...</td>\n",
       "      <td>...</td>\n",
       "      <td>...</td>\n",
       "      <td>...</td>\n",
       "      <td>...</td>\n",
       "      <td>...</td>\n",
       "      <td>...</td>\n",
       "      <td>...</td>\n",
       "    </tr>\n",
       "    <tr>\n",
       "      <th>276</th>\n",
       "      <td>0.110628</td>\n",
       "      <td>0.010015</td>\n",
       "      <td>0.008977</td>\n",
       "      <td>0.000630</td>\n",
       "      <td>0.9</td>\n",
       "      <td>0.01</td>\n",
       "      <td>4</td>\n",
       "      <td>100</td>\n",
       "      <td>10</td>\n",
       "      <td>0.8</td>\n",
       "      <td>{'algoritmo__colsample_bytree': 0.9, 'algoritm...</td>\n",
       "      <td>-0.360658</td>\n",
       "      <td>-0.397694</td>\n",
       "      <td>-0.398298</td>\n",
       "      <td>-0.379442</td>\n",
       "      <td>-0.406761</td>\n",
       "      <td>-0.388571</td>\n",
       "      <td>0.016560</td>\n",
       "      <td>725</td>\n",
       "    </tr>\n",
       "    <tr>\n",
       "      <th>303</th>\n",
       "      <td>0.108767</td>\n",
       "      <td>0.007046</td>\n",
       "      <td>0.009279</td>\n",
       "      <td>0.000866</td>\n",
       "      <td>0.9</td>\n",
       "      <td>0.01</td>\n",
       "      <td>5</td>\n",
       "      <td>100</td>\n",
       "      <td>10</td>\n",
       "      <td>0.8</td>\n",
       "      <td>{'algoritmo__colsample_bytree': 0.9, 'algoritm...</td>\n",
       "      <td>-0.360658</td>\n",
       "      <td>-0.397694</td>\n",
       "      <td>-0.398396</td>\n",
       "      <td>-0.379442</td>\n",
       "      <td>-0.406761</td>\n",
       "      <td>-0.388590</td>\n",
       "      <td>0.016571</td>\n",
       "      <td>726</td>\n",
       "    </tr>\n",
       "    <tr>\n",
       "      <th>492</th>\n",
       "      <td>0.129765</td>\n",
       "      <td>0.011961</td>\n",
       "      <td>0.009779</td>\n",
       "      <td>0.000674</td>\n",
       "      <td>1.0</td>\n",
       "      <td>0.01</td>\n",
       "      <td>3</td>\n",
       "      <td>100</td>\n",
       "      <td>10</td>\n",
       "      <td>0.8</td>\n",
       "      <td>{'algoritmo__colsample_bytree': 1.0, 'algoritm...</td>\n",
       "      <td>-0.360262</td>\n",
       "      <td>-0.397845</td>\n",
       "      <td>-0.397939</td>\n",
       "      <td>-0.381529</td>\n",
       "      <td>-0.406530</td>\n",
       "      <td>-0.388821</td>\n",
       "      <td>0.016413</td>\n",
       "      <td>727</td>\n",
       "    </tr>\n",
       "    <tr>\n",
       "      <th>519</th>\n",
       "      <td>0.116981</td>\n",
       "      <td>0.010458</td>\n",
       "      <td>0.010780</td>\n",
       "      <td>0.001586</td>\n",
       "      <td>1.0</td>\n",
       "      <td>0.01</td>\n",
       "      <td>4</td>\n",
       "      <td>100</td>\n",
       "      <td>10</td>\n",
       "      <td>0.8</td>\n",
       "      <td>{'algoritmo__colsample_bytree': 1.0, 'algoritm...</td>\n",
       "      <td>-0.360262</td>\n",
       "      <td>-0.397845</td>\n",
       "      <td>-0.398128</td>\n",
       "      <td>-0.381529</td>\n",
       "      <td>-0.406530</td>\n",
       "      <td>-0.388859</td>\n",
       "      <td>0.016434</td>\n",
       "      <td>728</td>\n",
       "    </tr>\n",
       "    <tr>\n",
       "      <th>546</th>\n",
       "      <td>0.119601</td>\n",
       "      <td>0.008410</td>\n",
       "      <td>0.012456</td>\n",
       "      <td>0.004963</td>\n",
       "      <td>1.0</td>\n",
       "      <td>0.01</td>\n",
       "      <td>5</td>\n",
       "      <td>100</td>\n",
       "      <td>10</td>\n",
       "      <td>0.8</td>\n",
       "      <td>{'algoritmo__colsample_bytree': 1.0, 'algoritm...</td>\n",
       "      <td>-0.360262</td>\n",
       "      <td>-0.397845</td>\n",
       "      <td>-0.398226</td>\n",
       "      <td>-0.381529</td>\n",
       "      <td>-0.406530</td>\n",
       "      <td>-0.388878</td>\n",
       "      <td>0.016445</td>\n",
       "      <td>729</td>\n",
       "    </tr>\n",
       "  </tbody>\n",
       "</table>\n",
       "<p>729 rows × 19 columns</p>\n",
       "</div>"
      ],
      "text/plain": [
       "     mean_fit_time  std_fit_time  mean_score_time  std_score_time  \\\n",
       "81        0.120246      0.003332         0.009775        0.001466   \n",
       "327       0.125888      0.009480         0.009574        0.000798   \n",
       "84        0.117609      0.005707         0.009774        0.001716   \n",
       "82        0.120085      0.004877         0.010173        0.000747   \n",
       "324       0.119418      0.005978         0.009079        0.000204   \n",
       "..             ...           ...              ...             ...   \n",
       "276       0.110628      0.010015         0.008977        0.000630   \n",
       "303       0.108767      0.007046         0.009279        0.000866   \n",
       "492       0.129765      0.011961         0.009779        0.000674   \n",
       "519       0.116981      0.010458         0.010780        0.001586   \n",
       "546       0.119601      0.008410         0.012456        0.004963   \n",
       "\n",
       "    param_algoritmo__colsample_bytree param_algoritmo__learning_rate  \\\n",
       "81                                0.8                            0.1   \n",
       "327                               0.9                            0.1   \n",
       "84                                0.8                            0.1   \n",
       "82                                0.8                            0.1   \n",
       "324                               0.9                            0.1   \n",
       "..                                ...                            ...   \n",
       "276                               0.9                           0.01   \n",
       "303                               0.9                           0.01   \n",
       "492                               1.0                           0.01   \n",
       "519                               1.0                           0.01   \n",
       "546                               1.0                           0.01   \n",
       "\n",
       "    param_algoritmo__max_depth param_algoritmo__n_estimators  \\\n",
       "81                           3                           100   \n",
       "327                          3                           100   \n",
       "84                           3                           100   \n",
       "82                           3                           100   \n",
       "324                          3                           100   \n",
       "..                         ...                           ...   \n",
       "276                          4                           100   \n",
       "303                          5                           100   \n",
       "492                          3                           100   \n",
       "519                          4                           100   \n",
       "546                          5                           100   \n",
       "\n",
       "    param_algoritmo__reg_lambda param_algoritmo__subsample  \\\n",
       "81                          0.1                        0.8   \n",
       "327                           1                        0.8   \n",
       "84                            1                        0.8   \n",
       "82                          0.1                        0.9   \n",
       "324                         0.1                        0.8   \n",
       "..                          ...                        ...   \n",
       "276                          10                        0.8   \n",
       "303                          10                        0.8   \n",
       "492                          10                        0.8   \n",
       "519                          10                        0.8   \n",
       "546                          10                        0.8   \n",
       "\n",
       "                                                params  split0_test_score  \\\n",
       "81   {'algoritmo__colsample_bytree': 0.8, 'algoritm...          -0.126877   \n",
       "327  {'algoritmo__colsample_bytree': 0.9, 'algoritm...          -0.120150   \n",
       "84   {'algoritmo__colsample_bytree': 0.8, 'algoritm...          -0.125266   \n",
       "82   {'algoritmo__colsample_bytree': 0.8, 'algoritm...          -0.130295   \n",
       "324  {'algoritmo__colsample_bytree': 0.9, 'algoritm...          -0.132483   \n",
       "..                                                 ...                ...   \n",
       "276  {'algoritmo__colsample_bytree': 0.9, 'algoritm...          -0.360658   \n",
       "303  {'algoritmo__colsample_bytree': 0.9, 'algoritm...          -0.360658   \n",
       "492  {'algoritmo__colsample_bytree': 1.0, 'algoritm...          -0.360262   \n",
       "519  {'algoritmo__colsample_bytree': 1.0, 'algoritm...          -0.360262   \n",
       "546  {'algoritmo__colsample_bytree': 1.0, 'algoritm...          -0.360262   \n",
       "\n",
       "     split1_test_score  split2_test_score  split3_test_score  \\\n",
       "81           -0.067275          -0.097699          -0.093336   \n",
       "327          -0.064963          -0.100321          -0.111640   \n",
       "84           -0.063485          -0.100035          -0.109928   \n",
       "82           -0.069689          -0.098361          -0.099494   \n",
       "324          -0.065237          -0.100868          -0.098698   \n",
       "..                 ...                ...                ...   \n",
       "276          -0.397694          -0.398298          -0.379442   \n",
       "303          -0.397694          -0.398396          -0.379442   \n",
       "492          -0.397845          -0.397939          -0.381529   \n",
       "519          -0.397845          -0.398128          -0.381529   \n",
       "546          -0.397845          -0.398226          -0.381529   \n",
       "\n",
       "     split4_test_score  mean_test_score  std_test_score  rank_test_score  \n",
       "81           -0.106549        -0.098347        0.019351                1  \n",
       "327          -0.101897        -0.099794        0.018828                2  \n",
       "84           -0.102736        -0.100290        0.020383                3  \n",
       "82           -0.106844        -0.100937        0.019401                4  \n",
       "324          -0.109598        -0.101377        0.021674                5  \n",
       "..                 ...              ...             ...              ...  \n",
       "276          -0.406761        -0.388571        0.016560              725  \n",
       "303          -0.406761        -0.388590        0.016571              726  \n",
       "492          -0.406530        -0.388821        0.016413              727  \n",
       "519          -0.406530        -0.388859        0.016434              728  \n",
       "546          -0.406530        -0.388878        0.016445              729  \n",
       "\n",
       "[729 rows x 19 columns]"
      ]
     },
     "execution_count": 9,
     "metadata": {},
     "output_type": "execute_result"
    }
   ],
   "source": [
    "grid_search = GridSearchCV(estimator= pipe, \n",
    "                           param_grid = grid, \n",
    "                           cv = 5, \n",
    "                           scoring = 'neg_mean_absolute_percentage_error',\n",
    "                           verbose = 0,\n",
    "                           n_jobs = -1)\n",
    "\n",
    "modelo = grid_search.fit(train_x,train_y)\n",
    "\n",
    "pd.DataFrame(grid_search.cv_results_).sort_values(by = 'rank_test_score')"
   ]
  },
  {
   "cell_type": "code",
   "execution_count": 10,
   "metadata": {},
   "outputs": [
    {
     "data": {
      "text/html": [
       "<style>#sk-container-id-1 {color: black;background-color: white;}#sk-container-id-1 pre{padding: 0;}#sk-container-id-1 div.sk-toggleable {background-color: white;}#sk-container-id-1 label.sk-toggleable__label {cursor: pointer;display: block;width: 100%;margin-bottom: 0;padding: 0.3em;box-sizing: border-box;text-align: center;}#sk-container-id-1 label.sk-toggleable__label-arrow:before {content: \"▸\";float: left;margin-right: 0.25em;color: #696969;}#sk-container-id-1 label.sk-toggleable__label-arrow:hover:before {color: black;}#sk-container-id-1 div.sk-estimator:hover label.sk-toggleable__label-arrow:before {color: black;}#sk-container-id-1 div.sk-toggleable__content {max-height: 0;max-width: 0;overflow: hidden;text-align: left;background-color: #f0f8ff;}#sk-container-id-1 div.sk-toggleable__content pre {margin: 0.2em;color: black;border-radius: 0.25em;background-color: #f0f8ff;}#sk-container-id-1 input.sk-toggleable__control:checked~div.sk-toggleable__content {max-height: 200px;max-width: 100%;overflow: auto;}#sk-container-id-1 input.sk-toggleable__control:checked~label.sk-toggleable__label-arrow:before {content: \"▾\";}#sk-container-id-1 div.sk-estimator input.sk-toggleable__control:checked~label.sk-toggleable__label {background-color: #d4ebff;}#sk-container-id-1 div.sk-label input.sk-toggleable__control:checked~label.sk-toggleable__label {background-color: #d4ebff;}#sk-container-id-1 input.sk-hidden--visually {border: 0;clip: rect(1px 1px 1px 1px);clip: rect(1px, 1px, 1px, 1px);height: 1px;margin: -1px;overflow: hidden;padding: 0;position: absolute;width: 1px;}#sk-container-id-1 div.sk-estimator {font-family: monospace;background-color: #f0f8ff;border: 1px dotted black;border-radius: 0.25em;box-sizing: border-box;margin-bottom: 0.5em;}#sk-container-id-1 div.sk-estimator:hover {background-color: #d4ebff;}#sk-container-id-1 div.sk-parallel-item::after {content: \"\";width: 100%;border-bottom: 1px solid gray;flex-grow: 1;}#sk-container-id-1 div.sk-label:hover label.sk-toggleable__label {background-color: #d4ebff;}#sk-container-id-1 div.sk-serial::before {content: \"\";position: absolute;border-left: 1px solid gray;box-sizing: border-box;top: 0;bottom: 0;left: 50%;z-index: 0;}#sk-container-id-1 div.sk-serial {display: flex;flex-direction: column;align-items: center;background-color: white;padding-right: 0.2em;padding-left: 0.2em;position: relative;}#sk-container-id-1 div.sk-item {position: relative;z-index: 1;}#sk-container-id-1 div.sk-parallel {display: flex;align-items: stretch;justify-content: center;background-color: white;position: relative;}#sk-container-id-1 div.sk-item::before, #sk-container-id-1 div.sk-parallel-item::before {content: \"\";position: absolute;border-left: 1px solid gray;box-sizing: border-box;top: 0;bottom: 0;left: 50%;z-index: -1;}#sk-container-id-1 div.sk-parallel-item {display: flex;flex-direction: column;z-index: 1;position: relative;background-color: white;}#sk-container-id-1 div.sk-parallel-item:first-child::after {align-self: flex-end;width: 50%;}#sk-container-id-1 div.sk-parallel-item:last-child::after {align-self: flex-start;width: 50%;}#sk-container-id-1 div.sk-parallel-item:only-child::after {width: 0;}#sk-container-id-1 div.sk-dashed-wrapped {border: 1px dashed gray;margin: 0 0.4em 0.5em 0.4em;box-sizing: border-box;padding-bottom: 0.4em;background-color: white;}#sk-container-id-1 div.sk-label label {font-family: monospace;font-weight: bold;display: inline-block;line-height: 1.2em;}#sk-container-id-1 div.sk-label-container {text-align: center;}#sk-container-id-1 div.sk-container {/* jupyter's `normalize.less` sets `[hidden] { display: none; }` but bootstrap.min.css set `[hidden] { display: none !important; }` so we also need the `!important` here to be able to override the default hidden behavior on the sphinx rendered scikit-learn.org. See: https://github.com/scikit-learn/scikit-learn/issues/21755 */display: inline-block !important;position: relative;}#sk-container-id-1 div.sk-text-repr-fallback {display: none;}</style><div id=\"sk-container-id-1\" class=\"sk-top-container\"><div class=\"sk-text-repr-fallback\"><pre>Pipeline(steps=[(&#x27;algoritmo&#x27;,\n",
       "                 XGBRegressor(base_score=None, booster=None, callbacks=None,\n",
       "                              colsample_bylevel=None, colsample_bynode=None,\n",
       "                              colsample_bytree=0.8, early_stopping_rounds=None,\n",
       "                              enable_categorical=False, eval_metric=None,\n",
       "                              feature_types=None, gamma=None, gpu_id=None,\n",
       "                              grow_policy=None, importance_type=None,\n",
       "                              interaction_constraints=None, learning_rate=0.1,\n",
       "                              max_bin=None, max_cat_threshold=None,\n",
       "                              max_cat_to_onehot=None, max_delta_step=None,\n",
       "                              max_depth=3, max_leaves=None,\n",
       "                              min_child_weight=None, missing=nan,\n",
       "                              monotone_constraints=None, n_estimators=100,\n",
       "                              n_jobs=None, num_parallel_tree=None,\n",
       "                              predictor=None, random_state=None, ...))])</pre><b>In a Jupyter environment, please rerun this cell to show the HTML representation or trust the notebook. <br />On GitHub, the HTML representation is unable to render, please try loading this page with nbviewer.org.</b></div><div class=\"sk-container\" hidden><div class=\"sk-item sk-dashed-wrapped\"><div class=\"sk-label-container\"><div class=\"sk-label sk-toggleable\"><input class=\"sk-toggleable__control sk-hidden--visually\" id=\"sk-estimator-id-1\" type=\"checkbox\" ><label for=\"sk-estimator-id-1\" class=\"sk-toggleable__label sk-toggleable__label-arrow\">Pipeline</label><div class=\"sk-toggleable__content\"><pre>Pipeline(steps=[(&#x27;algoritmo&#x27;,\n",
       "                 XGBRegressor(base_score=None, booster=None, callbacks=None,\n",
       "                              colsample_bylevel=None, colsample_bynode=None,\n",
       "                              colsample_bytree=0.8, early_stopping_rounds=None,\n",
       "                              enable_categorical=False, eval_metric=None,\n",
       "                              feature_types=None, gamma=None, gpu_id=None,\n",
       "                              grow_policy=None, importance_type=None,\n",
       "                              interaction_constraints=None, learning_rate=0.1,\n",
       "                              max_bin=None, max_cat_threshold=None,\n",
       "                              max_cat_to_onehot=None, max_delta_step=None,\n",
       "                              max_depth=3, max_leaves=None,\n",
       "                              min_child_weight=None, missing=nan,\n",
       "                              monotone_constraints=None, n_estimators=100,\n",
       "                              n_jobs=None, num_parallel_tree=None,\n",
       "                              predictor=None, random_state=None, ...))])</pre></div></div></div><div class=\"sk-serial\"><div class=\"sk-item\"><div class=\"sk-estimator sk-toggleable\"><input class=\"sk-toggleable__control sk-hidden--visually\" id=\"sk-estimator-id-2\" type=\"checkbox\" ><label for=\"sk-estimator-id-2\" class=\"sk-toggleable__label sk-toggleable__label-arrow\">XGBRegressor</label><div class=\"sk-toggleable__content\"><pre>XGBRegressor(base_score=None, booster=None, callbacks=None,\n",
       "             colsample_bylevel=None, colsample_bynode=None,\n",
       "             colsample_bytree=0.8, early_stopping_rounds=None,\n",
       "             enable_categorical=False, eval_metric=None, feature_types=None,\n",
       "             gamma=None, gpu_id=None, grow_policy=None, importance_type=None,\n",
       "             interaction_constraints=None, learning_rate=0.1, max_bin=None,\n",
       "             max_cat_threshold=None, max_cat_to_onehot=None,\n",
       "             max_delta_step=None, max_depth=3, max_leaves=None,\n",
       "             min_child_weight=None, missing=nan, monotone_constraints=None,\n",
       "             n_estimators=100, n_jobs=None, num_parallel_tree=None,\n",
       "             predictor=None, random_state=None, ...)</pre></div></div></div></div></div></div></div>"
      ],
      "text/plain": [
       "Pipeline(steps=[('algoritmo',\n",
       "                 XGBRegressor(base_score=None, booster=None, callbacks=None,\n",
       "                              colsample_bylevel=None, colsample_bynode=None,\n",
       "                              colsample_bytree=0.8, early_stopping_rounds=None,\n",
       "                              enable_categorical=False, eval_metric=None,\n",
       "                              feature_types=None, gamma=None, gpu_id=None,\n",
       "                              grow_policy=None, importance_type=None,\n",
       "                              interaction_constraints=None, learning_rate=0.1,\n",
       "                              max_bin=None, max_cat_threshold=None,\n",
       "                              max_cat_to_onehot=None, max_delta_step=None,\n",
       "                              max_depth=3, max_leaves=None,\n",
       "                              min_child_weight=None, missing=nan,\n",
       "                              monotone_constraints=None, n_estimators=100,\n",
       "                              n_jobs=None, num_parallel_tree=None,\n",
       "                              predictor=None, random_state=None, ...))])"
      ]
     },
     "execution_count": 10,
     "metadata": {},
     "output_type": "execute_result"
    }
   ],
   "source": [
    "modelo.best_estimator_"
   ]
  },
  {
   "cell_type": "code",
   "execution_count": 11,
   "metadata": {},
   "outputs": [
    {
     "data": {
      "text/plain": [
       "{'algoritmo__colsample_bytree': 0.8,\n",
       " 'algoritmo__learning_rate': 0.1,\n",
       " 'algoritmo__max_depth': 3,\n",
       " 'algoritmo__n_estimators': 100,\n",
       " 'algoritmo__reg_lambda': 0.1,\n",
       " 'algoritmo__subsample': 0.8}"
      ]
     },
     "execution_count": 11,
     "metadata": {},
     "output_type": "execute_result"
    }
   ],
   "source": [
    "modelo.best_params_"
   ]
  },
  {
   "cell_type": "code",
   "execution_count": 12,
   "metadata": {},
   "outputs": [
    {
     "data": {
      "text/plain": [
       "-0.09834706351636516"
      ]
     },
     "execution_count": 12,
     "metadata": {},
     "output_type": "execute_result"
    }
   ],
   "source": [
    "modelo.best_score_"
   ]
  },
  {
   "cell_type": "markdown",
   "metadata": {},
   "source": [
    "### CREAR PICKLE DE MODELO.BEST_ESTIMATOR y PARÁMETROS"
   ]
  },
  {
   "cell_type": "code",
   "execution_count": 13,
   "metadata": {},
   "outputs": [],
   "source": [
    "modelo_best_estimator = modelo"
   ]
  },
  {
   "cell_type": "markdown",
   "metadata": {},
   "source": [
    "#### Guardamos modelo, parámetros y score"
   ]
  },
  {
   "cell_type": "code",
   "execution_count": 14,
   "metadata": {},
   "outputs": [],
   "source": [
    "m_best_estimator = str(modelo.best_estimator_[0])\n",
    "m_best_estimator = m_best_estimator.split('(')[0]\n",
    "m_best_params = str(modelo.best_params_)\n",
    "m_best_score = str(modelo.best_score_)"
   ]
  },
  {
   "attachments": {},
   "cell_type": "markdown",
   "metadata": {},
   "source": [
    "## EVALUAR"
   ]
  },
  {
   "cell_type": "markdown",
   "metadata": {},
   "source": [
    "### EVALUAR SOBRE EL TRAIN"
   ]
  },
  {
   "cell_type": "code",
   "execution_count": 15,
   "metadata": {},
   "outputs": [
    {
     "name": "stdout",
     "output_type": "stream",
     "text": [
      "%mape: 0.046061256247883056\n",
      "Coeficiente de determinación: 0.9750687742997274\n",
      "MAE: 0.9869250243749372\n",
      "RMSE: 1.5183759385323257\n"
     ]
    }
   ],
   "source": [
    "pred = modelo.best_estimator_.predict(train_x)\n",
    "t_mape = mean_absolute_percentage_error(train_y, pred)\n",
    "t_coef_determinacion = r2_score(train_y,pred)\n",
    "t_mae = mean_absolute_error(train_y, pred)\n",
    "t_rmse =  mean_squared_error(train_y,pred,squared='False')\n",
    "\n",
    "print(\"%mape:\", t_mape )\n",
    "print(\"Coeficiente de determinación:\", t_coef_determinacion)\n",
    "print(\"MAE:\", t_mae)\n",
    "print(\"RMSE:\",t_rmse)\n"
   ]
  },
  {
   "attachments": {},
   "cell_type": "markdown",
   "metadata": {},
   "source": [
    "### PREDECIR SOBRE LA VALIDACIÓN"
   ]
  },
  {
   "cell_type": "code",
   "execution_count": 16,
   "metadata": {},
   "outputs": [],
   "source": [
    "pred = modelo.best_estimator_.predict(val_x)"
   ]
  },
  {
   "attachments": {},
   "cell_type": "markdown",
   "metadata": {},
   "source": [
    "### EVALUAR SOBRE LA VALIDACIÓN"
   ]
  },
  {
   "cell_type": "code",
   "execution_count": 17,
   "metadata": {},
   "outputs": [
    {
     "name": "stdout",
     "output_type": "stream",
     "text": [
      "%mape: 0.10347982529136608\n",
      "Coeficiente de determinación: 0.7854291831016502\n",
      "MAE: 2.3449712140219554\n",
      "RMSE: 12.100731862376128\n"
     ]
    }
   ],
   "source": [
    "v_mape = mean_absolute_percentage_error(val_y, pred)\n",
    "v_coef_determinacion = r2_score(val_y,pred)\n",
    "v_mae = mean_absolute_error(val_y, pred)\n",
    "v_rmse =  mean_squared_error(val_y,pred,squared='False')\n",
    "\n",
    "\n",
    "print(\"%mape:\", v_mape)\n",
    "print(\"Coeficiente de determinación:\", v_coef_determinacion)\n",
    "print(\"MAE:\", v_mae)\n",
    "print(\"RMSE:\", v_rmse)"
   ]
  },
  {
   "cell_type": "markdown",
   "metadata": {},
   "source": [
    "#### Gráfico entre la diferencia entre la validación y el original"
   ]
  },
  {
   "cell_type": "code",
   "execution_count": 18,
   "metadata": {},
   "outputs": [
    {
     "data": {
      "text/html": [
       "<div>\n",
       "<style scoped>\n",
       "    .dataframe tbody tr th:only-of-type {\n",
       "        vertical-align: middle;\n",
       "    }\n",
       "\n",
       "    .dataframe tbody tr th {\n",
       "        vertical-align: top;\n",
       "    }\n",
       "\n",
       "    .dataframe thead th {\n",
       "        text-align: right;\n",
       "    }\n",
       "</style>\n",
       "<table border=\"1\" class=\"dataframe\">\n",
       "  <thead>\n",
       "    <tr style=\"text-align: right;\">\n",
       "      <th></th>\n",
       "      <th>index</th>\n",
       "      <th>mpg</th>\n",
       "      <th>pred</th>\n",
       "      <th>dif</th>\n",
       "    </tr>\n",
       "  </thead>\n",
       "  <tbody>\n",
       "    <tr>\n",
       "      <th>83</th>\n",
       "      <td>231</td>\n",
       "      <td>43.4</td>\n",
       "      <td>28.769905</td>\n",
       "      <td>14.630095</td>\n",
       "    </tr>\n",
       "    <tr>\n",
       "      <th>81</th>\n",
       "      <td>271</td>\n",
       "      <td>38.0</td>\n",
       "      <td>25.539650</td>\n",
       "      <td>12.460350</td>\n",
       "    </tr>\n",
       "    <tr>\n",
       "      <th>72</th>\n",
       "      <td>236</td>\n",
       "      <td>32.7</td>\n",
       "      <td>22.266655</td>\n",
       "      <td>10.433345</td>\n",
       "    </tr>\n",
       "    <tr>\n",
       "      <th>47</th>\n",
       "      <td>237</td>\n",
       "      <td>23.7</td>\n",
       "      <td>33.884846</td>\n",
       "      <td>10.184846</td>\n",
       "    </tr>\n",
       "    <tr>\n",
       "      <th>76</th>\n",
       "      <td>261</td>\n",
       "      <td>34.0</td>\n",
       "      <td>27.870913</td>\n",
       "      <td>6.129087</td>\n",
       "    </tr>\n",
       "    <tr>\n",
       "      <th>36</th>\n",
       "      <td>258</td>\n",
       "      <td>20.2</td>\n",
       "      <td>25.903500</td>\n",
       "      <td>5.703500</td>\n",
       "    </tr>\n",
       "    <tr>\n",
       "      <th>20</th>\n",
       "      <td>259</td>\n",
       "      <td>17.6</td>\n",
       "      <td>22.843191</td>\n",
       "      <td>5.243191</td>\n",
       "    </tr>\n",
       "    <tr>\n",
       "      <th>75</th>\n",
       "      <td>234</td>\n",
       "      <td>33.8</td>\n",
       "      <td>38.705540</td>\n",
       "      <td>4.905540</td>\n",
       "    </tr>\n",
       "    <tr>\n",
       "      <th>32</th>\n",
       "      <td>194</td>\n",
       "      <td>19.8</td>\n",
       "      <td>24.001799</td>\n",
       "      <td>4.201799</td>\n",
       "    </tr>\n",
       "    <tr>\n",
       "      <th>10</th>\n",
       "      <td>86</td>\n",
       "      <td>15.0</td>\n",
       "      <td>19.195095</td>\n",
       "      <td>4.195095</td>\n",
       "    </tr>\n",
       "  </tbody>\n",
       "</table>\n",
       "</div>"
      ],
      "text/plain": [
       "    index   mpg       pred        dif\n",
       "83    231  43.4  28.769905  14.630095\n",
       "81    271  38.0  25.539650  12.460350\n",
       "72    236  32.7  22.266655  10.433345\n",
       "47    237  23.7  33.884846  10.184846\n",
       "76    261  34.0  27.870913   6.129087\n",
       "36    258  20.2  25.903500   5.703500\n",
       "20    259  17.6  22.843191   5.243191\n",
       "75    234  33.8  38.705540   4.905540\n",
       "32    194  19.8  24.001799   4.201799\n",
       "10     86  15.0  19.195095   4.195095"
      ]
     },
     "execution_count": 18,
     "metadata": {},
     "output_type": "execute_result"
    }
   ],
   "source": [
    "test_y = val_y.reset_index().copy()\n",
    "test_pred = pd.Series(pred).to_frame()\n",
    "df_pred = pd.concat([test_y,test_pred], axis= 1).sort_values(by='mpg').reset_index()\n",
    "df_pred.rename(columns = {0:'pred'}, inplace = True)\n",
    "df_pred = df_pred.drop(columns= ['level_0'])\n",
    "df_pred['dif'] = abs(df_pred['mpg']-df_pred['pred'])\n",
    "# Diferencia entre predicción y validación\n",
    "df_pred.sort_values(by = 'dif', ascending = False).head(10)"
   ]
  },
  {
   "cell_type": "markdown",
   "metadata": {},
   "source": [
    "- Quitaremos estos atípicos para mejor el modelo (index 85 y 273)"
   ]
  },
  {
   "cell_type": "code",
   "execution_count": 19,
   "metadata": {},
   "outputs": [
    {
     "data": {
      "image/png": "[encoded data removed]",
      "text/plain": [
       "<Figure size 1600x500 with 1 Axes>"
      ]
     },
     "metadata": {},
     "output_type": "display_data"
    }
   ],
   "source": [
    "df_pred[['mpg','pred']].plot(figsize=(16,5));"
   ]
  },
  {
   "cell_type": "markdown",
   "metadata": {},
   "source": [
    "## Gráficios de validación modelos de regresión"
   ]
  },
  {
   "cell_type": "markdown",
   "metadata": {},
   "source": [
    "1. Gráfico de dispersión de valores reales vs. valores predichos: "
   ]
  },
  {
   "cell_type": "markdown",
   "metadata": {},
   "source": [
    "Este gráfico muestra los puntos de datos observados en un diagrama de dispersión, y superpone la línea de regresión que representa la relación lineal ajustada por el modelo. Puedes utilizar este gráfico para evaluar visualmente cómo se ajusta la línea de regresión a los datos observados."
   ]
  },
  {
   "cell_type": "code",
   "execution_count": 20,
   "metadata": {},
   "outputs": [
    {
     "data": {
      "image/png": "[encoded data removed]",
      "text/plain": [
       "<Figure size 640x480 with 1 Axes>"
      ]
     },
     "metadata": {},
     "output_type": "display_data"
    }
   ],
   "source": [
    "import matplotlib.pyplot as plt\n",
    "\n",
    "# y = target: Valores reales\n",
    "# pred - predicción: Valores predichos por el modelo\n",
    "\n",
    "plt.scatter(val_y, pred)\n",
    "plt.plot([min(val_y), max(val_y)], [min(val_y), max(val_y)], color='red')  # Línea diagonal\n",
    "plt.xlabel('Valores Reales')\n",
    "plt.ylabel('Valores Predichos')\n",
    "plt.title('Gráfico de dispersión de valores reales vs. valores predichos')\n",
    "plt.show()\n"
   ]
  },
  {
   "cell_type": "markdown",
   "metadata": {},
   "source": [
    "2. Gráfico de residuos vs. valores predichos: \n"
   ]
  },
  {
   "cell_type": "markdown",
   "metadata": {},
   "source": [
    "Un gráfico de residuos muestra los residuos (diferencias entre los valores observados y los valores predichos por el modelo) en función de los valores ajustados o las variables independientes. Este gráfico puede ayudarte a verificar si los residuos tienen algún patrón sistemático, como una relación no lineal o una heterocedasticidad."
   ]
  },
  {
   "cell_type": "code",
   "execution_count": 21,
   "metadata": {},
   "outputs": [
    {
     "data": {
      "image/png": "[encoded data removed]",
      "text/plain": [
       "<Figure size 640x480 with 1 Axes>"
      ]
     },
     "metadata": {},
     "output_type": "display_data"
    }
   ],
   "source": [
    "residuos = val_y - pred\n",
    "\n",
    "plt.scatter(pred, residuos)\n",
    "plt.axhline(y=0, color='red')  # Línea horizontal en cero\n",
    "plt.xlabel('Valores Predichos')\n",
    "plt.ylabel('Residuos')\n",
    "plt.title('Gráfico de residuos vs. valores predichos')\n",
    "plt.show()\n"
   ]
  },
  {
   "cell_type": "markdown",
   "metadata": {},
   "source": [
    "3. Histograma de residuos:"
   ]
  },
  {
   "cell_type": "markdown",
   "metadata": {},
   "source": [
    " Este gráfico muestra la distribución de los residuos del modelo. Puedes utilizar un histograma o un gráfico de densidad para visualizar cómo se distribuyen los residuos y verificar si siguen una distribución aproximadamente normal."
   ]
  },
  {
   "cell_type": "code",
   "execution_count": 22,
   "metadata": {},
   "outputs": [
    {
     "data": {
      "image/png": "[encoded data removed]",
      "text/plain": [
       "<Figure size 640x480 with 1 Axes>"
      ]
     },
     "metadata": {},
     "output_type": "display_data"
    }
   ],
   "source": [
    "plt.hist(residuos, bins=30)\n",
    "plt.xlabel('Residuos')\n",
    "plt.ylabel('Frecuencia')\n",
    "plt.title('Histograma de residuos')\n",
    "plt.show()"
   ]
  },
  {
   "cell_type": "markdown",
   "metadata": {},
   "source": [
    "4. Gráfico de Q-Q (cuantil-cuantil):"
   ]
  },
  {
   "cell_type": "markdown",
   "metadata": {},
   "source": [
    "Este gráfico compara los cuantiles de los residuos con los cuantiles esperados de una distribución normal. Puede ayudarte a evaluar si los residuos siguen una distribución normal."
   ]
  },
  {
   "cell_type": "code",
   "execution_count": 23,
   "metadata": {},
   "outputs": [
    {
     "data": {
      "image/png": "[encoded data removed]",
      "text/plain": [
       "<Figure size 640x480 with 1 Axes>"
      ]
     },
     "metadata": {},
     "output_type": "display_data"
    }
   ],
   "source": [
    "import scipy.stats as stats\n",
    "\n",
    "stats.probplot(residuos, dist=\"norm\", plot=plt)\n",
    "plt.xlabel('Cuantiles Teóricos')\n",
    "plt.ylabel('Cuantiles de los Residuos')\n",
    "plt.show()\n"
   ]
  },
  {
   "cell_type": "markdown",
   "metadata": {},
   "source": [
    "5. Gráfico de influencia:"
   ]
  },
  {
   "cell_type": "markdown",
   "metadata": {},
   "source": [
    "Un gráfico de influencia muestra la influencia de cada observación en el ajuste del modelo. Puede ayudarte a identificar puntos atípicos o valores influyentes que pueden tener un impacto significativo en los resultados de la regresión."
   ]
  },
  {
   "cell_type": "code",
   "execution_count": 24,
   "metadata": {},
   "outputs": [
    {
     "data": {
      "image/png": "[encoded data removed]",
      "text/plain": [
       "<Figure size 640x480 with 1 Axes>"
      ]
     },
     "metadata": {},
     "output_type": "display_data"
    }
   ],
   "source": [
    "import statsmodels.api as sm\n",
    "\n",
    "infl = sm.OLS(val_y, sm.add_constant(pred)).fit().get_influence()\n",
    "residuos_estudentizados = infl.resid_studentized_external\n",
    "\n",
    "plt.scatter(pred, residuos_estudentizados)\n",
    "plt.axhline(y=0, color='r', linestyle='-', label='Residuos Estudentizados = 0')\n",
    "plt.xlabel('Valores Ajustados')\n",
    "plt.ylabel('Residuos Estudentizados')\n",
    "plt.legend()\n",
    "plt.show()"
   ]
  },
  {
   "cell_type": "code",
   "execution_count": 25,
   "metadata": {},
   "outputs": [
    {
     "data": {
      "text/plain": [
       "array([ 5, 12, 37, 49], dtype=int64)"
      ]
     },
     "execution_count": 25,
     "metadata": {},
     "output_type": "execute_result"
    }
   ],
   "source": [
    "# Paso 3: Definir umbral para Valores Atípicos\n",
    "std_dev_threshold = 2  # Umbral en desviaciones estándar\n",
    "\n",
    "# Paso 4: Identificación de Atípicos\n",
    "outliers_indices = np.where(np.abs(residuos) > std_dev_threshold * np.std(residuos))[0]\n",
    "outliers_indices"
   ]
  },
  {
   "cell_type": "code",
   "execution_count": 26,
   "metadata": {},
   "outputs": [
    {
     "data": {
      "text/plain": [
       "20.0"
      ]
     },
     "execution_count": 26,
     "metadata": {},
     "output_type": "execute_result"
    }
   ],
   "source": [
    "val_y.iloc[3]"
   ]
  },
  {
   "cell_type": "markdown",
   "metadata": {},
   "source": [
    "# GUARDAR BEST_ESTIMATOR, PARÁMETROS Y RESULTADOS DEL TEST Y LA VALIDACIÓN"
   ]
  },
  {
   "cell_type": "markdown",
   "metadata": {},
   "source": [
    "#### Guardar el mejor estimador"
   ]
  },
  {
   "cell_type": "code",
   "execution_count": 27,
   "metadata": {},
   "outputs": [
    {
     "data": {
      "text/plain": [
       "'v7_XGBRegressor.pickle'"
      ]
     },
     "execution_count": 27,
     "metadata": {},
     "output_type": "execute_result"
    }
   ],
   "source": [
    "version_estimator = 'v7_'\n",
    "nombre_best_estimator = version_estimator + m_best_estimator +  '.pickle'\n",
    "nombre_best_estimator"
   ]
  },
  {
   "cell_type": "code",
   "execution_count": 28,
   "metadata": {},
   "outputs": [
    {
     "data": {
      "text/plain": [
       "'XGBRegressor'"
      ]
     },
     "execution_count": 28,
     "metadata": {},
     "output_type": "execute_result"
    }
   ],
   "source": [
    "m_best_estimator"
   ]
  },
  {
   "cell_type": "code",
   "execution_count": 29,
   "metadata": {},
   "outputs": [],
   "source": [
    "ruta_pipe_entrenamiento = '../../04_Modelos/Best_estimator/' + nombre_best_estimator\n",
    "\n",
    "with open (ruta_pipe_entrenamiento, mode= 'wb') as file:\n",
    "    cloudpickle.dump(modelo_best_estimator, file)\n"
   ]
  },
  {
   "cell_type": "markdown",
   "metadata": {},
   "source": [
    "### Guardar la información del estimador"
   ]
  },
  {
   "cell_type": "code",
   "execution_count": 30,
   "metadata": {},
   "outputs": [],
   "source": [
    "# Añadir comentarios sobre el modelo\n",
    "\n",
    "comentarios = \"Cambiamos de modelo al XGBRegressor con hiperparámetros para evitar el sobre ajuste \"\n"
   ]
  },
  {
   "cell_type": "code",
   "execution_count": 31,
   "metadata": {},
   "outputs": [
    {
     "data": {
      "text/plain": [
       "m_Best_estimator                                              XGBRegressor\n",
       "m_Best_paramans          {'algoritmo__colsample_bytree': 0.8, 'algoritm...\n",
       "m_Best_Score                                          -0.09834706351636516\n",
       "t_%mape                                                           0.046061\n",
       "t_Coef._determinacion                                             0.975069\n",
       "t_mae                                                             0.986925\n",
       "t_rmse                                                            1.518376\n",
       "v_%mape                                                            0.10348\n",
       "v_Coef._determinacion                                             0.785429\n",
       "v_mae                                                             2.344971\n",
       "v_rmse                                                           12.100732\n",
       "comentarios              Cambiamos de modelo al XGBRegressor con hiperp...\n",
       "predictoras_X            [peso_yeo_mms, caballos_yeo_mms, aceleracion_y...\n",
       "target_y                                                               mpg\n",
       "Name: v7_XGBRegressor.pickle, dtype: object"
      ]
     },
     "execution_count": 31,
     "metadata": {},
     "output_type": "execute_result"
    }
   ],
   "source": [
    "#Cargamos la lista con los resultados\n",
    "resultado  = {'m_Best_estimator': m_best_estimator,\n",
    "               'm_Best_paramans' : m_best_params,\n",
    "               'm_Best_Score': m_best_score, \n",
    "               't_%mape': t_mape, \n",
    "               't_Coef._determinacion': t_coef_determinacion, \n",
    "               't_mae': t_mae, \n",
    "               't_rmse': t_rmse, \n",
    "               'v_%mape':  v_mape, \n",
    "               'v_Coef._determinacion': v_coef_determinacion, \n",
    "               'v_mae': v_mae, \n",
    "               'v_rmse': v_rmse,\n",
    "               'comentarios': comentarios,\n",
    "               'predictoras_X': x_columns,\n",
    "               'target_y': y_target\n",
    "            }\n",
    "resultado= pd.Series(resultado,name=nombre_best_estimator)\n",
    "resultado"
   ]
  },
  {
   "cell_type": "code",
   "execution_count": 32,
   "metadata": {},
   "outputs": [],
   "source": [
    "df_best = pd.read_excel('../../04_Modelos/Best_estimator/Best_estimator.xlsx',index_col=0)\n"
   ]
  },
  {
   "cell_type": "code",
   "execution_count": 33,
   "metadata": {},
   "outputs": [],
   "source": [
    "df_best = pd.concat([df_best, resultado], ignore_index= False,axis=1)\n",
    "df_best.to_excel('../../04_Modelos/Best_estimator/Best_estimator.xlsx')"
   ]
  },
  {
   "cell_type": "markdown",
   "metadata": {},
   "source": [
    "## CONCLUSIÓN ## \n",
    "\n",
    "Tras analizar los diferentes modelos de predictivos. Nos quedaremos con el RidgeCV_v06.\n",
    "\n",
    "**PRÓXIMOS PASOS:**\n",
    "\n",
    "- Preparar datos de entrenamiento con todos los datos.\n",
    "- Evaluar los datos de validación con el modelo definitivo."
   ]
  }
 ],
 "metadata": {
  "kernelspec": {
   "display_name": "proyecto1",
   "language": "python",
   "name": "python3"
  },
  "language_info": {
   "codemirror_mode": {
    "name": "ipython",
    "version": 3
   },
   "file_extension": ".py",
   "mimetype": "text/x-python",
   "name": "python",
   "nbconvert_exporter": "python",
   "pygments_lexer": "ipython3",
   "version": "3.11.3"
  },
  "orig_nbformat": 4
 },
 "nbformat": 4,
 "nbformat_minor": 2
}
