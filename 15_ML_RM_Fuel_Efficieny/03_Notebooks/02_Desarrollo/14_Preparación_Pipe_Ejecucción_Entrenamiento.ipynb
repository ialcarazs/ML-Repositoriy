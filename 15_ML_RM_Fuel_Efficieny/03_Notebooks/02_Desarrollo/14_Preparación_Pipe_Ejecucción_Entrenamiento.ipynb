{
 "cells": [
  {
   "cell_type": "markdown",
   "metadata": {},
   "source": [
    "# 14 - PREPARACIÓN DEL CÓDIGO DE PRODUCCIÓN Y ENTRENAMIENTO"
   ]
  },
  {
   "cell_type": "markdown",
   "metadata": {},
   "source": [
    "## IMPORTAR LOS PAQUETES"
   ]
  },
  {
   "cell_type": "code",
   "execution_count": 34,
   "metadata": {},
   "outputs": [],
   "source": [
    "import numpy as np \n",
    "import pandas as pd\n",
    "import matplotlib.pyplot as plt\n",
    "%matplotlib inline\n",
    "import seaborn as sns\n",
    "\n",
    "#Transformación de datos\n",
    "from sklearn.preprocessing import OneHotEncoder\n",
    "from sklearn.preprocessing import PowerTransformer\n",
    "from sklearn.preprocessing import MinMaxScaler\n",
    "\n",
    "#Modelo\n",
    "from sklearn.linear_model import RidgeCV\n",
    "\n",
    "from sklearn.pipeline import Pipeline\n",
    "from sklearn.preprocessing import FunctionTransformer\n",
    "from sklearn.compose import make_column_transformer\n",
    "from sklearn.pipeline import make_pipeline\n",
    "\n",
    "import cloudpickle\n",
    "import joblib"
   ]
  },
  {
   "cell_type": "markdown",
   "metadata": {},
   "source": [
    "## CARGAR LOS DATOS"
   ]
  },
  {
   "cell_type": "code",
   "execution_count": 36,
   "metadata": {},
   "outputs": [
    {
     "data": {
      "text/html": [
       "<div>\n",
       "<style scoped>\n",
       "    .dataframe tbody tr th:only-of-type {\n",
       "        vertical-align: middle;\n",
       "    }\n",
       "\n",
       "    .dataframe tbody tr th {\n",
       "        vertical-align: top;\n",
       "    }\n",
       "\n",
       "    .dataframe thead th {\n",
       "        text-align: right;\n",
       "    }\n",
       "</style>\n",
       "<table border=\"1\" class=\"dataframe\">\n",
       "  <thead>\n",
       "    <tr style=\"text-align: right;\">\n",
       "      <th></th>\n",
       "      <th>mpg</th>\n",
       "      <th>cilindros</th>\n",
       "      <th>desplazamiento</th>\n",
       "      <th>caballos</th>\n",
       "      <th>peso</th>\n",
       "      <th>aceleracion</th>\n",
       "      <th>any_modelo</th>\n",
       "      <th>origen</th>\n",
       "      <th>nombre_auto</th>\n",
       "    </tr>\n",
       "  </thead>\n",
       "  <tbody>\n",
       "    <tr>\n",
       "      <th>0</th>\n",
       "      <td>15.0</td>\n",
       "      <td>8</td>\n",
       "      <td>350.0</td>\n",
       "      <td>165.0</td>\n",
       "      <td>3693.0</td>\n",
       "      <td>11.5</td>\n",
       "      <td>70</td>\n",
       "      <td>1</td>\n",
       "      <td>buick skylark 320</td>\n",
       "    </tr>\n",
       "    <tr>\n",
       "      <th>1</th>\n",
       "      <td>16.0</td>\n",
       "      <td>8</td>\n",
       "      <td>304.0</td>\n",
       "      <td>150.0</td>\n",
       "      <td>3433.0</td>\n",
       "      <td>12.0</td>\n",
       "      <td>70</td>\n",
       "      <td>1</td>\n",
       "      <td>amc rebel sst</td>\n",
       "    </tr>\n",
       "    <tr>\n",
       "      <th>2</th>\n",
       "      <td>15.0</td>\n",
       "      <td>8</td>\n",
       "      <td>429.0</td>\n",
       "      <td>198.0</td>\n",
       "      <td>4341.0</td>\n",
       "      <td>10.0</td>\n",
       "      <td>70</td>\n",
       "      <td>1</td>\n",
       "      <td>ford galaxie 500</td>\n",
       "    </tr>\n",
       "    <tr>\n",
       "      <th>3</th>\n",
       "      <td>14.0</td>\n",
       "      <td>8</td>\n",
       "      <td>454.0</td>\n",
       "      <td>220.0</td>\n",
       "      <td>4354.0</td>\n",
       "      <td>9.0</td>\n",
       "      <td>70</td>\n",
       "      <td>1</td>\n",
       "      <td>chevrolet impala</td>\n",
       "    </tr>\n",
       "    <tr>\n",
       "      <th>4</th>\n",
       "      <td>14.0</td>\n",
       "      <td>8</td>\n",
       "      <td>440.0</td>\n",
       "      <td>215.0</td>\n",
       "      <td>4312.0</td>\n",
       "      <td>8.5</td>\n",
       "      <td>70</td>\n",
       "      <td>1</td>\n",
       "      <td>plymouth fury iii</td>\n",
       "    </tr>\n",
       "    <tr>\n",
       "      <th>...</th>\n",
       "      <td>...</td>\n",
       "      <td>...</td>\n",
       "      <td>...</td>\n",
       "      <td>...</td>\n",
       "      <td>...</td>\n",
       "      <td>...</td>\n",
       "      <td>...</td>\n",
       "      <td>...</td>\n",
       "      <td>...</td>\n",
       "    </tr>\n",
       "    <tr>\n",
       "      <th>274</th>\n",
       "      <td>27.0</td>\n",
       "      <td>4</td>\n",
       "      <td>140.0</td>\n",
       "      <td>86.00</td>\n",
       "      <td>2790.0</td>\n",
       "      <td>15.6</td>\n",
       "      <td>82</td>\n",
       "      <td>1</td>\n",
       "      <td>ford mustang gl</td>\n",
       "    </tr>\n",
       "    <tr>\n",
       "      <th>275</th>\n",
       "      <td>44.0</td>\n",
       "      <td>4</td>\n",
       "      <td>97.0</td>\n",
       "      <td>52.00</td>\n",
       "      <td>2130.0</td>\n",
       "      <td>24.6</td>\n",
       "      <td>82</td>\n",
       "      <td>2</td>\n",
       "      <td>vw pickup</td>\n",
       "    </tr>\n",
       "    <tr>\n",
       "      <th>276</th>\n",
       "      <td>32.0</td>\n",
       "      <td>4</td>\n",
       "      <td>135.0</td>\n",
       "      <td>84.00</td>\n",
       "      <td>2295.0</td>\n",
       "      <td>11.6</td>\n",
       "      <td>82</td>\n",
       "      <td>1</td>\n",
       "      <td>dodge rampage</td>\n",
       "    </tr>\n",
       "    <tr>\n",
       "      <th>277</th>\n",
       "      <td>28.0</td>\n",
       "      <td>4</td>\n",
       "      <td>120.0</td>\n",
       "      <td>79.00</td>\n",
       "      <td>2625.0</td>\n",
       "      <td>18.6</td>\n",
       "      <td>82</td>\n",
       "      <td>1</td>\n",
       "      <td>ford ranger</td>\n",
       "    </tr>\n",
       "    <tr>\n",
       "      <th>278</th>\n",
       "      <td>31.0</td>\n",
       "      <td>4</td>\n",
       "      <td>119.0</td>\n",
       "      <td>82.00</td>\n",
       "      <td>2720.0</td>\n",
       "      <td>19.4</td>\n",
       "      <td>82</td>\n",
       "      <td>1</td>\n",
       "      <td>chevy s-10</td>\n",
       "    </tr>\n",
       "  </tbody>\n",
       "</table>\n",
       "<p>279 rows × 9 columns</p>\n",
       "</div>"
      ],
      "text/plain": [
       "      mpg  cilindros  desplazamiento caballos    peso  aceleracion  \\\n",
       "0    15.0          8           350.0    165.0  3693.0         11.5   \n",
       "1    16.0          8           304.0    150.0  3433.0         12.0   \n",
       "2    15.0          8           429.0    198.0  4341.0         10.0   \n",
       "3    14.0          8           454.0    220.0  4354.0          9.0   \n",
       "4    14.0          8           440.0    215.0  4312.0          8.5   \n",
       "..    ...        ...             ...      ...     ...          ...   \n",
       "274  27.0          4           140.0    86.00  2790.0         15.6   \n",
       "275  44.0          4            97.0    52.00  2130.0         24.6   \n",
       "276  32.0          4           135.0    84.00  2295.0         11.6   \n",
       "277  28.0          4           120.0    79.00  2625.0         18.6   \n",
       "278  31.0          4           119.0    82.00  2720.0         19.4   \n",
       "\n",
       "     any_modelo  origen        nombre_auto  \n",
       "0            70       1  buick skylark 320  \n",
       "1            70       1      amc rebel sst  \n",
       "2            70       1   ford galaxie 500  \n",
       "3            70       1   chevrolet impala  \n",
       "4            70       1  plymouth fury iii  \n",
       "..          ...     ...                ...  \n",
       "274          82       1    ford mustang gl  \n",
       "275          82       2          vw pickup  \n",
       "276          82       1      dodge rampage  \n",
       "277          82       1        ford ranger  \n",
       "278          82       1         chevy s-10  \n",
       "\n",
       "[279 rows x 9 columns]"
      ]
     },
     "execution_count": 36,
     "metadata": {},
     "output_type": "execute_result"
    }
   ],
   "source": [
    "df = pd.read_csv('../../02_Datos/03_Trabajo/trabajo.csv', index_col= 0).reset_index()\n",
    "df.drop(columns= 'index', inplace= True)\n",
    "df"
   ]
  },
  {
   "cell_type": "markdown",
   "metadata": {},
   "source": [
    "## CALIDAD DE DATOS"
   ]
  },
  {
   "cell_type": "code",
   "execution_count": 37,
   "metadata": {},
   "outputs": [],
   "source": [
    "#Cambiamos los nulos '?' por nan\n",
    "df['caballos'] = df.caballos.replace({'?':np.nan})\n",
    "#Cambiamos el tipo de variable\n",
    "df = df.astype({'caballos':'float64',\n",
    "                'cilindros':'object',\n",
    "                'any_modelo':'object',\n",
    "                'origen':'object'})\n",
    "\n",
    "#cambiamos el nombre_auto\n",
    "df.nombre_auto = df.nombre_auto.replace( {'vw rabbit':'volkswagen rabbit',\n",
    "                        'vw dasher (diesel)':'volkswagen dasher Diesel',\n",
    "                        'vw pickup':'volkswagen pickup'}\n",
    "                      )\n",
    "df.nombre_auto = df.nombre_auto.replace( {'chevy s-10':'chevrolet s-10',\n",
    "                        'chevy c10':'chevrolet c10',\n",
    "                        'chevy c20':'chevrolet c20'}\n",
    "                      )\n",
    "\n",
    "# Cargar CountVectorizer y lista de stop_words durante la producción\n",
    "loaded_cv = joblib.load('../../09_Otros/count_vectorizer_model.pkl')\n",
    "loaded_stop_words = joblib.load('../../09_Otros/stop_words_list.pkl')\n",
    "\n",
    "# Aplicar CountVectorizer a nuevos datos\n",
    "nuevas_caracteristicas = loaded_cv.transform(df.nombre_auto)\n",
    "nuevas_columnas = pd.DataFrame.sparse.from_spmatrix(nuevas_caracteristicas, columns=loaded_cv.get_feature_names_out())\n",
    "df = pd.concat([nuevas_columnas,df],axis=1)\n",
    "df.drop(columns='nombre_auto',inplace= True)\n",
    "\n",
    "#variables a imputar\n",
    "var_imputar_mediana = ['caballos']\n",
    "\n",
    "#función para imputar por la mediana\n",
    "df['caballos'] = df.caballos.fillna(int(df.caballos.median()))"
   ]
  },
  {
   "cell_type": "markdown",
   "metadata": {},
   "source": [
    "## ESTRUCTURA DEL DATASET"
   ]
  },
  {
   "cell_type": "markdown",
   "metadata": {},
   "source": [
    "### VARIABLES FINALES"
   ]
  },
  {
   "cell_type": "code",
   "execution_count": 38,
   "metadata": {},
   "outputs": [],
   "source": [
    "variables_finales = ['peso',\n",
    "                    'caballos',\n",
    "                    'aceleracion',\n",
    "                    'origen',\n",
    "                    'any_modelo',\n",
    "                    'colt',\n",
    "                    'rabbit',\n",
    "                    'chevette',\n",
    "                    'oldsmobile',\n",
    "                    'grand',\n",
    "                    'amc',\n",
    "                    'malibu',\n",
    "                    'sw',\n",
    "                    'aspen',\n",
    "                    'mazda',\n",
    "                    'classic',\n",
    "                    'volkswagen',\n",
    "                    'carlo',\n",
    "                    'datsun',\n",
    "                    'matador',\n",
    "                    'subaru',\n",
    "                    'gl',\n",
    "                    'concord',\n",
    "                    'landau',\n",
    "                    'corona',\n",
    "                    '504',\n",
    "                    'volvo',\n",
    "                    'impala']"
   ]
  },
  {
   "cell_type": "markdown",
   "metadata": {},
   "source": [
    "### ELIMINAR DUPLICADOS"
   ]
  },
  {
   "cell_type": "code",
   "execution_count": 39,
   "metadata": {},
   "outputs": [],
   "source": [
    "df.drop_duplicates(inplace=True)"
   ]
  },
  {
   "cell_type": "markdown",
   "metadata": {},
   "source": [
    "### ELIMINAR NULOS"
   ]
  },
  {
   "cell_type": "code",
   "execution_count": 40,
   "metadata": {},
   "outputs": [],
   "source": [
    "df.dropna(thresh=3, inplace= True)"
   ]
  },
  {
   "cell_type": "markdown",
   "metadata": {},
   "source": [
    "### PARA X e Y"
   ]
  },
  {
   "cell_type": "code",
   "execution_count": 41,
   "metadata": {},
   "outputs": [],
   "source": [
    "x = df[variables_finales].copy()\n",
    "y = df.mpg.copy()"
   ]
  },
  {
   "cell_type": "markdown",
   "metadata": {},
   "source": [
    "## CREAR EL PIPELINE"
   ]
  },
  {
   "cell_type": "code",
   "execution_count": 42,
   "metadata": {},
   "outputs": [],
   "source": [
    "### ONE HOT ENCODER\n",
    "var_ohe = ['any_modelo','origen']\n",
    "ohe = OneHotEncoder(sparse_output= False, handle_unknown= 'ignore')\n",
    "\n",
    "### CON YEO-JOHNSON\n",
    "var_yeo = ['caballos','peso','aceleracion']\n",
    "yeo = PowerTransformer(method='yeo-johnson')\n",
    "\n",
    "var_mms = ['peso','caballos','aceleracion']\n",
    "mms = MinMaxScaler()\n",
    "df_mms = mms.fit_transform(x[var_mms])"
   ]
  },
  {
   "cell_type": "markdown",
   "metadata": {},
   "source": [
    "### CREAR EL PIPE DEL PREPROCESAMIENTO"
   ]
  },
  {
   "cell_type": "markdown",
   "metadata": {},
   "source": [
    "#### Crear el column transformer"
   ]
  },
  {
   "cell_type": "code",
   "execution_count": 43,
   "metadata": {},
   "outputs": [],
   "source": [
    "ct = make_column_transformer(\n",
    "    (ohe, var_ohe),\n",
    "    (yeo, var_yeo),\n",
    "    (mms, var_mms) ,\n",
    "    remainder= 'drop'\n",
    ")"
   ]
  },
  {
   "cell_type": "markdown",
   "metadata": {},
   "source": [
    "## INSTANCIAR EL MODELO"
   ]
  },
  {
   "cell_type": "code",
   "execution_count": 48,
   "metadata": {},
   "outputs": [],
   "source": [
    "modelo = pd.read_pickle('../../04_Modelos/V0_pipe_ejecucion.pickle')"
   ]
  },
  {
   "cell_type": "markdown",
   "metadata": {},
   "source": [
    "#### Crear el pipe final de entrenamiento"
   ]
  },
  {
   "cell_type": "code",
   "execution_count": 45,
   "metadata": {},
   "outputs": [],
   "source": [
    "pipe_entrenamiento = make_pipeline(ct, modelo)"
   ]
  },
  {
   "cell_type": "markdown",
   "metadata": {},
   "source": [
    "#### Guardar el pipe final de entrenamiento"
   ]
  },
  {
   "cell_type": "code",
   "execution_count": 46,
   "metadata": {},
   "outputs": [],
   "source": [
    "# Guardar pipe de entrenamiento\n",
    "nombre_pipe_entrenamiento = 'pipe_entrenamiento.pickle'\n",
    "ruta_pipe_entrenamiento = '../../04_Modelos/' + nombre_pipe_entrenamiento\n",
    "\n",
    "with open (ruta_pipe_entrenamiento, mode= 'wb') as file:\n",
    "    cloudpickle.dump(pipe_entrenamiento, file)"
   ]
  },
  {
   "cell_type": "markdown",
   "metadata": {},
   "source": [
    "### Entrenar el pipe final de ejecución"
   ]
  },
  {
   "cell_type": "code",
   "execution_count": 52,
   "metadata": {},
   "outputs": [],
   "source": [
    "pipe_ejecucion = pipe_entrenamiento.fit(x,y)"
   ]
  },
  {
   "cell_type": "markdown",
   "metadata": {},
   "source": [
    "### Guardar el pipe final de ejecución"
   ]
  },
  {
   "cell_type": "code",
   "execution_count": 53,
   "metadata": {},
   "outputs": [],
   "source": [
    "nombre_pipe_ejecucion = 'pipe_ejecucion.pickle'\n",
    "ruta_pipe_ejecucion = '../../04_Modelos/' + nombre_pipe_ejecucion\n",
    "\n",
    "with open (ruta_pipe_ejecucion, mode= 'wb') as file:\n",
    "    cloudpickle.dump(pipe_ejecucion, file)"
   ]
  }
 ],
 "metadata": {
  "kernelspec": {
   "display_name": "proyecto1",
   "language": "python",
   "name": "python3"
  },
  "language_info": {
   "codemirror_mode": {
    "name": "ipython",
    "version": 3
   },
   "file_extension": ".py",
   "mimetype": "text/x-python",
   "name": "python",
   "nbconvert_exporter": "python",
   "pygments_lexer": "ipython3",
   "version": "3.11.3"
  }
 },
 "nbformat": 4,
 "nbformat_minor": 2
}
