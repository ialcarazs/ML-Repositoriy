{
 "cells": [
  {
   "cell_type": "markdown",
   "metadata": {},
   "source": [
    "# 15 - CÓDIGO DE EJECUCIÓN"
   ]
  },
  {
   "cell_type": "markdown",
   "metadata": {},
   "source": [
    "## IMPORTAR LOS PAQUETES"
   ]
  },
  {
   "cell_type": "code",
   "execution_count": 26,
   "metadata": {},
   "outputs": [],
   "source": [
    "import numpy as np \n",
    "import pandas as pd\n",
    "import matplotlib.pyplot as plt\n",
    "%matplotlib inline\n",
    "import seaborn as sns\n",
    "\n",
    "#Métricas de evaluación\n",
    "from sklearn.metrics import mean_absolute_percentage_error\n",
    "from sklearn.metrics import r2_score\n",
    "from sklearn.metrics import mean_absolute_error\n",
    "from sklearn.metrics import mean_squared_error\n",
    "\n",
    "import cloudpickle\n",
    "import joblib"
   ]
  },
  {
   "cell_type": "markdown",
   "metadata": {},
   "source": [
    "## CARGAR LOS DATOS"
   ]
  },
  {
   "cell_type": "code",
   "execution_count": 21,
   "metadata": {},
   "outputs": [],
   "source": [
    "df = pd.read_csv('../../02_Datos/02_Validacion/validacion.csv', index_col= 0).reset_index()\n",
    "df.drop(columns= 'index', inplace= True)\n",
    "val_y = df.mpg.copy()"
   ]
  },
  {
   "cell_type": "markdown",
   "metadata": {},
   "source": [
    "## CODIGO DE EJECUCIÓN"
   ]
  },
  {
   "cell_type": "code",
   "execution_count": 22,
   "metadata": {},
   "outputs": [],
   "source": [
    "#Cambiamos los nulos '?' por nan\n",
    "df['caballos'] = df.caballos.replace({'?':np.nan})\n",
    "#Cambiamos el tipo de variable\n",
    "df = df.astype({'caballos':'float64',\n",
    "                'cilindros':'object',\n",
    "                'any_modelo':'object',\n",
    "                'origen':'object'})\n",
    "\n",
    "#cambiamos el nombre_auto\n",
    "df.nombre_auto = df.nombre_auto.replace( {'vw rabbit':'volkswagen rabbit',\n",
    "                        'vw dasher (diesel)':'volkswagen dasher Diesel',\n",
    "                        'vw pickup':'volkswagen pickup'}\n",
    "                      )\n",
    "df.nombre_auto = df.nombre_auto.replace( {'chevy s-10':'chevrolet s-10',\n",
    "                        'chevy c10':'chevrolet c10',\n",
    "                        'chevy c20':'chevrolet c20'}\n",
    "                      )\n",
    "\n",
    "# Cargar CountVectorizer y lista de stop_words durante la producción\n",
    "loaded_cv = joblib.load('../../09_Otros/count_vectorizer_model.pkl')\n",
    "loaded_stop_words = joblib.load('../../09_Otros/stop_words_list.pkl')\n",
    "\n",
    "# Aplicar CountVectorizer a nuevos datos\n",
    "nuevas_caracteristicas = loaded_cv.transform(df.nombre_auto)\n",
    "nuevas_columnas = pd.DataFrame.sparse.from_spmatrix(nuevas_caracteristicas, columns=loaded_cv.get_feature_names_out())\n",
    "df = pd.concat([nuevas_columnas,df],axis=1)\n",
    "df.drop(columns='nombre_auto',inplace= True)\n",
    "\n",
    "#variables a imputar\n",
    "var_imputar_mediana = ['caballos']\n",
    "\n",
    "#función para imputar por la mediana\n",
    "df['caballos'] = df.caballos.fillna(int(df.caballos.median()))\n",
    "\n",
    "variables_finales = ['peso',\n",
    "                    'caballos',\n",
    "                    'aceleracion',\n",
    "                    'origen',\n",
    "                    'any_modelo',\n",
    "                    'colt',\n",
    "                    'rabbit',\n",
    "                    'chevette',\n",
    "                    'oldsmobile',\n",
    "                    'grand',\n",
    "                    'amc',\n",
    "                    'malibu',\n",
    "                    'sw',\n",
    "                    'aspen',\n",
    "                    'mazda',\n",
    "                    'classic',\n",
    "                    'volkswagen',\n",
    "                    'carlo',\n",
    "                    'datsun',\n",
    "                    'matador',\n",
    "                    'subaru',\n",
    "                    'gl',\n",
    "                    'concord',\n",
    "                    'landau',\n",
    "                    'corona',\n",
    "                    '504',\n",
    "                    'volvo',\n",
    "                    'impala']\n",
    "\n",
    "df_final = df[variables_finales]\n",
    "\n",
    "nombre_pipe_ejecucion = 'pipe_ejecucion.pickle'\n",
    "\n",
    "ruta_pipe_ejecucion = '../../04_Modelos/' + nombre_pipe_ejecucion\n",
    "\n",
    "with open(ruta_pipe_ejecucion, mode='rb') as file:\n",
    "   pipe_ejecucion = cloudpickle.load(file)\n",
    "\n",
    "pred = pipe_ejecucion.predict(df)"
   ]
  },
  {
   "cell_type": "markdown",
   "metadata": {},
   "source": [
    "## EVALUAR MODELO"
   ]
  },
  {
   "cell_type": "code",
   "execution_count": 27,
   "metadata": {},
   "outputs": [
    {
     "name": "stdout",
     "output_type": "stream",
     "text": [
      "%mape: 0.08973261438729213\n",
      "Coeficiente de determinación: 0.8825426845943575\n",
      "MAE: 2.130095654071637\n",
      "RMSE: 7.5037202423245635\n"
     ]
    }
   ],
   "source": [
    "### EVALUAR SOBRE LA VALIDACIÓN\n",
    "v_mape = mean_absolute_percentage_error(val_y, pred)\n",
    "v_coef_determinacion = r2_score(val_y,pred)\n",
    "v_mae = mean_absolute_error(val_y, pred)\n",
    "v_rmse =  mean_squared_error(val_y,pred,squared='False')\n",
    "\n",
    "\n",
    "print(\"%mape:\", v_mape)\n",
    "print(\"Coeficiente de determinación:\", v_coef_determinacion)\n",
    "print(\"MAE:\", v_mae)\n",
    "print(\"RMSE:\", v_rmse)"
   ]
  },
  {
   "cell_type": "markdown",
   "metadata": {},
   "source": [
    "## CONCLUSIONES"
   ]
  },
  {
   "cell_type": "markdown",
   "metadata": {},
   "source": [
    "Evaluación Modelo de Entranamiento:"
   ]
  },
  {
   "attachments": {
    "image.png": {
     "image/png": "[encoded data removed]"
    }
   },
   "cell_type": "markdown",
   "metadata": {},
   "source": [
    "![image.png](attachment:image.png)"
   ]
  },
  {
   "cell_type": "markdown",
   "metadata": {},
   "source": [
    "El modelo de ejecución ha dado mejores resultados que el modelo de entrenamiento y podemos establecer que es un buen modelo predictivo, que no está sobre ajustado porque los datos los resultados de entrenamiento y producción son muy parecido. "
   ]
  }
 ],
 "metadata": {
  "kernelspec": {
   "display_name": "proyecto1",
   "language": "python",
   "name": "python3"
  },
  "language_info": {
   "codemirror_mode": {
    "name": "ipython",
    "version": 3
   },
   "file_extension": ".py",
   "mimetype": "text/x-python",
   "name": "python",
   "nbconvert_exporter": "python",
   "pygments_lexer": "ipython3",
   "version": "3.11.3"
  }
 },
 "nbformat": 4,
 "nbformat_minor": 2
}
